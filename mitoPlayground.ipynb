{
 "cells": [
  {
   "cell_type": "code",
   "execution_count": 2,
   "id": "965771db",
   "metadata": {},
   "outputs": [
    {
     "data": {
      "application/vnd.jupyter.widget-view+json": {
       "model_id": "23ebd3b4c5fc4687a13eb677e490508b",
       "version_major": 2,
       "version_minor": 0
      },
      "text/plain": [
       "MitoWidget(analysis_data_json='{\"analysisName\": \"UUID-1782b5b4-2a6a-486c-99c7-7b6aa4e9e1c4\", \"code\": {\"imports…"
      ]
     },
     "metadata": {},
     "output_type": "display_data"
    }
   ],
   "source": [
    "import mitosheet\n",
    "mitosheet.sheet()"
   ]
  },
  {
   "cell_type": "code",
   "execution_count": 3,
   "id": "f6454d1a-e308-4f15-ba57-7b4b5164fe0a",
   "metadata": {},
   "outputs": [],
   "source": [
    "# MITO CODE START (DO NOT EDIT)\n",
    "\n",
    "from mitosheet import * # Import necessary functions from Mito\n",
    "register_analysis('UUID-1782b5b4-2a6a-486c-99c7-7b6aa4e9e1c4') # Let Mito know which analysis is being run\n",
    "\n",
    "# Imported /Users/erikborn/Documents/Python/Strava/measurementsMFP.csv\n",
    "import pandas as pd\n",
    "measurementsMFP_csv = pd.read_csv(r'/Users/erikborn/Documents/Python/Strava/measurementsMFP.csv')\n",
    "\n",
    "# Imported /Users/erikborn/Documents/Python/Strava/nutritionMFP.csv\n",
    "import pandas as pd\n",
    "nutritionMFP_csv = pd.read_csv(r'/Users/erikborn/Documents/Python/Strava/nutritionMFP.csv')\n",
    "\n",
    "# Imported /Users/erikborn/Documents/Python/Strava/allactivities.csv\n",
    "import pandas as pd\n",
    "allactivities_csv = pd.read_csv(r'/Users/erikborn/Documents/Python/Strava/allactivities.csv')\n",
    "\n",
    "# Added column new-column-pu1v to nutritionMFP_csv\n",
    "nutritionMFP_csv.insert(1, 'new-column-pu1v', 0)\n",
    "\n",
    "# Renamed new-column-pu1v to changeSome in nutritionMFP_csv\n",
    "nutritionMFP_csv.rename(columns={\"new-column-pu1v\": \"changeSome\"}, inplace=True)\n",
    "\n",
    "# Set new-column-pu1v in nutritionMFP_csv to =if(Date<\"2021-02-01\",Calories-300,Calories)\n",
    "nutritionMFP_csv['changeSome'] = IF(nutritionMFP_csv['Date']<\"2021-02-01\",nutritionMFP_csv['Calories']-300,nutritionMFP_csv['Calories'])\n",
    "\n",
    "  \n",
    "# MITO CODE END (DO NOT EDIT)"
   ]
  },
  {
   "cell_type": "code",
   "execution_count": null,
   "id": "01a9856d-a78f-4989-bdb2-4eef6ea1eadc",
   "metadata": {},
   "outputs": [],
   "source": []
  },
  {
   "cell_type": "code",
   "execution_count": null,
   "id": "5e953883-8b77-4e42-ba6d-26dcd0ed29c7",
   "metadata": {},
   "outputs": [],
   "source": []
  },
  {
   "cell_type": "code",
   "execution_count": null,
   "id": "9c57ce42",
   "metadata": {},
   "outputs": [],
   "source": []
  }
 ],
 "metadata": {
  "kernelspec": {
   "display_name": "Python 3.8.11 64-bit ('base': conda)",
   "language": "python",
   "name": "python3811jvsc74a57bd040d3a090f54c6569ab1632332b64b2c03c39dcf918b08424e98f38b5ae0af88f"
  },
  "language_info": {
   "codemirror_mode": {
    "name": "ipython",
    "version": 3
   },
   "file_extension": ".py",
   "mimetype": "text/x-python",
   "name": "python",
   "nbconvert_exporter": "python",
   "pygments_lexer": "ipython3",
   "version": "3.8.11"
  }
 },
 "nbformat": 4,
 "nbformat_minor": 5
}
