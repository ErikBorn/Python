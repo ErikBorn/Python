{
 "cells": [
  {
   "cell_type": "code",
<<<<<<< HEAD
   "execution_count": 155,
=======
   "execution_count": 1,
>>>>>>> 242096693754291af0020a67a48e9816a35937a6
   "metadata": {},
   "outputs": [],
   "source": [
    "import pandas as pd\n",
    "import numpy as np"
   ]
  },
  {
   "cell_type": "code",
<<<<<<< HEAD
   "execution_count": 156,
=======
   "execution_count": 2,
>>>>>>> 242096693754291af0020a67a48e9816a35937a6
   "metadata": {},
   "outputs": [],
   "source": [
    "filename = \"Noodles - Thursday, November 4 (Responses) - Form Responses 1.csv\"\n",
    "orderInfo = pd.read_csv(filename)\n",
    "#orderInfo = orderInfo.drop(['Name Group'],axis=1)\n",
    "# orderInfo"
   ]
  },
  {
   "cell_type": "code",
<<<<<<< HEAD
   "execution_count": 157,
=======
   "execution_count": 3,
>>>>>>> 242096693754291af0020a67a48e9816a35937a6
   "metadata": {},
   "outputs": [],
   "source": [
    "columnOverwrite = ['Time', 'Email', 'Stu/Fac?',\n",
    "                     'Debit',\n",
    "                     'Name',\n",
    "                     'Order']\n",
    "try: \n",
    "       orderInfo.columns = columnOverwrite\n",
    "except:\n",
    "       print(\"Columns updated previously\")\n",
    "# print(orderInfo.columns)"
   ]
  },
  {
   "cell_type": "code",
<<<<<<< HEAD
   "execution_count": 164,
=======
   "execution_count": 4,
>>>>>>> 242096693754291af0020a67a48e9816a35937a6
   "metadata": {},
   "outputs": [],
   "source": [
    "orderInfo['Name'] = orderInfo['Name'].str.strip().str.upper()\n",
    "\n",
    "orderInfo = orderInfo[orderInfo['Time'].notna()]\n",
    "orderInfo['Name Group'] = np.where(orderInfo['Name']<\"M\",\"A\",\"Z\")\n",
    "orderInfo['Name'] = orderInfo['Name'].str.capitalize()\n",
    "orderInfo['Duplicate?'] = orderInfo.duplicated(subset=['Email'], keep = False)"
   ]
  },
  {
   "cell_type": "code",
<<<<<<< HEAD
   "execution_count": 169,
=======
   "execution_count": 5,
>>>>>>> 242096693754291af0020a67a48e9816a35937a6
   "metadata": {},
   "outputs": [
    {
     "data": {
      "text/html": [
       "<div>\n",
       "<style scoped>\n",
       "    .dataframe tbody tr th:only-of-type {\n",
       "        vertical-align: middle;\n",
       "    }\n",
       "\n",
       "    .dataframe tbody tr th {\n",
       "        vertical-align: top;\n",
       "    }\n",
       "\n",
       "    .dataframe thead th {\n",
       "        text-align: right;\n",
       "    }\n",
       "</style>\n",
       "<table border=\"1\" class=\"dataframe\">\n",
       "  <thead>\n",
       "    <tr style=\"text-align: right;\">\n",
       "      <th></th>\n",
       "      <th>Time</th>\n",
       "      <th>Email</th>\n",
       "      <th>Stu/Fac?</th>\n",
       "      <th>Debit</th>\n",
       "      <th>Name</th>\n",
       "      <th>Order</th>\n",
       "      <th>Name Group</th>\n",
       "      <th>Duplicate?</th>\n",
       "    </tr>\n",
       "  </thead>\n",
       "  <tbody>\n",
       "    <tr>\n",
       "      <th>15</th>\n",
       "      <td>10/28/2021 8:56:25</td>\n",
       "      <td>nrtatar@smanet.org</td>\n",
       "      <td>Student Debit Account</td>\n",
       "      <td>166.0</td>\n",
       "      <td>Tatar, natalie</td>\n",
       "      <td>Pad Thai ($7.00)</td>\n",
       "      <td>Z</td>\n",
       "      <td>True</td>\n",
       "    </tr>\n",
       "    <tr>\n",
       "      <th>28</th>\n",
       "      <td>10/28/2021 19:32:51</td>\n",
       "      <td>izschafer@smanet.org</td>\n",
       "      <td>Student Debit Account</td>\n",
       "      <td>232.0</td>\n",
       "      <td>Schafer, izabella</td>\n",
       "      <td>Buttered Noodles ($5.00)</td>\n",
       "      <td>Z</td>\n",
       "      <td>True</td>\n",
       "    </tr>\n",
       "    <tr>\n",
       "      <th>62</th>\n",
       "      <td>10/31/2021 23:15:53</td>\n",
       "      <td>nrtatar@smanet.org</td>\n",
       "      <td>Student Debit Account</td>\n",
       "      <td>166.0</td>\n",
       "      <td>Tatar, natalie</td>\n",
       "      <td>Pad Thai ($7.00)</td>\n",
       "      <td>Z</td>\n",
       "      <td>True</td>\n",
       "    </tr>\n",
       "    <tr>\n",
       "      <th>76</th>\n",
       "      <td>11/1/2021 17:19:53</td>\n",
       "      <td>izschafer@smanet.org</td>\n",
       "      <td>Student Debit Account</td>\n",
       "      <td>232.0</td>\n",
       "      <td>Schafer, izabella</td>\n",
       "      <td>Buttered Noodles ($5.00)</td>\n",
       "      <td>Z</td>\n",
       "      <td>True</td>\n",
       "    </tr>\n",
       "  </tbody>\n",
       "</table>\n",
       "</div>"
      ],
      "text/plain": [
       "                   Time                 Email               Stu/Fac?  Debit  \\\n",
       "15   10/28/2021 8:56:25    nrtatar@smanet.org  Student Debit Account  166.0   \n",
       "28  10/28/2021 19:32:51  izschafer@smanet.org  Student Debit Account  232.0   \n",
       "62  10/31/2021 23:15:53    nrtatar@smanet.org  Student Debit Account  166.0   \n",
       "76   11/1/2021 17:19:53  izschafer@smanet.org  Student Debit Account  232.0   \n",
       "\n",
       "                 Name                     Order Name Group  Duplicate?  \n",
       "15     Tatar, natalie          Pad Thai ($7.00)          Z        True  \n",
       "28  Schafer, izabella  Buttered Noodles ($5.00)          Z        True  \n",
       "62     Tatar, natalie          Pad Thai ($7.00)          Z        True  \n",
       "76  Schafer, izabella  Buttered Noodles ($5.00)          Z        True  "
      ]
     },
<<<<<<< HEAD
     "execution_count": 169,
=======
     "execution_count": 5,
>>>>>>> 242096693754291af0020a67a48e9816a35937a6
     "metadata": {},
     "output_type": "execute_result"
    }
   ],
   "source": [
    "# orderInfo.head(20)\n",
    "duplicates = orderInfo[orderInfo['Duplicate?'] == True]\n",
    "duplicates"
   ]
  },
  {
   "cell_type": "code",
<<<<<<< HEAD
   "execution_count": 165,
=======
   "execution_count": 6,
>>>>>>> 242096693754291af0020a67a48e9816a35937a6
   "metadata": {},
   "outputs": [
    {
     "data": {
      "text/html": [
       "<div>\n",
       "<style scoped>\n",
       "    .dataframe tbody tr th:only-of-type {\n",
       "        vertical-align: middle;\n",
       "    }\n",
       "\n",
       "    .dataframe tbody tr th {\n",
       "        vertical-align: top;\n",
       "    }\n",
       "\n",
       "    .dataframe thead th {\n",
       "        text-align: right;\n",
       "    }\n",
       "</style>\n",
       "<table border=\"1\" class=\"dataframe\">\n",
       "  <thead>\n",
       "    <tr style=\"text-align: right;\">\n",
       "      <th>Name Group</th>\n",
       "      <th>A</th>\n",
       "      <th>Z</th>\n",
       "      <th>All</th>\n",
       "    </tr>\n",
       "    <tr>\n",
       "      <th>Order</th>\n",
       "      <th></th>\n",
       "      <th></th>\n",
       "      <th></th>\n",
       "    </tr>\n",
       "  </thead>\n",
       "  <tbody>\n",
       "    <tr>\n",
       "      <th>Buttered Noodles ($5.00)</th>\n",
       "      <td>4</td>\n",
       "      <td>10</td>\n",
       "      <td>14</td>\n",
       "    </tr>\n",
       "    <tr>\n",
       "      <th>Pad Thai ($7.00)</th>\n",
       "      <td>2</td>\n",
       "      <td>5</td>\n",
       "      <td>7</td>\n",
       "    </tr>\n",
       "    <tr>\n",
       "      <th>Penne Rosa ($7.00)</th>\n",
       "      <td>4</td>\n",
       "      <td>6</td>\n",
       "      <td>10</td>\n",
       "    </tr>\n",
       "    <tr>\n",
       "      <th>Pesto  ($7.00)</th>\n",
       "      <td>8</td>\n",
       "      <td>9</td>\n",
       "      <td>17</td>\n",
       "    </tr>\n",
       "    <tr>\n",
       "      <th>Regular Mac and Cheese ($7.00)</th>\n",
       "      <td>14</td>\n",
       "      <td>10</td>\n",
       "      <td>24</td>\n",
       "    </tr>\n",
       "    <tr>\n",
       "      <th>Small Mac and Cheese ($5.50)</th>\n",
       "      <td>4</td>\n",
       "      <td>5</td>\n",
       "      <td>9</td>\n",
       "    </tr>\n",
       "    <tr>\n",
       "      <th>Tomato Marinara ($7.00)</th>\n",
       "      <td>3</td>\n",
       "      <td>2</td>\n",
       "      <td>5</td>\n",
       "    </tr>\n",
       "    <tr>\n",
       "      <th>All</th>\n",
       "      <td>39</td>\n",
       "      <td>47</td>\n",
       "      <td>86</td>\n",
       "    </tr>\n",
       "  </tbody>\n",
       "</table>\n",
       "</div>"
      ],
      "text/plain": [
       "Name Group                       A   Z  All\n",
       "Order                                      \n",
       "Buttered Noodles ($5.00)         4  10   14\n",
       "Pad Thai ($7.00)                 2   5    7\n",
       "Penne Rosa ($7.00)               4   6   10\n",
       "Pesto  ($7.00)                   8   9   17\n",
       "Regular Mac and Cheese ($7.00)  14  10   24\n",
       "Small Mac and Cheese ($5.50)     4   5    9\n",
       "Tomato Marinara ($7.00)          3   2    5\n",
       "All                             39  47   86"
      ]
     },
<<<<<<< HEAD
     "execution_count": 165,
=======
     "execution_count": 6,
>>>>>>> 242096693754291af0020a67a48e9816a35937a6
     "metadata": {},
     "output_type": "execute_result"
    }
   ],
   "source": [
    "table = pd.pivot_table(\n",
    "    orderInfo, \n",
    "    index = ['Order'], \n",
    "    values = 'Stu/Fac?',\n",
    "    columns=['Name Group'], \n",
    "    aggfunc = np.count_nonzero, \n",
    "    fill_value = 0,\n",
    "    margins = True)\n",
    "table"
   ]
  },
  {
   "cell_type": "code",
   "execution_count": null,
   "metadata": {},
   "outputs": [],
   "source": []
  }
 ],
 "metadata": {
  "interpreter": {
   "hash": "7b392b509dceda8243e99488644381371e4301d645f4c08aa3507e606e2d620f"
  },
  "kernelspec": {
<<<<<<< HEAD
   "display_name": "Python 3.8.11 64-bit ('snowflakes': conda)",
=======
   "display_name": "Python 3.8.2 64-bit ('snowflakes': conda)",
>>>>>>> 242096693754291af0020a67a48e9816a35937a6
   "name": "python3"
  },
  "language_info": {
   "codemirror_mode": {
    "name": "ipython",
    "version": 3
   },
   "file_extension": ".py",
   "mimetype": "text/x-python",
   "name": "python",
   "nbconvert_exporter": "python",
   "pygments_lexer": "ipython3",
<<<<<<< HEAD
   "version": "3.8.11"
=======
   "version": "3.8.2"
>>>>>>> 242096693754291af0020a67a48e9816a35937a6
  },
  "orig_nbformat": 4
 },
 "nbformat": 4,
 "nbformat_minor": 2
}
