{
 "cells": [
  {
   "cell_type": "code",
   "execution_count": 5,
   "metadata": {},
   "outputs": [],
   "source": [
    "from pandas_datareader import data\n",
    "import matplotlib.pyplot as plt\n",
    "import pandas as pd"
   ]
  },
  {
   "cell_type": "code",
   "execution_count": 73,
   "metadata": {},
   "outputs": [
    {
     "data": {
      "text/html": [
       "<div>\n",
       "<style scoped>\n",
       "    .dataframe tbody tr th:only-of-type {\n",
       "        vertical-align: middle;\n",
       "    }\n",
       "\n",
       "    .dataframe tbody tr th {\n",
       "        vertical-align: top;\n",
       "    }\n",
       "\n",
       "    .dataframe thead th {\n",
       "        text-align: right;\n",
       "    }\n",
       "</style>\n",
       "<table border=\"1\" class=\"dataframe\">\n",
       "  <thead>\n",
       "    <tr style=\"text-align: right;\">\n",
       "      <th></th>\n",
       "      <th>High</th>\n",
       "      <th>Low</th>\n",
       "      <th>Open</th>\n",
       "      <th>Close</th>\n",
       "      <th>Volume</th>\n",
       "      <th>Adj Close</th>\n",
       "    </tr>\n",
       "    <tr>\n",
       "      <th>Date</th>\n",
       "      <th></th>\n",
       "      <th></th>\n",
       "      <th></th>\n",
       "      <th></th>\n",
       "      <th></th>\n",
       "      <th></th>\n",
       "    </tr>\n",
       "  </thead>\n",
       "  <tbody>\n",
       "    <tr>\n",
       "      <th>2015-01-02</th>\n",
       "      <td>27.860001</td>\n",
       "      <td>26.837500</td>\n",
       "      <td>27.847500</td>\n",
       "      <td>27.332500</td>\n",
       "      <td>212818400.0</td>\n",
       "      <td>24.782110</td>\n",
       "    </tr>\n",
       "    <tr>\n",
       "      <th>2015-01-05</th>\n",
       "      <td>27.162500</td>\n",
       "      <td>26.352501</td>\n",
       "      <td>27.072500</td>\n",
       "      <td>26.562500</td>\n",
       "      <td>257142000.0</td>\n",
       "      <td>24.083961</td>\n",
       "    </tr>\n",
       "    <tr>\n",
       "      <th>2015-01-06</th>\n",
       "      <td>26.857500</td>\n",
       "      <td>26.157499</td>\n",
       "      <td>26.635000</td>\n",
       "      <td>26.565001</td>\n",
       "      <td>263188400.0</td>\n",
       "      <td>24.086224</td>\n",
       "    </tr>\n",
       "    <tr>\n",
       "      <th>2015-01-07</th>\n",
       "      <td>27.049999</td>\n",
       "      <td>26.674999</td>\n",
       "      <td>26.799999</td>\n",
       "      <td>26.937500</td>\n",
       "      <td>160423600.0</td>\n",
       "      <td>24.423964</td>\n",
       "    </tr>\n",
       "    <tr>\n",
       "      <th>2015-01-08</th>\n",
       "      <td>28.037500</td>\n",
       "      <td>27.174999</td>\n",
       "      <td>27.307501</td>\n",
       "      <td>27.972500</td>\n",
       "      <td>237458000.0</td>\n",
       "      <td>25.362396</td>\n",
       "    </tr>\n",
       "    <tr>\n",
       "      <th>2015-01-09</th>\n",
       "      <td>28.312500</td>\n",
       "      <td>27.552500</td>\n",
       "      <td>28.167500</td>\n",
       "      <td>28.002501</td>\n",
       "      <td>214798000.0</td>\n",
       "      <td>25.389597</td>\n",
       "    </tr>\n",
       "    <tr>\n",
       "      <th>2015-01-12</th>\n",
       "      <td>28.157499</td>\n",
       "      <td>27.200001</td>\n",
       "      <td>28.150000</td>\n",
       "      <td>27.312500</td>\n",
       "      <td>198603200.0</td>\n",
       "      <td>24.763975</td>\n",
       "    </tr>\n",
       "    <tr>\n",
       "      <th>2015-01-13</th>\n",
       "      <td>28.200001</td>\n",
       "      <td>27.227501</td>\n",
       "      <td>27.857500</td>\n",
       "      <td>27.555000</td>\n",
       "      <td>268367600.0</td>\n",
       "      <td>24.983854</td>\n",
       "    </tr>\n",
       "    <tr>\n",
       "      <th>2015-01-14</th>\n",
       "      <td>27.622499</td>\n",
       "      <td>27.125000</td>\n",
       "      <td>27.260000</td>\n",
       "      <td>27.450001</td>\n",
       "      <td>195826400.0</td>\n",
       "      <td>24.888651</td>\n",
       "    </tr>\n",
       "    <tr>\n",
       "      <th>2015-01-15</th>\n",
       "      <td>27.514999</td>\n",
       "      <td>26.665001</td>\n",
       "      <td>27.500000</td>\n",
       "      <td>26.705000</td>\n",
       "      <td>240056000.0</td>\n",
       "      <td>24.213161</td>\n",
       "    </tr>\n",
       "  </tbody>\n",
       "</table>\n",
       "</div>"
      ],
      "text/plain": [
       "                 High        Low       Open      Close       Volume  Adj Close\n",
       "Date                                                                          \n",
       "2015-01-02  27.860001  26.837500  27.847500  27.332500  212818400.0  24.782110\n",
       "2015-01-05  27.162500  26.352501  27.072500  26.562500  257142000.0  24.083961\n",
       "2015-01-06  26.857500  26.157499  26.635000  26.565001  263188400.0  24.086224\n",
       "2015-01-07  27.049999  26.674999  26.799999  26.937500  160423600.0  24.423964\n",
       "2015-01-08  28.037500  27.174999  27.307501  27.972500  237458000.0  25.362396\n",
       "2015-01-09  28.312500  27.552500  28.167500  28.002501  214798000.0  25.389597\n",
       "2015-01-12  28.157499  27.200001  28.150000  27.312500  198603200.0  24.763975\n",
       "2015-01-13  28.200001  27.227501  27.857500  27.555000  268367600.0  24.983854\n",
       "2015-01-14  27.622499  27.125000  27.260000  27.450001  195826400.0  24.888651\n",
       "2015-01-15  27.514999  26.665001  27.500000  26.705000  240056000.0  24.213161"
      ]
     },
     "execution_count": 73,
     "metadata": {},
     "output_type": "execute_result"
    }
   ],
   "source": [
    "# Define the instruments to download. We would like to see Apple, Microsoft and the S&P500 index.\n",
    "tickers = ['AAPL', 'MSFT', '^GSPC']\n",
    "\n",
    "# We would like all available data from 01/01/2000 until 12/31/2016.\n",
    "start_date = '2015-01-01'\n",
    "end_date = '2021-9-29'\n",
    "\n",
    "# User pandas_reader.data.DataReader to load the desired data. As simple as that.\n",
    "panel_data = data.DataReader(tickers[0], 'yahoo', start_date, end_date)\n",
    "panel_data['Close']\n",
    "panel_data.head(10)"
   ]
  },
  {
   "cell_type": "code",
   "execution_count": 72,
   "metadata": {},
   "outputs": [
    {
     "data": {
      "text/plain": [
       "<AxesSubplot:title={'center':'GOOG'}, xlabel='Date'>"
      ]
     },
     "execution_count": 72,
     "metadata": {},
     "output_type": "execute_result"
    },
    {
     "data": {
      "image/png": "[encoded data removed]",
      "text/plain": [
       "<Figure size 1008x360 with 1 Axes>"
      ]
     },
     "metadata": {
      "needs_background": "light"
     },
     "output_type": "display_data"
    }
   ],
   "source": [
    "start_date = '2000-01-01'\n",
    "end_date = '2021-9-29'\n",
    "tickerSym = 'GOOG'\n",
    "# tickerSym2 = 'AAPL'\n",
    "panel_data = data.DataReader(tickerSym, 'yahoo', start_date, end_date)\n",
    "#panel_data2 = data.DataReader(tickerSym2, 'yahoo', start_date, end_date)\n",
    "panel_data.reset_index().plot(x='Date', y='Close',title = tickerSym,grid = True,figsize = (14,5))"
   ]
  },
  {
   "cell_type": "code",
   "execution_count": null,
   "metadata": {},
   "outputs": [],
   "source": []
  }
 ],
 "metadata": {
  "interpreter": {
   "hash": "7b392b509dceda8243e99488644381371e4301d645f4c08aa3507e606e2d620f"
  },
  "kernelspec": {
   "display_name": "Python 3.8.11 64-bit ('snowflakes': conda)",
   "name": "python3"
  },
  "language_info": {
   "codemirror_mode": {
    "name": "ipython",
    "version": 3
   },
   "file_extension": ".py",
   "mimetype": "text/x-python",
   "name": "python",
   "nbconvert_exporter": "python",
   "pygments_lexer": "ipython3",
   "version": "3.8.11"
  },
  "orig_nbformat": 4
 },
 "nbformat": 4,
 "nbformat_minor": 2
}
