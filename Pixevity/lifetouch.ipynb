{
 "cells": [
  {
   "cell_type": "code",
   "execution_count": 9,
   "id": "e709358a",
   "metadata": {},
   "outputs": [],
   "source": [
    "import os\n",
    "import shutil\n",
    "from pathlib import Path\n",
    "\n",
    "def flatten_jpgs(source_dir, destination_dir):\n",
    "    \"\"\"\n",
    "    Recursively find all .jpg files in source_dir and copy them into destination_dir, flattening the structure.\n",
    "    \"\"\"\n",
    "    source = Path(source_dir)\n",
    "    destination = Path(destination_dir)\n",
    "\n",
    "    if not source.is_dir():\n",
    "        raise NotADirectoryError(f\"Source directory does not exist: {source}\")\n",
    "    destination.mkdir(parents=True, exist_ok=True)\n",
    "\n",
    "    jpg_files = list(source.rglob(\"*.jpg\")) + list(source.rglob(\"*.JPG\"))\n",
    "    copied = 0\n",
    "    errors = 0\n",
    "\n",
    "    for file in jpg_files:\n",
    "        try:\n",
    "            # If duplicate filename exists, add a numeric suffix\n",
    "            target_file = destination / file.name\n",
    "            counter = 1\n",
    "            while target_file.exists():\n",
    "                stem = file.stem\n",
    "                suffix = file.suffix\n",
    "                target_file = destination / f\"{stem}_{counter}{suffix}\"\n",
    "                counter += 1\n",
    "\n",
    "            shutil.copy2(file, target_file)\n",
    "            copied += 1\n",
    "\n",
    "        except Exception as e:\n",
    "            print(f\"Error copying {file}: {e}\")\n",
    "            errors += 1\n",
    "\n",
    "    print(f\"Copied {copied} files to '{destination}'.\")\n",
    "    if errors:\n",
    "        print(f\"{errors} file(s) failed to copy.\")\n",
    "\n",
    "# Example usage in a Jupyter Notebook:\n",
    "# flatten_jpgs(\"/Users/erikborn/Documents/Python/LifeTouch Photos\", \"/Users/erikborn/Documents/Python/Misc/LifeTouchPost\")"
   ]
  },
  {
   "cell_type": "code",
   "execution_count": 10,
   "id": "eefd43a2",
   "metadata": {},
   "outputs": [
    {
     "name": "stdout",
     "output_type": "stream",
     "text": [
      "Copied 802 files to '/Users/erikborn/Documents/Python/Pixevity/LifeTouchPost'.\n"
     ]
    }
   ],
   "source": [
    "flatten_jpgs(\"/Users/erikborn/Documents/Python/Pixevity/LifeTouch Photos\", \"/Users/erikborn/Documents/Python/Pixevity/LifeTouchPost\")"
   ]
  },
  {
   "cell_type": "code",
   "execution_count": null,
   "id": "828fd2f8",
   "metadata": {},
   "outputs": [],
   "source": [
    "import os\n",
    "import shutil\n",
    "import pandas as pd\n",
    "from pathlib import Path\n",
    "\n",
    "def rename_or_move_images(image_folder, csv_mapping_path, unmatched_folder, default_extension=\".jpg\", case_insensitive=True):\n",
    "    image_folder = Path(image_folder)\n",
    "    unmatched_folder = Path(unmatched_folder)\n",
    "    unmatched_folder.mkdir(parents=True, exist_ok=True)\n",
    "\n",
    "    # Load CSV with mapping\n",
    "    try:\n",
    "        df = pd.read_csv(csv_mapping_path)\n",
    "    except Exception as e:\n",
    "        raise ValueError(f\"Failed to load CSV: {e}\")\n",
    "\n",
    "    if df.shape[1] < 2:\n",
    "        raise ValueError(\"CSV must have at least two columns: old filename, new filename\")\n",
    "\n",
    "    old_col, new_col = df.columns[0], df.columns[1]\n",
    "\n",
    "    # Normalize mapping keys for case-insensitive matching if requested\n",
    "    if case_insensitive:\n",
    "        mapping = {str(k).strip().lower(): str(v).strip() for k, v in zip(df[old_col], df[new_col])}\n",
    "    else:\n",
    "        mapping = {str(k).strip(): str(v).strip() for k, v in zip(df[old_col], df[new_col])}\n",
    "\n",
    "    renamed_count = 0\n",
    "    moved_count = 0\n",
    "    seen_files = 0\n",
    "    matched_files = 0\n",
    "\n",
    "    for file in image_folder.iterdir():\n",
    "        if not file.is_file():\n",
    "            continue\n",
    "\n",
    "        seen_files += 1\n",
    "        old_name = file.name.strip()\n",
    "        old_name_key = old_name.lower() if case_insensitive else old_name\n",
    "\n",
    "        if old_name_key in mapping:\n",
    "            matched_files += 1\n",
    "            new_name = mapping[old_name_key]\n",
    "\n",
    "            # Ensure extension\n",
    "            if not Path(new_name).suffix:\n",
    "                new_name += default_extension\n",
    "\n",
    "            new_path = image_folder / new_name\n",
    "            counter = 1\n",
    "            while new_path.exists():\n",
    "                stem = Path(new_name).stem\n",
    "                suffix = Path(new_name).suffix\n",
    "                new_path = image_folder / f\"{stem}_{counter}{suffix}\"\n",
    "                counter += 1\n",
    "\n",
    "            try:\n",
    "                file.rename(new_path)\n",
    "                renamed_count += 1\n",
    "            except Exception as e:\n",
    "                print(f\"Failed to rename {old_name} → {new_name}: {e}\")\n",
    "\n",
    "        else:\n",
    "            try:\n",
    "                shutil.move(str(file), unmatched_folder / file.name)\n",
    "                moved_count += 1\n",
    "            except Exception as e:\n",
    "                print(f\"Failed to move unmatched file {old_name}: {e}\")\n",
    "\n",
    "    print(\"=== Summary ===\")\n",
    "    print(f\"Files scanned      : {seen_files}\")\n",
    "    print(f\"Matches found      : {matched_files}\")\n",
    "    print(f\"Files renamed      : {renamed_count}\")\n",
    "    print(f\"Files unmatched    : {moved_count}\")\n",
    "    print(f\"Expected mappings  : {len(mapping)}\")"
   ]
  },
  {
   "cell_type": "code",
   "execution_count": 11,
   "id": "cdb1ad17",
   "metadata": {},
   "outputs": [
    {
     "name": "stdout",
     "output_type": "stream",
     "text": [
      "=== Summary ===\n",
      "Files scanned      : 803\n",
      "Matches found      : 741\n",
      "Files renamed      : 741\n",
      "Files unmatched    : 62\n",
      "Expected mappings  : 741\n"
     ]
    }
   ],
   "source": [
    "rename_or_move_images(\n",
    "    image_folder=\"/Users/erikborn/Documents/Python/Pixevity/LifeTouchPost\",\n",
    "    csv_mapping_path=\"/Users/erikborn/Documents/Python/Pixevity/map.csv\",\n",
    "    unmatched_folder=\"/Users/erikborn/Documents/Python/Pixevity/NoUse\"\n",
    ")"
   ]
  },
  {
   "cell_type": "code",
   "execution_count": null,
   "id": "fe12cd1b",
   "metadata": {},
   "outputs": [],
   "source": []
  }
 ],
 "metadata": {
  "kernelspec": {
   "display_name": "base",
   "language": "python",
   "name": "python3"
  },
  "language_info": {
   "codemirror_mode": {
    "name": "ipython",
    "version": 3
   },
   "file_extension": ".py",
   "mimetype": "text/x-python",
   "name": "python",
   "nbconvert_exporter": "python",
   "pygments_lexer": "ipython3",
   "version": "3.11.7"
  }
 },
 "nbformat": 4,
 "nbformat_minor": 5
}
