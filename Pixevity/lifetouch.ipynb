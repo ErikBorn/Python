{
 "cells": [
  {
   "cell_type": "code",
   "execution_count": null,
   "id": "e709358a",
   "metadata": {
    "vscode": {
     "languageId": "plaintext"
    }
   },
   "outputs": [],
   "source": [
    "import os\n",
    "import shutil\n",
    "import sys\n",
    "\n",
    "def flatten_jpgs(source_dir, target_dir):\n",
    "    try:\n",
    "        if not os.path.isdir(source_dir):\n",
    "            raise NotADirectoryError(f\"Source path '{source_dir}' is not a valid directory.\")\n",
    "        if not os.path.exists(target_dir):\n",
    "            os.makedirs(target_dir)\n",
    "\n",
    "        moved_count = 0\n",
    "        for root, _, files in os.walk(source_dir):\n",
    "            for filename in files:\n",
    "                if filename.lower().endswith('.jpg'):\n",
    "                    src_path = os.path.join(root, filename)\n",
    "                    dst_path = os.path.join(target_dir, filename)\n",
    "\n",
    "                    # Handle filename collisions by appending a counter\n",
    "                    base, ext = os.path.splitext(filename)\n",
    "                    counter = 1\n",
    "                    while os.path.exists(dst_path):\n",
    "                        dst_path = os.path.join(target_dir, f\"{base}_{counter}{ext}\")\n",
    "                        counter += 1\n",
    "\n",
    "                    try:\n",
    "                        shutil.move(src_path, dst_path)\n",
    "                        moved_count += 1\n",
    "                    except Exception as move_err:\n",
    "                        print(f\"Failed to move '{src_path}': {move_err}\", file=sys.stderr)\n",
    "\n",
    "        print(f\"Moved {moved_count} .jpg files from '{source_dir}' to '{target_dir}'.\")\n",
    "\n",
    "    except Exception as e:\n",
    "        print(f\"Error: {e}\", file=sys.stderr)\n",
    "\n",
    "# Example usage\n",
    "if __name__ == \"__main__\":\n",
    "    source_folder = r\"/path/to/source_folder\"\n",
    "    destination_folder = r\"/path/to/destination_folder\"\n",
    "    flatten_jpgs(source_folder, destination_folder)"
   ]
  }
 ],
 "metadata": {
  "language_info": {
   "name": "python"
  }
 },
 "nbformat": 4,
 "nbformat_minor": 5
}
