{
 "cells": [
  {
   "cell_type": "code",
   "execution_count": 28,
   "metadata": {},
   "outputs": [
    {
     "name": "stdout",
     "output_type": "stream",
     "text": [
      "\f\n"
     ]
    }
   ],
   "source": [
    "import slate3k as slate\n",
    "\n",
    "with open(\"SSR.pdf\",'rb') as f:\n",
    "    extracted_text = slate.PDF(f)\n",
    "# print(extracted_text)\n",
    "\n",
    "# for page in extracted_text:\n",
    "#     page.split('Prepared by ')\n",
    "#     print(page)\n",
    "\n",
    "where = extracted_text[6].find('Prepared by')\n",
    "print(extracted_text[10][where])\n"
   ]
  },
  {
   "cell_type": "code",
   "execution_count": null,
   "metadata": {},
   "outputs": [],
   "source": []
  }
 ],
 "metadata": {
  "interpreter": {
   "hash": "7b392b509dceda8243e99488644381371e4301d645f4c08aa3507e606e2d620f"
  },
  "kernelspec": {
   "display_name": "Python 3.8.2 64-bit ('snowflakes': conda)",
   "language": "python",
   "name": "python3"
  },
  "language_info": {
   "codemirror_mode": {
    "name": "ipython",
    "version": 3
   },
   "file_extension": ".py",
   "mimetype": "text/x-python",
   "name": "python",
   "nbconvert_exporter": "python",
   "pygments_lexer": "ipython3",
   "version": "3.8.2"
  },
  "orig_nbformat": 4
 },
 "nbformat": 4,
 "nbformat_minor": 2
}
