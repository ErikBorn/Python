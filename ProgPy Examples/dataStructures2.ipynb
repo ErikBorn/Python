{
 "cells": [
  {
   "cell_type": "code",
   "execution_count": 23,
   "metadata": {},
   "outputs": [
    {
     "data": {
      "text/plain": [
       "[-3, 0, 7]"
      ]
     },
     "execution_count": 23,
     "metadata": {},
     "output_type": "execute_result"
    }
   ],
   "source": [
    "# It's a list of lists!\n",
    "# Though this amount of careful formatting is both unneccesary and uncommon, \n",
    "# just make sure the brackets line up\n",
    "my_grid =   [\n",
    "              [-3, 2, 0, -1, 7, 8, 3, 9],\n",
    "              [5, 9, -3, -5, 3, 9, 0, -9],\n",
    "              [2, 0, 3, 3, 7, 8, 3, 2],\n",
    "              [9, -3, 7, 7, 3, 9, 0, 9],\n",
    "              [3, 3, 7, 8, 3, 2, 7, 8],\n",
    "              [7, 3, 3, 3, 7, 8, 3, 9],\n",
    "              [2, 7, 7, 3, 3, -5, 7, 8],\n",
    "              [9, -3, 7, 7, 7, -5, 3, 9]\n",
    "            ]\n",
    "my_grid[0]\n",
    "my_grid[0:3]\n",
    "my_grid[::2]\n",
    "my_grid[0][1]\n",
    "my_grid[0][0:5:2]"
   ]
  },
  {
   "cell_type": "code",
   "execution_count": 17,
   "metadata": {},
   "outputs": [
    {
     "name": "stdout",
     "output_type": "stream",
     "text": [
      "[[1, 2, 3], [4, 5, 6], [7, 8, 9]]\n",
      "[1, 2, 3]\n",
      "1\n",
      "2\n",
      "3\n",
      "[4, 5, 6]\n",
      "4\n",
      "5\n",
      "6\n",
      "[7, 8, 9]\n",
      "7\n",
      "8\n",
      "9\n",
      "45\n"
     ]
    }
   ],
   "source": [
    "#Restart here\n",
    "my_grid = []\n",
    "\n",
    "my_grid.append([1, 2, 3])\n",
    "my_grid.append([4, 5, 6])\n",
    "my_grid.append([7, 8, 9])\n",
    "\n",
    "print(my_grid)\n",
    "\n",
    "#Sum the grid!\n",
    "sum = 0\n",
    "for row in my_grid:\n",
    "    print(row)\n",
    "    for item in row:\n",
    "        print(item)\n",
    "        sum+=item\n",
    "print(sum)"
   ]
  },
  {
   "cell_type": "code",
   "execution_count": 18,
   "metadata": {},
   "outputs": [
    {
     "name": "stdout",
     "output_type": "stream",
     "text": [
      "['T', 'h', 'e', ' ', 'q', 'u', 'i', 'c', 'k', ' ', 'b', 'r', 'o', 'w', 'n', ' ', 'f', 'o', 'x', ' ', 'j', 'u', 'm', 'p', 'e', 'd', ' ', 'o', 'v', 'e', 'r', ' ', 't', 'h', 'e', ' ', 'l', 'a', 'z', 'y', ' ', 'd', 'o', 'g', '.']\n"
     ]
    }
   ],
   "source": [
    "#List Comprehensions\n",
    "text = \"The quick brown fox jumped over the lazy dog.\"\n",
    "letterList = []\n",
    "for i in range(0,len(text)):\n",
    "    letterList.append(text[i])\n",
    "\n",
    "print(letterList)"
   ]
  },
  {
   "cell_type": "code",
   "execution_count": 19,
   "metadata": {},
   "outputs": [
    {
     "name": "stdout",
     "output_type": "stream",
     "text": [
      "['T', 'h', 'e', ' ', 'q', 'u', 'i', 'c', 'k', ' ', 'b', 'r', 'o', 'w', 'n', ' ', 'f', 'o', 'x', ' ', 'j', 'u', 'm', 'p', 'e', 'd', ' ', 'o', 'v', 'e', 'r', ' ', 't', 'h', 'e', ' ', 'l', 'a', 'z', 'y', ' ', 'd', 'o', 'g', '.']\n"
     ]
    }
   ],
   "source": [
    "#Better\n",
    "text = \"The quick brown fox jumped over the lazy dog.\"\n",
    "letterList = []\n",
    "for letter in text:\n",
    "    letterList.append(letter)\n",
    "\n",
    "print(letterList)"
   ]
  },
  {
   "cell_type": "code",
   "execution_count": 26,
   "metadata": {},
   "outputs": [
    {
     "name": "stdout",
     "output_type": "stream",
     "text": [
      "[5, 9, 21, 41, 69]\n"
     ]
    }
   ],
   "source": [
    "#Best\n",
    "# text = \"The quick brown fox jumped over the lazy dog.\"\n",
    "# letterList = [letter.upper() for letter in text] #Can also change up the \"function\" -- e.g. letter+letter\n",
    "# print(letterList)\n",
    "numberList = [x**2+5 for x in range(0,10,2)]\n",
    "print(numberList)"
   ]
  },
  {
   "cell_type": "code",
   "execution_count": null,
   "metadata": {},
   "outputs": [],
   "source": [
    "#Challenge -- write a for loop (neatly as possible) that will remake the string\n",
    "# from the list of letters"
   ]
  },
  {
   "cell_type": "code",
   "execution_count": 27,
   "metadata": {},
   "outputs": [
    {
     "name": "stdout",
     "output_type": "stream",
     "text": [
      "['a', 'b', 'c']\n"
     ]
    }
   ],
   "source": [
    "#Packing and unpacking lists (leaning on CodeHS here...)\n",
    "first = 'a'\n",
    "second = 'b'\n",
    "third = 'c'\n",
    "letterList = [first, second, third]\n",
    "\n",
    "first = 'd'         #This does NOT change the list!\n",
    "print(letterList) "
   ]
  },
  {
   "cell_type": "code",
   "execution_count": 28,
   "metadata": {},
   "outputs": [
    {
     "name": "stdout",
     "output_type": "stream",
     "text": [
      "[['g', 'b'], ['c', 'd'], ['e', 'f']]\n"
     ]
    }
   ],
   "source": [
    "first = ['a','b']\n",
    "second = ['c','d']\n",
    "third = ['e','f']\n",
    "\n",
    "letterList = [first, second, third]\n",
    "\n",
    "first[0] = 'g'  #This DOES change the list?!?\n",
    "print(letterList)"
   ]
  },
  {
   "cell_type": "code",
   "execution_count": 29,
   "metadata": {},
   "outputs": [
    {
     "name": "stdout",
     "output_type": "stream",
     "text": [
      "['g', 'bug']\n"
     ]
    }
   ],
   "source": [
    "letterList[0][1] = 'bug'    #This then changes first... Lists are mutable!\n",
    "print(first)"
   ]
  },
  {
   "cell_type": "code",
   "execution_count": 31,
   "metadata": {},
   "outputs": [
    {
     "name": "stdout",
     "output_type": "stream",
     "text": [
      "b\n",
      "['ab', 'cd', 'ef']\n"
     ]
    }
   ],
   "source": [
    "first = 'ab'\n",
    "second = 'cd'\n",
    "third = 'ef'\n",
    "letterList = [first, second, third]\n",
    "\n",
    "print(first[1])    #Strings are immutable\n",
    "print(letterList)"
   ]
  },
  {
   "cell_type": "code",
   "execution_count": 34,
   "metadata": {},
   "outputs": [
    {
     "name": "stdout",
     "output_type": "stream",
     "text": [
      "cd\n"
     ]
    }
   ],
   "source": [
    "letterList = ['ab','bc','cd']\n",
    "x, y, z  = letterList\n",
    "print(z)"
   ]
  },
  {
   "cell_type": "code",
   "execution_count": 35,
   "metadata": {},
   "outputs": [
    {
     "name": "stdout",
     "output_type": "stream",
     "text": [
      "10\n"
     ]
    }
   ],
   "source": [
    "a, b, c, d, = 1, 2, 3, 4\n",
    "print(a + b + c + d)"
   ]
  },
  {
   "cell_type": "code",
   "execution_count": null,
   "metadata": {},
   "outputs": [],
   "source": [
    "#CodeHS's discussion of dictionaries is really, really good... \n",
    "#   So instead of paralleling it, we'll see an example of where I have used \n",
    "#       dictionaries when I was writing my own code."
   ]
  },
  {
   "cell_type": "code",
   "execution_count": 39,
   "metadata": {},
   "outputs": [
    {
     "name": "stdout",
     "output_type": "stream",
     "text": [
      "False\n"
     ]
    }
   ],
   "source": [
    "#Dictionaries -- Lists with fancy indexes.\n",
    "bornBike = {\n",
    "    'brand' : \"Moots\",\n",
    "    'type'  : \"Gravel\",\n",
    "    'weight' : 23,\n",
    "    'gears' : 22,\n",
    "    'isClean' : False\n",
    "}\n",
    "\n",
    "# print(bornBike)\n",
    "print(bornBike['isClean'])"
   ]
  },
  {
   "cell_type": "code",
   "execution_count": 40,
   "metadata": {},
   "outputs": [
    {
     "name": "stdout",
     "output_type": "stream",
     "text": [
      "The brand is Moots\n",
      "The type is Gravel\n",
      "The weight is 23\n",
      "The gears is 22\n",
      "The isClean is False\n"
     ]
    }
   ],
   "source": [
    "#You can loop on dictionaries, though it's a little different from lists\n",
    "# for feature, value in bornBike.items():\n",
    "#     print(\"The \" + feature + \" is \" + str(value))\n",
    "\n",
    "# #Btw, here is a cooler way to do this!\n",
    "for feature, value in bornBike.items():\n",
    "    print(\"The {0} is {1}\".format(feature, value))"
   ]
  },
  {
   "cell_type": "code",
   "execution_count": 43,
   "metadata": {},
   "outputs": [
    {
     "name": "stdout",
     "output_type": "stream",
     "text": [
      "{'Age': 8, 'Class': 'First', 'School': 'DPS School'}\n",
      "{'Age': 8, 'Class': 'First', 'School': 'DPS School', 'Name': 'Unknown'}\n"
     ]
    }
   ],
   "source": [
    "#Playing with dictionaries\n",
    "student = {'Age': 7, 'Class': 'First'}\n",
    "student['Age'] = 8; \n",
    "student['School'] = \"DPS School\"; \n",
    "\n",
    "# keys = dict.keys()\n",
    "# for thing in keys: print(thing)\n",
    "print(student)\n",
    "if not('Name' in student):\n",
    "    student['Name'] = \"Unknown\"\n",
    "print(student)\n"
   ]
  },
  {
   "cell_type": "code",
   "execution_count": null,
   "metadata": {},
   "outputs": [],
   "source": [
    "#The last section of CodeHS then has another really good example of\n",
    "#   the difference between lists (or other variables) being the same thing,\n",
    "#   or them being equal to the same thing... And then some weirdness with \n",
    "#   immutable objects. It's another one where I think I just have to bow to them!"
   ]
  }
 ],
 "metadata": {
  "interpreter": {
   "hash": "7b392b509dceda8243e99488644381371e4301d645f4c08aa3507e606e2d620f"
  },
  "kernelspec": {
   "display_name": "Python 3.8.11 64-bit ('snowflakes': conda)",
   "name": "python3"
  },
  "language_info": {
   "codemirror_mode": {
    "name": "ipython",
    "version": 3
   },
   "file_extension": ".py",
   "mimetype": "text/x-python",
   "name": "python",
   "nbconvert_exporter": "python",
   "pygments_lexer": "ipython3",
   "version": "3.8.2"
  },
  "orig_nbformat": 4
 },
 "nbformat": 4,
 "nbformat_minor": 2
}
