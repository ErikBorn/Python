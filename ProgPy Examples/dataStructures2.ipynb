{
 "cells": [
  {
   "cell_type": "code",
   "execution_count": 7,
   "metadata": {},
   "outputs": [
    {
     "data": {
      "text/plain": [
       "[[-3, 2, 0, -1, 7, 8, 3, 9],\n",
       " [2, 0, 3, 3, 7, 8, 3, 2],\n",
       " [3, 3, 7, 8, 3, 2, 7, 8],\n",
       " [2, 7, 7, 3, 3, -5, 7, 8]]"
      ]
     },
     "execution_count": 7,
     "metadata": {},
     "output_type": "execute_result"
    }
   ],
   "source": [
    "# It's a list of lists!\n",
    "# Though this amount of careful formatting is both unneccesary and uncommon, \n",
    "# just make sure the brackets line up\n",
    "my_grid =   [\n",
    "              [-3, 2, 0, -1, 7, 8, 3, 9],\n",
    "              [5, 9, -3, -5, 3, 9, 0, -9],\n",
    "              [2, 0, 3, 3, 7, 8, 3, 2],\n",
    "              [9, -3, 7, 7, 3, 9, 0, 9],\n",
    "              [3, 3, 7, 8, 3, 2, 7, 8],\n",
    "              [7, 3, 3, 3, 7, 8, 3, 9],\n",
    "              [2, 7, 7, 3, 3, -5, 7, 8],\n",
    "              [9, -3, 7, 7, 7, -5, 3, 9]\n",
    "            ]\n",
    "my_grid[0]\n",
    "#my_grid[0:3]\n",
    "# my_grid[0::2]\n",
    "# my_grid[0][1]\n",
    "# my_grid[0][0:5:2]"
   ]
  },
  {
   "cell_type": "code",
   "execution_count": 10,
   "metadata": {},
   "outputs": [
    {
     "name": "stdout",
     "output_type": "stream",
     "text": [
      "[[1, 2, 3], [4, 5, 6], [7, 8, 9]]\n",
      "[1, 2, 3]\n",
      "1\n",
      "2\n",
      "3\n",
      "[4, 5, 6]\n",
      "4\n",
      "5\n",
      "6\n",
      "[7, 8, 9]\n",
      "7\n",
      "8\n",
      "9\n"
     ]
    }
   ],
   "source": [
    "my_grid = []\n",
    "\n",
    "my_grid.append([1, 2, 3])\n",
    "my_grid.append([4, 5, 6])\n",
    "my_grid.append([7, 8, 9])\n",
    "\n",
    "print(my_grid)\n",
    "\n",
    "#Sum the grid!\n",
    "sum = 0\n",
    "for row in my_grid:\n",
    "    print(row)\n",
    "    for item in row:\n",
    "        print(item)"
   ]
  },
  {
   "cell_type": "code",
   "execution_count": null,
   "metadata": {},
   "outputs": [],
   "source": []
  }
 ],
 "metadata": {
  "interpreter": {
   "hash": "7b392b509dceda8243e99488644381371e4301d645f4c08aa3507e606e2d620f"
  },
  "kernelspec": {
   "display_name": "Python 3.8.11 64-bit ('snowflakes': conda)",
   "name": "python3"
  },
  "language_info": {
   "codemirror_mode": {
    "name": "ipython",
    "version": 3
   },
   "file_extension": ".py",
   "mimetype": "text/x-python",
   "name": "python",
   "nbconvert_exporter": "python",
   "pygments_lexer": "ipython3",
   "version": "3.8.11"
  },
  "orig_nbformat": 4
 },
 "nbformat": 4,
 "nbformat_minor": 2
}
