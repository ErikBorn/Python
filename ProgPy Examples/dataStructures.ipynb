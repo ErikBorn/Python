{
 "cells": [
  {
   "cell_type": "code",
   "execution_count": null,
   "metadata": {},
   "outputs": [],
   "source": [
    "#Tuples store multiple values as a single variable\n",
    "t = (1,2,3)\n",
    "t2 = ('one','two','three')\n",
    "t3 = (True,False,True)\n",
    "print(t)\n",
    "print(t2)\n",
    "print(t3)"
   ]
  },
  {
   "cell_type": "code",
   "execution_count": null,
   "metadata": {},
   "outputs": [],
   "source": [
    "#Basic operations with tuples\n",
    "tupleEx = (1, 'one', True, 2.456)\n",
    "print(len(tupleEx))\n",
    "print(tupleEx[2])\n",
    "print(tupleEx[1:3])\n",
    "print(tupleEx[::-1])"
   ]
  },
  {
   "cell_type": "code",
   "execution_count": null,
   "metadata": {},
   "outputs": [],
   "source": [
    "#Tuples add through concatenation!\n",
    "t1 = (1,2)\n",
    "t2 = (3,4)\n",
    "print(\"t1 + t2: \"+ str(t1+t2))\n",
    "# t3 = (t1,t2)\n",
    "# print(\"t1 + t2 + t3: \" + str(t1+t2+t3))"
   ]
  },
  {
   "cell_type": "code",
   "execution_count": null,
   "metadata": {},
   "outputs": [],
   "source": [
    "#Tuples are immutable\n",
    "tuple = (1,2,3,4)\n",
    "tuple[3] = 5"
   ]
  },
  {
   "cell_type": "code",
   "execution_count": null,
   "metadata": {},
   "outputs": [],
   "source": [
    "#Lists\n",
    "list = [1,2,3,4,5,6,7]\n",
    "print(list)\n",
    "# list[3] = 'cat'\n",
    "# print(list)"
   ]
  },
  {
   "cell_type": "code",
   "execution_count": null,
   "metadata": {},
   "outputs": [],
   "source": [
    "#List Methods\n",
    "list = [1,2,3,4,5,6,7]\n",
    "print(min(list))\n",
    "print(len(list))\n",
    "# list.reverse()\n",
    "# print(list)\n",
    "# list.sort()\n",
    "# print(list)"
   ]
  },
  {
   "cell_type": "code",
   "execution_count": null,
   "metadata": {},
   "outputs": [],
   "source": [
    "#Lists to strings and back\n",
    "alphaList = ['a','b','c','d','e']\n",
    "print(alphaList)\n",
    "s = \" ! \".join(alphaList)\n",
    "print(s)\n",
    "#newList = s.split(\" ! \")\n",
    "#print(newList)"
   ]
  },
  {
   "cell_type": "code",
   "execution_count": null,
   "metadata": {},
   "outputs": [],
   "source": [
    "#Looping on lists\n",
    "colorList = ['red','blue','green',\n",
    "    'yellow','orange','pink','purple']\n",
    "\n",
    "for c in colorList:\n",
    "    print(c)\n",
    "\n",
    "numberList = [1,2,3,4,5,6,7]\n",
    "# sum = 0\n",
    "# for n in numberList:\n",
    "#     sum += n\n",
    "# print(sum)\n"
   ]
  },
  {
   "cell_type": "code",
   "execution_count": null,
   "metadata": {},
   "outputs": [],
   "source": [
    "for i in range(len(colorList)):\n",
    "    print(str(numberList[i]) + \" -- \" + colorList[i])"
   ]
  },
  {
   "cell_type": "code",
   "execution_count": null,
   "metadata": {},
   "outputs": [],
   "source": [
    "#Using enumerate()\n",
    "check = enumerate(colorList)\n",
    "print(check)\n",
    "for thing in check:\n",
    "    print(thing)"
   ]
  },
  {
   "cell_type": "code",
   "execution_count": null,
   "metadata": {},
   "outputs": [],
   "source": [
    "for i, color in enumerate(colorList):\n",
    "    print(str(numberList[i]) + \" -- \" + color)"
   ]
  },
  {
   "cell_type": "code",
   "execution_count": null,
   "metadata": {},
   "outputs": [],
   "source": [
    "#More list methods\n",
    "colorList = ['red','blue','green','red']\n",
    "colorList.append('pink')\n",
    "print(colorList)"
   ]
  },
  {
   "cell_type": "code",
   "execution_count": null,
   "metadata": {},
   "outputs": [],
   "source": [
    "ind = colorList.index('green')\n",
    "print(ind)\n",
    "\n",
    "colorList.pop(ind)\n",
    "print(colorList)\n",
    "\n",
    "colorList.extend(['orange','purple'])\n",
    "print(colorList)"
   ]
  },
  {
   "cell_type": "code",
   "execution_count": null,
   "metadata": {},
   "outputs": [],
   "source": [
    "colorList = ['red','blue','green','red']\n",
    "colorList.remove('green')\n",
    "print(colorList)\n",
    "\n",
    "colorList.insert(1,'green')\n",
    "print(colorList)\n",
    "\n",
    "print(colorList.count('red'))\n",
    "\n",
    "colorList.sort()\n",
    "print(colorList)\n",
    "\n",
    "colorList.reverse()\n",
    "print(colorList)"
   ]
  },
  {
   "cell_type": "code",
   "execution_count": null,
   "metadata": {},
   "outputs": [],
   "source": [
    "\n"
   ]
  },
  {
   "cell_type": "code",
   "execution_count": null,
   "metadata": {},
   "outputs": [],
   "source": []
  }
 ],
 "metadata": {
  "interpreter": {
   "hash": "40d3a090f54c6569ab1632332b64b2c03c39dcf918b08424e98f38b5ae0af88f"
  },
  "kernelspec": {
   "display_name": "Python 3.8.11 64-bit ('base': conda)",
   "name": "python3"
  },
  "language_info": {
   "codemirror_mode": {
    "name": "ipython",
    "version": 3
   },
   "file_extension": ".py",
   "mimetype": "text/x-python",
   "name": "python",
   "nbconvert_exporter": "python",
   "pygments_lexer": "ipython3",
   "version": "3.8.11"
  },
  "orig_nbformat": 4
 },
 "nbformat": 4,
 "nbformat_minor": 2
}
