{
 "cells": [
  {
   "cell_type": "code",
   "execution_count": 11,
   "metadata": {},
   "outputs": [
    {
     "name": "stdout",
     "output_type": "stream",
     "text": [
      "(1, 2, 3)\n",
      "('one', 'two', 'three')\n",
      "(True, False, True)\n"
     ]
    }
   ],
   "source": [
    "#Tuples store multiple values as a single variable\n",
    "t = (1,2,3)\n",
    "t2 = ('one','two','three')\n",
    "t3 = (True,False,True)\n",
    "print(t)\n",
    "print(t2)\n",
    "print(t3)"
   ]
  },
  {
   "cell_type": "code",
   "execution_count": 12,
   "metadata": {},
   "outputs": [
    {
     "name": "stdout",
     "output_type": "stream",
     "text": [
      "4\n",
      "True\n",
      "('one', True)\n",
      "(2.456, True, 'one', 1)\n"
     ]
    }
   ],
   "source": [
    "#Basic operations with tuples\n",
    "tupleEx = (1, 'one', True, 2.456)\n",
    "print(len(tupleEx))\n",
    "print(tupleEx[2])\n",
    "print(tupleEx[1:3])\n",
    "print(tupleEx[::-1])"
   ]
  },
  {
   "cell_type": "code",
   "execution_count": 16,
   "metadata": {},
   "outputs": [
    {
     "name": "stdout",
     "output_type": "stream",
     "text": [
      "((1, 2), (3, 4))\n",
      "t1 + t2 + t3: (1, 2, 3, 4, (1, 2), (3, 4))\n"
     ]
    }
   ],
   "source": [
    "#Tuples add through concatenation!\n",
    "t1 = (1,2)\n",
    "t2 = (3,4)\n",
    "# print(\"t1 + t2: \"+ str(t1+t2))\n",
    "t3 = (t1,t2)\n",
    "print(t3)\n",
    "print(\"t1 + t2 + t3: \" + str(t1+t2+t3))"
   ]
  },
  {
   "cell_type": "code",
   "execution_count": 17,
   "metadata": {},
   "outputs": [
    {
     "ename": "TypeError",
     "evalue": "'tuple' object does not support item assignment",
     "output_type": "error",
     "traceback": [
      "\u001b[0;31m---------------------------------------------------------------------------\u001b[0m",
      "\u001b[0;31mTypeError\u001b[0m                                 Traceback (most recent call last)",
      "\u001b[0;32m/var/folders/hk/8yhk12y94z7fwn097_d9fzjh0000gp/T/ipykernel_41845/2921268119.py\u001b[0m in \u001b[0;36m<module>\u001b[0;34m\u001b[0m\n\u001b[1;32m      1\u001b[0m \u001b[0;31m#Tuples are immutable\u001b[0m\u001b[0;34m\u001b[0m\u001b[0;34m\u001b[0m\u001b[0;34m\u001b[0m\u001b[0m\n\u001b[1;32m      2\u001b[0m \u001b[0mtuple\u001b[0m \u001b[0;34m=\u001b[0m \u001b[0;34m(\u001b[0m\u001b[0;36m1\u001b[0m\u001b[0;34m,\u001b[0m\u001b[0;36m2\u001b[0m\u001b[0;34m,\u001b[0m\u001b[0;36m3\u001b[0m\u001b[0;34m,\u001b[0m\u001b[0;36m4\u001b[0m\u001b[0;34m)\u001b[0m\u001b[0;34m\u001b[0m\u001b[0;34m\u001b[0m\u001b[0m\n\u001b[0;32m----> 3\u001b[0;31m \u001b[0mtuple\u001b[0m\u001b[0;34m[\u001b[0m\u001b[0;36m3\u001b[0m\u001b[0;34m]\u001b[0m \u001b[0;34m=\u001b[0m \u001b[0;36m5\u001b[0m\u001b[0;34m\u001b[0m\u001b[0;34m\u001b[0m\u001b[0m\n\u001b[0m",
      "\u001b[0;31mTypeError\u001b[0m: 'tuple' object does not support item assignment"
     ]
    }
   ],
   "source": [
    "#Tuples are immutable\n",
    "tuple = (1,2,3,4)\n",
    "tuple[3] = 5"
   ]
  },
  {
   "cell_type": "code",
   "execution_count": 20,
   "metadata": {},
   "outputs": [
    {
     "name": "stdout",
     "output_type": "stream",
     "text": [
      "[1, 2, 3, 4, 5, 6, 7]\n",
      "[1, 2, 3, 'cat', 5, 6, 7]\n"
     ]
    }
   ],
   "source": [
    "#Lists\n",
    "list = [1,2,3,4,5,6,7]\n",
    "print(list)\n",
    "list[3] = 'cat'\n",
    "print(list)"
   ]
  },
  {
   "cell_type": "code",
   "execution_count": 26,
   "metadata": {},
   "outputs": [
    {
     "name": "stdout",
     "output_type": "stream",
     "text": [
      "1\n",
      "[1, 2, 3, 4, 5, 6, 7]\n"
     ]
    }
   ],
   "source": [
    "#List Methods\n",
    "list = [1,2,3,4,5,6,7]\n",
    "print(min(list))\n",
    "# print(len(list))\n",
    "# list.reverse()\n",
    "# print(list)\n",
    "list.sort()\n",
    "print(list)"
   ]
  },
  {
   "cell_type": "code",
   "execution_count": 34,
   "metadata": {},
   "outputs": [
    {
     "name": "stdout",
     "output_type": "stream",
     "text": [
      "['a', 'b', 'c', 'd', 'e']\n",
      "a ! b ! c ! d ! e\n",
      "['a ! b ! ', ' ! d ! e']\n"
     ]
    }
   ],
   "source": [
    "#Lists to strings and back\n",
    "alphaList = ['a','b','c','d','e']\n",
    "print(alphaList)\n",
    "s = \" ! \".join(alphaList)\n",
    "print(s)\n",
    "newList = s.split(\"c\")\n",
    "print(newList)"
   ]
  },
  {
   "cell_type": "code",
   "execution_count": 36,
   "metadata": {},
   "outputs": [
    {
     "name": "stdout",
     "output_type": "stream",
     "text": [
      "red\n",
      "blue\n",
      "green\n",
      "yellow\n",
      "orange\n",
      "pink\n",
      "purple\n",
      "28\n"
     ]
    }
   ],
   "source": [
    "#Looping on lists\n",
    "colorList = ['red','blue','green',\n",
    "    'yellow','orange','pink','purple']\n",
    "\n",
    "for c in colorList:\n",
    "    print(c)\n",
    "\n",
    "numberList = [1,2,3,4,5,6,7]\n",
    "sum = 0\n",
    "for n in numberList:\n",
    "    sum += n\n",
    "print(sum)\n"
   ]
  },
  {
   "cell_type": "code",
   "execution_count": 37,
   "metadata": {},
   "outputs": [
    {
     "name": "stdout",
     "output_type": "stream",
     "text": [
      "1 -- red\n",
      "2 -- blue\n",
      "3 -- green\n",
      "4 -- yellow\n",
      "5 -- orange\n",
      "6 -- pink\n",
      "7 -- purple\n"
     ]
    }
   ],
   "source": [
    "for i in range(len(colorList)):\n",
    "    print(str(numberList[i]) + \" -- \" + colorList[i])"
   ]
  },
  {
   "cell_type": "code",
   "execution_count": 38,
   "metadata": {},
   "outputs": [
    {
     "name": "stdout",
     "output_type": "stream",
     "text": [
      "<enumerate object at 0x7fd0b8785d40>\n",
      "(0, 'red')\n",
      "(1, 'blue')\n",
      "(2, 'green')\n",
      "(3, 'yellow')\n",
      "(4, 'orange')\n",
      "(5, 'pink')\n",
      "(6, 'purple')\n"
     ]
    }
   ],
   "source": [
    "#Using enumerate()\n",
    "check = enumerate(colorList)\n",
    "print(check)\n",
    "for thing in check:\n",
    "    print(thing)"
   ]
  },
  {
   "cell_type": "code",
   "execution_count": 39,
   "metadata": {},
   "outputs": [
    {
     "name": "stdout",
     "output_type": "stream",
     "text": [
      "1 -- red\n",
      "2 -- blue\n",
      "3 -- green\n",
      "4 -- yellow\n",
      "5 -- orange\n",
      "6 -- pink\n",
      "7 -- purple\n"
     ]
    }
   ],
   "source": [
    "for i, color in enumerate(colorList):\n",
    "    print(str(numberList[i]) + \" -- \" + color)"
   ]
  },
  {
   "cell_type": "code",
   "execution_count": 40,
   "metadata": {},
   "outputs": [
    {
     "name": "stdout",
     "output_type": "stream",
     "text": [
      "['red', 'blue', 'green', 'red', 'pink']\n"
     ]
    }
   ],
   "source": [
    "#More list methods\n",
    "colorList = ['red','blue','green','red']\n",
    "colorList.append('pink')\n",
    "print(colorList)"
   ]
  },
  {
   "cell_type": "code",
   "execution_count": null,
   "metadata": {},
   "outputs": [],
   "source": []
  },
  {
   "cell_type": "code",
   "execution_count": 41,
   "metadata": {},
   "outputs": [
    {
     "name": "stdout",
     "output_type": "stream",
     "text": [
      "2\n",
      "['red', 'blue', 'red', 'pink']\n",
      "['red', 'blue', 'red', 'pink', 'orange', 'purple']\n"
     ]
    }
   ],
   "source": [
    "ind = colorList.index('green')\n",
    "print(ind)\n",
    "\n",
    "colorList.pop(ind)\n",
    "print(colorList)\n",
    "\n",
    "colorList.extend(['orange','purple'])\n",
    "print(colorList)"
   ]
  },
  {
   "cell_type": "code",
   "execution_count": 42,
   "metadata": {},
   "outputs": [
    {
     "name": "stdout",
     "output_type": "stream",
     "text": [
      "['red', 'blue', 'red']\n",
      "['red', 'green', 'blue', 'red']\n",
      "2\n",
      "['blue', 'green', 'red', 'red']\n",
      "['red', 'red', 'green', 'blue']\n"
     ]
    }
   ],
   "source": [
    "colorList = ['red','blue','green','red']\n",
    "colorList.remove('green')\n",
    "print(colorList)\n",
    "\n",
    "colorList.insert(1,'green')\n",
    "print(colorList)\n",
    "\n",
    "print(colorList.count('red'))\n",
    "\n",
    "colorList.sort()\n",
    "print(colorList)\n",
    "\n",
    "colorList.reverse()\n",
    "print(colorList)"
   ]
  },
  {
   "cell_type": "code",
   "execution_count": null,
   "metadata": {},
   "outputs": [],
   "source": [
    "\n"
   ]
  },
  {
   "cell_type": "code",
   "execution_count": null,
   "metadata": {},
   "outputs": [],
   "source": []
  }
 ],
 "metadata": {
  "interpreter": {
   "hash": "40d3a090f54c6569ab1632332b64b2c03c39dcf918b08424e98f38b5ae0af88f"
  },
  "kernelspec": {
   "display_name": "Python 3.8.11 64-bit ('base': conda)",
   "name": "python3"
  },
  "language_info": {
   "codemirror_mode": {
    "name": "ipython",
    "version": 3
   },
   "file_extension": ".py",
   "mimetype": "text/x-python",
   "name": "python",
   "nbconvert_exporter": "python",
   "pygments_lexer": "ipython3",
   "version": "3.8.11"
  },
  "orig_nbformat": 4
 },
 "nbformat": 4,
 "nbformat_minor": 2
}
