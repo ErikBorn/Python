{
 "cells": [
  {
   "cell_type": "code",
   "execution_count": 22,
   "metadata": {},
   "outputs": [
    {
     "name": "stdout",
     "output_type": "stream",
     "text": [
      "https://www.strava.com/oauth/token?client_id=73092&client_secret=7ce9c1a9ef12c146f5e3e25bc5761e2d7c6e7009&code=52ec5853b048a139d88b4754b2783c7753c9c1e8&grant_type=authorization_code\n",
      "<Response [400]>\n"
     ]
    }
   ],
   "source": [
    "import requests\n",
    "#60a540763f7683a53278570f693280b7fb4a9946\n",
    "#https://www.strava.com/oauth/token?client_id=\n",
    "# your_client_id = \n",
    "# &client_secret\n",
    "# =your_client_secret\n",
    "# &code\n",
    "# =your_code_from_previous_step\n",
    "# &grant_type=authorization_code\n",
    "\n",
    "clientID = \"73092\"\n",
    "client_secret = \"7ce9c1a9ef12c146f5e3e25bc5761e2d7c6e7009\"\n",
    "code = \"52ec5853b048a139d88b4754b2783c7753c9c1e8\"\n",
    "refresh_tok = \"24507a9c490400cc0f281775ba0ee7b1db1d2677\"\n",
    "access_tok = \"ccb217b4c599b9a15b6550cbd1d2bca2986c937a\"\n",
    "\n",
    "endpoint = \"https://www.strava.com/oauth/token?client_id=\" + clientID + \"&client_secret=\" + client_secret + \"&code=\" + code + \"&grant_type=authorization_code\"\n",
    "\n",
    "print(endpoint)\n",
    "response = requests.post(endpoint)\n",
    "print(response)\n"
   ]
  },
  {
   "cell_type": "code",
   "execution_count": 23,
   "metadata": {},
   "outputs": [
    {
     "data": {
      "text/plain": [
       "{'message': 'Bad Request',\n",
       " 'errors': [{'resource': 'AuthorizationCode',\n",
       "   'field': 'code',\n",
       "   'code': 'invalid'}]}"
      ]
     },
     "execution_count": 23,
     "metadata": {},
     "output_type": "execute_result"
    }
   ],
   "source": [
    "response.json()"
   ]
  },
  {
   "cell_type": "code",
   "execution_count": null,
   "metadata": {},
   "outputs": [],
   "source": []
  }
 ],
 "metadata": {
  "interpreter": {
   "hash": "7b392b509dceda8243e99488644381371e4301d645f4c08aa3507e606e2d620f"
  },
  "kernelspec": {
   "display_name": "Python 3.8.11 64-bit ('snowflakes': conda)",
   "name": "python3"
  },
  "language_info": {
   "codemirror_mode": {
    "name": "ipython",
    "version": 3
   },
   "file_extension": ".py",
   "mimetype": "text/x-python",
   "name": "python",
   "nbconvert_exporter": "python",
   "pygments_lexer": "ipython3",
   "version": "3.8.11"
  },
  "orig_nbformat": 4
 },
 "nbformat": 4,
 "nbformat_minor": 2
}
