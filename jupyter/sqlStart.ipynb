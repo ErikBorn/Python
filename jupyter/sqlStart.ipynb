{
 "cells": [
  {
   "cell_type": "code",
   "execution_count": null,
   "id": "031f5523",
   "metadata": {},
   "outputs": [],
   "source": [
    "import numpy as np\n",
    "a = np.array([1,2,3])\n",
    "print(a)"
   ]
  },
  {
   "cell_type": "code",
   "execution_count": null,
   "id": "874d165b",
   "metadata": {},
   "outputs": [],
   "source": [
    "import time\n",
    "import sys"
   ]
  },
  {
   "cell_type": "code",
   "execution_count": null,
   "id": "7e16a709",
   "metadata": {},
   "outputs": [],
   "source": [
    "b = range(1000)\n",
    "print(sys.getsizeof(5)*len(b))"
   ]
  },
  {
   "cell_type": "code",
   "execution_count": null,
   "id": "cdcc9093",
   "metadata": {},
   "outputs": [],
   "source": [
    "c = np.arange(1000)\n",
    "print(c.size*c.itemsize)"
   ]
  },
  {
   "cell_type": "code",
   "execution_count": null,
   "id": "ab58eb12",
   "metadata": {},
   "outputs": [],
   "source": [
    "size = 100000"
   ]
  },
  {
   "cell_type": "code",
   "execution_count": null,
   "id": "2ca453b0",
   "metadata": {},
   "outputs": [],
   "source": [
    "L1 = range(size)\n",
    "L2 = range(size)\n",
    "A1 = np.arange(size)\n",
    "A2 = np.arange(size)"
   ]
  },
  {
   "cell_type": "code",
   "execution_count": null,
   "id": "75a7d7c5",
   "metadata": {},
   "outputs": [],
   "source": [
    "start = time.time()\n",
    "result = [(x+y) for x,y in zip(L1,L2)]\n",
    "print(\"Time \"+str((time.time()-start)*1000))\n",
    "print(result)"
   ]
  },
  {
   "cell_type": "code",
   "execution_count": null,
   "id": "505edc62",
   "metadata": {},
   "outputs": [],
   "source": [
    "start2 = time.time()\n",
    "result2 = A1 + A2\n",
    "print(\"Time \"+str((time.time()-start2)*1000))\n",
    "print(result2)"
   ]
  },
  {
   "cell_type": "code",
   "execution_count": null,
   "id": "61073bbe",
   "metadata": {},
   "outputs": [],
   "source": [
    "a = np.array([[1,2],[3,4],[5,6]])\n",
    "a"
   ]
  },
  {
   "cell_type": "code",
   "execution_count": null,
   "id": "e0f713c4",
   "metadata": {},
   "outputs": [],
   "source": [
    "a.shape"
   ]
  },
  {
   "cell_type": "code",
   "execution_count": null,
   "id": "98702e15",
   "metadata": {},
   "outputs": [],
   "source": [
    "a = np.array([[1,2],[3,4],[5,6]],dtype = np.float64)\n",
    "a"
   ]
  },
  {
   "cell_type": "code",
   "execution_count": null,
   "id": "52122340",
   "metadata": {},
   "outputs": [],
   "source": [
    "print(np.char.join(['af','asdfa'],'-'))"
   ]
  },
  {
   "cell_type": "code",
   "execution_count": null,
   "id": "820ac773",
   "metadata": {},
   "outputs": [],
   "source": []
  }
 ],
 "metadata": {
  "kernelspec": {
   "display_name": "Python 3.8.8 64-bit ('base': conda)",
   "language": "python",
   "name": "python388jvsc74a57bd0dca0ade3e726a953b501b15e8e990130d2b7799f14cfd9f4271676035ebe5511"
  },
  "language_info": {
   "codemirror_mode": {
    "name": "ipython",
    "version": 3
   },
   "file_extension": ".py",
   "mimetype": "text/x-python",
   "name": "python",
   "nbconvert_exporter": "python",
   "pygments_lexer": "ipython3",
   "version": "3.8.8"
  }
 },
 "nbformat": 4,
 "nbformat_minor": 5
}
