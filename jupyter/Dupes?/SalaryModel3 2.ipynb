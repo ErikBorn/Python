{
 "cells": [
  {
   "cell_type": "code",
   "execution_count": 731,
   "metadata": {},
   "outputs": [],
   "source": [
    "import pandas as pd\n",
    "import numpy as np\n",
    "import matplotlib.pyplot as plt\n",
    "import seaborn as sns\n",
    "\n",
    "from sklearn.linear_model import Ridge, LogisticRegression\n",
    "from sklearn.model_selection import cross_val_score, train_test_split\n",
    "from sklearn.metrics import mean_squared_error, r2_score, classification_report"
   ]
  },
  {
   "cell_type": "markdown",
   "metadata": {},
   "source": [
    "Notes:\n",
    "- Make the \"skills\" be a true/false\n",
    "- Try another version of the model which has bands, perhaps instead of seniority or exp"
   ]
  },
  {
   "cell_type": "code",
   "execution_count": 732,
   "metadata": {},
   "outputs": [],
   "source": [
    "# -------------------\n",
    "# Load and clean data\n",
    "# -------------------\n",
    "df = pd.read_csv(\"/Users/erikborn/Documents/Python/jupyter/Salary_ML/modelData3.csv\")\n",
    "\n",
    "# Clean numeric fields\n",
    "df[\"25-26 Salary\"] = pd.to_numeric(df[\"25-26 Salary\"].str.replace(\",\", \"\"), errors=\"coerce\")\n",
    "df[\"Prep Rating\"] = pd.to_numeric(df[\"Prep Rating\"], errors=\"coerce\")\n",
    "df = df.dropna()\n",
    "\n",
    "# 🕓 Recalculate Seniority based on Hire Date\n",
    "df[\"Hire Date\"] = pd.to_datetime(df[\"Hire Date\"], errors=\"coerce\")\n",
    "df[\"Seniority\"] = pd.Timestamp(\"2024-01-01\").year - df[\"Hire Date\"].dt.year\n",
    "\n",
    "# 🔧 Recode Skill Rating to binary: 0 if == 3, 1 if > 3\n",
    "df[\"Skill Rating\"] = df[\"Skill Rating\"].apply(lambda x: 1 if x > 3 else 0)\n",
    "\n",
    "# 🎯 Create 5-year experience bands (0–5, 6–10, ..., 30+)\n",
    "df[\"Experience Band\"] = pd.cut(\n",
    "    df[\"Years of Exp\"],\n",
    "    bins=[-1, 5, 10, 15, 20, 25, 30, 100],\n",
    "    labels=[\"00-05\", \"06-10\", \"11-15\", \"16-20\", \"21-25\", \"26-30\", \"30+\"]\n",
    ")\n",
    "\n",
    "# -------------------\n",
    "# Features selection\n",
    "# -------------------\n",
    "features_to_keep = [\n",
    "    \"Years of Exp\",\n",
    "    \"Seniority\",\n",
    "    \"Skill Rating\",\n",
    "    \"Prep Rating\",\n",
    "    \"Knowledge Rating\"\n",
    "]\n",
    "\n",
    "# One-hot encode categorical features, including new Experience Band\n",
    "cats = [\n",
    "    \"Level\",\n",
    "    \"Gender\", \n",
    "    \"Education Level\",\n",
    "    \"Experience Band\"\n",
    "]\n",
    "df_encoded = pd.get_dummies(df, columns=cats, drop_first=True)\n",
    "\n",
    "# Identify the dummy feature columns\n",
    "categorical_dummies = [col for col in df_encoded.columns if any(prefix in col for prefix in cats)]\n",
    "features_to_use = features_to_keep + categorical_dummies\n",
    "\n",
    "# Final X and y\n",
    "X = df_encoded[features_to_use]\n",
    "y = df_encoded[\"25-26 Salary\"]"
   ]
  },
  {
   "cell_type": "code",
   "execution_count": 733,
   "metadata": {},
   "outputs": [
    {
     "name": "stdout",
     "output_type": "stream",
     "text": [
      "\n",
      "🧪 Ridge Regression Cross-Validation with Alpha Tuning:\n",
      "Best Alpha\tAvg R²\t\tStd R²\t\tAvg RMSE\t\tStd RMSE\n",
      "14.3845   \t0.6092\t\t0.1683\t\t5,971.98\t\t1,123.42\n"
     ]
    }
   ],
   "source": [
    "# ---------------------------\n",
    "# Safe wrapper for RMSE\n",
    "# ---------------------------\n",
    "def safe_rmse(y_true, y_pred):\n",
    "    return root_mean_squared_error(y_true, y_pred)\n",
    "\n",
    "rmse_scorer = make_scorer(safe_rmse, greater_is_better=False)\n",
    "\n",
    "# ---------------------------\n",
    "# Alpha tuning with CV\n",
    "# ---------------------------\n",
    "rkf = RepeatedKFold(n_splits=5, n_repeats=10, random_state=40)\n",
    "\n",
    "ridge = Ridge()\n",
    "alpha_grid = {'alpha': np.logspace(-2, 3, 20)}  # from 0.01 to 1000\n",
    "\n",
    "# Run grid search\n",
    "grid = GridSearchCV(\n",
    "    estimator=ridge,\n",
    "    param_grid=alpha_grid,\n",
    "    scoring={\"r2\": \"r2\", \"rmse\": rmse_scorer},\n",
    "    refit=\"r2\",\n",
    "    cv=rkf\n",
    ")\n",
    "\n",
    "grid.fit(X, y)\n",
    "\n",
    "# Extract scores\n",
    "cv_results = grid.cv_results_\n",
    "best_alpha = grid.best_params_['alpha']\n",
    "\n",
    "mean_r2 = grid.best_score_\n",
    "std_r2 = cv_results[\"std_test_r2\"][grid.best_index_]\n",
    "mean_rmse = -cv_results[\"mean_test_rmse\"][grid.best_index_]  # flip sign\n",
    "std_rmse = cv_results[\"std_test_rmse\"][grid.best_index_]\n",
    "\n",
    "# ---------------------------\n",
    "# Display\n",
    "# ---------------------------\n",
    "print(\"\\n🧪 Ridge Regression Cross-Validation with Alpha Tuning:\")\n",
    "print(\"Best Alpha\\tAvg R²\\t\\tStd R²\\t\\tAvg RMSE\\t\\tStd RMSE\")\n",
    "print(f\"{best_alpha:<10.4f}\\t{mean_r2:.4f}\\t\\t{std_r2:.4f}\\t\\t{mean_rmse:,.2f}\\t\\t{std_rmse:,.2f}\")"
   ]
  },
  {
   "cell_type": "code",
   "execution_count": 734,
   "metadata": {},
   "outputs": [
    {
     "name": "stdout",
     "output_type": "stream",
     "text": [
      "\n",
      "📊 Outlier Classifier Performance (custom threshold):\n",
      "              precision    recall  f1-score   support\n",
      "\n",
      "       False       0.60      0.60      0.60        10\n",
      "        True       0.20      0.20      0.20         5\n",
      "\n",
      "    accuracy                           0.47        15\n",
      "   macro avg       0.40      0.40      0.40        15\n",
      "weighted avg       0.47      0.47      0.47        15\n",
      "\n"
     ]
    }
   ],
   "source": [
    "# -------------------\n",
    "# Outlier detection\n",
    "# -------------------\n",
    "model_noOuts.fit(X, y)\n",
    "df[\"Prediction\"] = model_noOuts.predict(X)\n",
    "df[\"Residual\"] = df[\"25-26 Salary\"] - df[\"Prediction\"]\n",
    "\n",
    "# Control outlier threshold as a percent of actual salary\n",
    "threshold_percent = 0.05\n",
    "df[\"Outlier_Flag\"] = df[\"Residual\"].abs() > (threshold_percent * df[\"25-26 Salary\"])\n",
    "\n",
    "# -------------------\n",
    "# Train classifier to identify outliers\n",
    "# -------------------\n",
    "X_class = X.copy()\n",
    "y_class = df[\"Outlier_Flag\"]\n",
    "\n",
    "X_train, X_test, y_train, y_test = train_test_split(X_class, y_class, test_size=0.2, random_state=42)\n",
    "clf = LogisticRegression(max_iter=1000)\n",
    "clf.fit(X_train, y_train)\n",
    "\n",
    "probs = clf.predict_proba(X_test)[:, 1]\n",
    "y_custom = probs > 0.3\n",
    "\n",
    "print(\"\\n📊 Outlier Classifier Performance (custom threshold):\")\n",
    "print(classification_report(y_test, y_custom))"
   ]
  },
  {
   "cell_type": "code",
   "execution_count": 735,
   "metadata": {},
   "outputs": [
    {
     "data": {
      "image/png": "[encoded data removed]",
      "text/plain": [
       "<Figure size 800x600 with 1 Axes>"
      ]
     },
     "metadata": {},
     "output_type": "display_data"
    }
   ],
   "source": [
    "# -------------------\n",
    "# Visualization\n",
    "# -------------------\n",
    "df[\"Outlier_Prob\"] = clf.predict_proba(X_class)[:, 1]\n",
    "df[\"Outlier_Pred\"] = df[\"Outlier_Prob\"] > 0.4\n",
    "\n",
    "plt.figure(figsize=(8, 6))\n",
    "sns.scatterplot(\n",
    "    data=df,\n",
    "    x=\"25-26 Salary\",\n",
    "    y=\"Prediction\",\n",
    "    hue=\"Outlier_Pred\",\n",
    "    palette={True: \"red\", False: \"green\"},\n",
    "    style=\"Outlier_Flag\",\n",
    "    markers={True: \"X\", False: \"o\"},\n",
    "    s=100\n",
    ")\n",
    "plt.axline((0, 0), slope=1, linestyle=\"--\", color=\"gray\")\n",
    "plt.title(\"Salary Predictions vs Actuals\\n(Colored by Classifier Prediction)\")\n",
    "plt.xlabel(\"Predicted Salary\")\n",
    "plt.ylabel(\"Actual Salary\")\n",
    "plt.legend(title=\"Predicted Outlier\")\n",
    "plt.tight_layout()\n",
    "plt.show()"
   ]
  },
  {
   "cell_type": "code",
   "execution_count": 736,
   "metadata": {},
   "outputs": [
    {
     "name": "stdout",
     "output_type": "stream",
     "text": [
      "\n",
      "🧪 Ridge Regression Cross-Validation (Excluding Outliers):\n",
      "Used 54 data points for training after outlier exclusion.\n",
      "\n",
      "Alpha\tAvg R²\t\tStd R²\t\tAvg RMSE\t\tStd RMSE\n",
      "1     \t0.9485\t\t0.0423\t\t1,766.31\t\t338.31\n"
     ]
    }
   ],
   "source": [
    "from sklearn.model_selection import RepeatedKFold, cross_validate\n",
    "\n",
    "# Filter to only rows *not* flagged as outliers\n",
    "df_clean = df[~df[\"Outlier_Flag\"]].copy()\n",
    "\n",
    "# Match index of rows not flagged as outliers\n",
    "clean_indices = df_clean.index\n",
    "\n",
    "# Ensure we use the same features as original X\n",
    "features_to_use = X.columns.tolist()\n",
    "\n",
    "# Rebuild X and y using just those rows and the exact same features\n",
    "X_clean = df_encoded.loc[clean_indices, features_to_use]\n",
    "y_clean = df.loc[clean_indices, \"25-26 Salary\"]\n",
    "\n",
    "# Set up repeated cross-validation\n",
    "rkf = RepeatedKFold(n_splits=5, n_repeats=25, random_state=41)\n",
    "\n",
    "# Ridge model (alpha = 1)\n",
    "a = 1\n",
    "model_noOuts = Ridge(alpha=a)\n",
    "\n",
    "# Run CV\n",
    "scores = cross_validate(\n",
    "    model_noOuts,\n",
    "    X_clean,\n",
    "    y_clean,\n",
    "    cv=rkf,\n",
    "    scoring=('r2', 'neg_mean_squared_error'),\n",
    "    return_train_score=False\n",
    ")\n",
    "\n",
    "# Analyze results\n",
    "r2_scores = scores[\"test_r2\"]\n",
    "rmse_scores = (-scores[\"test_neg_mean_squared_error\"]) ** 0.5\n",
    "\n",
    "# Display\n",
    "print(\"\\n🧪 Ridge Regression Cross-Validation (Excluding Outliers):\")\n",
    "print(f\"Used {len(X_clean):,} data points for training after outlier exclusion.\\n\")\n",
    "print(\"Alpha\\tAvg R²\\t\\tStd R²\\t\\tAvg RMSE\\t\\tStd RMSE\")\n",
    "print(f\"{a:<6}\\t{np.mean(r2_scores):.4f}\\t\\t{np.std(r2_scores):.4f}\\t\\t{np.mean(rmse_scores):,.2f}\\t\\t{np.std(rmse_scores):,.2f}\")"
   ]
  },
  {
   "cell_type": "code",
   "execution_count": 737,
   "metadata": {},
   "outputs": [
    {
     "data": {
      "image/png": "[encoded data removed]",
      "text/plain": [
       "<Figure size 1000x600 with 1 Axes>"
      ]
     },
     "metadata": {},
     "output_type": "display_data"
    }
   ],
   "source": [
    "import matplotlib.pyplot as plt\n",
    "\n",
    "# Fit the model on cleaned data (if not already done)\n",
    "model_noOuts = Ridge(alpha=1.0)\n",
    "model_noOuts.fit(X_clean, y_clean)\n",
    "\n",
    "# Get coefficients into a DataFrame\n",
    "coef_df = pd.DataFrame({\n",
    "    \"Feature\": X_clean.columns,\n",
    "    \"Coefficient\": model_noOuts.coef_\n",
    "})\n",
    "\n",
    "# Separate experience band features\n",
    "band_features = [col for col in coef_df[\"Feature\"] if \"Experience Band_\" in col]\n",
    "non_band_df = coef_df[~coef_df[\"Feature\"].isin(band_features)].copy()\n",
    "band_df = coef_df[coef_df[\"Feature\"].isin(band_features)].copy()\n",
    "\n",
    "# Combine with non-band features on top (no sorting)\n",
    "coef_df_ordered = pd.concat([non_band_df, band_df], axis=0)\n",
    "\n",
    "# Color coding: orange for bands, blue for others\n",
    "colors = [\"orange\" if \"Experience Band_\" in feat else \"skyblue\" for feat in coef_df_ordered[\"Feature\"]]\n",
    "\n",
    "# Plot\n",
    "plt.figure(figsize=(10, 6))\n",
    "bars = plt.barh(coef_df_ordered[\"Feature\"], coef_df_ordered[\"Coefficient\"], color=colors)\n",
    "\n",
    "# Add coefficient values to bars\n",
    "for bar, coef in zip(bars, coef_df_ordered[\"Coefficient\"]):\n",
    "    width = bar.get_width()\n",
    "    text = f\"{coef:.3f}\"\n",
    "    xpos = width - 0.01 * max(abs(coef_df_ordered[\"Coefficient\"])) if width > 0 else width + 0.01 * max(abs(coef_df_ordered[\"Coefficient\"]))\n",
    "    align = \"right\" if width > 0 else \"left\"\n",
    "    plt.text(\n",
    "        xpos,\n",
    "        bar.get_y() + bar.get_height() / 2,\n",
    "        text,\n",
    "        va=\"center\",\n",
    "        ha=align,\n",
    "        color=\"black\",\n",
    "        fontweight=\"bold\"\n",
    "    )\n",
    "\n",
    "# Add vertical zero line\n",
    "plt.axvline(0, color=\"gray\", linewidth=1)\n",
    "\n",
    "# Draw separator between non-band and band features\n",
    "sep_index = len(non_band_df)\n",
    "plt.axhline(y=sep_index - 0.5, color=\"gray\", linestyle=\"--\", linewidth=1)\n",
    "\n",
    "# Title and axis labels\n",
    "plt.title(\"Ridge Model Coefficients\\n(Experience Bands Separated Below Line)\")\n",
    "plt.xlabel(\"Coefficient Value\")\n",
    "plt.tight_layout()\n",
    "plt.gca().invert_yaxis()\n",
    "plt.show()"
   ]
  },
  {
   "cell_type": "code",
   "execution_count": 738,
   "metadata": {},
   "outputs": [
    {
     "data": {
      "image/png": "[encoded data removed]",
      "text/plain": [
       "<Figure size 800x600 with 1 Axes>"
      ]
     },
     "metadata": {},
     "output_type": "display_data"
    }
   ],
   "source": [
    "# Predict using the clean model\n",
    "X_predict = df_encoded[model_noOuts.feature_names_in_]\n",
    "df[\"Prediction_from_clean_model\"] = model_noOuts.predict(X_predict)\n",
    "\n",
    "# Plot setup\n",
    "plt.figure(figsize=(8, 6))\n",
    "\n",
    "# Scatterplot: color = predicted outlier, shape = true outlier\n",
    "sns.scatterplot(\n",
    "    data=df,\n",
    "    x=\"Prediction_from_clean_model\",\n",
    "    y=\"25-26 Salary\",\n",
    "    hue=\"Outlier_Pred\",\n",
    "    style=\"Outlier_Flag\",\n",
    "    palette={True: \"red\", False: \"green\"},\n",
    "    markers={True: \"X\", False: \"o\"},\n",
    "    s=100\n",
    ")\n",
    "\n",
    "# Reference lines\n",
    "lims = [\n",
    "    min(df[\"25-26 Salary\"].min(), df[\"Prediction_from_clean_model\"].min()) * 0.95,\n",
    "    max(df[\"25-26 Salary\"].max(), df[\"Prediction_from_clean_model\"].max()) * 1.05,\n",
    "]\n",
    "\n",
    "x_vals = np.linspace(lims[0], lims[1], 100)\n",
    "plt.plot(x_vals, x_vals, \"--\", color=\"gray\", label=\"Perfect prediction\")\n",
    "plt.plot(x_vals, x_vals * 1.05, \"--\", color=\"blue\", alpha=0.4, label=\"+5% error\")\n",
    "plt.plot(x_vals, x_vals * 0.95, \"--\", color=\"blue\", alpha=0.4, label=\"-5% error\")\n",
    "\n",
    "# Labels and layout\n",
    "plt.title(\"Actual vs Predicted Salary (Clean Model)\\nWith ±5% Error Bands\")\n",
    "plt.xlabel(\"Predicted Salary\")\n",
    "plt.ylabel(\"Actual Salary\")\n",
    "plt.xlim(lims)\n",
    "plt.ylim(lims)\n",
    "plt.legend(title=\"Predicted Outlier\")\n",
    "plt.tight_layout()\n",
    "plt.show()"
   ]
  },
  {
   "cell_type": "code",
   "execution_count": 739,
   "metadata": {},
   "outputs": [
    {
     "data": {
      "application/vnd.plotly.v1+json": {
       "config": {
        "plotlyServerURL": "https://plot.ly"
       },
       "data": [
        {
         "customdata": [
          [
           "Joella, Katie ",
           3536,
           -551.828904194881,
           1.0586645644026493
          ],
          [
           "Dimond, Olivia D",
           3526,
           336.4035476648569,
           0.6205562583745746
          ],
          [
           "Pugh, Hannah E",
           3529,
           -1837.0718129455345,
           3.388806148211648
          ],
          [
           "Herndon, Natalie R",
           3516,
           -1195.6891715109305,
           2.1640257931893845
          ],
          [
           "Rosiere, Diana M",
           3439,
           -1812.7433549910202,
           3.210042951233412
          ],
          [
           "Porter, Laine M",
           3514,
           55.55752624532761,
           0.09689477527177022
          ],
          [
           "Wang, Zhuoqun ",
           3430,
           -1148.9075721409172,
           1.967981452793623
          ],
          [
           "Sasine, Corinne P",
           3197,
           1457.6957186309446,
           2.273599710875853
          ],
          [
           "Berg, Kyle R",
           3369,
           -2221.4438972494245,
           3.68178847992811
          ],
          [
           "Peters, Emily M",
           3384,
           -2863.9278881690116,
           4.658762872383466
          ],
          [
           "Swisher, Mark R",
           3456,
           -1905.4839619082923,
           3.0301570541127987
          ],
          [
           "Gulick, Kate T",
           3479,
           -1852.6352509878925,
           2.8479297346551875
          ],
          [
           "McVie, Geoffry ",
           2602,
           268.1416598789874,
           0.411190841850282
          ],
          [
           "Greenwald, Tess E",
           3371,
           -921.7292240536481,
           1.3959672018744291
          ],
          [
           "Jung, Jason R",
           2708,
           1428.5274888987333,
           2.1477094880757934
          ],
          [
           "McFall, Shannon M",
           3517,
           1129.4834845399018,
           1.666814462966371
          ],
          [
           "Garcia, Maria G",
           3545,
           707.365221674947,
           1.0438812060784601
          ],
          [
           "Harnar, Casey E",
           2755,
           -291.13372976277606,
           0.42738990555171985
          ],
          [
           "Bray, Amie M",
           3520,
           982.7682465562393,
           1.4283384151678502
          ],
          [
           "Ochoa, Melissa B",
           3057,
           534.9736811321054,
           0.7730274996490216
          ],
          [
           "Passin, Laura E",
           3248,
           1814.349578946465,
           2.606711749416642
          ],
          [
           "McGrath, Alexandra F",
           3532,
           1926.9371249520045,
           2.758757766796479
          ],
          [
           "Romano, Bridget M",
           2881,
           1305.2479280322004,
           1.8642936712213454
          ],
          [
           "Barocas, Anne ",
           3135,
           1868.834495454008,
           2.6605277329470667
          ],
          [
           "Callis, Carolyn P",
           3432,
           210.86422170310107,
           0.2992127789410144
          ],
          [
           "Wang, Xiaomeng ",
           3535,
           1254.28864391541,
           1.769344962498815
          ],
          [
           "Brown, Michelle C",
           3301,
           1661.9387826727761,
           2.295400442899847
          ],
          [
           "Courtney, Heather M",
           3437,
           -80.4331122735166,
           0.1196565193000842
          ],
          [
           "Valin, Josh N",
           3438,
           -517.8567499120254,
           0.7593652852249771
          ],
          [
           "McGown, Amber",
           2632,
           688.8260199294018,
           0.9950825880551288
          ],
          [
           "Ponce, Tomas M",
           3525,
           -1763.9035641482333,
           2.5253458426128637
          ],
          [
           "Tuck, Dane P",
           3434,
           1711.9514098929649,
           2.429230215675457
          ],
          [
           "Hollway, Margaret F",
           3302,
           -443.0998090130597,
           0.6183794696993367
          ],
          [
           "Goforth, Elizabeth A",
           3083,
           -157.87146705255145,
           0.22032163429286364
          ],
          [
           "Farrell, Julie",
           3287,
           2591.266680571309,
           3.5203122995439537
          ],
          [
           "Shipley, Kelly L",
           3247,
           497.85288892405515,
           0.64605038725692
          ],
          [
           "Tullar, Timothy R",
           3379,
           -67.43446716110338,
           0.1003997069366992
          ],
          [
           "Aragon, Shannon ",
           3131,
           -2101.310053038149,
           3.1112082514630575
          ],
          [
           "Valdez, Savannah G",
           3515,
           240.3990142231487,
           0.3441745135482028
          ],
          [
           "Summers, Amber ",
           2183,
           -1081.0847085796122,
           1.5181854942206914
          ],
          [
           "Sniegowski, Peter ",
           1574,
           -553.2740480013308,
           0.6841185646825071
          ],
          [
           "Beckham, Wallace A",
           1675,
           1758.7500640792714,
           1.9824273409597613
          ],
          [
           "McCall, Ines A",
           1237,
           -4.226740754966158,
           0.004688980447478598
          ],
          [
           "Easton, Terrance ",
           1438,
           1266.9434150971647,
           1.4019513279818132
          ],
          [
           "Hamilton, Darla J",
           1101,
           -2064.0383346957096,
           2.187848692186546
          ]
         ],
         "hovertemplate": "Outlier_Pred_Label=Normal<br>Outlier_True_Label=Not Outlier<br>Predicted Salary=%{x:,.0f}<br>Actual Salary=%{y:,.0f}<br>Employee=%{customdata[0]}<br>ID=%{customdata[1]}<br>Residual=%{customdata[2]:,.0f}<br>Residual % (abs)=%{customdata[3]:.1f}<extra></extra>",
         "legendgroup": "Normal, Not Outlier",
         "marker": {
          "color": "#636efa",
          "symbol": "circle"
         },
         "mode": "markers",
         "name": "Normal, Not Outlier",
         "orientation": "v",
         "showlegend": true,
         "type": "scatter",
         "x": [
          52676.82890419488,
          53873.59645233514,
          56047.071812945534,
          56448.68917151093,
          58283.74335499102,
          57282.44247375467,
          59528.90757214092,
          62656.304281369055,
          62557.443897249424,
          64337.92788816901,
          64789.48396190829,
          66904.63525098789,
          64942.85834012101,
          66949.72922405365,
          65085.47251110127,
          66633.5165154601,
          67055.63477832505,
          68410.13372976278,
          67822.23175344376,
          68670.0263188679,
          67788.65042105353,
          67921.062875048,
          68707.7520719678,
          68374.16550454599,
          70262.1357782969,
          69635.71135608459,
          70741.06121732722,
          67300.43311227352,
          68713.85674991203,
          68534.1739800706,
          71611.90356414823,
          68761.04859010704,
          72098.09980901306,
          71812.87146705255,
          71017.73331942869,
          76563.14711107594,
          67233.4344671611,
          69641.31005303815,
          69607.60098577685,
          72290.08470857961,
          81427.27404800133,
          86958.24993592073,
          90146.22674075497,
          89103.05658490284,
          96405.03833469571
         ],
         "xaxis": "x",
         "y": [
          52125,
          54210,
          54210,
          55253,
          56471,
          57338,
          58380,
          64114,
          60336,
          61474,
          62884,
          65052,
          65211,
          66028,
          66514,
          67763,
          67763,
          68119,
          68805,
          69205,
          69603,
          69848,
          70013,
          70243,
          70473,
          70890,
          72403,
          67220,
          68196,
          69223,
          69848,
          70473,
          71655,
          71655,
          73609,
          77061,
          67166,
          67540,
          69848,
          71209,
          80874,
          88717,
          90142,
          90370,
          94341
         ],
         "yaxis": "y"
        },
        {
         "customdata": [
          [
           "Baumgartner, Rachel C",
           3440,
           -3360.2037449804484,
           6.187992606129514
          ],
          [
           "Von Tscharner, Emma M",
           3161,
           -10423.880945175188,
           18.840154976097434
          ],
          [
           "Burton, Tiffany D",
           3336,
           -6537.7900996142125,
           10.396587525625298
          ],
          [
           "McHugh, John N",
           3285,
           10749.337702120596,
           14.07220823192506
          ],
          [
           "Fonseca, Ana J",
           2600,
           -8691.716516167624,
           13.0224687105472
          ],
          [
           "Garcia, Christina ",
           2565,
           -3084.9685663779237,
           4.5774442709072245
          ],
          [
           "LaRocque, Carol A",
           3191,
           12340.613830720307,
           15.224987762285247
          ],
          [
           "Hill, Bettye",
           3151,
           12297.410465030174,
           14.960171366565095
          ],
          [
           "Gentry, Phillip M",
           1092,
           14560.183688391335,
           15.265127265512712
          ],
          [
           "Rodgers, Andy ",
           1224,
           -4100.381624040208,
           5.179015098632372
          ]
         ],
         "hovertemplate": "Outlier_Pred_Label=Normal<br>Outlier_True_Label=Actual Outlier<br>Predicted Salary=%{x:,.0f}<br>Actual Salary=%{y:,.0f}<br>Employee=%{customdata[0]}<br>ID=%{customdata[1]}<br>Residual=%{customdata[2]:,.0f}<br>Residual % (abs)=%{customdata[3]:.1f}<extra></extra>",
         "legendgroup": "Normal, Actual Outlier",
         "marker": {
          "color": "#636efa",
          "symbol": "diamond"
         },
         "mode": "markers",
         "name": "Normal, Actual Outlier",
         "orientation": "v",
         "showlegend": true,
         "type": "scatter",
         "x": [
          57662.20374498045,
          65751.88094517519,
          69421.79009961421,
          65637.6622978794,
          75435.71651616762,
          70479.96856637792,
          68714.38616927969,
          69903.58953496983,
          80821.81631160867,
          83273.38162404021
         ],
         "xaxis": "x",
         "y": [
          54302,
          55328,
          62884,
          76387,
          66744,
          67395,
          81055,
          82201,
          95382,
          79173
         ],
         "yaxis": "y"
        },
        {
         "customdata": [
          [
           "Gordon, Heather A",
           3192,
           -322.18378670590755,
           0.45531265344738986
          ],
          [
           "Boss, Christine M",
           2945,
           -1454.8251143343514,
           2.0500022747676403
          ],
          [
           "Rehmer, Rosemary ",
           2956,
           31.684815247557708,
           0.044473661287347296
          ],
          [
           "Zinge, Kelley C",
           3380,
           970.4156507164007,
           1.3530614204076976
          ],
          [
           "Ferrill Roman, Bonnie M",
           3372,
           1445.917887675052,
           1.9540223085733908
          ],
          [
           "Riehl, Joe ",
           3014,
           -541.5981270158372,
           0.7099388200186625
          ],
          [
           "May, Julie ",
           1426,
           -811.6300174776698,
           1.0515794064388972
          ],
          [
           "Ferguson, Kristen A",
           1674,
           896.0363315279828,
           1.1219948805148732
          ],
          [
           "Pattison, Michael G",
           1590,
           -476.0566607040673,
           0.46720774599492354
          ]
         ],
         "hovertemplate": "Outlier_Pred_Label=Flagged<br>Outlier_True_Label=Not Outlier<br>Predicted Salary=%{x:,.0f}<br>Actual Salary=%{y:,.0f}<br>Employee=%{customdata[0]}<br>ID=%{customdata[1]}<br>Residual=%{customdata[2]:,.0f}<br>Residual % (abs)=%{customdata[3]:.1f}<extra></extra>",
         "legendgroup": "Flagged, Not Outlier",
         "marker": {
          "color": "#EF553B",
          "symbol": "circle"
         },
         "mode": "markers",
         "name": "Flagged, Not Outlier",
         "orientation": "v",
         "showlegend": true,
         "type": "scatter",
         "x": [
          71083.18378670591,
          72421.82511433435,
          71212.31518475244,
          70749.5843492836,
          72551.08211232495,
          76829.59812701584,
          77993.63001747767,
          78964.96366847202,
          102370.05666070407
         ],
         "xaxis": "x",
         "y": [
          70761,
          70967,
          71244,
          71720,
          73997,
          76288,
          77182,
          79861,
          101894
         ],
         "yaxis": "y"
        },
        {
         "customdata": [
          [
           "Turnbull, Jennie ",
           3033,
           -9707.216350222734,
           16.89298566072557
          ],
          [
           "Lantagne, Michael K",
           3196,
           -4578.098578637175,
           7.117911904345867
          ],
          [
           "Herman, Bonnie J",
           3453,
           -6101.965237831639,
           9.077603745658493
          ],
          [
           "Kirchner, Rachel Y",
           3534,
           5544.4125877208135,
           7.187001863660397
          ],
          [
           "Jewett, Jeffrey T",
           3252,
           6906.011878350124,
           8.889304635598506
          ],
          [
           "Johnson, Marie F",
           3108,
           15302.257798565013,
           16.994011659242616
          ],
          [
           "Hon, Rebecca M",
           3245,
           -13507.167019898407,
           20.697784244163113
          ],
          [
           "Irwin, Michelle D",
           2944,
           -5066.364571616505,
           6.710061151219147
          ],
          [
           "Barton, Sarah F",
           3303,
           11581.00542644663,
           13.146787860650052
          ],
          [
           "Evans, Anne E",
           2599,
           11199.541516643265,
           12.419372260022694
          ],
          [
           "Otto, Theresa J",
           3195,
           -10834.497869088445,
           13.649245217929963
          ]
         ],
         "hovertemplate": "Outlier_Pred_Label=Flagged<br>Outlier_True_Label=Actual Outlier<br>Predicted Salary=%{x:,.0f}<br>Actual Salary=%{y:,.0f}<br>Employee=%{customdata[0]}<br>ID=%{customdata[1]}<br>Residual=%{customdata[2]:,.0f}<br>Residual % (abs)=%{customdata[3]:.1f}<extra></extra>",
         "legendgroup": "Flagged, Actual Outlier",
         "marker": {
          "color": "#EF553B",
          "symbol": "diamond"
         },
         "mode": "markers",
         "name": "Flagged, Actual Outlier",
         "orientation": "v",
         "showlegend": true,
         "type": "scatter",
         "x": [
          67170.21635022273,
          68896.09857863717,
          73321.96523783164,
          71600.58741227919,
          70782.98812164988,
          74742.74220143499,
          78766.1670198984,
          80570.3645716165,
          76508.99457355337,
          78978.45848335674,
          90212.49786908845
         ],
         "xaxis": "x",
         "y": [
          57463,
          64318,
          67220,
          77145,
          77689,
          90045,
          65259,
          75504,
          88090,
          90178,
          79378
         ],
         "yaxis": "y"
        },
        {
         "line": {
          "color": "gray",
          "dash": "dash"
         },
         "mode": "lines",
         "name": "Perfect Prediction",
         "type": "scatter",
         "x": [
          49518.75,
          50104.30363124989,
          50689.85726249978,
          51275.41089374968,
          51860.96452499957,
          52446.518156249454,
          53032.07178749935,
          53617.625418749245,
          54203.17904999913,
          54788.73268124902,
          55374.286312498916,
          55959.83994374881,
          56545.3935749987,
          57130.94720624859,
          57716.50083749848,
          58302.05446874838,
          58887.608099998266,
          59473.161731248154,
          60058.71536249805,
          60644.268993747944,
          61229.82262499783,
          61815.37625624772,
          62400.929887497616,
          62986.48351874751,
          63572.0371499974,
          64157.59078124729,
          64743.14441249718,
          65328.69804374708,
          65914.25167499697,
          66499.80530624685,
          67085.35893749676,
          67670.91256874664,
          68256.46619999653,
          68842.01983124642,
          69427.57346249631,
          70013.12709374621,
          70598.6807249961,
          71184.23435624599,
          71769.78798749589,
          72355.34161874578,
          72940.89524999566,
          73526.44888124555,
          74112.00251249544,
          74697.55614374534,
          75283.10977499523,
          75868.66340624512,
          76454.21703749502,
          77039.77066874491,
          77625.3242999948,
          78210.87793124469,
          78796.43156249457,
          79381.98519374448,
          79967.53882499436,
          80553.09245624425,
          81138.64608749415,
          81724.19971874404,
          82309.75334999393,
          82895.30698124382,
          83480.8606124937,
          84066.41424374361,
          84651.9678749935,
          85237.52150624339,
          85823.07513749329,
          86408.62876874318,
          86994.18239999306,
          87579.73603124295,
          88165.28966249284,
          88750.84329374274,
          89336.39692499263,
          89921.95055624252,
          90507.50418749242,
          91093.05781874231,
          91678.6114499922,
          92264.16508124208,
          92849.71871249197,
          93435.27234374188,
          94020.82597499176,
          94606.37960624165,
          95191.93323749155,
          95777.48686874144,
          96363.04049999133,
          96948.59413124122,
          97534.1477624911,
          98119.70139374101,
          98705.2550249909,
          99290.80865624078,
          99876.36228749069,
          100461.91591874057,
          101047.46954999046,
          101633.02318124035,
          102218.57681249024,
          102804.13044374014,
          103389.68407499003,
          103975.23770623992,
          104560.79133748982,
          105146.34496873971,
          105731.8985999896,
          106317.45223123948,
          106903.00586248937,
          107488.55949373927
         ],
         "y": [
          49518.75,
          50104.30363124989,
          50689.85726249978,
          51275.41089374968,
          51860.96452499957,
          52446.518156249454,
          53032.07178749935,
          53617.625418749245,
          54203.17904999913,
          54788.73268124902,
          55374.286312498916,
          55959.83994374881,
          56545.3935749987,
          57130.94720624859,
          57716.50083749848,
          58302.05446874838,
          58887.608099998266,
          59473.161731248154,
          60058.71536249805,
          60644.268993747944,
          61229.82262499783,
          61815.37625624772,
          62400.929887497616,
          62986.48351874751,
          63572.0371499974,
          64157.59078124729,
          64743.14441249718,
          65328.69804374708,
          65914.25167499697,
          66499.80530624685,
          67085.35893749676,
          67670.91256874664,
          68256.46619999653,
          68842.01983124642,
          69427.57346249631,
          70013.12709374621,
          70598.6807249961,
          71184.23435624599,
          71769.78798749589,
          72355.34161874578,
          72940.89524999566,
          73526.44888124555,
          74112.00251249544,
          74697.55614374534,
          75283.10977499523,
          75868.66340624512,
          76454.21703749502,
          77039.77066874491,
          77625.3242999948,
          78210.87793124469,
          78796.43156249457,
          79381.98519374448,
          79967.53882499436,
          80553.09245624425,
          81138.64608749415,
          81724.19971874404,
          82309.75334999393,
          82895.30698124382,
          83480.8606124937,
          84066.41424374361,
          84651.9678749935,
          85237.52150624339,
          85823.07513749329,
          86408.62876874318,
          86994.18239999306,
          87579.73603124295,
          88165.28966249284,
          88750.84329374274,
          89336.39692499263,
          89921.95055624252,
          90507.50418749242,
          91093.05781874231,
          91678.6114499922,
          92264.16508124208,
          92849.71871249197,
          93435.27234374188,
          94020.82597499176,
          94606.37960624165,
          95191.93323749155,
          95777.48686874144,
          96363.04049999133,
          96948.59413124122,
          97534.1477624911,
          98119.70139374101,
          98705.2550249909,
          99290.80865624078,
          99876.36228749069,
          100461.91591874057,
          101047.46954999046,
          101633.02318124035,
          102218.57681249024,
          102804.13044374014,
          103389.68407499003,
          103975.23770623992,
          104560.79133748982,
          105146.34496873971,
          105731.8985999896,
          106317.45223123948,
          106903.00586248937,
          107488.55949373927
         ]
        },
        {
         "line": {
          "color": "blue",
          "dash": "dot"
         },
         "mode": "lines",
         "name": "+5% Error",
         "type": "scatter",
         "x": [
          49518.75,
          50104.30363124989,
          50689.85726249978,
          51275.41089374968,
          51860.96452499957,
          52446.518156249454,
          53032.07178749935,
          53617.625418749245,
          54203.17904999913,
          54788.73268124902,
          55374.286312498916,
          55959.83994374881,
          56545.3935749987,
          57130.94720624859,
          57716.50083749848,
          58302.05446874838,
          58887.608099998266,
          59473.161731248154,
          60058.71536249805,
          60644.268993747944,
          61229.82262499783,
          61815.37625624772,
          62400.929887497616,
          62986.48351874751,
          63572.0371499974,
          64157.59078124729,
          64743.14441249718,
          65328.69804374708,
          65914.25167499697,
          66499.80530624685,
          67085.35893749676,
          67670.91256874664,
          68256.46619999653,
          68842.01983124642,
          69427.57346249631,
          70013.12709374621,
          70598.6807249961,
          71184.23435624599,
          71769.78798749589,
          72355.34161874578,
          72940.89524999566,
          73526.44888124555,
          74112.00251249544,
          74697.55614374534,
          75283.10977499523,
          75868.66340624512,
          76454.21703749502,
          77039.77066874491,
          77625.3242999948,
          78210.87793124469,
          78796.43156249457,
          79381.98519374448,
          79967.53882499436,
          80553.09245624425,
          81138.64608749415,
          81724.19971874404,
          82309.75334999393,
          82895.30698124382,
          83480.8606124937,
          84066.41424374361,
          84651.9678749935,
          85237.52150624339,
          85823.07513749329,
          86408.62876874318,
          86994.18239999306,
          87579.73603124295,
          88165.28966249284,
          88750.84329374274,
          89336.39692499263,
          89921.95055624252,
          90507.50418749242,
          91093.05781874231,
          91678.6114499922,
          92264.16508124208,
          92849.71871249197,
          93435.27234374188,
          94020.82597499176,
          94606.37960624165,
          95191.93323749155,
          95777.48686874144,
          96363.04049999133,
          96948.59413124122,
          97534.1477624911,
          98119.70139374101,
          98705.2550249909,
          99290.80865624078,
          99876.36228749069,
          100461.91591874057,
          101047.46954999046,
          101633.02318124035,
          102218.57681249024,
          102804.13044374014,
          103389.68407499003,
          103975.23770623992,
          104560.79133748982,
          105146.34496873971,
          105731.8985999896,
          106317.45223123948,
          106903.00586248937,
          107488.55949373927
         ],
         "y": [
          51994.6875,
          52609.518812812385,
          53224.35012562478,
          53839.18143843717,
          54454.012751249546,
          55068.84406406193,
          55683.67537687432,
          56298.50668968671,
          56913.33800249909,
          57528.169315311476,
          58143.00062812387,
          58757.83194093625,
          59372.66325374864,
          59987.49456656102,
          60602.32587937341,
          61217.1571921858,
          61831.98850499818,
          62446.81981781057,
          63061.65113062295,
          63676.48244343534,
          64291.31375624773,
          64906.14506906011,
          65520.9763818725,
          66135.80769468489,
          66750.63900749727,
          67365.47032030966,
          67980.30163312204,
          68595.13294593443,
          69209.96425874681,
          69824.7955715592,
          70439.6268843716,
          71054.45819718398,
          71669.28950999636,
          72284.12082280875,
          72898.95213562113,
          73513.78344843352,
          74128.6147612459,
          74743.44607405829,
          75358.27738687069,
          75973.10869968307,
          76587.94001249546,
          77202.77132530784,
          77817.60263812021,
          78432.43395093261,
          79047.265263745,
          79662.09657655738,
          80276.92788936978,
          80891.75920218216,
          81506.59051499455,
          82121.42182780692,
          82736.2531406193,
          83351.0844534317,
          83965.91576624408,
          84580.74707905647,
          85195.57839186887,
          85810.40970468125,
          86425.24101749364,
          87040.07233030601,
          87654.90364311839,
          88269.73495593079,
          88884.56626874318,
          89499.39758155556,
          90114.22889436796,
          90729.06020718034,
          91343.89151999271,
          91958.7228328051,
          92573.55414561748,
          93188.38545842988,
          93803.21677124227,
          94418.04808405465,
          95032.87939686705,
          95647.71070967944,
          96262.5420224918,
          96877.37333530419,
          97492.20464811657,
          98107.03596092897,
          98721.86727374136,
          99336.69858655374,
          99951.52989936614,
          100566.36121217851,
          101181.1925249909,
          101796.02383780328,
          102410.85515061567,
          103025.68646342806,
          103640.51777624045,
          104255.34908905283,
          104870.18040186523,
          105485.0117146776,
          106099.84302748999,
          106714.67434030237,
          107329.50565311476,
          107944.33696592716,
          108559.16827873954,
          109173.99959155192,
          109788.83090436431,
          110403.6622171767,
          111018.49352998908,
          111633.32484280146,
          112248.15615561385,
          112862.98746842625
         ]
        },
        {
         "line": {
          "color": "blue",
          "dash": "dot"
         },
         "mode": "lines",
         "name": "-5% Error",
         "type": "scatter",
         "x": [
          49518.75,
          50104.30363124989,
          50689.85726249978,
          51275.41089374968,
          51860.96452499957,
          52446.518156249454,
          53032.07178749935,
          53617.625418749245,
          54203.17904999913,
          54788.73268124902,
          55374.286312498916,
          55959.83994374881,
          56545.3935749987,
          57130.94720624859,
          57716.50083749848,
          58302.05446874838,
          58887.608099998266,
          59473.161731248154,
          60058.71536249805,
          60644.268993747944,
          61229.82262499783,
          61815.37625624772,
          62400.929887497616,
          62986.48351874751,
          63572.0371499974,
          64157.59078124729,
          64743.14441249718,
          65328.69804374708,
          65914.25167499697,
          66499.80530624685,
          67085.35893749676,
          67670.91256874664,
          68256.46619999653,
          68842.01983124642,
          69427.57346249631,
          70013.12709374621,
          70598.6807249961,
          71184.23435624599,
          71769.78798749589,
          72355.34161874578,
          72940.89524999566,
          73526.44888124555,
          74112.00251249544,
          74697.55614374534,
          75283.10977499523,
          75868.66340624512,
          76454.21703749502,
          77039.77066874491,
          77625.3242999948,
          78210.87793124469,
          78796.43156249457,
          79381.98519374448,
          79967.53882499436,
          80553.09245624425,
          81138.64608749415,
          81724.19971874404,
          82309.75334999393,
          82895.30698124382,
          83480.8606124937,
          84066.41424374361,
          84651.9678749935,
          85237.52150624339,
          85823.07513749329,
          86408.62876874318,
          86994.18239999306,
          87579.73603124295,
          88165.28966249284,
          88750.84329374274,
          89336.39692499263,
          89921.95055624252,
          90507.50418749242,
          91093.05781874231,
          91678.6114499922,
          92264.16508124208,
          92849.71871249197,
          93435.27234374188,
          94020.82597499176,
          94606.37960624165,
          95191.93323749155,
          95777.48686874144,
          96363.04049999133,
          96948.59413124122,
          97534.1477624911,
          98119.70139374101,
          98705.2550249909,
          99290.80865624078,
          99876.36228749069,
          100461.91591874057,
          101047.46954999046,
          101633.02318124035,
          102218.57681249024,
          102804.13044374014,
          103389.68407499003,
          103975.23770623992,
          104560.79133748982,
          105146.34496873971,
          105731.8985999896,
          106317.45223123948,
          106903.00586248937,
          107488.55949373927
         ],
         "y": [
          47042.8125,
          47599.08844968739,
          48155.36439937479,
          48711.64034906219,
          49267.91629874959,
          49824.19224843698,
          50380.46819812438,
          50936.74414781178,
          51493.020097499175,
          52049.296047186566,
          52605.571996873965,
          53161.84794656137,
          53718.12389624876,
          54274.399845936154,
          54830.67579562355,
          55386.95174531096,
          55943.22769499835,
          56499.50364468574,
          57055.77959437315,
          57612.055544060546,
          58168.33149374794,
          58724.60744343533,
          59280.883393122735,
          59837.15934281013,
          60393.435292497525,
          60949.71124218492,
          61505.98719187232,
          62062.26314155972,
          62618.53909124711,
          63174.81504093451,
          63731.09099062192,
          64287.36694030931,
          64843.6428899967,
          65399.9188396841,
          65956.19478937148,
          66512.4707390589,
          67068.7466887463,
          67625.02263843369,
          68181.29858812109,
          68737.57453780848,
          69293.85048749587,
          69850.12643718327,
          70406.40238687067,
          70962.67833655808,
          71518.95428624547,
          72075.23023593286,
          72631.50618562027,
          73187.78213530766,
          73744.05808499505,
          74300.33403468246,
          74856.60998436985,
          75412.88593405725,
          75969.16188374464,
          76525.43783343204,
          77081.71378311944,
          77637.98973280683,
          78194.26568249422,
          78750.54163218163,
          79306.81758186902,
          79863.09353155643,
          80419.36948124382,
          80975.64543093121,
          81531.92138061862,
          82088.19733030601,
          82644.47327999341,
          83200.7492296808,
          83757.0251793682,
          84313.3011290556,
          84869.577078743,
          85425.85302843039,
          85982.12897811779,
          86538.40492780518,
          87094.68087749259,
          87650.95682717998,
          88207.23277686737,
          88763.50872655478,
          89319.78467624217,
          89876.06062592956,
          90432.33657561697,
          90988.61252530437,
          91544.88847499176,
          92101.16442467915,
          92657.44037436655,
          93213.71632405395,
          93769.99227374134,
          94326.26822342873,
          94882.54417311614,
          95438.82012280355,
          95995.09607249094,
          96551.37202217833,
          97107.64797186572,
          97663.92392155313,
          98220.19987124052,
          98776.47582092791,
          99332.75177061533,
          99889.02772030272,
          100445.30366999011,
          101001.5796196775,
          101557.8555693649,
          102114.1315190523
         ]
        }
       ],
       "layout": {
        "height": 600,
        "legend": {
         "title": {
          "text": "Predicted Outlier"
         },
         "tracegroupgap": 0
        },
        "template": {
         "data": {
          "bar": [
           {
            "error_x": {
             "color": "#2a3f5f"
            },
            "error_y": {
             "color": "#2a3f5f"
            },
            "marker": {
             "line": {
              "color": "#E5ECF6",
              "width": 0.5
             },
             "pattern": {
              "fillmode": "overlay",
              "size": 10,
              "solidity": 0.2
             }
            },
            "type": "bar"
           }
          ],
          "barpolar": [
           {
            "marker": {
             "line": {
              "color": "#E5ECF6",
              "width": 0.5
             },
             "pattern": {
              "fillmode": "overlay",
              "size": 10,
              "solidity": 0.2
             }
            },
            "type": "barpolar"
           }
          ],
          "carpet": [
           {
            "aaxis": {
             "endlinecolor": "#2a3f5f",
             "gridcolor": "white",
             "linecolor": "white",
             "minorgridcolor": "white",
             "startlinecolor": "#2a3f5f"
            },
            "baxis": {
             "endlinecolor": "#2a3f5f",
             "gridcolor": "white",
             "linecolor": "white",
             "minorgridcolor": "white",
             "startlinecolor": "#2a3f5f"
            },
            "type": "carpet"
           }
          ],
          "choropleth": [
           {
            "colorbar": {
             "outlinewidth": 0,
             "ticks": ""
            },
            "type": "choropleth"
           }
          ],
          "contour": [
           {
            "colorbar": {
             "outlinewidth": 0,
             "ticks": ""
            },
            "colorscale": [
             [
              0,
              "#0d0887"
             ],
             [
              0.1111111111111111,
              "#46039f"
             ],
             [
              0.2222222222222222,
              "#7201a8"
             ],
             [
              0.3333333333333333,
              "#9c179e"
             ],
             [
              0.4444444444444444,
              "#bd3786"
             ],
             [
              0.5555555555555556,
              "#d8576b"
             ],
             [
              0.6666666666666666,
              "#ed7953"
             ],
             [
              0.7777777777777778,
              "#fb9f3a"
             ],
             [
              0.8888888888888888,
              "#fdca26"
             ],
             [
              1,
              "#f0f921"
             ]
            ],
            "type": "contour"
           }
          ],
          "contourcarpet": [
           {
            "colorbar": {
             "outlinewidth": 0,
             "ticks": ""
            },
            "type": "contourcarpet"
           }
          ],
          "heatmap": [
           {
            "colorbar": {
             "outlinewidth": 0,
             "ticks": ""
            },
            "colorscale": [
             [
              0,
              "#0d0887"
             ],
             [
              0.1111111111111111,
              "#46039f"
             ],
             [
              0.2222222222222222,
              "#7201a8"
             ],
             [
              0.3333333333333333,
              "#9c179e"
             ],
             [
              0.4444444444444444,
              "#bd3786"
             ],
             [
              0.5555555555555556,
              "#d8576b"
             ],
             [
              0.6666666666666666,
              "#ed7953"
             ],
             [
              0.7777777777777778,
              "#fb9f3a"
             ],
             [
              0.8888888888888888,
              "#fdca26"
             ],
             [
              1,
              "#f0f921"
             ]
            ],
            "type": "heatmap"
           }
          ],
          "heatmapgl": [
           {
            "colorbar": {
             "outlinewidth": 0,
             "ticks": ""
            },
            "colorscale": [
             [
              0,
              "#0d0887"
             ],
             [
              0.1111111111111111,
              "#46039f"
             ],
             [
              0.2222222222222222,
              "#7201a8"
             ],
             [
              0.3333333333333333,
              "#9c179e"
             ],
             [
              0.4444444444444444,
              "#bd3786"
             ],
             [
              0.5555555555555556,
              "#d8576b"
             ],
             [
              0.6666666666666666,
              "#ed7953"
             ],
             [
              0.7777777777777778,
              "#fb9f3a"
             ],
             [
              0.8888888888888888,
              "#fdca26"
             ],
             [
              1,
              "#f0f921"
             ]
            ],
            "type": "heatmapgl"
           }
          ],
          "histogram": [
           {
            "marker": {
             "pattern": {
              "fillmode": "overlay",
              "size": 10,
              "solidity": 0.2
             }
            },
            "type": "histogram"
           }
          ],
          "histogram2d": [
           {
            "colorbar": {
             "outlinewidth": 0,
             "ticks": ""
            },
            "colorscale": [
             [
              0,
              "#0d0887"
             ],
             [
              0.1111111111111111,
              "#46039f"
             ],
             [
              0.2222222222222222,
              "#7201a8"
             ],
             [
              0.3333333333333333,
              "#9c179e"
             ],
             [
              0.4444444444444444,
              "#bd3786"
             ],
             [
              0.5555555555555556,
              "#d8576b"
             ],
             [
              0.6666666666666666,
              "#ed7953"
             ],
             [
              0.7777777777777778,
              "#fb9f3a"
             ],
             [
              0.8888888888888888,
              "#fdca26"
             ],
             [
              1,
              "#f0f921"
             ]
            ],
            "type": "histogram2d"
           }
          ],
          "histogram2dcontour": [
           {
            "colorbar": {
             "outlinewidth": 0,
             "ticks": ""
            },
            "colorscale": [
             [
              0,
              "#0d0887"
             ],
             [
              0.1111111111111111,
              "#46039f"
             ],
             [
              0.2222222222222222,
              "#7201a8"
             ],
             [
              0.3333333333333333,
              "#9c179e"
             ],
             [
              0.4444444444444444,
              "#bd3786"
             ],
             [
              0.5555555555555556,
              "#d8576b"
             ],
             [
              0.6666666666666666,
              "#ed7953"
             ],
             [
              0.7777777777777778,
              "#fb9f3a"
             ],
             [
              0.8888888888888888,
              "#fdca26"
             ],
             [
              1,
              "#f0f921"
             ]
            ],
            "type": "histogram2dcontour"
           }
          ],
          "mesh3d": [
           {
            "colorbar": {
             "outlinewidth": 0,
             "ticks": ""
            },
            "type": "mesh3d"
           }
          ],
          "parcoords": [
           {
            "line": {
             "colorbar": {
              "outlinewidth": 0,
              "ticks": ""
             }
            },
            "type": "parcoords"
           }
          ],
          "pie": [
           {
            "automargin": true,
            "type": "pie"
           }
          ],
          "scatter": [
           {
            "fillpattern": {
             "fillmode": "overlay",
             "size": 10,
             "solidity": 0.2
            },
            "type": "scatter"
           }
          ],
          "scatter3d": [
           {
            "line": {
             "colorbar": {
              "outlinewidth": 0,
              "ticks": ""
             }
            },
            "marker": {
             "colorbar": {
              "outlinewidth": 0,
              "ticks": ""
             }
            },
            "type": "scatter3d"
           }
          ],
          "scattercarpet": [
           {
            "marker": {
             "colorbar": {
              "outlinewidth": 0,
              "ticks": ""
             }
            },
            "type": "scattercarpet"
           }
          ],
          "scattergeo": [
           {
            "marker": {
             "colorbar": {
              "outlinewidth": 0,
              "ticks": ""
             }
            },
            "type": "scattergeo"
           }
          ],
          "scattergl": [
           {
            "marker": {
             "colorbar": {
              "outlinewidth": 0,
              "ticks": ""
             }
            },
            "type": "scattergl"
           }
          ],
          "scattermapbox": [
           {
            "marker": {
             "colorbar": {
              "outlinewidth": 0,
              "ticks": ""
             }
            },
            "type": "scattermapbox"
           }
          ],
          "scatterpolar": [
           {
            "marker": {
             "colorbar": {
              "outlinewidth": 0,
              "ticks": ""
             }
            },
            "type": "scatterpolar"
           }
          ],
          "scatterpolargl": [
           {
            "marker": {
             "colorbar": {
              "outlinewidth": 0,
              "ticks": ""
             }
            },
            "type": "scatterpolargl"
           }
          ],
          "scatterternary": [
           {
            "marker": {
             "colorbar": {
              "outlinewidth": 0,
              "ticks": ""
             }
            },
            "type": "scatterternary"
           }
          ],
          "surface": [
           {
            "colorbar": {
             "outlinewidth": 0,
             "ticks": ""
            },
            "colorscale": [
             [
              0,
              "#0d0887"
             ],
             [
              0.1111111111111111,
              "#46039f"
             ],
             [
              0.2222222222222222,
              "#7201a8"
             ],
             [
              0.3333333333333333,
              "#9c179e"
             ],
             [
              0.4444444444444444,
              "#bd3786"
             ],
             [
              0.5555555555555556,
              "#d8576b"
             ],
             [
              0.6666666666666666,
              "#ed7953"
             ],
             [
              0.7777777777777778,
              "#fb9f3a"
             ],
             [
              0.8888888888888888,
              "#fdca26"
             ],
             [
              1,
              "#f0f921"
             ]
            ],
            "type": "surface"
           }
          ],
          "table": [
           {
            "cells": {
             "fill": {
              "color": "#EBF0F8"
             },
             "line": {
              "color": "white"
             }
            },
            "header": {
             "fill": {
              "color": "#C8D4E3"
             },
             "line": {
              "color": "white"
             }
            },
            "type": "table"
           }
          ]
         },
         "layout": {
          "annotationdefaults": {
           "arrowcolor": "#2a3f5f",
           "arrowhead": 0,
           "arrowwidth": 1
          },
          "autotypenumbers": "strict",
          "coloraxis": {
           "colorbar": {
            "outlinewidth": 0,
            "ticks": ""
           }
          },
          "colorscale": {
           "diverging": [
            [
             0,
             "#8e0152"
            ],
            [
             0.1,
             "#c51b7d"
            ],
            [
             0.2,
             "#de77ae"
            ],
            [
             0.3,
             "#f1b6da"
            ],
            [
             0.4,
             "#fde0ef"
            ],
            [
             0.5,
             "#f7f7f7"
            ],
            [
             0.6,
             "#e6f5d0"
            ],
            [
             0.7,
             "#b8e186"
            ],
            [
             0.8,
             "#7fbc41"
            ],
            [
             0.9,
             "#4d9221"
            ],
            [
             1,
             "#276419"
            ]
           ],
           "sequential": [
            [
             0,
             "#0d0887"
            ],
            [
             0.1111111111111111,
             "#46039f"
            ],
            [
             0.2222222222222222,
             "#7201a8"
            ],
            [
             0.3333333333333333,
             "#9c179e"
            ],
            [
             0.4444444444444444,
             "#bd3786"
            ],
            [
             0.5555555555555556,
             "#d8576b"
            ],
            [
             0.6666666666666666,
             "#ed7953"
            ],
            [
             0.7777777777777778,
             "#fb9f3a"
            ],
            [
             0.8888888888888888,
             "#fdca26"
            ],
            [
             1,
             "#f0f921"
            ]
           ],
           "sequentialminus": [
            [
             0,
             "#0d0887"
            ],
            [
             0.1111111111111111,
             "#46039f"
            ],
            [
             0.2222222222222222,
             "#7201a8"
            ],
            [
             0.3333333333333333,
             "#9c179e"
            ],
            [
             0.4444444444444444,
             "#bd3786"
            ],
            [
             0.5555555555555556,
             "#d8576b"
            ],
            [
             0.6666666666666666,
             "#ed7953"
            ],
            [
             0.7777777777777778,
             "#fb9f3a"
            ],
            [
             0.8888888888888888,
             "#fdca26"
            ],
            [
             1,
             "#f0f921"
            ]
           ]
          },
          "colorway": [
           "#636efa",
           "#EF553B",
           "#00cc96",
           "#ab63fa",
           "#FFA15A",
           "#19d3f3",
           "#FF6692",
           "#B6E880",
           "#FF97FF",
           "#FECB52"
          ],
          "font": {
           "color": "#2a3f5f"
          },
          "geo": {
           "bgcolor": "white",
           "lakecolor": "white",
           "landcolor": "#E5ECF6",
           "showlakes": true,
           "showland": true,
           "subunitcolor": "white"
          },
          "hoverlabel": {
           "align": "left"
          },
          "hovermode": "closest",
          "mapbox": {
           "style": "light"
          },
          "paper_bgcolor": "white",
          "plot_bgcolor": "#E5ECF6",
          "polar": {
           "angularaxis": {
            "gridcolor": "white",
            "linecolor": "white",
            "ticks": ""
           },
           "bgcolor": "#E5ECF6",
           "radialaxis": {
            "gridcolor": "white",
            "linecolor": "white",
            "ticks": ""
           }
          },
          "scene": {
           "xaxis": {
            "backgroundcolor": "#E5ECF6",
            "gridcolor": "white",
            "gridwidth": 2,
            "linecolor": "white",
            "showbackground": true,
            "ticks": "",
            "zerolinecolor": "white"
           },
           "yaxis": {
            "backgroundcolor": "#E5ECF6",
            "gridcolor": "white",
            "gridwidth": 2,
            "linecolor": "white",
            "showbackground": true,
            "ticks": "",
            "zerolinecolor": "white"
           },
           "zaxis": {
            "backgroundcolor": "#E5ECF6",
            "gridcolor": "white",
            "gridwidth": 2,
            "linecolor": "white",
            "showbackground": true,
            "ticks": "",
            "zerolinecolor": "white"
           }
          },
          "shapedefaults": {
           "line": {
            "color": "#2a3f5f"
           }
          },
          "ternary": {
           "aaxis": {
            "gridcolor": "white",
            "linecolor": "white",
            "ticks": ""
           },
           "baxis": {
            "gridcolor": "white",
            "linecolor": "white",
            "ticks": ""
           },
           "bgcolor": "#E5ECF6",
           "caxis": {
            "gridcolor": "white",
            "linecolor": "white",
            "ticks": ""
           }
          },
          "title": {
           "x": 0.05
          },
          "xaxis": {
           "automargin": true,
           "gridcolor": "white",
           "linecolor": "white",
           "ticks": "",
           "title": {
            "standoff": 15
           },
           "zerolinecolor": "white",
           "zerolinewidth": 2
          },
          "yaxis": {
           "automargin": true,
           "gridcolor": "white",
           "linecolor": "white",
           "ticks": "",
           "title": {
            "standoff": 15
           },
           "zerolinecolor": "white",
           "zerolinewidth": 2
          }
         }
        },
        "title": {
         "text": "Interactive Prediction vs Actual Salary"
        },
        "width": 900,
        "xaxis": {
         "anchor": "y",
         "domain": [
          0,
          1
         ],
         "title": {
          "text": "Predicted Salary"
         }
        },
        "yaxis": {
         "anchor": "x",
         "domain": [
          0,
          1
         ],
         "title": {
          "text": "Actual Salary"
         }
        }
       }
      }
     },
     "metadata": {},
     "output_type": "display_data"
    }
   ],
   "source": [
    "# Calculate residual info (if not already done)\n",
    "df[\"Residual\"] = df[\"25-26 Salary\"] - df[\"Prediction_from_clean_model\"]\n",
    "df[\"Residual %\"] = df[\"Residual\"] / df[\"25-26 Salary\"]\n",
    "df[\"Residual % (abs)\"] = df[\"Residual %\"].abs() * 100  # for display\n",
    "df[\"Outlier_Pred_Label\"] = df[\"Outlier_Pred\"].map({True: \"Flagged\", False: \"Normal\"})\n",
    "df[\"Outlier_True_Label\"] = df[\"Outlier_Flag\"].map({True: \"Actual Outlier\", False: \"Not Outlier\"})\n",
    "\n",
    "# Optional: dummy label for anonymity\n",
    "df[\"Label\"] = df.index.astype(str)\n",
    "\n",
    "# Base plot\n",
    "fig = px.scatter(\n",
    "    df,\n",
    "    x=\"Prediction_from_clean_model\",\n",
    "    y=\"25-26 Salary\",\n",
    "    color=\"Outlier_Pred_Label\",\n",
    "    symbol=\"Outlier_True_Label\",\n",
    "    hover_data={\n",
    "        \"Employee\": True,\n",
    "        \"ID\": True,\n",
    "        \"25-26 Salary\": \":,.0f\",\n",
    "        \"Prediction_from_clean_model\": \":,.0f\",\n",
    "        \"Residual\": \":,.0f\",\n",
    "        \"Residual % (abs)\": \":.1f\"\n",
    "    },\n",
    "    labels={\n",
    "        \"Prediction_from_clean_model\": \"Predicted Salary\",\n",
    "        \"25-26 Salary\": \"Actual Salary\"\n",
    "    },\n",
    "    title=\"Interactive Prediction vs Actual Salary\"\n",
    ")\n",
    "\n",
    "# Add ±5% error lines\n",
    "lims = [\n",
    "    min(df[\"25-26 Salary\"].min(), df[\"Prediction_from_clean_model\"].min()) * 0.95,\n",
    "    max(df[\"25-26 Salary\"].max(), df[\"Prediction_from_clean_model\"].max()) * 1.05,\n",
    "]\n",
    "x_vals = np.linspace(lims[0], lims[1], 100)\n",
    "\n",
    "fig.add_scatter(\n",
    "    x=x_vals, y=x_vals,\n",
    "    mode='lines', line=dict(dash='dash', color='gray'),\n",
    "    name='Perfect Prediction'\n",
    ")\n",
    "fig.add_scatter(\n",
    "    x=x_vals, y=x_vals * 1.05,\n",
    "    mode='lines', line=dict(dash='dot', color='blue'),\n",
    "    name='+5% Error'\n",
    ")\n",
    "fig.add_scatter(\n",
    "    x=x_vals, y=x_vals * 0.95,\n",
    "    mode='lines', line=dict(dash='dot', color='blue'),\n",
    "    name='-5% Error'\n",
    ")\n",
    "\n",
    "# Final layout\n",
    "fig.update_layout(\n",
    "    xaxis_title=\"Predicted Salary\",\n",
    "    yaxis_title=\"Actual Salary\",\n",
    "    legend_title=\"Predicted Outlier\",\n",
    "    width=900,\n",
    "    height=600\n",
    ")\n",
    "\n",
    "fig.show()"
   ]
  },
  {
   "cell_type": "code",
   "execution_count": 740,
   "metadata": {},
   "outputs": [
    {
     "data": {
      "text/html": [
       "<div>\n",
       "<style scoped>\n",
       "    .dataframe tbody tr th:only-of-type {\n",
       "        vertical-align: middle;\n",
       "    }\n",
       "\n",
       "    .dataframe tbody tr th {\n",
       "        vertical-align: top;\n",
       "    }\n",
       "\n",
       "    .dataframe thead th {\n",
       "        text-align: right;\n",
       "    }\n",
       "</style>\n",
       "<table border=\"1\" class=\"dataframe\">\n",
       "  <thead>\n",
       "    <tr style=\"text-align: right;\">\n",
       "      <th></th>\n",
       "      <th>Employee</th>\n",
       "      <th>ID</th>\n",
       "      <th>25-26 Salary (formatted)</th>\n",
       "      <th>Predicted Salary (formatted)</th>\n",
       "      <th>Residual (formatted)</th>\n",
       "      <th>Residual % (formatted)</th>\n",
       "      <th>Outlier_Flag</th>\n",
       "      <th>Outlier_Pred</th>\n",
       "      <th>Outlier_Prob</th>\n",
       "    </tr>\n",
       "  </thead>\n",
       "  <tbody>\n",
       "    <tr>\n",
       "      <th>62</th>\n",
       "      <td>Hon, Rebecca M</td>\n",
       "      <td>3245.0</td>\n",
       "      <td>65,259</td>\n",
       "      <td>78,766</td>\n",
       "      <td>-13,507</td>\n",
       "      <td>20.7%</td>\n",
       "      <td>True</td>\n",
       "      <td>True</td>\n",
       "      <td>0.519673</td>\n",
       "    </tr>\n",
       "    <tr>\n",
       "      <th>11</th>\n",
       "      <td>Von Tscharner, Emma M</td>\n",
       "      <td>3161.0</td>\n",
       "      <td>55,328</td>\n",
       "      <td>65,752</td>\n",
       "      <td>-10,424</td>\n",
       "      <td>18.8%</td>\n",
       "      <td>True</td>\n",
       "      <td>False</td>\n",
       "      <td>0.052443</td>\n",
       "    </tr>\n",
       "    <tr>\n",
       "      <th>61</th>\n",
       "      <td>Johnson, Marie F</td>\n",
       "      <td>3108.0</td>\n",
       "      <td>90,045</td>\n",
       "      <td>74,743</td>\n",
       "      <td>15,302</td>\n",
       "      <td>17.0%</td>\n",
       "      <td>True</td>\n",
       "      <td>True</td>\n",
       "      <td>0.481390</td>\n",
       "    </tr>\n",
       "    <tr>\n",
       "      <th>46</th>\n",
       "      <td>Turnbull, Jennie</td>\n",
       "      <td>3033.0</td>\n",
       "      <td>57,463</td>\n",
       "      <td>67,170</td>\n",
       "      <td>-9,707</td>\n",
       "      <td>16.9%</td>\n",
       "      <td>True</td>\n",
       "      <td>True</td>\n",
       "      <td>0.427841</td>\n",
       "    </tr>\n",
       "    <tr>\n",
       "      <th>71</th>\n",
       "      <td>Gentry, Phillip M</td>\n",
       "      <td>1092.0</td>\n",
       "      <td>95,382</td>\n",
       "      <td>80,822</td>\n",
       "      <td>14,560</td>\n",
       "      <td>15.3%</td>\n",
       "      <td>True</td>\n",
       "      <td>False</td>\n",
       "      <td>0.256276</td>\n",
       "    </tr>\n",
       "    <tr>\n",
       "      <th>45</th>\n",
       "      <td>LaRocque, Carol A</td>\n",
       "      <td>3191.0</td>\n",
       "      <td>81,055</td>\n",
       "      <td>68,714</td>\n",
       "      <td>12,341</td>\n",
       "      <td>15.2%</td>\n",
       "      <td>True</td>\n",
       "      <td>False</td>\n",
       "      <td>0.139560</td>\n",
       "    </tr>\n",
       "    <tr>\n",
       "      <th>60</th>\n",
       "      <td>Hill, Bettye</td>\n",
       "      <td>3151.0</td>\n",
       "      <td>82,201</td>\n",
       "      <td>69,904</td>\n",
       "      <td>12,297</td>\n",
       "      <td>15.0%</td>\n",
       "      <td>True</td>\n",
       "      <td>False</td>\n",
       "      <td>0.261357</td>\n",
       "    </tr>\n",
       "    <tr>\n",
       "      <th>32</th>\n",
       "      <td>McHugh, John N</td>\n",
       "      <td>3285.0</td>\n",
       "      <td>76,387</td>\n",
       "      <td>65,638</td>\n",
       "      <td>10,749</td>\n",
       "      <td>14.1%</td>\n",
       "      <td>True</td>\n",
       "      <td>False</td>\n",
       "      <td>0.107878</td>\n",
       "    </tr>\n",
       "    <tr>\n",
       "      <th>73</th>\n",
       "      <td>Otto, Theresa J</td>\n",
       "      <td>3195.0</td>\n",
       "      <td>79,378</td>\n",
       "      <td>90,212</td>\n",
       "      <td>-10,834</td>\n",
       "      <td>13.6%</td>\n",
       "      <td>True</td>\n",
       "      <td>True</td>\n",
       "      <td>0.509403</td>\n",
       "    </tr>\n",
       "    <tr>\n",
       "      <th>67</th>\n",
       "      <td>Barton, Sarah F</td>\n",
       "      <td>3303.0</td>\n",
       "      <td>88,090</td>\n",
       "      <td>76,509</td>\n",
       "      <td>11,581</td>\n",
       "      <td>13.1%</td>\n",
       "      <td>True</td>\n",
       "      <td>True</td>\n",
       "      <td>0.703249</td>\n",
       "    </tr>\n",
       "  </tbody>\n",
       "</table>\n",
       "</div>"
      ],
      "text/plain": [
       "                 Employee      ID 25-26 Salary (formatted)  \\\n",
       "62         Hon, Rebecca M  3245.0                   65,259   \n",
       "11  Von Tscharner, Emma M  3161.0                   55,328   \n",
       "61       Johnson, Marie F  3108.0                   90,045   \n",
       "46      Turnbull, Jennie   3033.0                   57,463   \n",
       "71      Gentry, Phillip M  1092.0                   95,382   \n",
       "45      LaRocque, Carol A  3191.0                   81,055   \n",
       "60           Hill, Bettye  3151.0                   82,201   \n",
       "32         McHugh, John N  3285.0                   76,387   \n",
       "73        Otto, Theresa J  3195.0                   79,378   \n",
       "67        Barton, Sarah F  3303.0                   88,090   \n",
       "\n",
       "   Predicted Salary (formatted) Residual (formatted) Residual % (formatted)  \\\n",
       "62                       78,766              -13,507                  20.7%   \n",
       "11                       65,752              -10,424                  18.8%   \n",
       "61                       74,743               15,302                  17.0%   \n",
       "46                       67,170               -9,707                  16.9%   \n",
       "71                       80,822               14,560                  15.3%   \n",
       "45                       68,714               12,341                  15.2%   \n",
       "60                       69,904               12,297                  15.0%   \n",
       "32                       65,638               10,749                  14.1%   \n",
       "73                       90,212              -10,834                  13.6%   \n",
       "67                       76,509               11,581                  13.1%   \n",
       "\n",
       "    Outlier_Flag  Outlier_Pred  Outlier_Prob  \n",
       "62          True          True      0.519673  \n",
       "11          True         False      0.052443  \n",
       "61          True          True      0.481390  \n",
       "46          True          True      0.427841  \n",
       "71          True         False      0.256276  \n",
       "45          True         False      0.139560  \n",
       "60          True         False      0.261357  \n",
       "32          True         False      0.107878  \n",
       "73          True          True      0.509403  \n",
       "67          True          True      0.703249  "
      ]
     },
     "execution_count": 740,
     "metadata": {},
     "output_type": "execute_result"
    }
   ],
   "source": [
    "# --------------------------------------------\n",
    "# Top largest residuals (actual vs predicted)\n",
    "# --------------------------------------------\n",
    "\n",
    "# Ensure residuals are computed\n",
    "df[\"Residual\"] = df[\"25-26 Salary\"] - df[\"Prediction_from_clean_model\"]\n",
    "df[\"Residual %\"] = (df[\"Residual\"] / df[\"25-26 Salary\"]).abs()\n",
    "\n",
    "# Sort by absolute residual percentage\n",
    "top_residuals = df.sort_values(\"Residual %\", ascending=False).copy()\n",
    "\n",
    "# Choose how many you want to display\n",
    "n = 10\n",
    "\n",
    "# Format numeric columns with commas (no decimals)\n",
    "top_residuals[\"25-26 Salary (formatted)\"] = top_residuals[\"25-26 Salary\"].apply(lambda x: f\"{int(round(x)):,}\")\n",
    "top_residuals[\"Predicted Salary (formatted)\"] = top_residuals[\"Prediction_from_clean_model\"].apply(lambda x: f\"{int(round(x)):,}\")\n",
    "top_residuals[\"Residual (formatted)\"] = top_residuals[\"Residual\"].apply(lambda x: f\"{int(round(x)):,}\")\n",
    "top_residuals[\"Residual % (formatted)\"] = top_residuals[\"Residual %\"].apply(lambda x: f\"{x*100:.1f}%\")\n",
    "\n",
    "# Columns to show\n",
    "display_cols = [\n",
    "    \"Employee\",\n",
    "    \"ID\",\n",
    "    \"25-26 Salary (formatted)\",\n",
    "    \"Predicted Salary (formatted)\",\n",
    "    \"Residual (formatted)\",\n",
    "    \"Residual % (formatted)\",\n",
    "    \"Outlier_Flag\",\n",
    "    \"Outlier_Pred\",\n",
    "    \"Outlier_Prob\"\n",
    "]\n",
    "\n",
    "# Show top n\n",
    "top_residuals[display_cols].head(n)"
   ]
  },
  {
   "cell_type": "code",
   "execution_count": 741,
   "metadata": {},
   "outputs": [
    {
     "data": {
      "application/vnd.jupyter.widget-view+json": {
       "model_id": "8107ac7d365d463a966b2f6b6eef5cc1",
       "version_major": 2,
       "version_minor": 0
      },
      "text/plain": [
       "  0%|          | 0/1 [00:00<?, ?it/s]"
      ]
     },
     "metadata": {},
     "output_type": "display_data"
    },
    {
     "name": "stdout",
     "output_type": "stream",
     "text": [
      "📌 SHAP Breakdown for Index 25\n",
      "👤 Employee: Passin, Laura E (ID: 3248)\n",
      "Predicted Salary: $67,789\n",
      "Actual Salary:    $69,603\n",
      "Baseline (0-Exp) Prediction: $55,102\n",
      "\n",
      "              Feature Value SHAP Impact Direction\n",
      "         Years of Exp     7       7,559  ↑ raises\n",
      "Experience Band_06-10  True       3,565  ↑ raises\n",
      "  Education Level_PhD  True       2,684  ↑ raises\n",
      "   Education Level_MA False      -1,115  ↓ lowers\n",
      "Experience Band_16-20 False         499  ↑ raises\n",
      "Experience Band_11-15 False        -409  ↓ lowers\n",
      "          Prep Rating     0        -400  ↓ lowers\n",
      "             Gender_M False         379  ↑ raises\n",
      "     Knowledge Rating   0.3        -324  ↓ lowers\n",
      "            Seniority     4         249  ↑ raises\n",
      "             Level_MS False           0  ↓ lowers\n",
      "             Level_LS False           0  ↓ lowers\n"
     ]
    }
   ],
   "source": [
    "# Choose row index from original dataset\n",
    "target_index = 25  # Must be a valid index in df\n",
    "\n",
    "# Lookup employee info\n",
    "employee_name = df.loc[target_index, \"Employee\"]\n",
    "employee_id = df.loc[target_index, \"ID\"]\n",
    "employee_salary = df.loc[target_index, \"25-26 Salary\"]\n",
    "\n",
    "# Extract the row for explanation\n",
    "x_target = X.loc[[target_index]]  # As a DataFrame\n",
    "\n",
    "# ---------------------------\n",
    "# Set up custom baseline\n",
    "# ---------------------------\n",
    "# Use average row as base, then zero out experience fields\n",
    "reference_row = X.mean().to_frame().T  # one-row DataFrame\n",
    "if \"Years of Exp\" in reference_row.columns:\n",
    "    reference_row[\"Years of Exp\"] = 0\n",
    "if \"Years Since Hire\" in reference_row.columns:\n",
    "    reference_row[\"Years Since Hire\"] = 0\n",
    "\n",
    "# Use this reference row for the SHAP explainer\n",
    "explainer = shap.KernelExplainer(model_noOuts.predict, reference_row)\n",
    "\n",
    "# Compute SHAP values for this person\n",
    "shap_values = explainer.shap_values(x_target)\n",
    "\n",
    "# ---------------------------\n",
    "# Build the explanation\n",
    "# ---------------------------\n",
    "shap_df = pd.DataFrame({\n",
    "    \"Feature\": x_target.columns,\n",
    "    \"Value\": x_target.iloc[0].values,\n",
    "    \"SHAP Impact\": shap_values[0]\n",
    "}).sort_values(\"SHAP Impact\", key=abs, ascending=False)\n",
    "\n",
    "shap_df[\"Direction\"] = shap_df[\"SHAP Impact\"].apply(lambda x: \"↑ raises\" if x > 0 else \"↓ lowers\")\n",
    "shap_df[\"SHAP Impact\"] = shap_df[\"SHAP Impact\"].map(lambda x: f\"{x:,.0f}\")\n",
    "\n",
    "# ---------------------------\n",
    "# Display it\n",
    "# ---------------------------\n",
    "print(f\"📌 SHAP Breakdown for Index {target_index}\")\n",
    "print(f\"👤 Employee: {employee_name} (ID: {int(employee_id)})\")\n",
    "print(f\"Predicted Salary: ${model_noOuts.predict(x_target)[0]:,.0f}\")\n",
    "print(f\"Actual Salary:    ${employee_salary:,.0f}\")\n",
    "print(f\"Baseline (0-Exp) Prediction: ${explainer.expected_value:,.0f}\\n\")\n",
    "print(shap_df[[\"Feature\", \"Value\", \"SHAP Impact\", \"Direction\"]].head(12).to_string(index=False))"
   ]
  },
  {
   "cell_type": "code",
   "execution_count": 742,
   "metadata": {},
   "outputs": [
    {
     "data": {
      "application/vnd.jupyter.widget-view+json": {
       "model_id": "36cbeb30bb8344aba93fcf81f6fdf3dc",
       "version_major": 2,
       "version_minor": 0
      },
      "text/plain": [
       "  0%|          | 0/1 [00:00<?, ?it/s]"
      ]
     },
     "metadata": {},
     "output_type": "display_data"
    },
    {
     "data": {
      "application/vnd.plotly.v1+json": {
       "config": {
        "plotlyServerURL": "https://plot.ly"
       },
       "data": [
        {
         "alignmentgroup": "True",
         "customdata": [
          [
           false,
           "Lowers Prediction"
          ],
          [
           0,
           "Lowers Prediction"
          ],
          [
           false,
           "Lowers Prediction"
          ],
          [
           true,
           "Lowers Prediction"
          ],
          [
           false,
           "Lowers Prediction"
          ],
          [
           false,
           "Lowers Prediction"
          ],
          [
           false,
           "Lowers Prediction"
          ],
          [
           0.3,
           "Lowers Prediction"
          ],
          [
           0,
           "Lowers Prediction"
          ],
          [
           false,
           "Lowers Prediction"
          ],
          [
           false,
           "Lowers Prediction"
          ],
          [
           7,
           "Lowers Prediction"
          ]
         ],
         "hovertemplate": "SHAP Impact=%{x}<br>Value=%{customdata[0]}<extra></extra>",
         "legendgroup": "Lowers Prediction",
         "marker": {
          "color": "red",
          "pattern": {
           "shape": ""
          }
         },
         "name": "Lowers Prediction",
         "offsetgroup": "Lowers Prediction",
         "orientation": "h",
         "showlegend": true,
         "textposition": "auto",
         "type": "bar",
         "x": [
          0,
          0,
          0,
          0,
          0,
          0,
          0,
          -304.51843866383314,
          -387.2726528684246,
          -425.6621718094137,
          -1044.150760778371,
          -7126.2378954494925
         ],
         "xaxis": "x",
         "y": [
          "Experience Band_30+",
          "Skill Rating",
          "Experience Band_21-25",
          "Level_HS",
          "Level_LS",
          "Level_MS",
          "Experience Band_26-30",
          "Knowledge Rating",
          "Prep Rating",
          "Experience Band_11-15",
          "Education Level_MA",
          "Years of Exp"
         ],
         "yaxis": "y"
        },
        {
         "alignmentgroup": "True",
         "customdata": [
          [
           4,
           "Raises Prediction"
          ],
          [
           false,
           "Raises Prediction"
          ],
          [
           false,
           "Raises Prediction"
          ],
          [
           true,
           "Raises Prediction"
          ],
          [
           true,
           "Raises Prediction"
          ]
         ],
         "hovertemplate": "SHAP Impact=%{x}<br>Value=%{customdata[0]}<extra></extra>",
         "legendgroup": "Raises Prediction",
         "marker": {
          "color": "green",
          "pattern": {
           "shape": ""
          }
         },
         "name": "Raises Prediction",
         "offsetgroup": "Raises Prediction",
         "orientation": "h",
         "showlegend": true,
         "textposition": "auto",
         "type": "bar",
         "x": [
          219.26359045008394,
          379.1710141335729,
          386.77660536002804,
          2688.534719840654,
          3258.5056700979867
         ],
         "xaxis": "x",
         "y": [
          "Seniority",
          "Gender_M",
          "Experience Band_16-20",
          "Education Level_PhD",
          "Experience Band_06-10"
         ],
         "yaxis": "y"
        }
       ],
       "layout": {
        "barmode": "relative",
        "height": 500,
        "legend": {
         "title": {
          "text": "Impact Direction"
         },
         "tracegroupgap": 0
        },
        "template": {
         "data": {
          "bar": [
           {
            "error_x": {
             "color": "#2a3f5f"
            },
            "error_y": {
             "color": "#2a3f5f"
            },
            "marker": {
             "line": {
              "color": "#E5ECF6",
              "width": 0.5
             },
             "pattern": {
              "fillmode": "overlay",
              "size": 10,
              "solidity": 0.2
             }
            },
            "type": "bar"
           }
          ],
          "barpolar": [
           {
            "marker": {
             "line": {
              "color": "#E5ECF6",
              "width": 0.5
             },
             "pattern": {
              "fillmode": "overlay",
              "size": 10,
              "solidity": 0.2
             }
            },
            "type": "barpolar"
           }
          ],
          "carpet": [
           {
            "aaxis": {
             "endlinecolor": "#2a3f5f",
             "gridcolor": "white",
             "linecolor": "white",
             "minorgridcolor": "white",
             "startlinecolor": "#2a3f5f"
            },
            "baxis": {
             "endlinecolor": "#2a3f5f",
             "gridcolor": "white",
             "linecolor": "white",
             "minorgridcolor": "white",
             "startlinecolor": "#2a3f5f"
            },
            "type": "carpet"
           }
          ],
          "choropleth": [
           {
            "colorbar": {
             "outlinewidth": 0,
             "ticks": ""
            },
            "type": "choropleth"
           }
          ],
          "contour": [
           {
            "colorbar": {
             "outlinewidth": 0,
             "ticks": ""
            },
            "colorscale": [
             [
              0,
              "#0d0887"
             ],
             [
              0.1111111111111111,
              "#46039f"
             ],
             [
              0.2222222222222222,
              "#7201a8"
             ],
             [
              0.3333333333333333,
              "#9c179e"
             ],
             [
              0.4444444444444444,
              "#bd3786"
             ],
             [
              0.5555555555555556,
              "#d8576b"
             ],
             [
              0.6666666666666666,
              "#ed7953"
             ],
             [
              0.7777777777777778,
              "#fb9f3a"
             ],
             [
              0.8888888888888888,
              "#fdca26"
             ],
             [
              1,
              "#f0f921"
             ]
            ],
            "type": "contour"
           }
          ],
          "contourcarpet": [
           {
            "colorbar": {
             "outlinewidth": 0,
             "ticks": ""
            },
            "type": "contourcarpet"
           }
          ],
          "heatmap": [
           {
            "colorbar": {
             "outlinewidth": 0,
             "ticks": ""
            },
            "colorscale": [
             [
              0,
              "#0d0887"
             ],
             [
              0.1111111111111111,
              "#46039f"
             ],
             [
              0.2222222222222222,
              "#7201a8"
             ],
             [
              0.3333333333333333,
              "#9c179e"
             ],
             [
              0.4444444444444444,
              "#bd3786"
             ],
             [
              0.5555555555555556,
              "#d8576b"
             ],
             [
              0.6666666666666666,
              "#ed7953"
             ],
             [
              0.7777777777777778,
              "#fb9f3a"
             ],
             [
              0.8888888888888888,
              "#fdca26"
             ],
             [
              1,
              "#f0f921"
             ]
            ],
            "type": "heatmap"
           }
          ],
          "heatmapgl": [
           {
            "colorbar": {
             "outlinewidth": 0,
             "ticks": ""
            },
            "colorscale": [
             [
              0,
              "#0d0887"
             ],
             [
              0.1111111111111111,
              "#46039f"
             ],
             [
              0.2222222222222222,
              "#7201a8"
             ],
             [
              0.3333333333333333,
              "#9c179e"
             ],
             [
              0.4444444444444444,
              "#bd3786"
             ],
             [
              0.5555555555555556,
              "#d8576b"
             ],
             [
              0.6666666666666666,
              "#ed7953"
             ],
             [
              0.7777777777777778,
              "#fb9f3a"
             ],
             [
              0.8888888888888888,
              "#fdca26"
             ],
             [
              1,
              "#f0f921"
             ]
            ],
            "type": "heatmapgl"
           }
          ],
          "histogram": [
           {
            "marker": {
             "pattern": {
              "fillmode": "overlay",
              "size": 10,
              "solidity": 0.2
             }
            },
            "type": "histogram"
           }
          ],
          "histogram2d": [
           {
            "colorbar": {
             "outlinewidth": 0,
             "ticks": ""
            },
            "colorscale": [
             [
              0,
              "#0d0887"
             ],
             [
              0.1111111111111111,
              "#46039f"
             ],
             [
              0.2222222222222222,
              "#7201a8"
             ],
             [
              0.3333333333333333,
              "#9c179e"
             ],
             [
              0.4444444444444444,
              "#bd3786"
             ],
             [
              0.5555555555555556,
              "#d8576b"
             ],
             [
              0.6666666666666666,
              "#ed7953"
             ],
             [
              0.7777777777777778,
              "#fb9f3a"
             ],
             [
              0.8888888888888888,
              "#fdca26"
             ],
             [
              1,
              "#f0f921"
             ]
            ],
            "type": "histogram2d"
           }
          ],
          "histogram2dcontour": [
           {
            "colorbar": {
             "outlinewidth": 0,
             "ticks": ""
            },
            "colorscale": [
             [
              0,
              "#0d0887"
             ],
             [
              0.1111111111111111,
              "#46039f"
             ],
             [
              0.2222222222222222,
              "#7201a8"
             ],
             [
              0.3333333333333333,
              "#9c179e"
             ],
             [
              0.4444444444444444,
              "#bd3786"
             ],
             [
              0.5555555555555556,
              "#d8576b"
             ],
             [
              0.6666666666666666,
              "#ed7953"
             ],
             [
              0.7777777777777778,
              "#fb9f3a"
             ],
             [
              0.8888888888888888,
              "#fdca26"
             ],
             [
              1,
              "#f0f921"
             ]
            ],
            "type": "histogram2dcontour"
           }
          ],
          "mesh3d": [
           {
            "colorbar": {
             "outlinewidth": 0,
             "ticks": ""
            },
            "type": "mesh3d"
           }
          ],
          "parcoords": [
           {
            "line": {
             "colorbar": {
              "outlinewidth": 0,
              "ticks": ""
             }
            },
            "type": "parcoords"
           }
          ],
          "pie": [
           {
            "automargin": true,
            "type": "pie"
           }
          ],
          "scatter": [
           {
            "fillpattern": {
             "fillmode": "overlay",
             "size": 10,
             "solidity": 0.2
            },
            "type": "scatter"
           }
          ],
          "scatter3d": [
           {
            "line": {
             "colorbar": {
              "outlinewidth": 0,
              "ticks": ""
             }
            },
            "marker": {
             "colorbar": {
              "outlinewidth": 0,
              "ticks": ""
             }
            },
            "type": "scatter3d"
           }
          ],
          "scattercarpet": [
           {
            "marker": {
             "colorbar": {
              "outlinewidth": 0,
              "ticks": ""
             }
            },
            "type": "scattercarpet"
           }
          ],
          "scattergeo": [
           {
            "marker": {
             "colorbar": {
              "outlinewidth": 0,
              "ticks": ""
             }
            },
            "type": "scattergeo"
           }
          ],
          "scattergl": [
           {
            "marker": {
             "colorbar": {
              "outlinewidth": 0,
              "ticks": ""
             }
            },
            "type": "scattergl"
           }
          ],
          "scattermapbox": [
           {
            "marker": {
             "colorbar": {
              "outlinewidth": 0,
              "ticks": ""
             }
            },
            "type": "scattermapbox"
           }
          ],
          "scatterpolar": [
           {
            "marker": {
             "colorbar": {
              "outlinewidth": 0,
              "ticks": ""
             }
            },
            "type": "scatterpolar"
           }
          ],
          "scatterpolargl": [
           {
            "marker": {
             "colorbar": {
              "outlinewidth": 0,
              "ticks": ""
             }
            },
            "type": "scatterpolargl"
           }
          ],
          "scatterternary": [
           {
            "marker": {
             "colorbar": {
              "outlinewidth": 0,
              "ticks": ""
             }
            },
            "type": "scatterternary"
           }
          ],
          "surface": [
           {
            "colorbar": {
             "outlinewidth": 0,
             "ticks": ""
            },
            "colorscale": [
             [
              0,
              "#0d0887"
             ],
             [
              0.1111111111111111,
              "#46039f"
             ],
             [
              0.2222222222222222,
              "#7201a8"
             ],
             [
              0.3333333333333333,
              "#9c179e"
             ],
             [
              0.4444444444444444,
              "#bd3786"
             ],
             [
              0.5555555555555556,
              "#d8576b"
             ],
             [
              0.6666666666666666,
              "#ed7953"
             ],
             [
              0.7777777777777778,
              "#fb9f3a"
             ],
             [
              0.8888888888888888,
              "#fdca26"
             ],
             [
              1,
              "#f0f921"
             ]
            ],
            "type": "surface"
           }
          ],
          "table": [
           {
            "cells": {
             "fill": {
              "color": "#EBF0F8"
             },
             "line": {
              "color": "white"
             }
            },
            "header": {
             "fill": {
              "color": "#C8D4E3"
             },
             "line": {
              "color": "white"
             }
            },
            "type": "table"
           }
          ]
         },
         "layout": {
          "annotationdefaults": {
           "arrowcolor": "#2a3f5f",
           "arrowhead": 0,
           "arrowwidth": 1
          },
          "autotypenumbers": "strict",
          "coloraxis": {
           "colorbar": {
            "outlinewidth": 0,
            "ticks": ""
           }
          },
          "colorscale": {
           "diverging": [
            [
             0,
             "#8e0152"
            ],
            [
             0.1,
             "#c51b7d"
            ],
            [
             0.2,
             "#de77ae"
            ],
            [
             0.3,
             "#f1b6da"
            ],
            [
             0.4,
             "#fde0ef"
            ],
            [
             0.5,
             "#f7f7f7"
            ],
            [
             0.6,
             "#e6f5d0"
            ],
            [
             0.7,
             "#b8e186"
            ],
            [
             0.8,
             "#7fbc41"
            ],
            [
             0.9,
             "#4d9221"
            ],
            [
             1,
             "#276419"
            ]
           ],
           "sequential": [
            [
             0,
             "#0d0887"
            ],
            [
             0.1111111111111111,
             "#46039f"
            ],
            [
             0.2222222222222222,
             "#7201a8"
            ],
            [
             0.3333333333333333,
             "#9c179e"
            ],
            [
             0.4444444444444444,
             "#bd3786"
            ],
            [
             0.5555555555555556,
             "#d8576b"
            ],
            [
             0.6666666666666666,
             "#ed7953"
            ],
            [
             0.7777777777777778,
             "#fb9f3a"
            ],
            [
             0.8888888888888888,
             "#fdca26"
            ],
            [
             1,
             "#f0f921"
            ]
           ],
           "sequentialminus": [
            [
             0,
             "#0d0887"
            ],
            [
             0.1111111111111111,
             "#46039f"
            ],
            [
             0.2222222222222222,
             "#7201a8"
            ],
            [
             0.3333333333333333,
             "#9c179e"
            ],
            [
             0.4444444444444444,
             "#bd3786"
            ],
            [
             0.5555555555555556,
             "#d8576b"
            ],
            [
             0.6666666666666666,
             "#ed7953"
            ],
            [
             0.7777777777777778,
             "#fb9f3a"
            ],
            [
             0.8888888888888888,
             "#fdca26"
            ],
            [
             1,
             "#f0f921"
            ]
           ]
          },
          "colorway": [
           "#636efa",
           "#EF553B",
           "#00cc96",
           "#ab63fa",
           "#FFA15A",
           "#19d3f3",
           "#FF6692",
           "#B6E880",
           "#FF97FF",
           "#FECB52"
          ],
          "font": {
           "color": "#2a3f5f"
          },
          "geo": {
           "bgcolor": "white",
           "lakecolor": "white",
           "landcolor": "#E5ECF6",
           "showlakes": true,
           "showland": true,
           "subunitcolor": "white"
          },
          "hoverlabel": {
           "align": "left"
          },
          "hovermode": "closest",
          "mapbox": {
           "style": "light"
          },
          "paper_bgcolor": "white",
          "plot_bgcolor": "#E5ECF6",
          "polar": {
           "angularaxis": {
            "gridcolor": "white",
            "linecolor": "white",
            "ticks": ""
           },
           "bgcolor": "#E5ECF6",
           "radialaxis": {
            "gridcolor": "white",
            "linecolor": "white",
            "ticks": ""
           }
          },
          "scene": {
           "xaxis": {
            "backgroundcolor": "#E5ECF6",
            "gridcolor": "white",
            "gridwidth": 2,
            "linecolor": "white",
            "showbackground": true,
            "ticks": "",
            "zerolinecolor": "white"
           },
           "yaxis": {
            "backgroundcolor": "#E5ECF6",
            "gridcolor": "white",
            "gridwidth": 2,
            "linecolor": "white",
            "showbackground": true,
            "ticks": "",
            "zerolinecolor": "white"
           },
           "zaxis": {
            "backgroundcolor": "#E5ECF6",
            "gridcolor": "white",
            "gridwidth": 2,
            "linecolor": "white",
            "showbackground": true,
            "ticks": "",
            "zerolinecolor": "white"
           }
          },
          "shapedefaults": {
           "line": {
            "color": "#2a3f5f"
           }
          },
          "ternary": {
           "aaxis": {
            "gridcolor": "white",
            "linecolor": "white",
            "ticks": ""
           },
           "baxis": {
            "gridcolor": "white",
            "linecolor": "white",
            "ticks": ""
           },
           "bgcolor": "#E5ECF6",
           "caxis": {
            "gridcolor": "white",
            "linecolor": "white",
            "ticks": ""
           }
          },
          "title": {
           "x": 0.05
          },
          "xaxis": {
           "automargin": true,
           "gridcolor": "white",
           "linecolor": "white",
           "ticks": "",
           "title": {
            "standoff": 15
           },
           "zerolinecolor": "white",
           "zerolinewidth": 2
          },
          "yaxis": {
           "automargin": true,
           "gridcolor": "white",
           "linecolor": "white",
           "ticks": "",
           "title": {
            "standoff": 15
           },
           "zerolinecolor": "white",
           "zerolinewidth": 2
          }
         }
        },
        "title": {
         "text": "🔍 SHAP Explanation for Index 25<br>Predicted: $67,789 | Baseline: $70,144"
        },
        "xaxis": {
         "anchor": "y",
         "domain": [
          0,
          1
         ],
         "title": {
          "text": "SHAP Impact on Prediction"
         }
        },
        "yaxis": {
         "anchor": "x",
         "domain": [
          0,
          1
         ],
         "title": {
          "text": "Feature"
         }
        }
       }
      }
     },
     "metadata": {},
     "output_type": "display_data"
    }
   ],
   "source": [
    "# Set the original index from df (can be anything in df)\n",
    "original_index = target_index  # 👈 change this to whichever row you want to explain\n",
    "\n",
    "# Make sure that row exists\n",
    "if original_index not in df_encoded.index:\n",
    "    raise ValueError(f\"Index {original_index} not found in original data!\")\n",
    "\n",
    "# Match exact features used for training\n",
    "x_target = df_encoded.loc[[original_index], X_clean.columns]\n",
    "\n",
    "# SHAP: Use KernelExplainer (you already fit model_noOuts earlier)\n",
    "explainer = shap.KernelExplainer(model_noOuts.predict, X_clean)\n",
    "shap_values = explainer.shap_values(x_target)\n",
    "\n",
    "# Create SHAP DataFrame for display\n",
    "shap_df = pd.DataFrame({\n",
    "    \"Feature\": x_target.columns,\n",
    "    \"Value\": x_target.iloc[0].values,\n",
    "    \"SHAP Impact\": shap_values[0]\n",
    "})\n",
    "shap_df[\"Abs Impact\"] = shap_df[\"SHAP Impact\"].abs()\n",
    "shap_df[\"Impact Direction\"] = shap_df[\"SHAP Impact\"].apply(lambda x: \"Raises Prediction\" if x > 0 else \"Lowers Prediction\")\n",
    "shap_df = shap_df.sort_values(\"Abs Impact\", ascending=True)\n",
    "\n",
    "baseline = float(explainer.expected_value)  # ensure it's a plain number\n",
    "title = (\n",
    "    f\"🔍 SHAP Explanation for Index {original_index}<br>\"\n",
    "    f\"Predicted: ${model_noOuts.predict(x_target)[0]:,.0f} | \"\n",
    "    f\"Baseline: ${baseline:,.0f}\"\n",
    ")\n",
    "\n",
    "# Interactive plot\n",
    "fig = px.bar(\n",
    "    shap_df,\n",
    "    x=\"SHAP Impact\",\n",
    "    y=\"Feature\",\n",
    "    orientation=\"h\",\n",
    "    color=\"Impact Direction\",\n",
    "    hover_data={\n",
    "        \"Value\": True,\n",
    "        \"SHAP Impact\": True,\n",
    "        \"Feature\": False,\n",
    "        \"Impact Direction\": False\n",
    "    },\n",
    "    title=title,\n",
    "    color_discrete_map={\n",
    "        \"Raises Prediction\": \"green\",\n",
    "        \"Lowers Prediction\": \"red\"\n",
    "    }\n",
    ")\n",
    "\n",
    "fig.update_layout(\n",
    "    xaxis_title=\"SHAP Impact on Prediction\",\n",
    "    yaxis_title=\"Feature\",\n",
    "    height=500\n",
    ")\n",
    "\n",
    "fig.show()"
   ]
  },
  {
   "cell_type": "code",
   "execution_count": 743,
   "metadata": {},
   "outputs": [
    {
     "name": "stdout",
     "output_type": "stream",
     "text": [
      "✅ Exported: 'salary_model_output_for_HR_sorted.csv' (sorted by Residual %) with Employee and ID first\n"
     ]
    }
   ],
   "source": [
    "# Prepare HR export DataFrame\n",
    "hr_export = df.copy()\n",
    "\n",
    "# Format numeric columns\n",
    "hr_export[\"Predicted Salary\"] = df[\"Prediction_from_clean_model\"].round(0)\n",
    "hr_export[\"Residual\"] = (df[\"25-26 Salary\"] - df[\"Prediction_from_clean_model\"]).round(0)\n",
    "hr_export[\"Residual %\"] = ((hr_export[\"Residual\"] / df[\"25-26 Salary\"]) * 100).round(1)\n",
    "\n",
    "# Flag columns\n",
    "hr_export[\"Recommended for Review\"] = df[\"Outlier_Pred\"]\n",
    "hr_export[\"Actual Outlier\"] = df[\"Outlier_Flag\"]\n",
    "hr_export[\"Model Confidence (Outlier %)\"] = (df[\"Outlier_Prob\"] * 100).round(1)\n",
    "\n",
    "# Optional: reformat currency-style columns for HR readability\n",
    "for col in [\"25-26 Salary\", \"Predicted Salary\", \"Residual\"]:\n",
    "    hr_export[col] = hr_export[col].apply(lambda x: f\"${int(x):,}\" if pd.notnull(x) else \"\")\n",
    "\n",
    "# Reorder columns to put ID and Employee first, then key model columns\n",
    "id_columns = [\"Employee\", \"ID\"]\n",
    "key_columns = [\n",
    "    \"25-26 Salary\", \"Predicted Salary\", \"Residual\", \"Residual %\"\n",
    "]\n",
    "other_columns = [col for col in hr_export.columns if col not in id_columns + key_columns]\n",
    "hr_export = hr_export[id_columns + key_columns + other_columns]\n",
    "\n",
    "# Sort by % error: lowest residuals (underpaid) at top\n",
    "hr_export_sorted = hr_export.sort_values(\"Residual %\")\n",
    "\n",
    "# Export\n",
    "hr_export_sorted.to_csv(\"salary_model_output_for_HR_sorted.csv\", index=False)\n",
    "\n",
    "print(\"✅ Exported: 'salary_model_output_for_HR_sorted.csv' (sorted by Residual %) with Employee and ID first\")"
   ]
  },
  {
   "cell_type": "code",
   "execution_count": 744,
   "metadata": {},
   "outputs": [
    {
     "data": {
      "image/png": "[encoded data removed]",
      "text/plain": [
       "<Figure size 1000x600 with 1 Axes>"
      ]
     },
     "metadata": {},
     "output_type": "display_data"
    }
   ],
   "source": [
    "import matplotlib.pyplot as plt\n",
    "import seaborn as sns\n",
    "\n",
    "# Create a working copy\n",
    "df_viz = df.copy()\n",
    "\n",
    "# Calculate numeric residual % (if not already done)\n",
    "df_viz[\"Residual %\"] = (\n",
    "    (df_viz[\"25-26 Salary\"] - df_viz[\"Prediction_from_clean_model\"]) / df_viz[\"25-26 Salary\"]\n",
    ") * 100\n",
    "\n",
    "# Get top 5 underpaid and overpaid employees by percent\n",
    "top_5 = df_viz.nsmallest(5, \"Residual %\")  # most underpaid\n",
    "bottom_5 = df_viz.nlargest(5, \"Residual %\")  # most overpaid\n",
    "viz_df = pd.concat([top_5, bottom_5]).copy()\n",
    "\n",
    "# Sort so the plot flows from most underpaid to most overpaid\n",
    "viz_df = viz_df.sort_values(\"Residual %\", ascending=True)\n",
    "\n",
    "# Add labels\n",
    "viz_df[\"Residual Direction\"] = viz_df[\"Residual %\"].apply(lambda x: \"Overpaid\" if x > 0 else \"Underpaid\")\n",
    "viz_df[\"Employee Label\"] = viz_df[\"Employee\"] + \" (\" + viz_df[\"ID\"].astype(int).astype(str) + \")\"\n",
    "\n",
    "# Plot\n",
    "plt.figure(figsize=(10, 6))\n",
    "sns.barplot(\n",
    "    data=viz_df,\n",
    "    x=\"Residual %\",\n",
    "    y=\"Employee Label\",\n",
    "    hue=\"Residual Direction\",\n",
    "    palette={\"Overpaid\": \"red\", \"Underpaid\": \"green\"}\n",
    ")\n",
    "\n",
    "plt.axvline(0, color=\"gray\", linestyle=\"--\")\n",
    "plt.title(\"Top 5 Most Underpaid and Overpaid Employees (by % Difference)\")\n",
    "plt.xlabel(\"Residual (%) — Difference from Predicted Salary\")\n",
    "plt.ylabel(\"Employee\")\n",
    "plt.tight_layout()\n",
    "plt.legend(title=\"Direction\")\n",
    "plt.show()"
   ]
  },
  {
   "cell_type": "code",
   "execution_count": 745,
   "metadata": {},
   "outputs": [
    {
     "data": {
      "text/html": [
       "<style type=\"text/css\">\n",
       "</style>\n",
       "<table id=\"T_c1ef0\">\n",
       "  <caption>📋 Feature Comparison: HS vs LS</caption>\n",
       "  <thead>\n",
       "    <tr>\n",
       "      <th class=\"blank level0\" >&nbsp;</th>\n",
       "      <th id=\"T_c1ef0_level0_col0\" class=\"col_heading level0 col0\" >HS Mean</th>\n",
       "      <th id=\"T_c1ef0_level0_col1\" class=\"col_heading level0 col1\" >HS Std</th>\n",
       "      <th id=\"T_c1ef0_level0_col2\" class=\"col_heading level0 col2\" >LS Mean</th>\n",
       "      <th id=\"T_c1ef0_level0_col3\" class=\"col_heading level0 col3\" >LS Std</th>\n",
       "      <th id=\"T_c1ef0_level0_col4\" class=\"col_heading level0 col4\" >Difference (B - A)</th>\n",
       "    </tr>\n",
       "  </thead>\n",
       "  <tbody>\n",
       "    <tr>\n",
       "      <th id=\"T_c1ef0_level0_row0\" class=\"row_heading level0 row0\" >25-26 Salary</th>\n",
       "      <td id=\"T_c1ef0_row0_col0\" class=\"data row0 col0\" >72367.963</td>\n",
       "      <td id=\"T_c1ef0_row0_col1\" class=\"data row0 col1\" >10504.246</td>\n",
       "      <td id=\"T_c1ef0_row0_col2\" class=\"data row0 col2\" >71322.952</td>\n",
       "      <td id=\"T_c1ef0_row0_col3\" class=\"data row0 col3\" >9434.516</td>\n",
       "      <td id=\"T_c1ef0_row0_col4\" class=\"data row0 col4\" >-1045.011</td>\n",
       "    </tr>\n",
       "    <tr>\n",
       "      <th id=\"T_c1ef0_level0_row1\" class=\"row_heading level0 row1\" >Years of Exp</th>\n",
       "      <td id=\"T_c1ef0_row1_col0\" class=\"data row1 col0\" >14.593</td>\n",
       "      <td id=\"T_c1ef0_row1_col1\" class=\"data row1 col1\" >8.409</td>\n",
       "      <td id=\"T_c1ef0_row1_col2\" class=\"data row1 col2\" >15.333</td>\n",
       "      <td id=\"T_c1ef0_row1_col3\" class=\"data row1 col3\" >9.687</td>\n",
       "      <td id=\"T_c1ef0_row1_col4\" class=\"data row1 col4\" >0.741</td>\n",
       "    </tr>\n",
       "    <tr>\n",
       "      <th id=\"T_c1ef0_level0_row2\" class=\"row_heading level0 row2\" >Seniority</th>\n",
       "      <td id=\"T_c1ef0_row2_col0\" class=\"data row2 col0\" >8.963</td>\n",
       "      <td id=\"T_c1ef0_row2_col1\" class=\"data row2 col1\" >9.395</td>\n",
       "      <td id=\"T_c1ef0_row2_col2\" class=\"data row2 col2\" >7.429</td>\n",
       "      <td id=\"T_c1ef0_row2_col3\" class=\"data row2 col3\" >8.459</td>\n",
       "      <td id=\"T_c1ef0_row2_col4\" class=\"data row2 col4\" >-1.534</td>\n",
       "    </tr>\n",
       "    <tr>\n",
       "      <th id=\"T_c1ef0_level0_row3\" class=\"row_heading level0 row3\" >Skill Rating</th>\n",
       "      <td id=\"T_c1ef0_row3_col0\" class=\"data row3 col0\" >0.000</td>\n",
       "      <td id=\"T_c1ef0_row3_col1\" class=\"data row3 col1\" >0.000</td>\n",
       "      <td id=\"T_c1ef0_row3_col2\" class=\"data row3 col2\" >0.000</td>\n",
       "      <td id=\"T_c1ef0_row3_col3\" class=\"data row3 col3\" >0.000</td>\n",
       "      <td id=\"T_c1ef0_row3_col4\" class=\"data row3 col4\" >0.000</td>\n",
       "    </tr>\n",
       "    <tr>\n",
       "      <th id=\"T_c1ef0_level0_row4\" class=\"row_heading level0 row4\" >Prep Rating</th>\n",
       "      <td id=\"T_c1ef0_row4_col0\" class=\"data row4 col0\" >0.407</td>\n",
       "      <td id=\"T_c1ef0_row4_col1\" class=\"data row4 col1\" >0.501</td>\n",
       "      <td id=\"T_c1ef0_row4_col2\" class=\"data row4 col2\" >0.000</td>\n",
       "      <td id=\"T_c1ef0_row4_col3\" class=\"data row4 col3\" >0.000</td>\n",
       "      <td id=\"T_c1ef0_row4_col4\" class=\"data row4 col4\" >-0.407</td>\n",
       "    </tr>\n",
       "    <tr>\n",
       "      <th id=\"T_c1ef0_level0_row5\" class=\"row_heading level0 row5\" >Knowledge Rating</th>\n",
       "      <td id=\"T_c1ef0_row5_col0\" class=\"data row5 col0\" >0.593</td>\n",
       "      <td id=\"T_c1ef0_row5_col1\" class=\"data row5 col1\" >0.300</td>\n",
       "      <td id=\"T_c1ef0_row5_col2\" class=\"data row5 col2\" >0.338</td>\n",
       "      <td id=\"T_c1ef0_row5_col3\" class=\"data row5 col3\" >0.102</td>\n",
       "      <td id=\"T_c1ef0_row5_col4\" class=\"data row5 col4\" >-0.254</td>\n",
       "    </tr>\n",
       "    <tr>\n",
       "      <th id=\"T_c1ef0_level0_row6\" class=\"row_heading level0 row6\" >Gender_M</th>\n",
       "      <td id=\"T_c1ef0_row6_col0\" class=\"data row6 col0\" >0.185</td>\n",
       "      <td id=\"T_c1ef0_row6_col1\" class=\"data row6 col1\" >0.396</td>\n",
       "      <td id=\"T_c1ef0_row6_col2\" class=\"data row6 col2\" >0.048</td>\n",
       "      <td id=\"T_c1ef0_row6_col3\" class=\"data row6 col3\" >0.218</td>\n",
       "      <td id=\"T_c1ef0_row6_col4\" class=\"data row6 col4\" >-0.138</td>\n",
       "    </tr>\n",
       "    <tr>\n",
       "      <th id=\"T_c1ef0_level0_row7\" class=\"row_heading level0 row7\" >Education Level_MA</th>\n",
       "      <td id=\"T_c1ef0_row7_col0\" class=\"data row7 col0\" >0.741</td>\n",
       "      <td id=\"T_c1ef0_row7_col1\" class=\"data row7 col1\" >0.447</td>\n",
       "      <td id=\"T_c1ef0_row7_col2\" class=\"data row7 col2\" >0.571</td>\n",
       "      <td id=\"T_c1ef0_row7_col3\" class=\"data row7 col3\" >0.507</td>\n",
       "      <td id=\"T_c1ef0_row7_col4\" class=\"data row7 col4\" >-0.169</td>\n",
       "    </tr>\n",
       "    <tr>\n",
       "      <th id=\"T_c1ef0_level0_row8\" class=\"row_heading level0 row8\" >Education Level_PhD</th>\n",
       "      <td id=\"T_c1ef0_row8_col0\" class=\"data row8 col0\" >0.111</td>\n",
       "      <td id=\"T_c1ef0_row8_col1\" class=\"data row8 col1\" >0.320</td>\n",
       "      <td id=\"T_c1ef0_row8_col2\" class=\"data row8 col2\" >0.000</td>\n",
       "      <td id=\"T_c1ef0_row8_col3\" class=\"data row8 col3\" >0.000</td>\n",
       "      <td id=\"T_c1ef0_row8_col4\" class=\"data row8 col4\" >-0.111</td>\n",
       "    </tr>\n",
       "  </tbody>\n",
       "</table>\n"
      ],
      "text/plain": [
       "<pandas.io.formats.style.Styler at 0x30d052890>"
      ]
     },
     "metadata": {},
     "output_type": "display_data"
    },
    {
     "name": "stdout",
     "output_type": "stream",
     "text": [
      "\n",
      "💰 Predicted Average Salaries (based on model inputs):\n",
      "🔹 Average HS Employee: $71,418\n",
      "🔹 Average LS Employee: $71,521\n",
      "➡️ Difference (LS - HS): $103\n",
      "\n",
      "📊 *Actual* Average Salaries (from raw data):\n",
      "🔹 Average HS Employee: $72,368\n",
      "🔹 Average LS Employee: $71,323\n",
      "➡️ Difference (LS - HS): $-1,045\n"
     ]
    }
   ],
   "source": [
    "# -----------------------------\n",
    "# Setup: Choose levels to compare\n",
    "# -----------------------------\n",
    "level_A = \"HS\"  # Options: \"LS\", \"MS\", or \"HS\"\n",
    "level_B = \"LS\"\n",
    "\n",
    "# -----------------------------\n",
    "# Step 1: Build masks for A and B\n",
    "# -----------------------------\n",
    "def build_level_mask(level):\n",
    "    if level == \"HS\":\n",
    "        return df_encoded[[\"Level_LS\", \"Level_MS\"]].apply(lambda row: not row.any(), axis=1)\n",
    "    else:\n",
    "        return df_encoded[f\"Level_{level}\"] == 1\n",
    "\n",
    "mask_A = build_level_mask(level_A)\n",
    "mask_B = build_level_mask(level_B)\n",
    "\n",
    "# -----------------------------\n",
    "# Step 2: Feature grouping\n",
    "# -----------------------------\n",
    "features_to_compare = [\n",
    "    \"25-26 Salary\", \"Years of Exp\", \"Seniority\",\n",
    "    \"Skill Rating\", \"Prep Rating\", \"Knowledge Rating\"\n",
    "]\n",
    "\n",
    "# Include one-hot feature columns\n",
    "one_hot_cols = [col for col in df_encoded.columns if any(prefix in col for prefix in [\"Education Level_\", \"Gender_\", \"Ethnicity_\"])]\n",
    "all_comparison_cols = features_to_compare + one_hot_cols\n",
    "\n",
    "# -----------------------------\n",
    "# Step 3: Summary comparison\n",
    "# -----------------------------\n",
    "A_stats = df_encoded.loc[mask_A, all_comparison_cols].agg([\"mean\", \"std\"]).T\n",
    "B_stats = df_encoded.loc[mask_B, all_comparison_cols].agg([\"mean\", \"std\"]).T\n",
    "\n",
    "comparison_df = pd.concat([A_stats, B_stats], axis=1)\n",
    "comparison_df.columns = [f\"{level_A} Mean\", f\"{level_A} Std\", f\"{level_B} Mean\", f\"{level_B} Std\"]\n",
    "comparison_df[\"Difference (B - A)\"] = comparison_df[f\"{level_B} Mean\"] - comparison_df[f\"{level_A} Mean\"]\n",
    "comparison_df = comparison_df.round(3)\n",
    "\n",
    "# Display nicely\n",
    "import IPython.display as disp\n",
    "disp.display(comparison_df.style.format(\"{:.3f}\").set_caption(f\"📋 Feature Comparison: {level_A} vs {level_B}\"))\n",
    "\n",
    "# -----------------------------\n",
    "# Step 4: Predict model salary using average rows\n",
    "# -----------------------------\n",
    "X_feature_cols = model_noOuts.feature_names_in_\n",
    "\n",
    "avg_input_A = df_encoded.loc[mask_A, X_feature_cols].mean().to_frame().T\n",
    "avg_input_B = df_encoded.loc[mask_B, X_feature_cols].mean().to_frame().T\n",
    "\n",
    "salary_A = model_noOuts.predict(avg_input_A)[0]\n",
    "salary_B = model_noOuts.predict(avg_input_B)[0]\n",
    "\n",
    "# -----------------------------\n",
    "# Step 5: Print both real and predicted salaries\n",
    "# -----------------------------\n",
    "real_avg_A = df_encoded.loc[mask_A, \"25-26 Salary\"].mean()\n",
    "real_avg_B = df_encoded.loc[mask_B, \"25-26 Salary\"].mean()\n",
    "\n",
    "print(f\"\\n💰 Predicted Average Salaries (based on model inputs):\")\n",
    "print(f\"🔹 Average {level_A} Employee: ${salary_A:,.0f}\")\n",
    "print(f\"🔹 Average {level_B} Employee: ${salary_B:,.0f}\")\n",
    "print(f\"➡️ Difference ({level_B} - {level_A}): ${salary_B - salary_A:,.0f}\")\n",
    "\n",
    "print(f\"\\n📊 *Actual* Average Salaries (from raw data):\")\n",
    "print(f\"🔹 Average {level_A} Employee: ${real_avg_A:,.0f}\")\n",
    "print(f\"🔹 Average {level_B} Employee: ${real_avg_B:,.0f}\")\n",
    "print(f\"➡️ Difference ({level_B} - {level_A}): ${real_avg_B - real_avg_A:,.0f}\")"
   ]
  },
  {
   "cell_type": "code",
   "execution_count": 746,
   "metadata": {},
   "outputs": [
    {
     "name": "stdout",
     "output_type": "stream",
     "text": [
      "📊 Gender Distribution Across Experience Bands (mean values):\n"
     ]
    },
    {
     "data": {
      "text/html": [
       "<style type=\"text/css\">\n",
       "</style>\n",
       "<table id=\"T_9f16f\">\n",
       "  <caption>Gender Distribution by Experience Band with Model Coefficients and Predicted Salary</caption>\n",
       "  <thead>\n",
       "    <tr>\n",
       "      <th class=\"blank level0\" >&nbsp;</th>\n",
       "      <th id=\"T_9f16f_level0_col0\" class=\"col_heading level0 col0\" >Female</th>\n",
       "      <th id=\"T_9f16f_level0_col1\" class=\"col_heading level0 col1\" >Male</th>\n",
       "      <th id=\"T_9f16f_level0_col2\" class=\"col_heading level0 col2\" >Difference (M - F) * 100</th>\n",
       "      <th id=\"T_9f16f_level0_col3\" class=\"col_heading level0 col3\" >Model Coefficient</th>\n",
       "      <th id=\"T_9f16f_level0_col4\" class=\"col_heading level0 col4\" >Predicted Salary</th>\n",
       "    </tr>\n",
       "  </thead>\n",
       "  <tbody>\n",
       "    <tr>\n",
       "      <th id=\"T_9f16f_level0_row0\" class=\"row_heading level0 row0\" >Experience Band_00-05</th>\n",
       "      <td id=\"T_9f16f_row0_col0\" class=\"data row0 col0\" >0.16</td>\n",
       "      <td id=\"T_9f16f_row0_col1\" class=\"data row0 col1\" >0.00</td>\n",
       "      <td id=\"T_9f16f_row0_col2\" class=\"data row0 col2\" >-15.79</td>\n",
       "      <td id=\"T_9f16f_row0_col3\" class=\"data row0 col3\" >0.00</td>\n",
       "      <td id=\"T_9f16f_row0_col4\" class=\"data row0 col4\" >$69,733</td>\n",
       "    </tr>\n",
       "    <tr>\n",
       "      <th id=\"T_9f16f_level0_row1\" class=\"row_heading level0 row1\" >Experience Band_06-10</th>\n",
       "      <td id=\"T_9f16f_row1_col0\" class=\"data row1 col0\" >0.30</td>\n",
       "      <td id=\"T_9f16f_row1_col1\" class=\"data row1 col1\" >0.28</td>\n",
       "      <td id=\"T_9f16f_row1_col2\" class=\"data row1 col2\" >-2.05</td>\n",
       "      <td id=\"T_9f16f_row1_col3\" class=\"data row1 col3\" >5037.37</td>\n",
       "      <td id=\"T_9f16f_row1_col4\" class=\"data row1 col4\" >$74,770</td>\n",
       "    </tr>\n",
       "    <tr>\n",
       "      <th id=\"T_9f16f_level0_row2\" class=\"row_heading level0 row2\" >Experience Band_11-15</th>\n",
       "      <td id=\"T_9f16f_row2_col0\" class=\"data row2 col0\" >0.16</td>\n",
       "      <td id=\"T_9f16f_row2_col1\" class=\"data row2 col1\" >0.17</td>\n",
       "      <td id=\"T_9f16f_row2_col2\" class=\"data row2 col2\" >0.88</td>\n",
       "      <td id=\"T_9f16f_row2_col3\" class=\"data row2 col3\" >2526.73</td>\n",
       "      <td id=\"T_9f16f_row2_col4\" class=\"data row2 col4\" >$72,260</td>\n",
       "    </tr>\n",
       "    <tr>\n",
       "      <th id=\"T_9f16f_level0_row3\" class=\"row_heading level0 row3\" >Experience Band_16-20</th>\n",
       "      <td id=\"T_9f16f_row3_col0\" class=\"data row3 col0\" >0.23</td>\n",
       "      <td id=\"T_9f16f_row3_col1\" class=\"data row3 col1\" >0.17</td>\n",
       "      <td id=\"T_9f16f_row3_col2\" class=\"data row3 col2\" >-6.14</td>\n",
       "      <td id=\"T_9f16f_row3_col3\" class=\"data row3 col3\" >-2338.42</td>\n",
       "      <td id=\"T_9f16f_row3_col4\" class=\"data row3 col4\" >$67,394</td>\n",
       "    </tr>\n",
       "    <tr>\n",
       "      <th id=\"T_9f16f_level0_row4\" class=\"row_heading level0 row4\" >Experience Band_21-25</th>\n",
       "      <td id=\"T_9f16f_row4_col0\" class=\"data row4 col0\" >0.11</td>\n",
       "      <td id=\"T_9f16f_row4_col1\" class=\"data row4 col1\" >0.06</td>\n",
       "      <td id=\"T_9f16f_row4_col2\" class=\"data row4 col2\" >-4.97</td>\n",
       "      <td id=\"T_9f16f_row4_col3\" class=\"data row4 col3\" >-457.19</td>\n",
       "      <td id=\"T_9f16f_row4_col4\" class=\"data row4 col4\" >$69,276</td>\n",
       "    </tr>\n",
       "    <tr>\n",
       "      <th id=\"T_9f16f_level0_row5\" class=\"row_heading level0 row5\" >Experience Band_26-30</th>\n",
       "      <td id=\"T_9f16f_row5_col0\" class=\"data row5 col0\" >0.00</td>\n",
       "      <td id=\"T_9f16f_row5_col1\" class=\"data row5 col1\" >0.17</td>\n",
       "      <td id=\"T_9f16f_row5_col2\" class=\"data row5 col2\" >16.67</td>\n",
       "      <td id=\"T_9f16f_row5_col3\" class=\"data row5 col3\" >1205.48</td>\n",
       "      <td id=\"T_9f16f_row5_col4\" class=\"data row5 col4\" >$70,938</td>\n",
       "    </tr>\n",
       "    <tr>\n",
       "      <th id=\"T_9f16f_level0_row6\" class=\"row_heading level0 row6\" >Experience Band_30+</th>\n",
       "      <td id=\"T_9f16f_row6_col0\" class=\"data row6 col0\" >0.05</td>\n",
       "      <td id=\"T_9f16f_row6_col1\" class=\"data row6 col1\" >0.17</td>\n",
       "      <td id=\"T_9f16f_row6_col2\" class=\"data row6 col2\" >11.40</td>\n",
       "      <td id=\"T_9f16f_row6_col3\" class=\"data row6 col3\" >-1277.38</td>\n",
       "      <td id=\"T_9f16f_row6_col4\" class=\"data row6 col4\" >$68,455</td>\n",
       "    </tr>\n",
       "  </tbody>\n",
       "</table>\n"
      ],
      "text/plain": [
       "<pandas.io.formats.style.Styler at 0x30e9acbd0>"
      ]
     },
     "metadata": {},
     "output_type": "display_data"
    },
    {
     "name": "stdout",
     "output_type": "stream",
     "text": [
      "\n",
      "📊 Gender Differences in Salary & Key Features:\n"
     ]
    },
    {
     "data": {
      "text/html": [
       "<style type=\"text/css\">\n",
       "</style>\n",
       "<table id=\"T_e95c6\">\n",
       "  <caption>Mean Feature Differences (Male - Female)</caption>\n",
       "  <thead>\n",
       "    <tr>\n",
       "      <th class=\"blank level0\" >&nbsp;</th>\n",
       "      <th id=\"T_e95c6_level0_col0\" class=\"col_heading level0 col0\" >Female</th>\n",
       "      <th id=\"T_e95c6_level0_col1\" class=\"col_heading level0 col1\" >Male</th>\n",
       "      <th id=\"T_e95c6_level0_col2\" class=\"col_heading level0 col2\" >Difference (M - F)</th>\n",
       "    </tr>\n",
       "  </thead>\n",
       "  <tbody>\n",
       "    <tr>\n",
       "      <th id=\"T_e95c6_level0_row0\" class=\"row_heading level0 row0\" >25-26 Salary</th>\n",
       "      <td id=\"T_e95c6_row0_col0\" class=\"data row0 col0\" >69,810.7</td>\n",
       "      <td id=\"T_e95c6_row0_col1\" class=\"data row0 col1\" >75,651.1</td>\n",
       "      <td id=\"T_e95c6_row0_col2\" class=\"data row0 col2\" >5,840.4</td>\n",
       "    </tr>\n",
       "    <tr>\n",
       "      <th id=\"T_e95c6_level0_row1\" class=\"row_heading level0 row1\" >Years of Exp</th>\n",
       "      <td id=\"T_e95c6_row1_col0\" class=\"data row1 col0\" >13.1</td>\n",
       "      <td id=\"T_e95c6_row1_col1\" class=\"data row1 col1\" >19.9</td>\n",
       "      <td id=\"T_e95c6_row1_col2\" class=\"data row1 col2\" >6.9</td>\n",
       "    </tr>\n",
       "    <tr>\n",
       "      <th id=\"T_e95c6_level0_row2\" class=\"row_heading level0 row2\" >Seniority</th>\n",
       "      <td id=\"T_e95c6_row2_col0\" class=\"data row2 col0\" >6.2</td>\n",
       "      <td id=\"T_e95c6_row2_col1\" class=\"data row2 col1\" >11.8</td>\n",
       "      <td id=\"T_e95c6_row2_col2\" class=\"data row2 col2\" >5.6</td>\n",
       "    </tr>\n",
       "    <tr>\n",
       "      <th id=\"T_e95c6_level0_row3\" class=\"row_heading level0 row3\" >Knowledge Rating</th>\n",
       "      <td id=\"T_e95c6_row3_col0\" class=\"data row3 col0\" >0.5</td>\n",
       "      <td id=\"T_e95c6_row3_col1\" class=\"data row3 col1\" >0.4</td>\n",
       "      <td id=\"T_e95c6_row3_col2\" class=\"data row3 col2\" >-0.1</td>\n",
       "    </tr>\n",
       "    <tr>\n",
       "      <th id=\"T_e95c6_level0_row4\" class=\"row_heading level0 row4\" >Prep Rating</th>\n",
       "      <td id=\"T_e95c6_row4_col0\" class=\"data row4 col0\" >0.2</td>\n",
       "      <td id=\"T_e95c6_row4_col1\" class=\"data row4 col1\" >0.1</td>\n",
       "      <td id=\"T_e95c6_row4_col2\" class=\"data row4 col2\" >-0.1</td>\n",
       "    </tr>\n",
       "    <tr>\n",
       "      <th id=\"T_e95c6_level0_row5\" class=\"row_heading level0 row5\" >Skill Rating</th>\n",
       "      <td id=\"T_e95c6_row5_col0\" class=\"data row5 col0\" >0.0</td>\n",
       "      <td id=\"T_e95c6_row5_col1\" class=\"data row5 col1\" >0.0</td>\n",
       "      <td id=\"T_e95c6_row5_col2\" class=\"data row5 col2\" >0.0</td>\n",
       "    </tr>\n",
       "  </tbody>\n",
       "</table>\n"
      ],
      "text/plain": [
       "<pandas.io.formats.style.Styler at 0x30cdfd010>"
      ]
     },
     "metadata": {},
     "output_type": "display_data"
    },
    {
     "name": "stdout",
     "output_type": "stream",
     "text": [
      "\n",
      "📊 Correlation of Gender with Experience Bands:\n"
     ]
    },
    {
     "data": {
      "text/html": [
       "<style type=\"text/css\">\n",
       "</style>\n",
       "<table id=\"T_5a677\">\n",
       "  <caption>Correlation: Gender_M vs Experience Bands</caption>\n",
       "  <thead>\n",
       "    <tr>\n",
       "      <th class=\"blank level0\" >&nbsp;</th>\n",
       "      <th id=\"T_5a677_level0_col0\" class=\"col_heading level0 col0\" >Correlation with Gender_M (*100)</th>\n",
       "    </tr>\n",
       "  </thead>\n",
       "  <tbody>\n",
       "    <tr>\n",
       "      <th id=\"T_5a677_level0_row0\" class=\"row_heading level0 row0\" >Experience Band_00-05</th>\n",
       "      <td id=\"T_5a677_row0_col0\" class=\"data row0 col0\" >-20.751</td>\n",
       "    </tr>\n",
       "    <tr>\n",
       "      <th id=\"T_5a677_level0_row1\" class=\"row_heading level0 row1\" >Experience Band_06-10</th>\n",
       "      <td id=\"T_5a677_row1_col0\" class=\"data row1 col0\" >-1.920</td>\n",
       "    </tr>\n",
       "    <tr>\n",
       "      <th id=\"T_5a677_level0_row2\" class=\"row_heading level0 row2\" >Experience Band_11-15</th>\n",
       "      <td id=\"T_5a677_row2_col0\" class=\"data row2 col0\" >1.022</td>\n",
       "    </tr>\n",
       "    <tr>\n",
       "      <th id=\"T_5a677_level0_row3\" class=\"row_heading level0 row3\" >Experience Band_16-20</th>\n",
       "      <td id=\"T_5a677_row3_col0\" class=\"data row3 col0\" >-6.401</td>\n",
       "    </tr>\n",
       "    <tr>\n",
       "      <th id=\"T_5a677_level0_row4\" class=\"row_heading level0 row4\" >Experience Band_21-25</th>\n",
       "      <td id=\"T_5a677_row4_col0\" class=\"data row4 col0\" >-7.298</td>\n",
       "    </tr>\n",
       "    <tr>\n",
       "      <th id=\"T_5a677_level0_row5\" class=\"row_heading level0 row5\" >Experience Band_26-30</th>\n",
       "      <td id=\"T_5a677_row5_col0\" class=\"data row5 col0\" >36.324</td>\n",
       "    </tr>\n",
       "    <tr>\n",
       "      <th id=\"T_5a677_level0_row6\" class=\"row_heading level0 row6\" >Experience Band_30+</th>\n",
       "      <td id=\"T_5a677_row6_col0\" class=\"data row6 col0\" >17.952</td>\n",
       "    </tr>\n",
       "  </tbody>\n",
       "</table>\n"
      ],
      "text/plain": [
       "<pandas.io.formats.style.Styler at 0x30cec7d10>"
      ]
     },
     "metadata": {},
     "output_type": "display_data"
    }
   ],
   "source": [
    "import pandas as pd\n",
    "import IPython.display as disp\n",
    "\n",
    "# -----------------------------\n",
    "# 0. Temporarily re-encode experience band with all levels (no drop)\n",
    "# -----------------------------\n",
    "exp_band_full = pd.get_dummies(df[\"Experience Band\"], prefix=\"Experience Band\")\n",
    "df_expband_full = pd.concat([df_encoded, exp_band_full], axis=1)\n",
    "\n",
    "# Order of bands for display\n",
    "band_order = [\"Experience Band_00-05\", \"Experience Band_06-10\", \"Experience Band_11-15\",\n",
    "              \"Experience Band_16-20\", \"Experience Band_21-25\", \"Experience Band_26-30\", \"Experience Band_30+\"]\n",
    "\n",
    "# -----------------------------\n",
    "# 1. Gender distribution across experience bands\n",
    "# -----------------------------\n",
    "gender_col = \"Gender_M\"\n",
    "gender_dist = df_expband_full.groupby(gender_col)[band_order].mean().T\n",
    "gender_dist.columns = [\"Female\", \"Male\"]\n",
    "gender_dist = gender_dist.loc[~gender_dist.index.duplicated(keep=\"first\")]\n",
    "gender_dist[\"Difference (M - F) * 100\"] = (gender_dist[\"Male\"] - gender_dist[\"Female\"]) * 100\n",
    "\n",
    "# -----------------------------\n",
    "# 1b. Add model coefficients\n",
    "# -----------------------------\n",
    "band_coeffs = pd.Series(model_noOuts.coef_, index=model_noOuts.feature_names_in_)\n",
    "gender_dist[\"Model Coefficient\"] = gender_dist.index.map(lambda col: band_coeffs.get(col, 0.0))  # default to 0\n",
    "\n",
    "# -----------------------------\n",
    "# 1c. Predicted salary for each band (including baseline)\n",
    "# -----------------------------\n",
    "X_base = X.mean().to_frame().T\n",
    "avg_preds = []\n",
    "for band in band_order:\n",
    "    row = X_base.copy()\n",
    "    # Zero all bands\n",
    "    for b in band_order:\n",
    "        if b in row.columns:\n",
    "            row[b] = 0\n",
    "    if band in row.columns:\n",
    "        row[band] = 1  # set active band\n",
    "    # else: it's the baseline (all bands zero)\n",
    "    avg_salary = model_noOuts.predict(row)[0]\n",
    "    avg_preds.append(avg_salary)\n",
    "\n",
    "gender_dist[\"Predicted Salary\"] = avg_preds\n",
    "\n",
    "# -----------------------------\n",
    "# 2. Average salaries and ratings by gender\n",
    "# -----------------------------\n",
    "compare_cols = [\"25-26 Salary\", \"Years of Exp\", \"Seniority\", \"Knowledge Rating\", \"Prep Rating\", \"Skill Rating\"]\n",
    "gender_summary = df_encoded.groupby(gender_col)[compare_cols].mean().T\n",
    "gender_summary.columns = [\"Female\", \"Male\"]\n",
    "gender_summary[\"Difference (M - F)\"] = gender_summary[\"Male\"] - gender_summary[\"Female\"]\n",
    "\n",
    "# -----------------------------\n",
    "# 3. Correlation of gender with experience bands\n",
    "# -----------------------------\n",
    "correlations = df_expband_full[band_order + [gender_col]].corr()[gender_col].drop(gender_col)\n",
    "correlations = correlations.loc[~correlations.index.duplicated(keep=\"first\")]\n",
    "correlations = correlations.loc[band_order] * 100\n",
    "correlations.name = \"Correlation with Gender_M (*100)\"\n",
    "\n",
    "# -----------------------------\n",
    "# Display\n",
    "# -----------------------------\n",
    "print(\"📊 Gender Distribution Across Experience Bands (mean values):\")\n",
    "disp.display(\n",
    "    gender_dist.style.format({\n",
    "        \"Female\": \"{:.2f}\",\n",
    "        \"Male\": \"{:.2f}\",\n",
    "        \"Difference (M - F) * 100\": \"{:.2f}\",\n",
    "        \"Model Coefficient\": \"{:.2f}\",\n",
    "        \"Predicted Salary\": \"${:,.0f}\"\n",
    "    }).set_caption(\"Gender Distribution by Experience Band with Model Coefficients and Predicted Salary\")\n",
    ")\n",
    "\n",
    "print(\"\\n📊 Gender Differences in Salary & Key Features:\")\n",
    "disp.display(gender_summary.style.format(\"{:,.1f}\").set_caption(\"Mean Feature Differences (Male - Female)\"))\n",
    "\n",
    "print(\"\\n📊 Correlation of Gender with Experience Bands:\")\n",
    "disp.display(correlations.to_frame().style.format(\"{:.3f}\").set_caption(\"Correlation: Gender_M vs Experience Bands\"))"
   ]
  },
  {
   "cell_type": "code",
   "execution_count": 747,
   "metadata": {},
   "outputs": [
    {
     "name": "stdout",
     "output_type": "stream",
     "text": [
      "📥 Manual Feature Input:\n",
      "Years of Exp             18\n",
      "Seniority                 0\n",
      "Skill Rating              1\n",
      "Prep Rating               3\n",
      "Knowledge Rating         10\n",
      "Gender_M                  0\n",
      "Education Level_MA        0\n",
      "Education Level_MS        0\n",
      "Education Level_PhD       0\n",
      "Ethnicity_X               0\n",
      "Level_LS                  0\n",
      "Level_MS                  1\n",
      "Level_HS                  0\n",
      "Experience Band_00-05     0\n",
      "Experience Band_06-10     0\n",
      "Experience Band_11-15     0\n",
      "Experience Band_16-20     1\n",
      "Experience Band_21-25     0\n",
      "Experience Band_26-30     0\n",
      "Experience Band_30+       0\n",
      "dtype: int64\n",
      "\n",
      "💰 Predicted Salary: $96,867\n"
     ]
    }
   ],
   "source": [
    "# -----------------------------\n",
    "# Manual Inputs\n",
    "# -----------------------------\n",
    "# You can change these manually to test different hypothetical employees\n",
    "manual_input = {\n",
    "    \"Years of Exp\": 18,\n",
    "    \"Seniority\": 0,\n",
    "    \"Skill Rating\": 1,         # 1 if higher than 3, else 0\n",
    "    \"Prep Rating\": 3,\n",
    "    \"Knowledge Rating\": 10,\n",
    "    \"Gender_M\": 0,             # 1 for Male, 0 for Female\n",
    "    \"Education Level_MA\": 0,\n",
    "    \"Education Level_MS\": 0,\n",
    "    \"Education Level_PhD\": 0,\n",
    "    \"Ethnicity_X\": 0,          # add actual dummy fields you used\n",
    "    \"Level_LS\": 0,\n",
    "    \"Level_MS\": 1,\n",
    "    \"Level_HS\": 0,\n",
    "    # Experience Band (only one should be 1)\n",
    "    \"Experience Band_00-05\": 0,\n",
    "    \"Experience Band_06-10\": 0,\n",
    "    \"Experience Band_11-15\": 0,\n",
    "    \"Experience Band_16-20\": 1,\n",
    "    \"Experience Band_21-25\": 0,\n",
    "    \"Experience Band_26-30\": 0,\n",
    "    \"Experience Band_30+\": 0\n",
    "}\n",
    "\n",
    "# -----------------------------\n",
    "# Build feature vector from model's expected columns\n",
    "# -----------------------------\n",
    "input_vector = pd.DataFrame(columns=model_noOuts.feature_names_in_)\n",
    "input_vector.loc[0] = 0  # default all to 0\n",
    "for key, value in manual_input.items():\n",
    "    if key in input_vector.columns:\n",
    "        input_vector.at[0, key] = value\n",
    "\n",
    "# -----------------------------\n",
    "# Predict salary\n",
    "# -----------------------------\n",
    "predicted_salary = model_noOuts.predict(input_vector)[0]\n",
    "print(\"📥 Manual Feature Input:\")\n",
    "print(pd.Series(manual_input))\n",
    "print(f\"\\n💰 Predicted Salary: ${predicted_salary:,.0f}\")"
   ]
  },
  {
   "cell_type": "code",
   "execution_count": 751,
   "metadata": {},
   "outputs": [
    {
     "name": "stdout",
     "output_type": "stream",
     "text": [
      "✅ Created column 'Perfect World Salary' based on manually defined coefficients.\n"
     ]
    }
   ],
   "source": [
    "import numpy as np\n",
    "import pandas as pd\n",
    "\n",
    "# -----------------------------\n",
    "# Step 1: Define your \"Perfect World\" coefficients\n",
    "# -----------------------------\n",
    "# Only include features you want to assign value to — everything else defaults to 0.\n",
    "step = 700\n",
    "perfect_world_coeffs = {\n",
    "    \"Years of Exp\": 1000,\n",
    "    \"Seniority\": 0,\n",
    "    \"Skill Rating\": 1000,\n",
    "    \"Prep Rating\": 1000,\n",
    "    \"Knowledge Rating\": 1000,\n",
    "    \"Education Level_MA\": 2000,\n",
    "    \"Education Level_PhD\": 3000,\n",
    "    \"Level_LS\": 0,\n",
    "    \"Level_MS\": 0,\n",
    "    \"Level_HS\": 0,\n",
    "    \"Gender_M\": 0,\n",
    "    # Experience bands (only include if you want them)\n",
    "    \"Experience Band_00-05\": 0,\n",
    "    \"Experience Band_06-10\": step,\n",
    "    \"Experience Band_11-15\": step*2,\n",
    "    \"Experience Band_16-20\": step*3,\n",
    "    \"Experience Band_21-25\": step*4,\n",
    "    \"Experience Band_26-30\": step*5,\n",
    "    \"Experience Band_30+\": step*5\n",
    "}\n",
    "\n",
    "# -----------------------------\n",
    "# Step 2: Create the \"perfect world\" predictor\n",
    "# -----------------------------\n",
    "def predict_perfect_world_salary(df, coeffs, base=52000, feature_cols=None):\n",
    "    \"\"\"\n",
    "    df: DataFrame of model inputs (e.g. X)\n",
    "    coeffs: dict of feature -> value\n",
    "    base: baseline salary (default = 60,000)\n",
    "    feature_cols: columns to use (defaults to df.columns)\n",
    "    \"\"\"\n",
    "    if feature_cols is None:\n",
    "        feature_cols = df.columns\n",
    "\n",
    "    coeff_series = pd.Series(0, index=feature_cols)\n",
    "    for feature, weight in coeffs.items():\n",
    "        if feature in coeff_series.index:\n",
    "            coeff_series[feature] = weight\n",
    "\n",
    "    return base + df[feature_cols].dot(coeff_series)\n",
    "\n",
    "# -----------------------------\n",
    "# Step 3: Apply it to your dataset\n",
    "# -----------------------------\n",
    "df[\"Perfect World Salary\"] = predict_perfect_world_salary(X, perfect_world_coeffs)\n",
    "\n",
    "print(\"✅ Created column 'Perfect World Salary' based on manually defined coefficients.\")"
   ]
  },
  {
   "cell_type": "code",
   "execution_count": 752,
   "metadata": {},
   "outputs": [
    {
     "data": {
      "image/png": "[encoded data removed]",
      "text/plain": [
       "<Figure size 1200x600 with 1 Axes>"
      ]
     },
     "metadata": {},
     "output_type": "display_data"
    }
   ],
   "source": [
    "# -----------------------------\n",
    "# Reshape for plotting\n",
    "# -----------------------------\n",
    "df_plot = df[[\n",
    "    \"Years of Exp\",\n",
    "    \"25-26 Salary\",\n",
    "    \"Prediction_from_clean_model\",\n",
    "    \"Perfect World Salary\"\n",
    "]].copy()\n",
    "\n",
    "df_plot = df_plot.rename(columns={\n",
    "    \"25-26 Salary\": \"Actual Salary\",\n",
    "    \"Prediction_from_clean_model\": \"Model Prediction\",\n",
    "    \"Perfect World Salary\": \"Perfect World\"\n",
    "})\n",
    "\n",
    "# Melt to long-form for seaborn\n",
    "df_long = df_plot.melt(\n",
    "    id_vars=\"Years of Exp\",\n",
    "    var_name=\"Salary Type\",\n",
    "    value_name=\"Salary\"\n",
    ")\n",
    "\n",
    "# Clean up infinities or NaNs\n",
    "df_long = df_long.replace([np.inf, -np.inf], np.nan).dropna(subset=[\"Salary\"])\n",
    "\n",
    "# -----------------------------\n",
    "# Plot\n",
    "# -----------------------------\n",
    "plt.figure(figsize=(12, 6))\n",
    "sns.scatterplot(data=df_long, x=\"Years of Exp\", y=\"Salary\", hue=\"Salary Type\")\n",
    "\n",
    "plt.title(\"Salary vs Years of Experience: Actual, Model, and Perfect World\")\n",
    "plt.xlabel(\"Years of Experience\")\n",
    "plt.ylabel(\"Salary ($)\")\n",
    "plt.grid(True)\n",
    "plt.legend(title=\"Salary Type\")\n",
    "plt.tight_layout()\n",
    "plt.show()"
   ]
  },
  {
   "cell_type": "code",
   "execution_count": 753,
   "metadata": {},
   "outputs": [
    {
     "data": {
      "application/vnd.plotly.v1+json": {
       "config": {
        "plotlyServerURL": "https://plot.ly"
       },
       "data": [
        {
         "customdata": [
          [
           "Joella, Katie "
          ],
          [
           "Dimond, Olivia D"
          ],
          [
           "Pugh, Hannah E"
          ],
          [
           "Baumgartner, Rachel C"
          ],
          [
           "Herndon, Natalie R"
          ],
          [
           "Rosiere, Diana M"
          ],
          [
           "Porter, Laine M"
          ],
          [
           "Wang, Zhuoqun "
          ],
          [
           "Sasine, Corinne P"
          ],
          [
           "Von Tscharner, Emma M"
          ],
          [
           "Berg, Kyle R"
          ],
          [
           "Peters, Emily M"
          ],
          [
           "Burton, Tiffany D"
          ],
          [
           "Swisher, Mark R"
          ],
          [
           "Gulick, Kate T"
          ],
          [
           "McVie, Geoffry "
          ],
          [
           "Greenwald, Tess E"
          ],
          [
           "Jung, Jason R"
          ],
          [
           "McFall, Shannon M"
          ],
          [
           "Garcia, Maria G"
          ],
          [
           "Harnar, Casey E"
          ],
          [
           "Bray, Amie M"
          ],
          [
           "Ochoa, Melissa B"
          ],
          [
           "Passin, Laura E"
          ],
          [
           "McGrath, Alexandra F"
          ],
          [
           "Romano, Bridget M"
          ],
          [
           "Barocas, Anne "
          ],
          [
           "Callis, Carolyn P"
          ],
          [
           "Wang, Xiaomeng "
          ],
          [
           "Brown, Michelle C"
          ],
          [
           "McHugh, John N"
          ],
          [
           "Fonseca, Ana J"
          ],
          [
           "Courtney, Heather M"
          ],
          [
           "Garcia, Christina "
          ],
          [
           "Valin, Josh N"
          ],
          [
           "McGown, Amber"
          ],
          [
           "Ponce, Tomas M"
          ],
          [
           "Tuck, Dane P"
          ],
          [
           "Hollway, Margaret F"
          ],
          [
           "Goforth, Elizabeth A"
          ],
          [
           "Farrell, Julie"
          ],
          [
           "Shipley, Kelly L"
          ],
          [
           "LaRocque, Carol A"
          ],
          [
           "Turnbull, Jennie "
          ],
          [
           "Lantagne, Michael K"
          ],
          [
           "Tullar, Timothy R"
          ],
          [
           "Herman, Bonnie J"
          ],
          [
           "Aragon, Shannon "
          ],
          [
           "Valdez, Savannah G"
          ],
          [
           "Gordon, Heather A"
          ],
          [
           "Boss, Christine M"
          ],
          [
           "Summers, Amber "
          ],
          [
           "Rehmer, Rosemary "
          ],
          [
           "Zinge, Kelley C"
          ],
          [
           "Ferrill Roman, Bonnie M"
          ],
          [
           "Kirchner, Rachel Y"
          ],
          [
           "Jewett, Jeffrey T"
          ],
          [
           "Hill, Bettye"
          ],
          [
           "Johnson, Marie F"
          ],
          [
           "Hon, Rebecca M"
          ],
          [
           "Irwin, Michelle D"
          ],
          [
           "Riehl, Joe "
          ],
          [
           "May, Julie "
          ],
          [
           "Ferguson, Kristen A"
          ],
          [
           "Barton, Sarah F"
          ],
          [
           "Evans, Anne E"
          ],
          [
           "Sniegowski, Peter "
          ],
          [
           "Beckham, Wallace A"
          ],
          [
           "Gentry, Phillip M"
          ],
          [
           "Rodgers, Andy "
          ],
          [
           "Otto, Theresa J"
          ],
          [
           "McCall, Ines A"
          ],
          [
           "Easton, Terrance "
          ],
          [
           "Hamilton, Darla J"
          ],
          [
           "Pattison, Michael G"
          ]
         ],
         "hovertemplate": "Salary Type=Actual Salary<br>Years of Exp=%{x}<br>Salary=%{y}<br>Employee=%{customdata[0]}<extra></extra>",
         "legendgroup": "Actual Salary",
         "marker": {
          "color": "#636efa",
          "symbol": "circle"
         },
         "mode": "markers",
         "name": "Actual Salary",
         "orientation": "v",
         "showlegend": true,
         "type": "scatter",
         "x": [
          0,
          1,
          1,
          3,
          3,
          3,
          4,
          4,
          5,
          6,
          6,
          6,
          6,
          8,
          7,
          9,
          7,
          9,
          6,
          8,
          7,
          6,
          8,
          7,
          7,
          9,
          10,
          10,
          6,
          10,
          7,
          15,
          11,
          13,
          12,
          13,
          15,
          14,
          14,
          14,
          13,
          15,
          11,
          16,
          19,
          17,
          19,
          18,
          16,
          17,
          16,
          20,
          17,
          17,
          17,
          18,
          19,
          17,
          17,
          23,
          25,
          21,
          24,
          24,
          21,
          22,
          27,
          30,
          27,
          33,
          34,
          37,
          38,
          42,
          48
         ],
         "xaxis": "x",
         "y": [
          52125,
          54210,
          54210,
          54302,
          55253,
          56471,
          57338,
          58380,
          64114,
          55328,
          60336,
          61474,
          62884,
          62884,
          65052,
          65211,
          66028,
          66514,
          67763,
          67763,
          68119,
          68805,
          69205,
          69603,
          69848,
          70013,
          70243,
          70473,
          70890,
          72403,
          76387,
          66744,
          67220,
          67395,
          68196,
          69223,
          69848,
          70473,
          71655,
          71655,
          73609,
          77061,
          81055,
          57463,
          64318,
          67166,
          67220,
          67540,
          69848,
          70761,
          70967,
          71209,
          71244,
          71720,
          73997,
          77145,
          77689,
          82201,
          90045,
          65259,
          75504,
          76288,
          77182,
          79861,
          88090,
          90178,
          80874,
          88717,
          95382,
          79173,
          79378,
          90142,
          90370,
          94341,
          101894
         ],
         "yaxis": "y"
        },
        {
         "customdata": [
          [
           "Joella, Katie "
          ],
          [
           "Dimond, Olivia D"
          ],
          [
           "Pugh, Hannah E"
          ],
          [
           "Baumgartner, Rachel C"
          ],
          [
           "Herndon, Natalie R"
          ],
          [
           "Rosiere, Diana M"
          ],
          [
           "Porter, Laine M"
          ],
          [
           "Wang, Zhuoqun "
          ],
          [
           "Sasine, Corinne P"
          ],
          [
           "Von Tscharner, Emma M"
          ],
          [
           "Berg, Kyle R"
          ],
          [
           "Peters, Emily M"
          ],
          [
           "Burton, Tiffany D"
          ],
          [
           "Swisher, Mark R"
          ],
          [
           "Gulick, Kate T"
          ],
          [
           "McVie, Geoffry "
          ],
          [
           "Greenwald, Tess E"
          ],
          [
           "Jung, Jason R"
          ],
          [
           "McFall, Shannon M"
          ],
          [
           "Garcia, Maria G"
          ],
          [
           "Harnar, Casey E"
          ],
          [
           "Bray, Amie M"
          ],
          [
           "Ochoa, Melissa B"
          ],
          [
           "Passin, Laura E"
          ],
          [
           "McGrath, Alexandra F"
          ],
          [
           "Romano, Bridget M"
          ],
          [
           "Barocas, Anne "
          ],
          [
           "Callis, Carolyn P"
          ],
          [
           "Wang, Xiaomeng "
          ],
          [
           "Brown, Michelle C"
          ],
          [
           "McHugh, John N"
          ],
          [
           "Fonseca, Ana J"
          ],
          [
           "Courtney, Heather M"
          ],
          [
           "Garcia, Christina "
          ],
          [
           "Valin, Josh N"
          ],
          [
           "McGown, Amber"
          ],
          [
           "Ponce, Tomas M"
          ],
          [
           "Tuck, Dane P"
          ],
          [
           "Hollway, Margaret F"
          ],
          [
           "Goforth, Elizabeth A"
          ],
          [
           "Farrell, Julie"
          ],
          [
           "Shipley, Kelly L"
          ],
          [
           "LaRocque, Carol A"
          ],
          [
           "Turnbull, Jennie "
          ],
          [
           "Lantagne, Michael K"
          ],
          [
           "Tullar, Timothy R"
          ],
          [
           "Herman, Bonnie J"
          ],
          [
           "Aragon, Shannon "
          ],
          [
           "Valdez, Savannah G"
          ],
          [
           "Gordon, Heather A"
          ],
          [
           "Boss, Christine M"
          ],
          [
           "Summers, Amber "
          ],
          [
           "Rehmer, Rosemary "
          ],
          [
           "Zinge, Kelley C"
          ],
          [
           "Ferrill Roman, Bonnie M"
          ],
          [
           "Kirchner, Rachel Y"
          ],
          [
           "Jewett, Jeffrey T"
          ],
          [
           "Hill, Bettye"
          ],
          [
           "Johnson, Marie F"
          ],
          [
           "Hon, Rebecca M"
          ],
          [
           "Irwin, Michelle D"
          ],
          [
           "Riehl, Joe "
          ],
          [
           "May, Julie "
          ],
          [
           "Ferguson, Kristen A"
          ],
          [
           "Barton, Sarah F"
          ],
          [
           "Evans, Anne E"
          ],
          [
           "Sniegowski, Peter "
          ],
          [
           "Beckham, Wallace A"
          ],
          [
           "Gentry, Phillip M"
          ],
          [
           "Rodgers, Andy "
          ],
          [
           "Otto, Theresa J"
          ],
          [
           "McCall, Ines A"
          ],
          [
           "Easton, Terrance "
          ],
          [
           "Hamilton, Darla J"
          ],
          [
           "Pattison, Michael G"
          ]
         ],
         "hovertemplate": "Salary Type=Model Prediction<br>Years of Exp=%{x}<br>Salary=%{y}<br>Employee=%{customdata[0]}<extra></extra>",
         "legendgroup": "Model Prediction",
         "marker": {
          "color": "#EF553B",
          "symbol": "circle"
         },
         "mode": "markers",
         "name": "Model Prediction",
         "orientation": "v",
         "showlegend": true,
         "type": "scatter",
         "x": [
          0,
          1,
          1,
          3,
          3,
          3,
          4,
          4,
          5,
          6,
          6,
          6,
          6,
          8,
          7,
          9,
          7,
          9,
          6,
          8,
          7,
          6,
          8,
          7,
          7,
          9,
          10,
          10,
          6,
          10,
          7,
          15,
          11,
          13,
          12,
          13,
          15,
          14,
          14,
          14,
          13,
          15,
          11,
          16,
          19,
          17,
          19,
          18,
          16,
          17,
          16,
          20,
          17,
          17,
          17,
          18,
          19,
          17,
          17,
          23,
          25,
          21,
          24,
          24,
          21,
          22,
          27,
          30,
          27,
          33,
          34,
          37,
          38,
          42,
          48
         ],
         "xaxis": "x",
         "y": [
          52676.82890419488,
          53873.59645233514,
          56047.071812945534,
          57662.20374498045,
          56448.68917151093,
          58283.74335499102,
          57282.44247375467,
          59528.90757214092,
          62656.304281369055,
          65751.88094517519,
          62557.443897249424,
          64337.92788816901,
          69421.79009961421,
          64789.48396190829,
          66904.63525098789,
          64942.85834012101,
          66949.72922405365,
          65085.47251110127,
          66633.5165154601,
          67055.63477832505,
          68410.13372976278,
          67822.23175344376,
          68670.0263188679,
          67788.65042105353,
          67921.062875048,
          68707.7520719678,
          68374.16550454599,
          70262.1357782969,
          69635.71135608459,
          70741.06121732722,
          65637.6622978794,
          75435.71651616762,
          67300.43311227352,
          70479.96856637792,
          68713.85674991203,
          68534.1739800706,
          71611.90356414823,
          68761.04859010704,
          72098.09980901306,
          71812.87146705255,
          71017.73331942869,
          76563.14711107594,
          68714.38616927969,
          67170.21635022273,
          68896.09857863717,
          67233.4344671611,
          73321.96523783164,
          69641.31005303815,
          69607.60098577685,
          71083.18378670591,
          72421.82511433435,
          72290.08470857961,
          71212.31518475244,
          70749.5843492836,
          72551.08211232495,
          71600.58741227919,
          70782.98812164988,
          69903.58953496983,
          74742.74220143499,
          78766.1670198984,
          80570.3645716165,
          76829.59812701584,
          77993.63001747767,
          78964.96366847202,
          76508.99457355337,
          78978.45848335674,
          81427.27404800133,
          86958.24993592073,
          80821.81631160867,
          83273.38162404021,
          90212.49786908845,
          90146.22674075497,
          89103.05658490284,
          96405.03833469571,
          102370.05666070407
         ],
         "yaxis": "y"
        },
        {
         "customdata": [
          [
           "Joella, Katie "
          ],
          [
           "Dimond, Olivia D"
          ],
          [
           "Pugh, Hannah E"
          ],
          [
           "Baumgartner, Rachel C"
          ],
          [
           "Herndon, Natalie R"
          ],
          [
           "Rosiere, Diana M"
          ],
          [
           "Porter, Laine M"
          ],
          [
           "Wang, Zhuoqun "
          ],
          [
           "Sasine, Corinne P"
          ],
          [
           "Von Tscharner, Emma M"
          ],
          [
           "Berg, Kyle R"
          ],
          [
           "Peters, Emily M"
          ],
          [
           "Burton, Tiffany D"
          ],
          [
           "Swisher, Mark R"
          ],
          [
           "Gulick, Kate T"
          ],
          [
           "McVie, Geoffry "
          ],
          [
           "Greenwald, Tess E"
          ],
          [
           "Jung, Jason R"
          ],
          [
           "McFall, Shannon M"
          ],
          [
           "Garcia, Maria G"
          ],
          [
           "Harnar, Casey E"
          ],
          [
           "Bray, Amie M"
          ],
          [
           "Ochoa, Melissa B"
          ],
          [
           "Passin, Laura E"
          ],
          [
           "McGrath, Alexandra F"
          ],
          [
           "Romano, Bridget M"
          ],
          [
           "Barocas, Anne "
          ],
          [
           "Callis, Carolyn P"
          ],
          [
           "Wang, Xiaomeng "
          ],
          [
           "Brown, Michelle C"
          ],
          [
           "McHugh, John N"
          ],
          [
           "Fonseca, Ana J"
          ],
          [
           "Courtney, Heather M"
          ],
          [
           "Garcia, Christina "
          ],
          [
           "Valin, Josh N"
          ],
          [
           "McGown, Amber"
          ],
          [
           "Ponce, Tomas M"
          ],
          [
           "Tuck, Dane P"
          ],
          [
           "Hollway, Margaret F"
          ],
          [
           "Goforth, Elizabeth A"
          ],
          [
           "Farrell, Julie"
          ],
          [
           "Shipley, Kelly L"
          ],
          [
           "LaRocque, Carol A"
          ],
          [
           "Turnbull, Jennie "
          ],
          [
           "Lantagne, Michael K"
          ],
          [
           "Tullar, Timothy R"
          ],
          [
           "Herman, Bonnie J"
          ],
          [
           "Aragon, Shannon "
          ],
          [
           "Valdez, Savannah G"
          ],
          [
           "Gordon, Heather A"
          ],
          [
           "Boss, Christine M"
          ],
          [
           "Summers, Amber "
          ],
          [
           "Rehmer, Rosemary "
          ],
          [
           "Zinge, Kelley C"
          ],
          [
           "Ferrill Roman, Bonnie M"
          ],
          [
           "Kirchner, Rachel Y"
          ],
          [
           "Jewett, Jeffrey T"
          ],
          [
           "Hill, Bettye"
          ],
          [
           "Johnson, Marie F"
          ],
          [
           "Hon, Rebecca M"
          ],
          [
           "Irwin, Michelle D"
          ],
          [
           "Riehl, Joe "
          ],
          [
           "May, Julie "
          ],
          [
           "Ferguson, Kristen A"
          ],
          [
           "Barton, Sarah F"
          ],
          [
           "Evans, Anne E"
          ],
          [
           "Sniegowski, Peter "
          ],
          [
           "Beckham, Wallace A"
          ],
          [
           "Gentry, Phillip M"
          ],
          [
           "Rodgers, Andy "
          ],
          [
           "Otto, Theresa J"
          ],
          [
           "McCall, Ines A"
          ],
          [
           "Easton, Terrance "
          ],
          [
           "Hamilton, Darla J"
          ],
          [
           "Pattison, Michael G"
          ]
         ],
         "hovertemplate": "Salary Type=Perfect World<br>Years of Exp=%{x}<br>Salary=%{y}<br>Employee=%{customdata[0]}<extra></extra>",
         "legendgroup": "Perfect World",
         "marker": {
          "color": "#00cc96",
          "symbol": "circle"
         },
         "mode": "markers",
         "name": "Perfect World",
         "orientation": "v",
         "showlegend": true,
         "type": "scatter",
         "x": [
          0,
          1,
          1,
          3,
          3,
          3,
          4,
          4,
          5,
          6,
          6,
          6,
          6,
          8,
          7,
          9,
          7,
          9,
          6,
          8,
          7,
          6,
          8,
          7,
          7,
          9,
          10,
          10,
          6,
          10,
          7,
          15,
          11,
          13,
          12,
          13,
          15,
          14,
          14,
          14,
          13,
          15,
          11,
          16,
          19,
          17,
          19,
          18,
          16,
          17,
          16,
          20,
          17,
          17,
          17,
          18,
          19,
          17,
          17,
          23,
          25,
          21,
          24,
          24,
          21,
          22,
          27,
          30,
          27,
          33,
          34,
          37,
          38,
          42,
          48
         ],
         "xaxis": "x",
         "y": [
          52300,
          53300,
          54300,
          57300,
          55500,
          57600,
          56300,
          58700,
          60700,
          61000,
          59000,
          59000,
          62700,
          61000,
          62000,
          62000,
          62000,
          62000,
          61300,
          61200,
          63000,
          62400,
          63400,
          63000,
          62400,
          64000,
          63000,
          65000,
          62700,
          65300,
          62200,
          72200,
          64700,
          68900,
          67900,
          66700,
          70700,
          67700,
          69700,
          69700,
          68700,
          72400,
          66700,
          70400,
          73400,
          71400,
          75800,
          72400,
          72400,
          73900,
          74100,
          76400,
          74100,
          73600,
          74400,
          74400,
          75400,
          73400,
          76100,
          80100,
          82100,
          79100,
          81100,
          81500,
          78100,
          80100,
          84800,
          88800,
          83500,
          88800,
          92100,
          93000,
          93800,
          99800,
          106100
         ],
         "yaxis": "y"
        }
       ],
       "layout": {
        "height": 600,
        "hovermode": "closest",
        "legend": {
         "title": {
          "text": "Salary Type"
         },
         "tracegroupgap": 0
        },
        "template": {
         "data": {
          "bar": [
           {
            "error_x": {
             "color": "#2a3f5f"
            },
            "error_y": {
             "color": "#2a3f5f"
            },
            "marker": {
             "line": {
              "color": "#E5ECF6",
              "width": 0.5
             },
             "pattern": {
              "fillmode": "overlay",
              "size": 10,
              "solidity": 0.2
             }
            },
            "type": "bar"
           }
          ],
          "barpolar": [
           {
            "marker": {
             "line": {
              "color": "#E5ECF6",
              "width": 0.5
             },
             "pattern": {
              "fillmode": "overlay",
              "size": 10,
              "solidity": 0.2
             }
            },
            "type": "barpolar"
           }
          ],
          "carpet": [
           {
            "aaxis": {
             "endlinecolor": "#2a3f5f",
             "gridcolor": "white",
             "linecolor": "white",
             "minorgridcolor": "white",
             "startlinecolor": "#2a3f5f"
            },
            "baxis": {
             "endlinecolor": "#2a3f5f",
             "gridcolor": "white",
             "linecolor": "white",
             "minorgridcolor": "white",
             "startlinecolor": "#2a3f5f"
            },
            "type": "carpet"
           }
          ],
          "choropleth": [
           {
            "colorbar": {
             "outlinewidth": 0,
             "ticks": ""
            },
            "type": "choropleth"
           }
          ],
          "contour": [
           {
            "colorbar": {
             "outlinewidth": 0,
             "ticks": ""
            },
            "colorscale": [
             [
              0,
              "#0d0887"
             ],
             [
              0.1111111111111111,
              "#46039f"
             ],
             [
              0.2222222222222222,
              "#7201a8"
             ],
             [
              0.3333333333333333,
              "#9c179e"
             ],
             [
              0.4444444444444444,
              "#bd3786"
             ],
             [
              0.5555555555555556,
              "#d8576b"
             ],
             [
              0.6666666666666666,
              "#ed7953"
             ],
             [
              0.7777777777777778,
              "#fb9f3a"
             ],
             [
              0.8888888888888888,
              "#fdca26"
             ],
             [
              1,
              "#f0f921"
             ]
            ],
            "type": "contour"
           }
          ],
          "contourcarpet": [
           {
            "colorbar": {
             "outlinewidth": 0,
             "ticks": ""
            },
            "type": "contourcarpet"
           }
          ],
          "heatmap": [
           {
            "colorbar": {
             "outlinewidth": 0,
             "ticks": ""
            },
            "colorscale": [
             [
              0,
              "#0d0887"
             ],
             [
              0.1111111111111111,
              "#46039f"
             ],
             [
              0.2222222222222222,
              "#7201a8"
             ],
             [
              0.3333333333333333,
              "#9c179e"
             ],
             [
              0.4444444444444444,
              "#bd3786"
             ],
             [
              0.5555555555555556,
              "#d8576b"
             ],
             [
              0.6666666666666666,
              "#ed7953"
             ],
             [
              0.7777777777777778,
              "#fb9f3a"
             ],
             [
              0.8888888888888888,
              "#fdca26"
             ],
             [
              1,
              "#f0f921"
             ]
            ],
            "type": "heatmap"
           }
          ],
          "heatmapgl": [
           {
            "colorbar": {
             "outlinewidth": 0,
             "ticks": ""
            },
            "colorscale": [
             [
              0,
              "#0d0887"
             ],
             [
              0.1111111111111111,
              "#46039f"
             ],
             [
              0.2222222222222222,
              "#7201a8"
             ],
             [
              0.3333333333333333,
              "#9c179e"
             ],
             [
              0.4444444444444444,
              "#bd3786"
             ],
             [
              0.5555555555555556,
              "#d8576b"
             ],
             [
              0.6666666666666666,
              "#ed7953"
             ],
             [
              0.7777777777777778,
              "#fb9f3a"
             ],
             [
              0.8888888888888888,
              "#fdca26"
             ],
             [
              1,
              "#f0f921"
             ]
            ],
            "type": "heatmapgl"
           }
          ],
          "histogram": [
           {
            "marker": {
             "pattern": {
              "fillmode": "overlay",
              "size": 10,
              "solidity": 0.2
             }
            },
            "type": "histogram"
           }
          ],
          "histogram2d": [
           {
            "colorbar": {
             "outlinewidth": 0,
             "ticks": ""
            },
            "colorscale": [
             [
              0,
              "#0d0887"
             ],
             [
              0.1111111111111111,
              "#46039f"
             ],
             [
              0.2222222222222222,
              "#7201a8"
             ],
             [
              0.3333333333333333,
              "#9c179e"
             ],
             [
              0.4444444444444444,
              "#bd3786"
             ],
             [
              0.5555555555555556,
              "#d8576b"
             ],
             [
              0.6666666666666666,
              "#ed7953"
             ],
             [
              0.7777777777777778,
              "#fb9f3a"
             ],
             [
              0.8888888888888888,
              "#fdca26"
             ],
             [
              1,
              "#f0f921"
             ]
            ],
            "type": "histogram2d"
           }
          ],
          "histogram2dcontour": [
           {
            "colorbar": {
             "outlinewidth": 0,
             "ticks": ""
            },
            "colorscale": [
             [
              0,
              "#0d0887"
             ],
             [
              0.1111111111111111,
              "#46039f"
             ],
             [
              0.2222222222222222,
              "#7201a8"
             ],
             [
              0.3333333333333333,
              "#9c179e"
             ],
             [
              0.4444444444444444,
              "#bd3786"
             ],
             [
              0.5555555555555556,
              "#d8576b"
             ],
             [
              0.6666666666666666,
              "#ed7953"
             ],
             [
              0.7777777777777778,
              "#fb9f3a"
             ],
             [
              0.8888888888888888,
              "#fdca26"
             ],
             [
              1,
              "#f0f921"
             ]
            ],
            "type": "histogram2dcontour"
           }
          ],
          "mesh3d": [
           {
            "colorbar": {
             "outlinewidth": 0,
             "ticks": ""
            },
            "type": "mesh3d"
           }
          ],
          "parcoords": [
           {
            "line": {
             "colorbar": {
              "outlinewidth": 0,
              "ticks": ""
             }
            },
            "type": "parcoords"
           }
          ],
          "pie": [
           {
            "automargin": true,
            "type": "pie"
           }
          ],
          "scatter": [
           {
            "fillpattern": {
             "fillmode": "overlay",
             "size": 10,
             "solidity": 0.2
            },
            "type": "scatter"
           }
          ],
          "scatter3d": [
           {
            "line": {
             "colorbar": {
              "outlinewidth": 0,
              "ticks": ""
             }
            },
            "marker": {
             "colorbar": {
              "outlinewidth": 0,
              "ticks": ""
             }
            },
            "type": "scatter3d"
           }
          ],
          "scattercarpet": [
           {
            "marker": {
             "colorbar": {
              "outlinewidth": 0,
              "ticks": ""
             }
            },
            "type": "scattercarpet"
           }
          ],
          "scattergeo": [
           {
            "marker": {
             "colorbar": {
              "outlinewidth": 0,
              "ticks": ""
             }
            },
            "type": "scattergeo"
           }
          ],
          "scattergl": [
           {
            "marker": {
             "colorbar": {
              "outlinewidth": 0,
              "ticks": ""
             }
            },
            "type": "scattergl"
           }
          ],
          "scattermapbox": [
           {
            "marker": {
             "colorbar": {
              "outlinewidth": 0,
              "ticks": ""
             }
            },
            "type": "scattermapbox"
           }
          ],
          "scatterpolar": [
           {
            "marker": {
             "colorbar": {
              "outlinewidth": 0,
              "ticks": ""
             }
            },
            "type": "scatterpolar"
           }
          ],
          "scatterpolargl": [
           {
            "marker": {
             "colorbar": {
              "outlinewidth": 0,
              "ticks": ""
             }
            },
            "type": "scatterpolargl"
           }
          ],
          "scatterternary": [
           {
            "marker": {
             "colorbar": {
              "outlinewidth": 0,
              "ticks": ""
             }
            },
            "type": "scatterternary"
           }
          ],
          "surface": [
           {
            "colorbar": {
             "outlinewidth": 0,
             "ticks": ""
            },
            "colorscale": [
             [
              0,
              "#0d0887"
             ],
             [
              0.1111111111111111,
              "#46039f"
             ],
             [
              0.2222222222222222,
              "#7201a8"
             ],
             [
              0.3333333333333333,
              "#9c179e"
             ],
             [
              0.4444444444444444,
              "#bd3786"
             ],
             [
              0.5555555555555556,
              "#d8576b"
             ],
             [
              0.6666666666666666,
              "#ed7953"
             ],
             [
              0.7777777777777778,
              "#fb9f3a"
             ],
             [
              0.8888888888888888,
              "#fdca26"
             ],
             [
              1,
              "#f0f921"
             ]
            ],
            "type": "surface"
           }
          ],
          "table": [
           {
            "cells": {
             "fill": {
              "color": "#EBF0F8"
             },
             "line": {
              "color": "white"
             }
            },
            "header": {
             "fill": {
              "color": "#C8D4E3"
             },
             "line": {
              "color": "white"
             }
            },
            "type": "table"
           }
          ]
         },
         "layout": {
          "annotationdefaults": {
           "arrowcolor": "#2a3f5f",
           "arrowhead": 0,
           "arrowwidth": 1
          },
          "autotypenumbers": "strict",
          "coloraxis": {
           "colorbar": {
            "outlinewidth": 0,
            "ticks": ""
           }
          },
          "colorscale": {
           "diverging": [
            [
             0,
             "#8e0152"
            ],
            [
             0.1,
             "#c51b7d"
            ],
            [
             0.2,
             "#de77ae"
            ],
            [
             0.3,
             "#f1b6da"
            ],
            [
             0.4,
             "#fde0ef"
            ],
            [
             0.5,
             "#f7f7f7"
            ],
            [
             0.6,
             "#e6f5d0"
            ],
            [
             0.7,
             "#b8e186"
            ],
            [
             0.8,
             "#7fbc41"
            ],
            [
             0.9,
             "#4d9221"
            ],
            [
             1,
             "#276419"
            ]
           ],
           "sequential": [
            [
             0,
             "#0d0887"
            ],
            [
             0.1111111111111111,
             "#46039f"
            ],
            [
             0.2222222222222222,
             "#7201a8"
            ],
            [
             0.3333333333333333,
             "#9c179e"
            ],
            [
             0.4444444444444444,
             "#bd3786"
            ],
            [
             0.5555555555555556,
             "#d8576b"
            ],
            [
             0.6666666666666666,
             "#ed7953"
            ],
            [
             0.7777777777777778,
             "#fb9f3a"
            ],
            [
             0.8888888888888888,
             "#fdca26"
            ],
            [
             1,
             "#f0f921"
            ]
           ],
           "sequentialminus": [
            [
             0,
             "#0d0887"
            ],
            [
             0.1111111111111111,
             "#46039f"
            ],
            [
             0.2222222222222222,
             "#7201a8"
            ],
            [
             0.3333333333333333,
             "#9c179e"
            ],
            [
             0.4444444444444444,
             "#bd3786"
            ],
            [
             0.5555555555555556,
             "#d8576b"
            ],
            [
             0.6666666666666666,
             "#ed7953"
            ],
            [
             0.7777777777777778,
             "#fb9f3a"
            ],
            [
             0.8888888888888888,
             "#fdca26"
            ],
            [
             1,
             "#f0f921"
            ]
           ]
          },
          "colorway": [
           "#636efa",
           "#EF553B",
           "#00cc96",
           "#ab63fa",
           "#FFA15A",
           "#19d3f3",
           "#FF6692",
           "#B6E880",
           "#FF97FF",
           "#FECB52"
          ],
          "font": {
           "color": "#2a3f5f"
          },
          "geo": {
           "bgcolor": "white",
           "lakecolor": "white",
           "landcolor": "#E5ECF6",
           "showlakes": true,
           "showland": true,
           "subunitcolor": "white"
          },
          "hoverlabel": {
           "align": "left"
          },
          "hovermode": "closest",
          "mapbox": {
           "style": "light"
          },
          "paper_bgcolor": "white",
          "plot_bgcolor": "#E5ECF6",
          "polar": {
           "angularaxis": {
            "gridcolor": "white",
            "linecolor": "white",
            "ticks": ""
           },
           "bgcolor": "#E5ECF6",
           "radialaxis": {
            "gridcolor": "white",
            "linecolor": "white",
            "ticks": ""
           }
          },
          "scene": {
           "xaxis": {
            "backgroundcolor": "#E5ECF6",
            "gridcolor": "white",
            "gridwidth": 2,
            "linecolor": "white",
            "showbackground": true,
            "ticks": "",
            "zerolinecolor": "white"
           },
           "yaxis": {
            "backgroundcolor": "#E5ECF6",
            "gridcolor": "white",
            "gridwidth": 2,
            "linecolor": "white",
            "showbackground": true,
            "ticks": "",
            "zerolinecolor": "white"
           },
           "zaxis": {
            "backgroundcolor": "#E5ECF6",
            "gridcolor": "white",
            "gridwidth": 2,
            "linecolor": "white",
            "showbackground": true,
            "ticks": "",
            "zerolinecolor": "white"
           }
          },
          "shapedefaults": {
           "line": {
            "color": "#2a3f5f"
           }
          },
          "ternary": {
           "aaxis": {
            "gridcolor": "white",
            "linecolor": "white",
            "ticks": ""
           },
           "baxis": {
            "gridcolor": "white",
            "linecolor": "white",
            "ticks": ""
           },
           "bgcolor": "#E5ECF6",
           "caxis": {
            "gridcolor": "white",
            "linecolor": "white",
            "ticks": ""
           }
          },
          "title": {
           "x": 0.05
          },
          "xaxis": {
           "automargin": true,
           "gridcolor": "white",
           "linecolor": "white",
           "ticks": "",
           "title": {
            "standoff": 15
           },
           "zerolinecolor": "white",
           "zerolinewidth": 2
          },
          "yaxis": {
           "automargin": true,
           "gridcolor": "white",
           "linecolor": "white",
           "ticks": "",
           "title": {
            "standoff": 15
           },
           "zerolinecolor": "white",
           "zerolinewidth": 2
          }
         }
        },
        "title": {
         "text": "Salary vs Years of Experience: Actual, Model, and Perfect World"
        },
        "xaxis": {
         "anchor": "y",
         "domain": [
          0,
          1
         ],
         "title": {
          "text": "Years of Experience"
         }
        },
        "yaxis": {
         "anchor": "x",
         "domain": [
          0,
          1
         ],
         "title": {
          "text": "Salary ($)"
         }
        }
       }
      }
     },
     "metadata": {},
     "output_type": "display_data"
    }
   ],
   "source": [
    "import plotly.express as px\n",
    "import pandas as pd\n",
    "import numpy as np\n",
    "\n",
    "# Prepare the data (assumes df already exists and has the right columns)\n",
    "df_plot = df[[\n",
    "    \"Employee\",\n",
    "    \"Years of Exp\",\n",
    "    \"25-26 Salary\",\n",
    "    \"Prediction_from_clean_model\",\n",
    "    \"Perfect World Salary\"\n",
    "]].copy()\n",
    "\n",
    "df_plot = df_plot.rename(columns={\n",
    "    \"25-26 Salary\": \"Actual Salary\",\n",
    "    \"Prediction_from_clean_model\": \"Model Prediction\",\n",
    "    \"Perfect World Salary\": \"Perfect World\"\n",
    "})\n",
    "\n",
    "# Melt to long format\n",
    "df_long = df_plot.melt(\n",
    "    id_vars=[\"Years of Exp\", \"Employee\"],\n",
    "    var_name=\"Salary Type\",\n",
    "    value_name=\"Salary\"\n",
    ")\n",
    "\n",
    "# Clean up infinities or NaNs\n",
    "df_long = df_long.replace([np.inf, -np.inf], np.nan).dropna(subset=[\"Salary\"])\n",
    "\n",
    "# Interactive plot with trendlines\n",
    "fig = px.scatter(\n",
    "    df_long,\n",
    "    x=\"Years of Exp\",\n",
    "    y=\"Salary\",\n",
    "    color=\"Salary Type\",\n",
    "    # trendline=\"ols\",\n",
    "    hover_data=[\"Employee\", \"Salary\", \"Years of Exp\"],\n",
    "    title=\"Salary vs Years of Experience: Actual, Model, and Perfect World\"\n",
    ")\n",
    "\n",
    "fig.update_layout(\n",
    "    height=600,\n",
    "    legend_title=\"Salary Type\",\n",
    "    xaxis_title=\"Years of Experience\",\n",
    "    yaxis_title=\"Salary ($)\",\n",
    "    hovermode=\"closest\"\n",
    ")\n",
    "\n",
    "fig.show()"
   ]
  },
  {
   "cell_type": "code",
   "execution_count": null,
   "metadata": {},
   "outputs": [],
   "source": []
  }
 ],
 "metadata": {
  "kernelspec": {
   "display_name": "base",
   "language": "python",
   "name": "python3"
  },
  "language_info": {
   "codemirror_mode": {
    "name": "ipython",
    "version": 3
   },
   "file_extension": ".py",
   "mimetype": "text/x-python",
   "name": "python",
   "nbconvert_exporter": "python",
   "pygments_lexer": "ipython3",
   "version": "3.11.7"
  }
 },
 "nbformat": 4,
 "nbformat_minor": 2
}
