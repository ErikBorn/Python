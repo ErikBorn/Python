{
 "cells": [
  {
   "cell_type": "code",
   "execution_count": 178,
   "metadata": {},
   "outputs": [],
   "source": [
    "import pandas as pd\n",
    "import numpy as np\n",
    "import matplotlib.pyplot as plt\n",
    "import seaborn as sns\n",
    "\n",
    "from sklearn.linear_model import Ridge, LogisticRegression\n",
    "from sklearn.model_selection import cross_val_score, train_test_split\n",
    "from sklearn.metrics import mean_squared_error, r2_score, classification_report"
   ]
  },
  {
   "cell_type": "code",
   "execution_count": 179,
   "metadata": {},
   "outputs": [],
   "source": [
    "\n",
    "# -------------------\n",
    "# Load and clean data\n",
    "# -------------------\n",
    "df = pd.read_csv(\"/Users/erikborn/Documents/Python/jupyter/Salary_ML/modelData.csv\")\n",
    "\n",
    "# Process dates\n",
    "df[\"Hire Date \"] = pd.to_datetime(df[\"Hire Date \"], errors=\"coerce\")\n",
    "df[\"Years Since Hire\"] = pd.Timestamp(\"2024-01-01\") - df[\"Hire Date \"]\n",
    "df[\"Years Since Hire\"] = df[\"Years Since Hire\"].dt.days // 365\n",
    "df = df.drop(columns=[\"Hire Date \"])\n",
    "\n",
    "# Clean numeric fields\n",
    "df[\"25-26 Salary\"] = pd.to_numeric(df[\"25-26 Salary\"].str.replace(\",\", \"\"), errors=\"coerce\")\n",
    "df[\"Prep Rating\"] = pd.to_numeric(df[\"Prep Rating\"], errors=\"coerce\")\n",
    "df = df.dropna()\n",
    "\n",
    "#Features selection\n",
    "features_to_keep = [\n",
    "    \"Years Since Hire\",\n",
    "    \"Years of Exp\",\n",
    "    \"Seniority\",\n",
    "    \"Skill Rating\",\n",
    "    \"Prep Rating\",\n",
    "    \"Knowledge Rating\",\n",
    "    # add or remove from here as needed\n",
    "]\n",
    "\n",
    "# One-hot encode categorical features\n",
    "cats = [\n",
    "    # \"Ethnicity\", \n",
    "    \"Gender\", \n",
    "    \"Education Level\"]\n",
    "df_encoded = pd.get_dummies(df, columns=cats, drop_first=True)\n",
    "\n",
    "#Include other features\n",
    "categorical_dummies = [col for col in df_encoded.columns if any(prefix in col for prefix in cats)]\n",
    "features_to_use = features_to_keep + categorical_dummies\n",
    "\n",
    "X = df_encoded[features_to_use]\n",
    "y = df_encoded[\"25-26 Salary\"]"
   ]
  },
  {
   "cell_type": "code",
   "execution_count": 180,
   "metadata": {},
   "outputs": [
    {
     "name": "stdout",
     "output_type": "stream",
     "text": [
      "\n",
      "🧪 Ridge Regression Cross-Validation Results:\n",
      "Alpha\tAvg R²\t\tStd R²\t\tAvg RMSE\t\tStd RMSE\n",
      "1     \t0.5572\t\t0.2169\t\t5,995.36\t\t1,243.45\n"
     ]
    }
   ],
   "source": [
    "\n",
    "# -------------------\n",
    "# Regression model\n",
    "# -------------------\n",
    "from sklearn.model_selection import RepeatedKFold, cross_validate\n",
    "# X = df_encoded.drop(columns=[\"25-26 Salary\"])\n",
    "# y = df_encoded[\"25-26 Salary\"]\n",
    "\n",
    "rkf = RepeatedKFold(n_splits=5, n_repeats=10, random_state=42)\n",
    "model_noOuts = Ridge(alpha=1.0)\n",
    "scores = cross_validate(\n",
    "        model_noOuts,\n",
    "        X,\n",
    "        y,\n",
    "        cv=rkf,\n",
    "        scoring=('r2', 'neg_mean_squared_error'),\n",
    "        return_train_score=False\n",
    "    )\n",
    "r2_scores = scores[\"test_r2\"]\n",
    "rmse_scores = (-scores[\"test_neg_mean_squared_error\"]) ** 0.5\n",
    "a=1\n",
    "print(\"\\n🧪 Ridge Regression Cross-Validation Results:\")\n",
    "print(\"Alpha\\tAvg R²\\t\\tStd R²\\t\\tAvg RMSE\\t\\tStd RMSE\")\n",
    "print(f\"{a:<6}\\t{np.mean(r2_scores):.4f}\\t\\t{np.std(r2_scores):.4f}\\t\\t{np.mean(rmse_scores):,.2f}\\t\\t{np.std(rmse_scores):,.2f}\")\n"
   ]
  },
  {
   "cell_type": "code",
   "execution_count": 181,
   "metadata": {},
   "outputs": [
    {
     "name": "stdout",
     "output_type": "stream",
     "text": [
      "\n",
      "📊 Outlier Classifier Performance (custom threshold):\n",
      "              precision    recall  f1-score   support\n",
      "\n",
      "       False       0.50      0.12      0.20         8\n",
      "        True       0.42      0.83      0.56         6\n",
      "\n",
      "    accuracy                           0.43        14\n",
      "   macro avg       0.46      0.48      0.38        14\n",
      "weighted avg       0.46      0.43      0.35        14\n",
      "\n"
     ]
    }
   ],
   "source": [
    "# -------------------\n",
    "# Outlier detection\n",
    "# -------------------\n",
    "model_noOuts.fit(X, y)\n",
    "df[\"Prediction\"] = model_noOuts.predict(X)\n",
    "df[\"Residual\"] = df[\"25-26 Salary\"] - df[\"Prediction\"]\n",
    "\n",
    "# Control outlier threshold as a percent of actual salary\n",
    "threshold_percent = 0.05\n",
    "df[\"Outlier_Flag\"] = df[\"Residual\"].abs() > (threshold_percent * df[\"25-26 Salary\"])\n",
    "\n",
    "# -------------------\n",
    "# Train classifier to identify outliers\n",
    "# -------------------\n",
    "X_class = X.copy()\n",
    "y_class = df[\"Outlier_Flag\"]\n",
    "\n",
    "X_train, X_test, y_train, y_test = train_test_split(X_class, y_class, test_size=0.2, random_state=42)\n",
    "clf = LogisticRegression(max_iter=1000)\n",
    "clf.fit(X_train, y_train)\n",
    "\n",
    "probs = clf.predict_proba(X_test)[:, 1]\n",
    "y_custom = probs > 0.3\n",
    "\n",
    "print(\"\\n📊 Outlier Classifier Performance (custom threshold):\")\n",
    "print(classification_report(y_test, y_custom))"
   ]
  },
  {
   "cell_type": "code",
   "execution_count": 182,
   "metadata": {},
   "outputs": [
    {
     "data": {
      "image/png": "[encoded data removed]",
      "text/plain": [
       "<Figure size 800x600 with 1 Axes>"
      ]
     },
     "metadata": {},
     "output_type": "display_data"
    }
   ],
   "source": [
    "# -------------------\n",
    "# Visualization\n",
    "# -------------------\n",
    "df[\"Outlier_Prob\"] = clf.predict_proba(X_class)[:, 1]\n",
    "df[\"Outlier_Pred\"] = df[\"Outlier_Prob\"] > 0.4\n",
    "\n",
    "plt.figure(figsize=(8, 6))\n",
    "sns.scatterplot(\n",
    "    data=df,\n",
    "    x=\"25-26 Salary\",\n",
    "    y=\"Prediction\",\n",
    "    hue=\"Outlier_Pred\",\n",
    "    palette={True: \"red\", False: \"green\"},\n",
    "    style=\"Outlier_Flag\",\n",
    "    markers={True: \"X\", False: \"o\"},\n",
    "    s=100\n",
    ")\n",
    "plt.axline((0, 0), slope=1, linestyle=\"--\", color=\"gray\")\n",
    "plt.title(\"Salary Predictions vs Actuals\\n(Colored by Classifier Prediction)\")\n",
    "plt.xlabel(\"Predicted Salary\")\n",
    "plt.ylabel(\"Actual Salary\")\n",
    "plt.legend(title=\"Predicted Outlier\")\n",
    "plt.tight_layout()\n",
    "plt.show()"
   ]
  },
  {
   "cell_type": "code",
   "execution_count": 183,
   "metadata": {},
   "outputs": [
    {
     "name": "stdout",
     "output_type": "stream",
     "text": [
      "\n",
      "🧪 Ridge Regression Cross-Validation (Excluding Outliers):\n",
      "Used 37 data points for training after outlier exclusion.\n",
      "\n",
      "Alpha\tAvg R²\t\tStd R²\t\tAvg RMSE\t\tStd RMSE\n",
      "1     \t0.7974\t\t0.2277\t\t2,899.83\t\t603.38\n"
     ]
    }
   ],
   "source": [
    "from sklearn.model_selection import RepeatedKFold, cross_validate\n",
    "\n",
    "# Filter to only rows *not* flagged as outliers\n",
    "df_clean = df[~df[\"Outlier_Flag\"]].copy()\n",
    "\n",
    "# Match index of rows not flagged as outliers\n",
    "clean_indices = df_clean.index\n",
    "\n",
    "# Ensure we use the same features as original X\n",
    "features_to_use = X.columns.tolist()\n",
    "\n",
    "# Rebuild X and y using just those rows and the exact same features\n",
    "X_clean = df_encoded.loc[clean_indices, features_to_use]\n",
    "y_clean = df.loc[clean_indices, \"25-26 Salary\"]\n",
    "\n",
    "# Set up repeated cross-validation\n",
    "rkf = RepeatedKFold(n_splits=5, n_repeats=25, random_state=42)\n",
    "\n",
    "# Ridge model (alpha = 1)\n",
    "a = 1\n",
    "model_noOuts = Ridge(alpha=a)\n",
    "\n",
    "# Run CV\n",
    "scores = cross_validate(\n",
    "    model_noOuts,\n",
    "    X_clean,\n",
    "    y_clean,\n",
    "    cv=rkf,\n",
    "    scoring=('r2', 'neg_mean_squared_error'),\n",
    "    return_train_score=False\n",
    ")\n",
    "\n",
    "# Analyze results\n",
    "r2_scores = scores[\"test_r2\"]\n",
    "rmse_scores = (-scores[\"test_neg_mean_squared_error\"]) ** 0.5\n",
    "\n",
    "# Display\n",
    "print(\"\\n🧪 Ridge Regression Cross-Validation (Excluding Outliers):\")\n",
    "print(f\"Used {len(X_clean):,} data points for training after outlier exclusion.\\n\")\n",
    "print(\"Alpha\\tAvg R²\\t\\tStd R²\\t\\tAvg RMSE\\t\\tStd RMSE\")\n",
    "print(f\"{a:<6}\\t{np.mean(r2_scores):.4f}\\t\\t{np.std(r2_scores):.4f}\\t\\t{np.mean(rmse_scores):,.2f}\\t\\t{np.std(rmse_scores):,.2f}\")"
   ]
  },
  {
   "cell_type": "code",
   "execution_count": 184,
   "metadata": {},
   "outputs": [
    {
     "data": {
      "image/png": "[encoded data removed]",
      "text/plain": [
       "<Figure size 1000x600 with 1 Axes>"
      ]
     },
     "metadata": {},
     "output_type": "display_data"
    }
   ],
   "source": [
    "import matplotlib.pyplot as plt\n",
    "\n",
    "# Fit the model on cleaned data (if not already done)\n",
    "model_noOuts = Ridge(alpha=1.0)\n",
    "model_noOuts.fit(X_clean, y_clean)\n",
    "\n",
    "# Create DataFrame of coefficients\n",
    "coef_df = pd.DataFrame({\n",
    "    \"Feature\": X_clean.columns,\n",
    "    \"Coefficient\": model_noOuts.coef_\n",
    "}).sort_values(\"Coefficient\", key=abs, ascending=False)\n",
    "\n",
    "# Plot\n",
    "plt.figure(figsize=(10, 6))\n",
    "bars = plt.barh(coef_df[\"Feature\"], coef_df[\"Coefficient\"], color=\"skyblue\")\n",
    "\n",
    "# Add text labels inside the bars\n",
    "for bar, coef in zip(bars, coef_df[\"Coefficient\"]):\n",
    "    width = bar.get_width()\n",
    "    text = f\"{coef:.3f}\"\n",
    "    xpos = width - 0.01 * max(abs(coef_df[\"Coefficient\"])) if width > 0 else width + 0.01 * max(abs(coef_df[\"Coefficient\"]))\n",
    "    align = \"right\" if width > 0 else \"left\"\n",
    "    plt.text(\n",
    "        xpos,\n",
    "        bar.get_y() + bar.get_height() / 2,\n",
    "        text,\n",
    "        va=\"center\",\n",
    "        ha=align,\n",
    "        color=\"black\",\n",
    "        fontweight=\"bold\"\n",
    "    )\n",
    "\n",
    "plt.axvline(0, color=\"gray\", linewidth=1)\n",
    "plt.title(\"Ridge Model Coefficients (Excluding Outliers)\")\n",
    "plt.xlabel(\"Coefficient Value\")\n",
    "plt.tight_layout()\n",
    "plt.gca().invert_yaxis()\n",
    "plt.show()"
   ]
  },
  {
   "cell_type": "code",
   "execution_count": 185,
   "metadata": {},
   "outputs": [
    {
     "data": {
      "image/png": "[encoded data removed]",
      "text/plain": [
       "<Figure size 800x600 with 1 Axes>"
      ]
     },
     "metadata": {},
     "output_type": "display_data"
    }
   ],
   "source": [
    "import matplotlib.pyplot as plt\n",
    "import seaborn as sns\n",
    "import numpy as np\n",
    "\n",
    "# Predict using the clean model\n",
    "X_predict = df_encoded[model_noOuts.feature_names_in_]\n",
    "df[\"Prediction_from_clean_model\"] = model_noOuts.predict(X_predict)\n",
    "\n",
    "# Plot setup\n",
    "plt.figure(figsize=(8, 6))\n",
    "\n",
    "# Scatterplot: color = predicted outlier, shape = true outlier\n",
    "sns.scatterplot(\n",
    "    data=df,\n",
    "    x=\"Prediction_from_clean_model\",\n",
    "    y=\"25-26 Salary\",\n",
    "    hue=\"Outlier_Pred\",\n",
    "    style=\"Outlier_Flag\",\n",
    "    palette={True: \"red\", False: \"green\"},\n",
    "    markers={True: \"X\", False: \"o\"},\n",
    "    s=100\n",
    ")\n",
    "\n",
    "# Reference lines\n",
    "lims = [\n",
    "    min(df[\"25-26 Salary\"].min(), df[\"Prediction_from_clean_model\"].min()) * 0.95,\n",
    "    max(df[\"25-26 Salary\"].max(), df[\"Prediction_from_clean_model\"].max()) * 1.05,\n",
    "]\n",
    "\n",
    "x_vals = np.linspace(lims[0], lims[1], 100)\n",
    "plt.plot(x_vals, x_vals, \"--\", color=\"gray\", label=\"Perfect prediction\")\n",
    "plt.plot(x_vals, x_vals * 1.05, \"--\", color=\"blue\", alpha=0.4, label=\"+5% error\")\n",
    "plt.plot(x_vals, x_vals * 0.95, \"--\", color=\"blue\", alpha=0.4, label=\"-5% error\")\n",
    "\n",
    "# Labels and layout\n",
    "plt.title(\"Actual vs Predicted Salary (Clean Model)\\nWith ±5% Error Bands\")\n",
    "plt.xlabel(\"Predicted Salary\")\n",
    "plt.ylabel(\"Actual Salary\")\n",
    "plt.xlim(lims)\n",
    "plt.ylim(lims)\n",
    "plt.legend(title=\"Predicted Outlier\")\n",
    "plt.tight_layout()\n",
    "plt.show()"
   ]
  },
  {
   "cell_type": "code",
   "execution_count": 186,
   "metadata": {},
   "outputs": [
    {
     "data": {
      "application/vnd.plotly.v1+json": {
       "config": {
        "plotlyServerURL": "https://plot.ly"
       },
       "data": [
        {
         "customdata": [
          [
           "0",
           -3735.129418136763,
           7.16571591009451,
           "Normal",
           "Actual Outlier"
          ],
          [
           "3",
           -4181.379069779214,
           7.713298413169552,
           "Normal",
           "Actual Outlier"
          ],
          [
           "33",
           8929.935828559988,
           11.690386883317828,
           "Normal",
           "Actual Outlier"
          ],
          [
           "35",
           -7860.801185267061,
           12.221774907906124,
           "Normal",
           "Actual Outlier"
          ],
          [
           "73",
           -6612.575163239002,
           8.352058357317523,
           "Normal",
           "Actual Outlier"
          ]
         ],
         "hovertemplate": "Predicted Salary=%{x}<br>Actual Salary=%{y}<br>Label=%{customdata[0]}<br>Residual=%{customdata[1]:.0f}<br>Residual % (abs)=%{customdata[2]:.1f}<extra></extra>",
         "legendgroup": "Normal, Actual Outlier",
         "marker": {
          "color": "#636efa",
          "symbol": "circle"
         },
         "mode": "markers",
         "name": "Normal, Actual Outlier",
         "orientation": "v",
         "showlegend": true,
         "type": "scatter",
         "x": [
          55860.12941813676,
          58391.379069779214,
          67457.06417144001,
          72178.80118526706,
          85785.575163239
         ],
         "xaxis": "x",
         "y": [
          52125,
          54210,
          76387,
          64318,
          79173
         ],
         "yaxis": "y"
        },
        {
         "customdata": [
          [
           "2",
           -2435.6491059691034,
           4.492988574006832,
           "Normal",
           "Not Outlier"
          ],
          [
           "13",
           -1341.1009825222573,
           2.2227210662328583,
           "Normal",
           "Not Outlier"
          ],
          [
           "16",
           -267.49227121216245,
           0.42537413525246875,
           "Normal",
           "Not Outlier"
          ],
          [
           "18",
           17.562910283311794,
           0.026932435146389096,
           "Normal",
           "Not Outlier"
          ],
          [
           "26",
           3953.602859697712,
           5.680219041848357,
           "Normal",
           "Not Outlier"
          ],
          [
           "37",
           -3151.8175486780237,
           4.692578907003578,
           "Normal",
           "Not Outlier"
          ],
          [
           "42",
           -100.06289852794725,
           0.1467283983341358,
           "Normal",
           "Not Outlier"
          ],
          [
           "44",
           -1414.6373153309396,
           2.0253082627003485,
           "Normal",
           "Not Outlier"
          ],
          [
           "46",
           2608.3896017937805,
           3.7012609109783616,
           "Normal",
           "Not Outlier"
          ],
          [
           "59",
           2897.6915854405524,
           3.7298608367214827,
           "Normal",
           "Not Outlier"
          ],
          [
           "65",
           -2206.670101933385,
           2.8925520421735857,
           "Normal",
           "Not Outlier"
          ],
          [
           "70",
           -2134.4276567138586,
           2.639201296725596,
           "Normal",
           "Not Outlier"
          ],
          [
           "71",
           1606.2833159790025,
           1.8105699200592924,
           "Normal",
           "Not Outlier"
          ],
          [
           "76",
           1236.7149194479862,
           1.3685016260351734,
           "Normal",
           "Not Outlier"
          ],
          [
           "78",
           3160.123705415681,
           3.1013835018898863,
           "Normal",
           "Not Outlier"
          ]
         ],
         "hovertemplate": "Predicted Salary=%{x}<br>Actual Salary=%{y}<br>Label=%{customdata[0]}<br>Residual=%{customdata[1]:.0f}<br>Residual % (abs)=%{customdata[2]:.1f}<extra></extra>",
         "legendgroup": "Normal, Not Outlier",
         "marker": {
          "color": "#636efa",
          "symbol": "diamond"
         },
         "mode": "markers",
         "name": "Normal, Not Outlier",
         "orientation": "v",
         "showlegend": true,
         "type": "scatter",
         "x": [
          56645.6491059691,
          61677.10098252226,
          63151.49227121216,
          65193.43708971669,
          65649.39714030229,
          70317.81754867802,
          68296.06289852795,
          71262.63731533094,
          67864.61039820622,
          74791.30841455945,
          78494.67010193339,
          83008.42765671386,
          87110.716684021,
          89133.28508055201,
          98733.87629458432
         ],
         "xaxis": "x",
         "y": [
          54210,
          60336,
          62884,
          65211,
          69603,
          67166,
          68196,
          69848,
          70473,
          77689,
          76288,
          80874,
          88717,
          90370,
          101894
         ],
         "yaxis": "y"
        },
        {
         "customdata": [
          [
           "4",
           -6720.491884875744,
           12.376140629950545,
           "Flagged",
           "Actual Outlier"
          ],
          [
           "7",
           -3781.0270782670195,
           6.695519962931451,
           "Flagged",
           "Actual Outlier"
          ],
          [
           "9",
           -4909.988230270777,
           8.410394364972213,
           "Flagged",
           "Actual Outlier"
          ],
          [
           "12",
           -8534.291383246687,
           15.424904900315731,
           "Flagged",
           "Actual Outlier"
          ],
          [
           "21",
           5251.061945210735,
           7.749158014271409,
           "Flagged",
           "Actual Outlier"
          ],
          [
           "22",
           3430.072981361045,
           5.061867068106555,
           "Flagged",
           "Actual Outlier"
          ],
          [
           "25",
           3351.1659118008392,
           4.842375423453276,
           "Flagged",
           "Actual Outlier"
          ],
          [
           "29",
           5947.785181691113,
           8.467441854264642,
           "Flagged",
           "Actual Outlier"
          ],
          [
           "30",
           3951.870300297858,
           5.6076373934668,
           "Flagged",
           "Actual Outlier"
          ],
          [
           "32",
           6459.038932957017,
           8.920954840209683,
           "Flagged",
           "Actual Outlier"
          ],
          [
           "39",
           -7852.783547755913,
           11.682212954114716,
           "Flagged",
           "Actual Outlier"
          ],
          [
           "47",
           -7116.960107036313,
           10.057743823626451,
           "Flagged",
           "Actual Outlier"
          ],
          [
           "48",
           -8138.707839192866,
           11.46829912380806,
           "Flagged",
           "Actual Outlier"
          ],
          [
           "49",
           -5003.6402305464435,
           7.026696387460072,
           "Flagged",
           "Actual Outlier"
          ],
          [
           "50",
           -5155.767599404993,
           7.236774464382956,
           "Flagged",
           "Actual Outlier"
          ],
          [
           "57",
           4436.3608846139105,
           5.75067844269092,
           "Flagged",
           "Actual Outlier"
          ],
          [
           "60",
           13361.758264566379,
           16.48480447173694,
           "Flagged",
           "Actual Outlier"
          ],
          [
           "61",
           9214.751615723624,
           11.210023741467408,
           "Flagged",
           "Actual Outlier"
          ],
          [
           "62",
           9152.186403751519,
           10.16401399716977,
           "Flagged",
           "Actual Outlier"
          ],
          [
           "63",
           -11763.829902446945,
           18.026371691945855,
           "Flagged",
           "Actual Outlier"
          ],
          [
           "68",
           12734.857560192526,
           14.456643841744269,
           "Flagged",
           "Actual Outlier"
          ],
          [
           "69",
           11228.478951827448,
           12.45146150039638,
           "Flagged",
           "Actual Outlier"
          ],
          [
           "72",
           6939.246882227308,
           7.275216374396959,
           "Flagged",
           "Actual Outlier"
          ],
          [
           "74",
           -5611.729748968763,
           7.069628548172998,
           "Flagged",
           "Actual Outlier"
          ]
         ],
         "hovertemplate": "Predicted Salary=%{x}<br>Actual Salary=%{y}<br>Label=%{customdata[0]}<br>Residual=%{customdata[1]:.0f}<br>Residual % (abs)=%{customdata[2]:.1f}<extra></extra>",
         "legendgroup": "Flagged, Actual Outlier",
         "marker": {
          "color": "#EF553B",
          "symbol": "circle"
         },
         "mode": "markers",
         "name": "Flagged, Actual Outlier",
         "orientation": "v",
         "showlegend": true,
         "type": "scatter",
         "x": [
          61022.491884875744,
          60252.02707826702,
          63289.98823027078,
          63862.29138324669,
          62511.938054789265,
          64332.927018638955,
          65853.83408819916,
          64295.21481830889,
          66521.12969970214,
          65943.96106704298,
          75072.78354775591,
          77877.96010703631,
          79105.70783919287,
          76212.64023054644,
          76399.767599405,
          72708.63911538609,
          67693.24173543362,
          72986.24838427638,
          80892.81359624848,
          77022.82990244695,
          75355.14243980747,
          78949.52104817255,
          88442.75311777269,
          84989.72974896876
         ],
         "xaxis": "x",
         "y": [
          54302,
          56471,
          58380,
          55328,
          67763,
          67763,
          69205,
          70243,
          70473,
          72403,
          67220,
          70761,
          70967,
          71209,
          71244,
          77145,
          81055,
          82201,
          90045,
          65259,
          88090,
          90178,
          95382,
          79378
         ],
         "yaxis": "y"
        },
        {
         "customdata": [
          [
           "6",
           -2257.025041353023,
           4.08489139296151,
           "Flagged",
           "Not Outlier"
          ],
          [
           "14",
           707.4562809196213,
           1.1508219424791315,
           "Flagged",
           "Not Outlier"
          ],
          [
           "15",
           -1313.3652461825186,
           2.088552328386424,
           "Flagged",
           "Not Outlier"
          ],
          [
           "17",
           887.4293637948867,
           1.3641845966225277,
           "Flagged",
           "Not Outlier"
          ],
          [
           "19",
           1766.7812768200965,
           2.6758061380324962,
           "Flagged",
           "Not Outlier"
          ],
          [
           "23",
           1145.570443262157,
           1.6817194075986979,
           "Flagged",
           "Not Outlier"
          ],
          [
           "24",
           -49.565300257730996,
           0.0720373523112143,
           "Flagged",
           "Not Outlier"
          ],
          [
           "27",
           1402.7972550827544,
           2.0083570826405257,
           "Flagged",
           "Not Outlier"
          ],
          [
           "28",
           3407.5572053571523,
           4.867034986869799,
           "Flagged",
           "Not Outlier"
          ],
          [
           "31",
           2255.0517857137165,
           3.1810576748677057,
           "Flagged",
           "Not Outlier"
          ],
          [
           "38",
           2622.5059287326876,
           3.9013774601795412,
           "Flagged",
           "Not Outlier"
          ],
          [
           "40",
           -2129.0985405653773,
           3.159134268959681,
           "Flagged",
           "Not Outlier"
          ],
          [
           "41",
           -3039.3723209676245,
           4.500107078720203,
           "Flagged",
           "Not Outlier"
          ],
          [
           "45",
           -1289.5997397214087,
           1.8462944389551723,
           "Flagged",
           "Not Outlier"
          ],
          [
           "51",
           1798.495375018916,
           2.5099370246583157,
           "Flagged",
           "Not Outlier"
          ],
          [
           "52",
           1411.9030271197844,
           1.9704180128669102,
           "Flagged",
           "Not Outlier"
          ],
          [
           "53",
           -2585.0556993467762,
           3.604372140751222,
           "Flagged",
           "Not Outlier"
          ],
          [
           "55",
           134.8544346865674,
           0.18224311078363636,
           "Flagged",
           "Not Outlier"
          ],
          [
           "56",
           -775.9477164866112,
           1.0069266120172475,
           "Flagged",
           "Not Outlier"
          ],
          [
           "64",
           -3573.109712985548,
           4.73234492607749,
           "Flagged",
           "Not Outlier"
          ],
          [
           "66",
           -2752.6075037245173,
           3.566385301915625,
           "Flagged",
           "Not Outlier"
          ],
          [
           "67",
           -204.16657208795368,
           0.25565241117435755,
           "Flagged",
           "Not Outlier"
          ]
         ],
         "hovertemplate": "Predicted Salary=%{x}<br>Actual Salary=%{y}<br>Label=%{customdata[0]}<br>Residual=%{customdata[1]:.0f}<br>Residual % (abs)=%{customdata[2]:.1f}<extra></extra>",
         "legendgroup": "Flagged, Not Outlier",
         "marker": {
          "color": "#EF553B",
          "symbol": "diamond"
         },
         "mode": "markers",
         "name": "Flagged, Not Outlier",
         "orientation": "v",
         "showlegend": true,
         "type": "scatter",
         "x": [
          57510.02504135302,
          60766.54371908038,
          64197.36524618252,
          64164.57063620511,
          64261.2187231799,
          66973.42955673784,
          68854.56530025773,
          68445.20274491725,
          66605.44279464285,
          68634.94821428628,
          64597.49407126731,
          69524.09854056538,
          70579.37232096762,
          71137.59973972141,
          69856.50462498108,
          70243.09697288022,
          74305.05569934678,
          73862.14556531343,
          77836.94771648661,
          79077.10971298555,
          79934.60750372452,
          80065.16657208795
         ],
         "xaxis": "x",
         "y": [
          55253,
          61474,
          62884,
          65052,
          66028,
          68119,
          68805,
          69848,
          70013,
          70890,
          67220,
          67395,
          67540,
          69848,
          71655,
          71655,
          71720,
          73997,
          77061,
          75504,
          77182,
          79861
         ],
         "yaxis": "y"
        },
        {
         "line": {
          "color": "gray",
          "dash": "dash"
         },
         "mode": "lines",
         "name": "Perfect Prediction",
         "type": "scatter",
         "x": [
          49518.75,
          50099.25454545455,
          50679.759090909094,
          51260.263636363634,
          51840.76818181818,
          52421.27272727273,
          53001.777272727275,
          53582.28181818182,
          54162.78636363636,
          54743.29090909091,
          55323.795454545456,
          55904.3,
          56484.80454545455,
          57065.30909090909,
          57645.81363636364,
          58226.318181818184,
          58806.82272727273,
          59387.32727272727,
          59967.83181818182,
          60548.336363636365,
          61128.84090909091,
          61709.34545454546,
          62289.850000000006,
          62870.354545454546,
          63450.85909090909,
          64031.36363636364,
          64611.86818181819,
          65192.37272727273,
          65772.87727272727,
          66353.38181818182,
          66933.88636363637,
          67514.39090909091,
          68094.89545454546,
          68675.40000000001,
          69255.90454545454,
          69836.40909090909,
          70416.91363636364,
          70997.41818181818,
          71577.92272727273,
          72158.42727272728,
          72738.93181818182,
          73319.43636363637,
          73899.94090909092,
          74480.44545454546,
          75060.95000000001,
          75641.45454545456,
          76221.95909090909,
          76802.46363636364,
          77382.96818181819,
          77963.47272727273,
          78543.97727272728,
          79124.48181818183,
          79704.98636363637,
          80285.4909090909,
          80865.99545454545,
          81446.5,
          82027.00454545455,
          82607.5090909091,
          83188.01363636364,
          83768.51818181819,
          84349.02272727274,
          84929.52727272728,
          85510.03181818183,
          86090.53636363638,
          86671.04090909092,
          87251.54545454547,
          87832.05000000002,
          88412.55454545455,
          88993.0590909091,
          89573.56363636364,
          90154.06818181819,
          90734.57272727274,
          91315.07727272727,
          91895.58181818182,
          92476.08636363636,
          93056.59090909091,
          93637.09545454546,
          94217.6,
          94798.10454545455,
          95378.6090909091,
          95959.11363636365,
          96539.6181818182,
          97120.12272727274,
          97700.62727272729,
          98281.13181818184,
          98861.63636363638,
          99442.14090909093,
          100022.64545454546,
          100603.15000000001,
          101183.65454545456,
          101764.1590909091,
          102344.66363636365,
          102925.16818181818,
          103505.67272727273,
          104086.17727272728,
          104666.68181818182,
          105247.18636363637,
          105827.69090909092,
          106408.19545454546,
          106988.70000000001
         ],
         "y": [
          49518.75,
          50099.25454545455,
          50679.759090909094,
          51260.263636363634,
          51840.76818181818,
          52421.27272727273,
          53001.777272727275,
          53582.28181818182,
          54162.78636363636,
          54743.29090909091,
          55323.795454545456,
          55904.3,
          56484.80454545455,
          57065.30909090909,
          57645.81363636364,
          58226.318181818184,
          58806.82272727273,
          59387.32727272727,
          59967.83181818182,
          60548.336363636365,
          61128.84090909091,
          61709.34545454546,
          62289.850000000006,
          62870.354545454546,
          63450.85909090909,
          64031.36363636364,
          64611.86818181819,
          65192.37272727273,
          65772.87727272727,
          66353.38181818182,
          66933.88636363637,
          67514.39090909091,
          68094.89545454546,
          68675.40000000001,
          69255.90454545454,
          69836.40909090909,
          70416.91363636364,
          70997.41818181818,
          71577.92272727273,
          72158.42727272728,
          72738.93181818182,
          73319.43636363637,
          73899.94090909092,
          74480.44545454546,
          75060.95000000001,
          75641.45454545456,
          76221.95909090909,
          76802.46363636364,
          77382.96818181819,
          77963.47272727273,
          78543.97727272728,
          79124.48181818183,
          79704.98636363637,
          80285.4909090909,
          80865.99545454545,
          81446.5,
          82027.00454545455,
          82607.5090909091,
          83188.01363636364,
          83768.51818181819,
          84349.02272727274,
          84929.52727272728,
          85510.03181818183,
          86090.53636363638,
          86671.04090909092,
          87251.54545454547,
          87832.05000000002,
          88412.55454545455,
          88993.0590909091,
          89573.56363636364,
          90154.06818181819,
          90734.57272727274,
          91315.07727272727,
          91895.58181818182,
          92476.08636363636,
          93056.59090909091,
          93637.09545454546,
          94217.6,
          94798.10454545455,
          95378.6090909091,
          95959.11363636365,
          96539.6181818182,
          97120.12272727274,
          97700.62727272729,
          98281.13181818184,
          98861.63636363638,
          99442.14090909093,
          100022.64545454546,
          100603.15000000001,
          101183.65454545456,
          101764.1590909091,
          102344.66363636365,
          102925.16818181818,
          103505.67272727273,
          104086.17727272728,
          104666.68181818182,
          105247.18636363637,
          105827.69090909092,
          106408.19545454546,
          106988.70000000001
         ]
        },
        {
         "line": {
          "color": "blue",
          "dash": "dot"
         },
         "mode": "lines",
         "name": "+5% Error",
         "type": "scatter",
         "x": [
          49518.75,
          50099.25454545455,
          50679.759090909094,
          51260.263636363634,
          51840.76818181818,
          52421.27272727273,
          53001.777272727275,
          53582.28181818182,
          54162.78636363636,
          54743.29090909091,
          55323.795454545456,
          55904.3,
          56484.80454545455,
          57065.30909090909,
          57645.81363636364,
          58226.318181818184,
          58806.82272727273,
          59387.32727272727,
          59967.83181818182,
          60548.336363636365,
          61128.84090909091,
          61709.34545454546,
          62289.850000000006,
          62870.354545454546,
          63450.85909090909,
          64031.36363636364,
          64611.86818181819,
          65192.37272727273,
          65772.87727272727,
          66353.38181818182,
          66933.88636363637,
          67514.39090909091,
          68094.89545454546,
          68675.40000000001,
          69255.90454545454,
          69836.40909090909,
          70416.91363636364,
          70997.41818181818,
          71577.92272727273,
          72158.42727272728,
          72738.93181818182,
          73319.43636363637,
          73899.94090909092,
          74480.44545454546,
          75060.95000000001,
          75641.45454545456,
          76221.95909090909,
          76802.46363636364,
          77382.96818181819,
          77963.47272727273,
          78543.97727272728,
          79124.48181818183,
          79704.98636363637,
          80285.4909090909,
          80865.99545454545,
          81446.5,
          82027.00454545455,
          82607.5090909091,
          83188.01363636364,
          83768.51818181819,
          84349.02272727274,
          84929.52727272728,
          85510.03181818183,
          86090.53636363638,
          86671.04090909092,
          87251.54545454547,
          87832.05000000002,
          88412.55454545455,
          88993.0590909091,
          89573.56363636364,
          90154.06818181819,
          90734.57272727274,
          91315.07727272727,
          91895.58181818182,
          92476.08636363636,
          93056.59090909091,
          93637.09545454546,
          94217.6,
          94798.10454545455,
          95378.6090909091,
          95959.11363636365,
          96539.6181818182,
          97120.12272727274,
          97700.62727272729,
          98281.13181818184,
          98861.63636363638,
          99442.14090909093,
          100022.64545454546,
          100603.15000000001,
          101183.65454545456,
          101764.1590909091,
          102344.66363636365,
          102925.16818181818,
          103505.67272727273,
          104086.17727272728,
          104666.68181818182,
          105247.18636363637,
          105827.69090909092,
          106408.19545454546,
          106988.70000000001
         ],
         "y": [
          51994.6875,
          52604.21727272728,
          53213.747045454555,
          53823.27681818182,
          54432.806590909095,
          55042.336363636365,
          55651.86613636364,
          56261.39590909091,
          56870.92568181818,
          57480.45545454546,
          58089.98522727273,
          58699.51500000001,
          59309.04477272728,
          59918.57454545455,
          60528.104318181824,
          61137.634090909094,
          61747.16386363637,
          62356.693636363634,
          62966.22340909091,
          63575.75318181819,
          64185.28295454546,
          64794.812727272736,
          65404.342500000006,
          66013.87227272727,
          66623.40204545455,
          67232.93181818182,
          67842.4615909091,
          68451.99136363636,
          69061.52113636363,
          69671.05090909092,
          70280.58068181819,
          70890.11045454546,
          71499.64022727274,
          72109.17000000001,
          72718.69977272727,
          73328.22954545455,
          73937.75931818182,
          74547.2890909091,
          75156.81886363636,
          75766.34863636365,
          76375.87840909092,
          76985.40818181819,
          77594.93795454547,
          78204.46772727274,
          78813.99750000001,
          79423.5272727273,
          80033.05704545455,
          80642.58681818182,
          81252.11659090909,
          81861.64636363638,
          82471.17613636365,
          83080.70590909092,
          83690.2356818182,
          84299.76545454546,
          84909.29522727273,
          85518.825,
          86128.35477272728,
          86737.88454545455,
          87347.41431818182,
          87956.9440909091,
          88566.47386363638,
          89176.00363636365,
          89785.53340909093,
          90395.0631818182,
          91004.59295454547,
          91614.12272727274,
          92223.65250000003,
          92833.18227272728,
          93442.71204545455,
          94052.24181818184,
          94661.7715909091,
          95271.30136363638,
          95880.83113636363,
          96490.36090909092,
          97099.89068181819,
          97709.42045454546,
          98318.95022727274,
          98928.48000000001,
          99538.00977272728,
          100147.53954545457,
          100757.06931818184,
          101366.5990909091,
          101976.12886363638,
          102585.65863636366,
          103195.18840909093,
          103804.7181818182,
          104414.24795454548,
          105023.77772727274,
          105633.30750000001,
          106242.8372727273,
          106852.36704545456,
          107461.89681818183,
          108071.42659090909,
          108680.95636363637,
          109290.48613636364,
          109900.01590909091,
          110509.5456818182,
          111119.07545454547,
          111728.60522727274,
          112338.13500000002
         ]
        },
        {
         "line": {
          "color": "blue",
          "dash": "dot"
         },
         "mode": "lines",
         "name": "-5% Error",
         "type": "scatter",
         "x": [
          49518.75,
          50099.25454545455,
          50679.759090909094,
          51260.263636363634,
          51840.76818181818,
          52421.27272727273,
          53001.777272727275,
          53582.28181818182,
          54162.78636363636,
          54743.29090909091,
          55323.795454545456,
          55904.3,
          56484.80454545455,
          57065.30909090909,
          57645.81363636364,
          58226.318181818184,
          58806.82272727273,
          59387.32727272727,
          59967.83181818182,
          60548.336363636365,
          61128.84090909091,
          61709.34545454546,
          62289.850000000006,
          62870.354545454546,
          63450.85909090909,
          64031.36363636364,
          64611.86818181819,
          65192.37272727273,
          65772.87727272727,
          66353.38181818182,
          66933.88636363637,
          67514.39090909091,
          68094.89545454546,
          68675.40000000001,
          69255.90454545454,
          69836.40909090909,
          70416.91363636364,
          70997.41818181818,
          71577.92272727273,
          72158.42727272728,
          72738.93181818182,
          73319.43636363637,
          73899.94090909092,
          74480.44545454546,
          75060.95000000001,
          75641.45454545456,
          76221.95909090909,
          76802.46363636364,
          77382.96818181819,
          77963.47272727273,
          78543.97727272728,
          79124.48181818183,
          79704.98636363637,
          80285.4909090909,
          80865.99545454545,
          81446.5,
          82027.00454545455,
          82607.5090909091,
          83188.01363636364,
          83768.51818181819,
          84349.02272727274,
          84929.52727272728,
          85510.03181818183,
          86090.53636363638,
          86671.04090909092,
          87251.54545454547,
          87832.05000000002,
          88412.55454545455,
          88993.0590909091,
          89573.56363636364,
          90154.06818181819,
          90734.57272727274,
          91315.07727272727,
          91895.58181818182,
          92476.08636363636,
          93056.59090909091,
          93637.09545454546,
          94217.6,
          94798.10454545455,
          95378.6090909091,
          95959.11363636365,
          96539.6181818182,
          97120.12272727274,
          97700.62727272729,
          98281.13181818184,
          98861.63636363638,
          99442.14090909093,
          100022.64545454546,
          100603.15000000001,
          101183.65454545456,
          101764.1590909091,
          102344.66363636365,
          102925.16818181818,
          103505.67272727273,
          104086.17727272728,
          104666.68181818182,
          105247.18636363637,
          105827.69090909092,
          106408.19545454546,
          106988.70000000001
         ],
         "y": [
          47042.8125,
          47594.29181818182,
          48145.77113636363,
          48697.25045454545,
          49248.72977272727,
          49800.20909090909,
          50351.68840909091,
          50903.16772727273,
          51454.64704545454,
          52006.12636363636,
          52557.60568181818,
          53109.085,
          53660.56431818182,
          54212.04363636363,
          54763.52295454545,
          55315.00227272727,
          55866.48159090909,
          56417.96090909091,
          56969.440227272724,
          57520.91954545454,
          58072.398863636365,
          58623.87818181818,
          59175.357500000006,
          59726.836818181815,
          60278.31613636363,
          60829.795454545456,
          61381.27477272727,
          61932.75409090909,
          62484.233409090906,
          63035.71272727272,
          63587.19204545455,
          64138.671363636364,
          64690.15068181819,
          65241.630000000005,
          65793.10931818181,
          66344.58863636362,
          66896.06795454545,
          67447.54727272727,
          67999.0265909091,
          68550.5059090909,
          69101.98522727273,
          69653.46454545455,
          70204.94386363636,
          70756.42318181819,
          71307.90250000001,
          71859.38181818182,
          72410.86113636363,
          72962.34045454545,
          73513.81977272728,
          74065.29909090909,
          74616.77840909091,
          75168.25772727274,
          75719.73704545455,
          76271.21636363635,
          76822.69568181818,
          77374.175,
          77925.65431818181,
          78477.13363636364,
          79028.61295454546,
          79580.09227272727,
          80131.5715909091,
          80683.05090909092,
          81234.53022727273,
          81786.00954545455,
          82337.48886363638,
          82888.9681818182,
          83440.44750000001,
          83991.92681818182,
          84543.40613636364,
          85094.88545454545,
          85646.36477272728,
          86197.8440909091,
          86749.32340909091,
          87300.80272727272,
          87852.28204545454,
          88403.76136363637,
          88955.24068181818,
          89506.72,
          90058.19931818183,
          90609.67863636363,
          91161.15795454546,
          91712.63727272728,
          92264.1165909091,
          92815.59590909092,
          93367.07522727274,
          93918.55454545456,
          94470.03386363637,
          95021.51318181818,
          95572.99250000001,
          96124.47181818182,
          96675.95113636364,
          97227.43045454547,
          97778.90977272727,
          98330.38909090908,
          98881.86840909091,
          99433.34772727273,
          99984.82704545454,
          100536.30636363637,
          101087.78568181819,
          101639.265
         ]
        }
       ],
       "layout": {
        "height": 600,
        "legend": {
         "title": {
          "text": "Predicted Outlier"
         },
         "tracegroupgap": 0
        },
        "template": {
         "data": {
          "bar": [
           {
            "error_x": {
             "color": "#2a3f5f"
            },
            "error_y": {
             "color": "#2a3f5f"
            },
            "marker": {
             "line": {
              "color": "#E5ECF6",
              "width": 0.5
             },
             "pattern": {
              "fillmode": "overlay",
              "size": 10,
              "solidity": 0.2
             }
            },
            "type": "bar"
           }
          ],
          "barpolar": [
           {
            "marker": {
             "line": {
              "color": "#E5ECF6",
              "width": 0.5
             },
             "pattern": {
              "fillmode": "overlay",
              "size": 10,
              "solidity": 0.2
             }
            },
            "type": "barpolar"
           }
          ],
          "carpet": [
           {
            "aaxis": {
             "endlinecolor": "#2a3f5f",
             "gridcolor": "white",
             "linecolor": "white",
             "minorgridcolor": "white",
             "startlinecolor": "#2a3f5f"
            },
            "baxis": {
             "endlinecolor": "#2a3f5f",
             "gridcolor": "white",
             "linecolor": "white",
             "minorgridcolor": "white",
             "startlinecolor": "#2a3f5f"
            },
            "type": "carpet"
           }
          ],
          "choropleth": [
           {
            "colorbar": {
             "outlinewidth": 0,
             "ticks": ""
            },
            "type": "choropleth"
           }
          ],
          "contour": [
           {
            "colorbar": {
             "outlinewidth": 0,
             "ticks": ""
            },
            "colorscale": [
             [
              0,
              "#0d0887"
             ],
             [
              0.1111111111111111,
              "#46039f"
             ],
             [
              0.2222222222222222,
              "#7201a8"
             ],
             [
              0.3333333333333333,
              "#9c179e"
             ],
             [
              0.4444444444444444,
              "#bd3786"
             ],
             [
              0.5555555555555556,
              "#d8576b"
             ],
             [
              0.6666666666666666,
              "#ed7953"
             ],
             [
              0.7777777777777778,
              "#fb9f3a"
             ],
             [
              0.8888888888888888,
              "#fdca26"
             ],
             [
              1,
              "#f0f921"
             ]
            ],
            "type": "contour"
           }
          ],
          "contourcarpet": [
           {
            "colorbar": {
             "outlinewidth": 0,
             "ticks": ""
            },
            "type": "contourcarpet"
           }
          ],
          "heatmap": [
           {
            "colorbar": {
             "outlinewidth": 0,
             "ticks": ""
            },
            "colorscale": [
             [
              0,
              "#0d0887"
             ],
             [
              0.1111111111111111,
              "#46039f"
             ],
             [
              0.2222222222222222,
              "#7201a8"
             ],
             [
              0.3333333333333333,
              "#9c179e"
             ],
             [
              0.4444444444444444,
              "#bd3786"
             ],
             [
              0.5555555555555556,
              "#d8576b"
             ],
             [
              0.6666666666666666,
              "#ed7953"
             ],
             [
              0.7777777777777778,
              "#fb9f3a"
             ],
             [
              0.8888888888888888,
              "#fdca26"
             ],
             [
              1,
              "#f0f921"
             ]
            ],
            "type": "heatmap"
           }
          ],
          "heatmapgl": [
           {
            "colorbar": {
             "outlinewidth": 0,
             "ticks": ""
            },
            "colorscale": [
             [
              0,
              "#0d0887"
             ],
             [
              0.1111111111111111,
              "#46039f"
             ],
             [
              0.2222222222222222,
              "#7201a8"
             ],
             [
              0.3333333333333333,
              "#9c179e"
             ],
             [
              0.4444444444444444,
              "#bd3786"
             ],
             [
              0.5555555555555556,
              "#d8576b"
             ],
             [
              0.6666666666666666,
              "#ed7953"
             ],
             [
              0.7777777777777778,
              "#fb9f3a"
             ],
             [
              0.8888888888888888,
              "#fdca26"
             ],
             [
              1,
              "#f0f921"
             ]
            ],
            "type": "heatmapgl"
           }
          ],
          "histogram": [
           {
            "marker": {
             "pattern": {
              "fillmode": "overlay",
              "size": 10,
              "solidity": 0.2
             }
            },
            "type": "histogram"
           }
          ],
          "histogram2d": [
           {
            "colorbar": {
             "outlinewidth": 0,
             "ticks": ""
            },
            "colorscale": [
             [
              0,
              "#0d0887"
             ],
             [
              0.1111111111111111,
              "#46039f"
             ],
             [
              0.2222222222222222,
              "#7201a8"
             ],
             [
              0.3333333333333333,
              "#9c179e"
             ],
             [
              0.4444444444444444,
              "#bd3786"
             ],
             [
              0.5555555555555556,
              "#d8576b"
             ],
             [
              0.6666666666666666,
              "#ed7953"
             ],
             [
              0.7777777777777778,
              "#fb9f3a"
             ],
             [
              0.8888888888888888,
              "#fdca26"
             ],
             [
              1,
              "#f0f921"
             ]
            ],
            "type": "histogram2d"
           }
          ],
          "histogram2dcontour": [
           {
            "colorbar": {
             "outlinewidth": 0,
             "ticks": ""
            },
            "colorscale": [
             [
              0,
              "#0d0887"
             ],
             [
              0.1111111111111111,
              "#46039f"
             ],
             [
              0.2222222222222222,
              "#7201a8"
             ],
             [
              0.3333333333333333,
              "#9c179e"
             ],
             [
              0.4444444444444444,
              "#bd3786"
             ],
             [
              0.5555555555555556,
              "#d8576b"
             ],
             [
              0.6666666666666666,
              "#ed7953"
             ],
             [
              0.7777777777777778,
              "#fb9f3a"
             ],
             [
              0.8888888888888888,
              "#fdca26"
             ],
             [
              1,
              "#f0f921"
             ]
            ],
            "type": "histogram2dcontour"
           }
          ],
          "mesh3d": [
           {
            "colorbar": {
             "outlinewidth": 0,
             "ticks": ""
            },
            "type": "mesh3d"
           }
          ],
          "parcoords": [
           {
            "line": {
             "colorbar": {
              "outlinewidth": 0,
              "ticks": ""
             }
            },
            "type": "parcoords"
           }
          ],
          "pie": [
           {
            "automargin": true,
            "type": "pie"
           }
          ],
          "scatter": [
           {
            "fillpattern": {
             "fillmode": "overlay",
             "size": 10,
             "solidity": 0.2
            },
            "type": "scatter"
           }
          ],
          "scatter3d": [
           {
            "line": {
             "colorbar": {
              "outlinewidth": 0,
              "ticks": ""
             }
            },
            "marker": {
             "colorbar": {
              "outlinewidth": 0,
              "ticks": ""
             }
            },
            "type": "scatter3d"
           }
          ],
          "scattercarpet": [
           {
            "marker": {
             "colorbar": {
              "outlinewidth": 0,
              "ticks": ""
             }
            },
            "type": "scattercarpet"
           }
          ],
          "scattergeo": [
           {
            "marker": {
             "colorbar": {
              "outlinewidth": 0,
              "ticks": ""
             }
            },
            "type": "scattergeo"
           }
          ],
          "scattergl": [
           {
            "marker": {
             "colorbar": {
              "outlinewidth": 0,
              "ticks": ""
             }
            },
            "type": "scattergl"
           }
          ],
          "scattermapbox": [
           {
            "marker": {
             "colorbar": {
              "outlinewidth": 0,
              "ticks": ""
             }
            },
            "type": "scattermapbox"
           }
          ],
          "scatterpolar": [
           {
            "marker": {
             "colorbar": {
              "outlinewidth": 0,
              "ticks": ""
             }
            },
            "type": "scatterpolar"
           }
          ],
          "scatterpolargl": [
           {
            "marker": {
             "colorbar": {
              "outlinewidth": 0,
              "ticks": ""
             }
            },
            "type": "scatterpolargl"
           }
          ],
          "scatterternary": [
           {
            "marker": {
             "colorbar": {
              "outlinewidth": 0,
              "ticks": ""
             }
            },
            "type": "scatterternary"
           }
          ],
          "surface": [
           {
            "colorbar": {
             "outlinewidth": 0,
             "ticks": ""
            },
            "colorscale": [
             [
              0,
              "#0d0887"
             ],
             [
              0.1111111111111111,
              "#46039f"
             ],
             [
              0.2222222222222222,
              "#7201a8"
             ],
             [
              0.3333333333333333,
              "#9c179e"
             ],
             [
              0.4444444444444444,
              "#bd3786"
             ],
             [
              0.5555555555555556,
              "#d8576b"
             ],
             [
              0.6666666666666666,
              "#ed7953"
             ],
             [
              0.7777777777777778,
              "#fb9f3a"
             ],
             [
              0.8888888888888888,
              "#fdca26"
             ],
             [
              1,
              "#f0f921"
             ]
            ],
            "type": "surface"
           }
          ],
          "table": [
           {
            "cells": {
             "fill": {
              "color": "#EBF0F8"
             },
             "line": {
              "color": "white"
             }
            },
            "header": {
             "fill": {
              "color": "#C8D4E3"
             },
             "line": {
              "color": "white"
             }
            },
            "type": "table"
           }
          ]
         },
         "layout": {
          "annotationdefaults": {
           "arrowcolor": "#2a3f5f",
           "arrowhead": 0,
           "arrowwidth": 1
          },
          "autotypenumbers": "strict",
          "coloraxis": {
           "colorbar": {
            "outlinewidth": 0,
            "ticks": ""
           }
          },
          "colorscale": {
           "diverging": [
            [
             0,
             "#8e0152"
            ],
            [
             0.1,
             "#c51b7d"
            ],
            [
             0.2,
             "#de77ae"
            ],
            [
             0.3,
             "#f1b6da"
            ],
            [
             0.4,
             "#fde0ef"
            ],
            [
             0.5,
             "#f7f7f7"
            ],
            [
             0.6,
             "#e6f5d0"
            ],
            [
             0.7,
             "#b8e186"
            ],
            [
             0.8,
             "#7fbc41"
            ],
            [
             0.9,
             "#4d9221"
            ],
            [
             1,
             "#276419"
            ]
           ],
           "sequential": [
            [
             0,
             "#0d0887"
            ],
            [
             0.1111111111111111,
             "#46039f"
            ],
            [
             0.2222222222222222,
             "#7201a8"
            ],
            [
             0.3333333333333333,
             "#9c179e"
            ],
            [
             0.4444444444444444,
             "#bd3786"
            ],
            [
             0.5555555555555556,
             "#d8576b"
            ],
            [
             0.6666666666666666,
             "#ed7953"
            ],
            [
             0.7777777777777778,
             "#fb9f3a"
            ],
            [
             0.8888888888888888,
             "#fdca26"
            ],
            [
             1,
             "#f0f921"
            ]
           ],
           "sequentialminus": [
            [
             0,
             "#0d0887"
            ],
            [
             0.1111111111111111,
             "#46039f"
            ],
            [
             0.2222222222222222,
             "#7201a8"
            ],
            [
             0.3333333333333333,
             "#9c179e"
            ],
            [
             0.4444444444444444,
             "#bd3786"
            ],
            [
             0.5555555555555556,
             "#d8576b"
            ],
            [
             0.6666666666666666,
             "#ed7953"
            ],
            [
             0.7777777777777778,
             "#fb9f3a"
            ],
            [
             0.8888888888888888,
             "#fdca26"
            ],
            [
             1,
             "#f0f921"
            ]
           ]
          },
          "colorway": [
           "#636efa",
           "#EF553B",
           "#00cc96",
           "#ab63fa",
           "#FFA15A",
           "#19d3f3",
           "#FF6692",
           "#B6E880",
           "#FF97FF",
           "#FECB52"
          ],
          "font": {
           "color": "#2a3f5f"
          },
          "geo": {
           "bgcolor": "white",
           "lakecolor": "white",
           "landcolor": "#E5ECF6",
           "showlakes": true,
           "showland": true,
           "subunitcolor": "white"
          },
          "hoverlabel": {
           "align": "left"
          },
          "hovermode": "closest",
          "mapbox": {
           "style": "light"
          },
          "paper_bgcolor": "white",
          "plot_bgcolor": "#E5ECF6",
          "polar": {
           "angularaxis": {
            "gridcolor": "white",
            "linecolor": "white",
            "ticks": ""
           },
           "bgcolor": "#E5ECF6",
           "radialaxis": {
            "gridcolor": "white",
            "linecolor": "white",
            "ticks": ""
           }
          },
          "scene": {
           "xaxis": {
            "backgroundcolor": "#E5ECF6",
            "gridcolor": "white",
            "gridwidth": 2,
            "linecolor": "white",
            "showbackground": true,
            "ticks": "",
            "zerolinecolor": "white"
           },
           "yaxis": {
            "backgroundcolor": "#E5ECF6",
            "gridcolor": "white",
            "gridwidth": 2,
            "linecolor": "white",
            "showbackground": true,
            "ticks": "",
            "zerolinecolor": "white"
           },
           "zaxis": {
            "backgroundcolor": "#E5ECF6",
            "gridcolor": "white",
            "gridwidth": 2,
            "linecolor": "white",
            "showbackground": true,
            "ticks": "",
            "zerolinecolor": "white"
           }
          },
          "shapedefaults": {
           "line": {
            "color": "#2a3f5f"
           }
          },
          "ternary": {
           "aaxis": {
            "gridcolor": "white",
            "linecolor": "white",
            "ticks": ""
           },
           "baxis": {
            "gridcolor": "white",
            "linecolor": "white",
            "ticks": ""
           },
           "bgcolor": "#E5ECF6",
           "caxis": {
            "gridcolor": "white",
            "linecolor": "white",
            "ticks": ""
           }
          },
          "title": {
           "x": 0.05
          },
          "xaxis": {
           "automargin": true,
           "gridcolor": "white",
           "linecolor": "white",
           "ticks": "",
           "title": {
            "standoff": 15
           },
           "zerolinecolor": "white",
           "zerolinewidth": 2
          },
          "yaxis": {
           "automargin": true,
           "gridcolor": "white",
           "linecolor": "white",
           "ticks": "",
           "title": {
            "standoff": 15
           },
           "zerolinecolor": "white",
           "zerolinewidth": 2
          }
         }
        },
        "title": {
         "text": "Interactive Actual vs Predicted Salary<br>Colored by Predicted Outlier, Symbol by Actual Outlier"
        },
        "width": 900,
        "xaxis": {
         "anchor": "y",
         "domain": [
          0,
          1
         ],
         "title": {
          "text": "Predicted Salary"
         }
        },
        "yaxis": {
         "anchor": "x",
         "domain": [
          0,
          1
         ],
         "title": {
          "text": "Actual Salary"
         }
        }
       }
      }
     },
     "metadata": {},
     "output_type": "display_data"
    }
   ],
   "source": [
    "import plotly.express as px\n",
    "import numpy as np\n",
    "\n",
    "# Calculate residual info (if not already done)\n",
    "df[\"Residual\"] = df[\"25-26 Salary\"] - df[\"Prediction_from_clean_model\"]\n",
    "df[\"Residual %\"] = df[\"Residual\"] / df[\"25-26 Salary\"]\n",
    "df[\"Residual % (abs)\"] = df[\"Residual %\"].abs() * 100  # for display\n",
    "df[\"Outlier_Pred_Label\"] = df[\"Outlier_Pred\"].map({True: \"Flagged\", False: \"Normal\"})\n",
    "df[\"Outlier_True_Label\"] = df[\"Outlier_Flag\"].map({True: \"Actual Outlier\", False: \"Not Outlier\"})\n",
    "\n",
    "# Optional: dummy label for anonymity\n",
    "df[\"Label\"] = df.index.astype(str)\n",
    "\n",
    "# Base plot\n",
    "fig = px.scatter(\n",
    "    df,\n",
    "    x=\"Prediction_from_clean_model\",\n",
    "    y=\"25-26 Salary\",\n",
    "    color=\"Outlier_Pred_Label\",\n",
    "    symbol=\"Outlier_True_Label\",\n",
    "    hover_data={\n",
    "        \"Label\": True,\n",
    "        \"25-26 Salary\": True,\n",
    "        \"Prediction_from_clean_model\": True,\n",
    "        \"Residual\": \":.0f\",\n",
    "        \"Residual % (abs)\": \":.1f\",\n",
    "        \"Outlier_Pred_Label\": False,\n",
    "        \"Outlier_True_Label\": False,\n",
    "    },\n",
    "    labels={\n",
    "        \"Prediction_from_clean_model\": \"Predicted Salary\",\n",
    "        \"25-26 Salary\": \"Actual Salary\"\n",
    "    },\n",
    "    title=\"Interactive Actual vs Predicted Salary<br>Colored by Predicted Outlier, Symbol by Actual Outlier\"\n",
    ")\n",
    "\n",
    "# Add ±5% error lines\n",
    "lims = [\n",
    "    min(df[\"25-26 Salary\"].min(), df[\"Prediction_from_clean_model\"].min()) * 0.95,\n",
    "    max(df[\"25-26 Salary\"].max(), df[\"Prediction_from_clean_model\"].max()) * 1.05,\n",
    "]\n",
    "x_vals = np.linspace(lims[0], lims[1], 100)\n",
    "\n",
    "fig.add_scatter(\n",
    "    x=x_vals, y=x_vals,\n",
    "    mode='lines', line=dict(dash='dash', color='gray'),\n",
    "    name='Perfect Prediction'\n",
    ")\n",
    "fig.add_scatter(\n",
    "    x=x_vals, y=x_vals * 1.05,\n",
    "    mode='lines', line=dict(dash='dot', color='blue'),\n",
    "    name='+5% Error'\n",
    ")\n",
    "fig.add_scatter(\n",
    "    x=x_vals, y=x_vals * 0.95,\n",
    "    mode='lines', line=dict(dash='dot', color='blue'),\n",
    "    name='-5% Error'\n",
    ")\n",
    "\n",
    "# Final layout\n",
    "fig.update_layout(\n",
    "    xaxis_title=\"Predicted Salary\",\n",
    "    yaxis_title=\"Actual Salary\",\n",
    "    legend_title=\"Predicted Outlier\",\n",
    "    width=900,\n",
    "    height=600\n",
    ")\n",
    "\n",
    "fig.show()"
   ]
  },
  {
   "cell_type": "code",
   "execution_count": 187,
   "metadata": {},
   "outputs": [
    {
     "data": {
      "text/html": [
       "<div>\n",
       "<style scoped>\n",
       "    .dataframe tbody tr th:only-of-type {\n",
       "        vertical-align: middle;\n",
       "    }\n",
       "\n",
       "    .dataframe tbody tr th {\n",
       "        vertical-align: top;\n",
       "    }\n",
       "\n",
       "    .dataframe thead th {\n",
       "        text-align: right;\n",
       "    }\n",
       "</style>\n",
       "<table border=\"1\" class=\"dataframe\">\n",
       "  <thead>\n",
       "    <tr style=\"text-align: right;\">\n",
       "      <th></th>\n",
       "      <th>25-26 Salary (formatted)</th>\n",
       "      <th>Predicted Salary (formatted)</th>\n",
       "      <th>Residual (formatted)</th>\n",
       "      <th>Residual % (formatted)</th>\n",
       "      <th>Outlier_Flag</th>\n",
       "      <th>Outlier_Pred</th>\n",
       "      <th>Outlier_Prob</th>\n",
       "    </tr>\n",
       "  </thead>\n",
       "  <tbody>\n",
       "    <tr>\n",
       "      <th>63</th>\n",
       "      <td>65,259</td>\n",
       "      <td>77,023</td>\n",
       "      <td>-11,764</td>\n",
       "      <td>18.0%</td>\n",
       "      <td>True</td>\n",
       "      <td>True</td>\n",
       "      <td>0.534499</td>\n",
       "    </tr>\n",
       "    <tr>\n",
       "      <th>60</th>\n",
       "      <td>81,055</td>\n",
       "      <td>67,693</td>\n",
       "      <td>13,362</td>\n",
       "      <td>16.5%</td>\n",
       "      <td>True</td>\n",
       "      <td>True</td>\n",
       "      <td>0.472913</td>\n",
       "    </tr>\n",
       "    <tr>\n",
       "      <th>12</th>\n",
       "      <td>55,328</td>\n",
       "      <td>63,862</td>\n",
       "      <td>-8,534</td>\n",
       "      <td>15.4%</td>\n",
       "      <td>True</td>\n",
       "      <td>True</td>\n",
       "      <td>0.443997</td>\n",
       "    </tr>\n",
       "    <tr>\n",
       "      <th>68</th>\n",
       "      <td>88,090</td>\n",
       "      <td>75,355</td>\n",
       "      <td>12,735</td>\n",
       "      <td>14.5%</td>\n",
       "      <td>True</td>\n",
       "      <td>True</td>\n",
       "      <td>0.531097</td>\n",
       "    </tr>\n",
       "    <tr>\n",
       "      <th>69</th>\n",
       "      <td>90,178</td>\n",
       "      <td>78,950</td>\n",
       "      <td>11,228</td>\n",
       "      <td>12.5%</td>\n",
       "      <td>True</td>\n",
       "      <td>True</td>\n",
       "      <td>0.456880</td>\n",
       "    </tr>\n",
       "    <tr>\n",
       "      <th>4</th>\n",
       "      <td>54,302</td>\n",
       "      <td>61,022</td>\n",
       "      <td>-6,720</td>\n",
       "      <td>12.4%</td>\n",
       "      <td>True</td>\n",
       "      <td>True</td>\n",
       "      <td>0.459311</td>\n",
       "    </tr>\n",
       "    <tr>\n",
       "      <th>35</th>\n",
       "      <td>64,318</td>\n",
       "      <td>72,179</td>\n",
       "      <td>-7,861</td>\n",
       "      <td>12.2%</td>\n",
       "      <td>True</td>\n",
       "      <td>False</td>\n",
       "      <td>0.269654</td>\n",
       "    </tr>\n",
       "    <tr>\n",
       "      <th>33</th>\n",
       "      <td>76,387</td>\n",
       "      <td>67,457</td>\n",
       "      <td>8,930</td>\n",
       "      <td>11.7%</td>\n",
       "      <td>True</td>\n",
       "      <td>False</td>\n",
       "      <td>0.346153</td>\n",
       "    </tr>\n",
       "    <tr>\n",
       "      <th>39</th>\n",
       "      <td>67,220</td>\n",
       "      <td>75,073</td>\n",
       "      <td>-7,853</td>\n",
       "      <td>11.7%</td>\n",
       "      <td>True</td>\n",
       "      <td>True</td>\n",
       "      <td>0.615450</td>\n",
       "    </tr>\n",
       "    <tr>\n",
       "      <th>48</th>\n",
       "      <td>70,967</td>\n",
       "      <td>79,106</td>\n",
       "      <td>-8,139</td>\n",
       "      <td>11.5%</td>\n",
       "      <td>True</td>\n",
       "      <td>True</td>\n",
       "      <td>0.610172</td>\n",
       "    </tr>\n",
       "  </tbody>\n",
       "</table>\n",
       "</div>"
      ],
      "text/plain": [
       "   25-26 Salary (formatted) Predicted Salary (formatted) Residual (formatted)  \\\n",
       "63                   65,259                       77,023              -11,764   \n",
       "60                   81,055                       67,693               13,362   \n",
       "12                   55,328                       63,862               -8,534   \n",
       "68                   88,090                       75,355               12,735   \n",
       "69                   90,178                       78,950               11,228   \n",
       "4                    54,302                       61,022               -6,720   \n",
       "35                   64,318                       72,179               -7,861   \n",
       "33                   76,387                       67,457                8,930   \n",
       "39                   67,220                       75,073               -7,853   \n",
       "48                   70,967                       79,106               -8,139   \n",
       "\n",
       "   Residual % (formatted)  Outlier_Flag  Outlier_Pred  Outlier_Prob  \n",
       "63                  18.0%          True          True      0.534499  \n",
       "60                  16.5%          True          True      0.472913  \n",
       "12                  15.4%          True          True      0.443997  \n",
       "68                  14.5%          True          True      0.531097  \n",
       "69                  12.5%          True          True      0.456880  \n",
       "4                   12.4%          True          True      0.459311  \n",
       "35                  12.2%          True         False      0.269654  \n",
       "33                  11.7%          True         False      0.346153  \n",
       "39                  11.7%          True          True      0.615450  \n",
       "48                  11.5%          True          True      0.610172  "
      ]
     },
     "execution_count": 187,
     "metadata": {},
     "output_type": "execute_result"
    }
   ],
   "source": [
    "# --------------------------------------------\n",
    "# Top largest residuals (actual vs predicted)\n",
    "# --------------------------------------------\n",
    "\n",
    "# Ensure residuals are computed\n",
    "df[\"Residual\"] = df[\"25-26 Salary\"] - df[\"Prediction_from_clean_model\"]\n",
    "df[\"Residual %\"] = (df[\"Residual\"] / df[\"25-26 Salary\"]).abs()\n",
    "\n",
    "# Sort by absolute residual percentage\n",
    "top_residuals = df.sort_values(\"Residual %\", ascending=False).copy()\n",
    "\n",
    "# Choose how many you want to display\n",
    "n = 10\n",
    "\n",
    "# Format numeric columns with commas (no decimals)\n",
    "top_residuals[\"25-26 Salary (formatted)\"] = top_residuals[\"25-26 Salary\"].apply(lambda x: f\"{int(round(x)):,}\")\n",
    "top_residuals[\"Predicted Salary (formatted)\"] = top_residuals[\"Prediction_from_clean_model\"].apply(lambda x: f\"{int(round(x)):,}\")\n",
    "top_residuals[\"Residual (formatted)\"] = top_residuals[\"Residual\"].apply(lambda x: f\"{int(round(x)):,}\")\n",
    "top_residuals[\"Residual % (formatted)\"] = top_residuals[\"Residual %\"].apply(lambda x: f\"{x*100:.1f}%\")\n",
    "\n",
    "# Columns to show\n",
    "display_cols = [\n",
    "    \"25-26 Salary (formatted)\",\n",
    "    \"Predicted Salary (formatted)\",\n",
    "    \"Residual (formatted)\",\n",
    "    \"Residual % (formatted)\",\n",
    "    \"Outlier_Flag\",\n",
    "    \"Outlier_Pred\",\n",
    "    \"Outlier_Prob\"\n",
    "]\n",
    "\n",
    "# Show top n\n",
    "top_residuals[display_cols].head(n)"
   ]
  },
  {
   "cell_type": "code",
   "execution_count": 188,
   "metadata": {},
   "outputs": [
    {
     "data": {
      "application/vnd.jupyter.widget-view+json": {
       "model_id": "03a0b6f29dc14c08b6b321f56a271cae",
       "version_major": 2,
       "version_minor": 0
      },
      "text/plain": [
       "  0%|          | 0/1 [00:00<?, ?it/s]"
      ]
     },
     "metadata": {},
     "output_type": "display_data"
    },
    {
     "name": "stdout",
     "output_type": "stream",
     "text": [
      "📌 SHAP Breakdown for Index 42\n",
      "Predicted Salary: 68,296\n",
      "Baseline Prediction (expected value): 71156\n",
      "\n",
      "            Feature Value SHAP Impact Direction\n",
      "          Seniority   1.0      -4,306  ↓ lowers\n",
      "   Years Since Hire     0       3,732  ↑ raises\n",
      "       Years of Exp    12      -2,123  ↓ lowers\n",
      "       Skill Rating     8      -2,113  ↓ lowers\n",
      " Education Level_MA  True       1,025  ↑ raises\n",
      "   Knowledge Rating     5         887  ↑ raises\n",
      "           Gender_M  True         591  ↑ raises\n",
      "        Prep Rating     0        -377  ↓ lowers\n",
      "Education Level_PhD False        -211  ↓ lowers\n",
      " Education Level_MS False          35  ↑ raises\n"
     ]
    }
   ],
   "source": [
    "import shap\n",
    "import pandas as pd\n",
    "\n",
    "# Choose target row\n",
    "target_index = 42\n",
    "\n",
    "# Make sure the row is a DataFrame (not just values) to preserve feature names\n",
    "x_target = X_clean.loc[[target_index]]\n",
    "\n",
    "# Use SHAP KernelExplainer (model-agnostic)\n",
    "explainer = shap.KernelExplainer(model_noOuts.predict, X_clean)\n",
    "\n",
    "# Compute SHAP values for this 1-row DataFrame\n",
    "shap_values = explainer.shap_values(x_target)\n",
    "\n",
    "# Format into a DataFrame\n",
    "shap_df = pd.DataFrame({\n",
    "    \"Feature\": x_target.columns,\n",
    "    \"Value\": x_target.iloc[0].values,\n",
    "    \"SHAP Impact\": shap_values[0]\n",
    "}).sort_values(\"SHAP Impact\", key=abs, ascending=False)\n",
    "\n",
    "# Extra formatting for clarity\n",
    "shap_df[\"Direction\"] = shap_df[\"SHAP Impact\"].apply(lambda x: \"↑ raises\" if x > 0 else \"↓ lowers\")\n",
    "shap_df[\"SHAP Impact\"] = shap_df[\"SHAP Impact\"].map(lambda x: f\"{x:,.0f}\")\n",
    "\n",
    "# Show result\n",
    "print(f\"📌 SHAP Breakdown for Index {target_index}\")\n",
    "print(f\"Predicted Salary: {model_noOuts.predict(x_target)[0]:,.0f}\")\n",
    "print(f\"Baseline Prediction (expected value): {explainer.expected_value:.0f}\\n\")\n",
    "print(shap_df[[\"Feature\", \"Value\", \"SHAP Impact\", \"Direction\"]].head(12).to_string(index=False))"
   ]
  },
  {
   "cell_type": "code",
   "execution_count": 194,
   "metadata": {},
   "outputs": [
    {
     "data": {
      "application/vnd.jupyter.widget-view+json": {
       "model_id": "6378fb0e9eb14d61baf308bb8a899bd5",
       "version_major": 2,
       "version_minor": 0
      },
      "text/plain": [
       "  0%|          | 0/1 [00:00<?, ?it/s]"
      ]
     },
     "metadata": {},
     "output_type": "display_data"
    },
    {
     "data": {
      "application/vnd.plotly.v1+json": {
       "config": {
        "plotlyServerURL": "https://plot.ly"
       },
       "data": [
        {
         "alignmentgroup": "True",
         "customdata": [
          [
           false,
           "Raises Prediction"
          ],
          [
           3,
           "Raises Prediction"
          ],
          [
           true,
           "Raises Prediction"
          ],
          [
           0,
           "Raises Prediction"
          ]
         ],
         "hovertemplate": "SHAP Impact=%{x}<br>Value=%{customdata[0]}<extra></extra>",
         "legendgroup": "Raises Prediction",
         "marker": {
          "color": "green",
          "pattern": {
           "shape": ""
          }
         },
         "name": "Raises Prediction",
         "offsetgroup": "Raises Prediction",
         "orientation": "h",
         "showlegend": true,
         "textposition": "auto",
         "type": "bar",
         "x": [
          35.496358004935246,
          782.5144697633033,
          1025.085795344343,
          3732.3620964872566
         ],
         "xaxis": "x",
         "y": [
          "Education Level_MS",
          "Skill Rating",
          "Education Level_MA",
          "Years Since Hire"
         ],
         "yaxis": "y"
        },
        {
         "alignmentgroup": "True",
         "customdata": [
          [
           false,
           "Lowers Prediction"
          ],
          [
           false,
           "Lowers Prediction"
          ],
          [
           0,
           "Lowers Prediction"
          ],
          [
           3,
           "Lowers Prediction"
          ],
          [
           1,
           "Lowers Prediction"
          ],
          [
           3,
           "Lowers Prediction"
          ]
         ],
         "hovertemplate": "SHAP Impact=%{x}<br>Value=%{customdata[0]}<extra></extra>",
         "legendgroup": "Lowers Prediction",
         "marker": {
          "color": "red",
          "pattern": {
           "shape": ""
          }
         },
         "name": "Lowers Prediction",
         "offsetgroup": "Lowers Prediction",
         "orientation": "h",
         "showlegend": true,
         "textposition": "auto",
         "type": "bar",
         "x": [
          -211.02905726702065,
          -319.9255249930999,
          -377.45512731028964,
          -1301.353571690702,
          -4306.256936398,
          -9192.70337382175
         ],
         "xaxis": "x",
         "y": [
          "Education Level_PhD",
          "Gender_M",
          "Prep Rating",
          "Knowledge Rating",
          "Seniority",
          "Years of Exp"
         ],
         "yaxis": "y"
        }
       ],
       "layout": {
        "barmode": "relative",
        "height": 500,
        "legend": {
         "title": {
          "text": "Impact Direction"
         },
         "tracegroupgap": 0
        },
        "template": {
         "data": {
          "bar": [
           {
            "error_x": {
             "color": "#2a3f5f"
            },
            "error_y": {
             "color": "#2a3f5f"
            },
            "marker": {
             "line": {
              "color": "#E5ECF6",
              "width": 0.5
             },
             "pattern": {
              "fillmode": "overlay",
              "size": 10,
              "solidity": 0.2
             }
            },
            "type": "bar"
           }
          ],
          "barpolar": [
           {
            "marker": {
             "line": {
              "color": "#E5ECF6",
              "width": 0.5
             },
             "pattern": {
              "fillmode": "overlay",
              "size": 10,
              "solidity": 0.2
             }
            },
            "type": "barpolar"
           }
          ],
          "carpet": [
           {
            "aaxis": {
             "endlinecolor": "#2a3f5f",
             "gridcolor": "white",
             "linecolor": "white",
             "minorgridcolor": "white",
             "startlinecolor": "#2a3f5f"
            },
            "baxis": {
             "endlinecolor": "#2a3f5f",
             "gridcolor": "white",
             "linecolor": "white",
             "minorgridcolor": "white",
             "startlinecolor": "#2a3f5f"
            },
            "type": "carpet"
           }
          ],
          "choropleth": [
           {
            "colorbar": {
             "outlinewidth": 0,
             "ticks": ""
            },
            "type": "choropleth"
           }
          ],
          "contour": [
           {
            "colorbar": {
             "outlinewidth": 0,
             "ticks": ""
            },
            "colorscale": [
             [
              0,
              "#0d0887"
             ],
             [
              0.1111111111111111,
              "#46039f"
             ],
             [
              0.2222222222222222,
              "#7201a8"
             ],
             [
              0.3333333333333333,
              "#9c179e"
             ],
             [
              0.4444444444444444,
              "#bd3786"
             ],
             [
              0.5555555555555556,
              "#d8576b"
             ],
             [
              0.6666666666666666,
              "#ed7953"
             ],
             [
              0.7777777777777778,
              "#fb9f3a"
             ],
             [
              0.8888888888888888,
              "#fdca26"
             ],
             [
              1,
              "#f0f921"
             ]
            ],
            "type": "contour"
           }
          ],
          "contourcarpet": [
           {
            "colorbar": {
             "outlinewidth": 0,
             "ticks": ""
            },
            "type": "contourcarpet"
           }
          ],
          "heatmap": [
           {
            "colorbar": {
             "outlinewidth": 0,
             "ticks": ""
            },
            "colorscale": [
             [
              0,
              "#0d0887"
             ],
             [
              0.1111111111111111,
              "#46039f"
             ],
             [
              0.2222222222222222,
              "#7201a8"
             ],
             [
              0.3333333333333333,
              "#9c179e"
             ],
             [
              0.4444444444444444,
              "#bd3786"
             ],
             [
              0.5555555555555556,
              "#d8576b"
             ],
             [
              0.6666666666666666,
              "#ed7953"
             ],
             [
              0.7777777777777778,
              "#fb9f3a"
             ],
             [
              0.8888888888888888,
              "#fdca26"
             ],
             [
              1,
              "#f0f921"
             ]
            ],
            "type": "heatmap"
           }
          ],
          "heatmapgl": [
           {
            "colorbar": {
             "outlinewidth": 0,
             "ticks": ""
            },
            "colorscale": [
             [
              0,
              "#0d0887"
             ],
             [
              0.1111111111111111,
              "#46039f"
             ],
             [
              0.2222222222222222,
              "#7201a8"
             ],
             [
              0.3333333333333333,
              "#9c179e"
             ],
             [
              0.4444444444444444,
              "#bd3786"
             ],
             [
              0.5555555555555556,
              "#d8576b"
             ],
             [
              0.6666666666666666,
              "#ed7953"
             ],
             [
              0.7777777777777778,
              "#fb9f3a"
             ],
             [
              0.8888888888888888,
              "#fdca26"
             ],
             [
              1,
              "#f0f921"
             ]
            ],
            "type": "heatmapgl"
           }
          ],
          "histogram": [
           {
            "marker": {
             "pattern": {
              "fillmode": "overlay",
              "size": 10,
              "solidity": 0.2
             }
            },
            "type": "histogram"
           }
          ],
          "histogram2d": [
           {
            "colorbar": {
             "outlinewidth": 0,
             "ticks": ""
            },
            "colorscale": [
             [
              0,
              "#0d0887"
             ],
             [
              0.1111111111111111,
              "#46039f"
             ],
             [
              0.2222222222222222,
              "#7201a8"
             ],
             [
              0.3333333333333333,
              "#9c179e"
             ],
             [
              0.4444444444444444,
              "#bd3786"
             ],
             [
              0.5555555555555556,
              "#d8576b"
             ],
             [
              0.6666666666666666,
              "#ed7953"
             ],
             [
              0.7777777777777778,
              "#fb9f3a"
             ],
             [
              0.8888888888888888,
              "#fdca26"
             ],
             [
              1,
              "#f0f921"
             ]
            ],
            "type": "histogram2d"
           }
          ],
          "histogram2dcontour": [
           {
            "colorbar": {
             "outlinewidth": 0,
             "ticks": ""
            },
            "colorscale": [
             [
              0,
              "#0d0887"
             ],
             [
              0.1111111111111111,
              "#46039f"
             ],
             [
              0.2222222222222222,
              "#7201a8"
             ],
             [
              0.3333333333333333,
              "#9c179e"
             ],
             [
              0.4444444444444444,
              "#bd3786"
             ],
             [
              0.5555555555555556,
              "#d8576b"
             ],
             [
              0.6666666666666666,
              "#ed7953"
             ],
             [
              0.7777777777777778,
              "#fb9f3a"
             ],
             [
              0.8888888888888888,
              "#fdca26"
             ],
             [
              1,
              "#f0f921"
             ]
            ],
            "type": "histogram2dcontour"
           }
          ],
          "mesh3d": [
           {
            "colorbar": {
             "outlinewidth": 0,
             "ticks": ""
            },
            "type": "mesh3d"
           }
          ],
          "parcoords": [
           {
            "line": {
             "colorbar": {
              "outlinewidth": 0,
              "ticks": ""
             }
            },
            "type": "parcoords"
           }
          ],
          "pie": [
           {
            "automargin": true,
            "type": "pie"
           }
          ],
          "scatter": [
           {
            "fillpattern": {
             "fillmode": "overlay",
             "size": 10,
             "solidity": 0.2
            },
            "type": "scatter"
           }
          ],
          "scatter3d": [
           {
            "line": {
             "colorbar": {
              "outlinewidth": 0,
              "ticks": ""
             }
            },
            "marker": {
             "colorbar": {
              "outlinewidth": 0,
              "ticks": ""
             }
            },
            "type": "scatter3d"
           }
          ],
          "scattercarpet": [
           {
            "marker": {
             "colorbar": {
              "outlinewidth": 0,
              "ticks": ""
             }
            },
            "type": "scattercarpet"
           }
          ],
          "scattergeo": [
           {
            "marker": {
             "colorbar": {
              "outlinewidth": 0,
              "ticks": ""
             }
            },
            "type": "scattergeo"
           }
          ],
          "scattergl": [
           {
            "marker": {
             "colorbar": {
              "outlinewidth": 0,
              "ticks": ""
             }
            },
            "type": "scattergl"
           }
          ],
          "scattermapbox": [
           {
            "marker": {
             "colorbar": {
              "outlinewidth": 0,
              "ticks": ""
             }
            },
            "type": "scattermapbox"
           }
          ],
          "scatterpolar": [
           {
            "marker": {
             "colorbar": {
              "outlinewidth": 0,
              "ticks": ""
             }
            },
            "type": "scatterpolar"
           }
          ],
          "scatterpolargl": [
           {
            "marker": {
             "colorbar": {
              "outlinewidth": 0,
              "ticks": ""
             }
            },
            "type": "scatterpolargl"
           }
          ],
          "scatterternary": [
           {
            "marker": {
             "colorbar": {
              "outlinewidth": 0,
              "ticks": ""
             }
            },
            "type": "scatterternary"
           }
          ],
          "surface": [
           {
            "colorbar": {
             "outlinewidth": 0,
             "ticks": ""
            },
            "colorscale": [
             [
              0,
              "#0d0887"
             ],
             [
              0.1111111111111111,
              "#46039f"
             ],
             [
              0.2222222222222222,
              "#7201a8"
             ],
             [
              0.3333333333333333,
              "#9c179e"
             ],
             [
              0.4444444444444444,
              "#bd3786"
             ],
             [
              0.5555555555555556,
              "#d8576b"
             ],
             [
              0.6666666666666666,
              "#ed7953"
             ],
             [
              0.7777777777777778,
              "#fb9f3a"
             ],
             [
              0.8888888888888888,
              "#fdca26"
             ],
             [
              1,
              "#f0f921"
             ]
            ],
            "type": "surface"
           }
          ],
          "table": [
           {
            "cells": {
             "fill": {
              "color": "#EBF0F8"
             },
             "line": {
              "color": "white"
             }
            },
            "header": {
             "fill": {
              "color": "#C8D4E3"
             },
             "line": {
              "color": "white"
             }
            },
            "type": "table"
           }
          ]
         },
         "layout": {
          "annotationdefaults": {
           "arrowcolor": "#2a3f5f",
           "arrowhead": 0,
           "arrowwidth": 1
          },
          "autotypenumbers": "strict",
          "coloraxis": {
           "colorbar": {
            "outlinewidth": 0,
            "ticks": ""
           }
          },
          "colorscale": {
           "diverging": [
            [
             0,
             "#8e0152"
            ],
            [
             0.1,
             "#c51b7d"
            ],
            [
             0.2,
             "#de77ae"
            ],
            [
             0.3,
             "#f1b6da"
            ],
            [
             0.4,
             "#fde0ef"
            ],
            [
             0.5,
             "#f7f7f7"
            ],
            [
             0.6,
             "#e6f5d0"
            ],
            [
             0.7,
             "#b8e186"
            ],
            [
             0.8,
             "#7fbc41"
            ],
            [
             0.9,
             "#4d9221"
            ],
            [
             1,
             "#276419"
            ]
           ],
           "sequential": [
            [
             0,
             "#0d0887"
            ],
            [
             0.1111111111111111,
             "#46039f"
            ],
            [
             0.2222222222222222,
             "#7201a8"
            ],
            [
             0.3333333333333333,
             "#9c179e"
            ],
            [
             0.4444444444444444,
             "#bd3786"
            ],
            [
             0.5555555555555556,
             "#d8576b"
            ],
            [
             0.6666666666666666,
             "#ed7953"
            ],
            [
             0.7777777777777778,
             "#fb9f3a"
            ],
            [
             0.8888888888888888,
             "#fdca26"
            ],
            [
             1,
             "#f0f921"
            ]
           ],
           "sequentialminus": [
            [
             0,
             "#0d0887"
            ],
            [
             0.1111111111111111,
             "#46039f"
            ],
            [
             0.2222222222222222,
             "#7201a8"
            ],
            [
             0.3333333333333333,
             "#9c179e"
            ],
            [
             0.4444444444444444,
             "#bd3786"
            ],
            [
             0.5555555555555556,
             "#d8576b"
            ],
            [
             0.6666666666666666,
             "#ed7953"
            ],
            [
             0.7777777777777778,
             "#fb9f3a"
            ],
            [
             0.8888888888888888,
             "#fdca26"
            ],
            [
             1,
             "#f0f921"
            ]
           ]
          },
          "colorway": [
           "#636efa",
           "#EF553B",
           "#00cc96",
           "#ab63fa",
           "#FFA15A",
           "#19d3f3",
           "#FF6692",
           "#B6E880",
           "#FF97FF",
           "#FECB52"
          ],
          "font": {
           "color": "#2a3f5f"
          },
          "geo": {
           "bgcolor": "white",
           "lakecolor": "white",
           "landcolor": "#E5ECF6",
           "showlakes": true,
           "showland": true,
           "subunitcolor": "white"
          },
          "hoverlabel": {
           "align": "left"
          },
          "hovermode": "closest",
          "mapbox": {
           "style": "light"
          },
          "paper_bgcolor": "white",
          "plot_bgcolor": "#E5ECF6",
          "polar": {
           "angularaxis": {
            "gridcolor": "white",
            "linecolor": "white",
            "ticks": ""
           },
           "bgcolor": "#E5ECF6",
           "radialaxis": {
            "gridcolor": "white",
            "linecolor": "white",
            "ticks": ""
           }
          },
          "scene": {
           "xaxis": {
            "backgroundcolor": "#E5ECF6",
            "gridcolor": "white",
            "gridwidth": 2,
            "linecolor": "white",
            "showbackground": true,
            "ticks": "",
            "zerolinecolor": "white"
           },
           "yaxis": {
            "backgroundcolor": "#E5ECF6",
            "gridcolor": "white",
            "gridwidth": 2,
            "linecolor": "white",
            "showbackground": true,
            "ticks": "",
            "zerolinecolor": "white"
           },
           "zaxis": {
            "backgroundcolor": "#E5ECF6",
            "gridcolor": "white",
            "gridwidth": 2,
            "linecolor": "white",
            "showbackground": true,
            "ticks": "",
            "zerolinecolor": "white"
           }
          },
          "shapedefaults": {
           "line": {
            "color": "#2a3f5f"
           }
          },
          "ternary": {
           "aaxis": {
            "gridcolor": "white",
            "linecolor": "white",
            "ticks": ""
           },
           "baxis": {
            "gridcolor": "white",
            "linecolor": "white",
            "ticks": ""
           },
           "bgcolor": "#E5ECF6",
           "caxis": {
            "gridcolor": "white",
            "linecolor": "white",
            "ticks": ""
           }
          },
          "title": {
           "x": 0.05
          },
          "xaxis": {
           "automargin": true,
           "gridcolor": "white",
           "linecolor": "white",
           "ticks": "",
           "title": {
            "standoff": 15
           },
           "zerolinecolor": "white",
           "zerolinewidth": 2
          },
          "yaxis": {
           "automargin": true,
           "gridcolor": "white",
           "linecolor": "white",
           "ticks": "",
           "title": {
            "standoff": 15
           },
           "zerolinecolor": "white",
           "zerolinewidth": 2
          }
         }
        },
        "title": {
         "text": "🔍 SHAP Explanation for Index 4<br>Predicted: $61,022 | Baseline: $71,156"
        },
        "xaxis": {
         "anchor": "y",
         "domain": [
          0,
          1
         ],
         "title": {
          "text": "SHAP Impact on Prediction"
         }
        },
        "yaxis": {
         "anchor": "x",
         "domain": [
          0,
          1
         ],
         "title": {
          "text": "Feature"
         }
        }
       }
      }
     },
     "metadata": {},
     "output_type": "display_data"
    }
   ],
   "source": [
    "import plotly.express as px\n",
    "import shap\n",
    "import pandas as pd\n",
    "\n",
    "# Set the original index from df (can be anything in df)\n",
    "original_index = 4  # 👈 change this to whichever row you want to explain\n",
    "\n",
    "# Make sure that row exists\n",
    "if original_index not in df_encoded.index:\n",
    "    raise ValueError(f\"Index {original_index} not found in original data!\")\n",
    "\n",
    "# Match exact features used for training\n",
    "x_target = df_encoded.loc[[original_index], X_clean.columns]\n",
    "\n",
    "# SHAP: Use KernelExplainer (you already fit model_noOuts earlier)\n",
    "explainer = shap.KernelExplainer(model_noOuts.predict, X_clean)\n",
    "shap_values = explainer.shap_values(x_target)\n",
    "\n",
    "# Create SHAP DataFrame for display\n",
    "shap_df = pd.DataFrame({\n",
    "    \"Feature\": x_target.columns,\n",
    "    \"Value\": x_target.iloc[0].values,\n",
    "    \"SHAP Impact\": shap_values[0]\n",
    "})\n",
    "shap_df[\"Abs Impact\"] = shap_df[\"SHAP Impact\"].abs()\n",
    "shap_df[\"Impact Direction\"] = shap_df[\"SHAP Impact\"].apply(lambda x: \"Raises Prediction\" if x > 0 else \"Lowers Prediction\")\n",
    "shap_df = shap_df.sort_values(\"Abs Impact\", ascending=True)\n",
    "\n",
    "baseline = float(explainer.expected_value)  # ensure it's a plain number\n",
    "title = (\n",
    "    f\"🔍 SHAP Explanation for Index {original_index}<br>\"\n",
    "    f\"Predicted: ${model_noOuts.predict(x_target)[0]:,.0f} | \"\n",
    "    f\"Baseline: ${baseline:,.0f}\"\n",
    ")\n",
    "\n",
    "# Interactive plot\n",
    "fig = px.bar(\n",
    "    shap_df,\n",
    "    x=\"SHAP Impact\",\n",
    "    y=\"Feature\",\n",
    "    orientation=\"h\",\n",
    "    color=\"Impact Direction\",\n",
    "    hover_data={\n",
    "        \"Value\": True,\n",
    "        \"SHAP Impact\": True,\n",
    "        \"Feature\": False,\n",
    "        \"Impact Direction\": False\n",
    "    },\n",
    "    title=title,\n",
    "    color_discrete_map={\n",
    "        \"Raises Prediction\": \"green\",\n",
    "        \"Lowers Prediction\": \"red\"\n",
    "    }\n",
    ")\n",
    "\n",
    "fig.update_layout(\n",
    "    xaxis_title=\"SHAP Impact on Prediction\",\n",
    "    yaxis_title=\"Feature\",\n",
    "    height=500\n",
    ")\n",
    "\n",
    "fig.show()"
   ]
  },
  {
   "cell_type": "code",
   "execution_count": null,
   "metadata": {},
   "outputs": [
    {
     "name": "stdout",
     "output_type": "stream",
     "text": [
      "✅ Exported: 'salary_model_output_for_HR_sorted.csv' (sorted by Residual %)\n"
     ]
    }
   ],
   "source": [
    "# Prepare HR export DataFrame\n",
    "hr_export = df.copy()\n",
    "\n",
    "# Format numeric columns\n",
    "hr_export[\"Predicted Salary\"] = df[\"Prediction_from_clean_model\"].round(0)\n",
    "hr_export[\"Residual\"] = (df[\"25-26 Salary\"] - df[\"Prediction_from_clean_model\"]).round(0)\n",
    "hr_export[\"Residual %\"] = ((hr_export[\"Residual\"] / df[\"25-26 Salary\"]) * 100).round(1)\n",
    "\n",
    "# Flag columns\n",
    "hr_export[\"Recommended for Review\"] = df[\"Outlier_Pred\"]\n",
    "hr_export[\"Actual Outlier\"] = df[\"Outlier_Flag\"]\n",
    "hr_export[\"Model Confidence (Outlier %)\"] = (df[\"Outlier_Prob\"] * 100).round(1)\n",
    "\n",
    "# Optional: reformat currency-style columns for HR\n",
    "for col in [\"25-26 Salary\", \"Predicted Salary\", \"Residual\"]:\n",
    "    hr_export[col] = hr_export[col].apply(lambda x: f\"${int(x):,}\" if pd.notnull(x) else \"\")\n",
    "\n",
    "# Reorder columns to put essentials first\n",
    "key_columns = [\n",
    "    \"25-26 Salary\", \"Predicted Salary\", \"Residual\", \"Residual %\",\n",
    "    \"Recommended for Review\", \"Model Confidence (Outlier %)\", \"Actual Outlier\"\n",
    "]\n",
    "other_columns = [col for col in hr_export.columns if col not in key_columns]\n",
    "hr_export = hr_export[key_columns + other_columns]\n",
    "\n",
    "# Sort by % error: lowest residuals (underpaid) at top\n",
    "hr_export_sorted = hr_export.sort_values(\"Residual %\")\n",
    "\n",
    "# Export\n",
    "hr_export_sorted.to_csv(\"salary_model_output_for_HR_sorted.csv\", index=False)\n",
    "\n",
    "print(\"✅ Exported: 'salary_model_output_for_HR_sorted.csv' (sorted by Residual %)\")"
   ]
  },
  {
   "cell_type": "code",
   "execution_count": null,
   "metadata": {},
   "outputs": [],
   "source": []
  }
 ],
 "metadata": {
  "kernelspec": {
   "display_name": "base",
   "language": "python",
   "name": "python3"
  },
  "language_info": {
   "codemirror_mode": {
    "name": "ipython",
    "version": 3
   },
   "file_extension": ".py",
   "mimetype": "text/x-python",
   "name": "python",
   "nbconvert_exporter": "python",
   "pygments_lexer": "ipython3",
   "version": "3.11.7"
  }
 },
 "nbformat": 4,
 "nbformat_minor": 2
}
