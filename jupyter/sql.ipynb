{
 "cells": [
  {
   "cell_type": "code",
   "execution_count": 10,
   "metadata": {},
   "outputs": [],
   "source": [
    "import numpy as np\n",
    "import pandas as pd\n",
    "import matplotlib.pylab as plt\n",
    "import seaborn as sns\n",
    "%matplotlib inline"
   ]
  },
  {
   "cell_type": "code",
   "execution_count": 11,
   "metadata": {},
   "outputs": [
    {
     "data": {
      "text/html": [
       "<div>\n",
       "<style scoped>\n",
       "    .dataframe tbody tr th:only-of-type {\n",
       "        vertical-align: middle;\n",
       "    }\n",
       "\n",
       "    .dataframe tbody tr th {\n",
       "        vertical-align: top;\n",
       "    }\n",
       "\n",
       "    .dataframe thead th {\n",
       "        text-align: right;\n",
       "    }\n",
       "</style>\n",
       "<table border=\"1\" class=\"dataframe\">\n",
       "  <thead>\n",
       "    <tr style=\"text-align: right;\">\n",
       "      <th></th>\n",
       "      <th>Date/Time</th>\n",
       "      <th>Lat</th>\n",
       "      <th>Lon</th>\n",
       "      <th>Base</th>\n",
       "    </tr>\n",
       "  </thead>\n",
       "  <tbody>\n",
       "    <tr>\n",
       "      <th>0</th>\n",
       "      <td>4/1/2014 0:11:00</td>\n",
       "      <td>40.7690</td>\n",
       "      <td>-73.9549</td>\n",
       "      <td>B02512</td>\n",
       "    </tr>\n",
       "    <tr>\n",
       "      <th>1</th>\n",
       "      <td>4/1/2014 0:17:00</td>\n",
       "      <td>40.7267</td>\n",
       "      <td>-74.0345</td>\n",
       "      <td>B02512</td>\n",
       "    </tr>\n",
       "    <tr>\n",
       "      <th>2</th>\n",
       "      <td>4/1/2014 0:21:00</td>\n",
       "      <td>40.7316</td>\n",
       "      <td>-73.9873</td>\n",
       "      <td>B02512</td>\n",
       "    </tr>\n",
       "    <tr>\n",
       "      <th>3</th>\n",
       "      <td>4/1/2014 0:28:00</td>\n",
       "      <td>40.7588</td>\n",
       "      <td>-73.9776</td>\n",
       "      <td>B02512</td>\n",
       "    </tr>\n",
       "    <tr>\n",
       "      <th>4</th>\n",
       "      <td>4/1/2014 0:33:00</td>\n",
       "      <td>40.7594</td>\n",
       "      <td>-73.9722</td>\n",
       "      <td>B02512</td>\n",
       "    </tr>\n",
       "  </tbody>\n",
       "</table>\n",
       "</div>"
      ],
      "text/plain": [
       "          Date/Time      Lat      Lon    Base\n",
       "0  4/1/2014 0:11:00  40.7690 -73.9549  B02512\n",
       "1  4/1/2014 0:17:00  40.7267 -74.0345  B02512\n",
       "2  4/1/2014 0:21:00  40.7316 -73.9873  B02512\n",
       "3  4/1/2014 0:28:00  40.7588 -73.9776  B02512\n",
       "4  4/1/2014 0:33:00  40.7594 -73.9722  B02512"
      ]
     },
     "execution_count": 11,
     "metadata": {},
     "output_type": "execute_result"
    }
   ],
   "source": [
    "uber = pd.read_csv('/Users/erikborn/Documents/Python/jupyter/uber.csv')\n",
    "uber.head()"
   ]
  },
  {
   "cell_type": "code",
   "execution_count": 12,
   "metadata": {},
   "outputs": [
    {
     "name": "stdout",
     "output_type": "stream",
     "text": [
      "<class 'pandas.core.frame.DataFrame'>\n",
      "RangeIndex: 104007 entries, 0 to 104006\n",
      "Data columns (total 4 columns):\n",
      " #   Column     Non-Null Count   Dtype  \n",
      "---  ------     --------------   -----  \n",
      " 0   Date/Time  104007 non-null  object \n",
      " 1   Lat        104007 non-null  float64\n",
      " 2   Lon        104006 non-null  float64\n",
      " 3   Base       104006 non-null  object \n",
      "dtypes: float64(2), object(2)\n",
      "memory usage: 3.2+ MB\n"
     ]
    }
   ],
   "source": [
    "uber.info()"
   ]
  },
  {
   "cell_type": "code",
   "execution_count": 13,
   "metadata": {},
   "outputs": [
    {
     "name": "stdout",
     "output_type": "stream",
     "text": [
      "Num missing values per column\n",
      "Date/Time    0\n",
      "Lat          0\n",
      "Lon          1\n",
      "Base         1\n",
      "dtype: int64\n"
     ]
    }
   ],
   "source": [
    "def num_missing(x):\n",
    "    return sum(x.isnull())\n",
    "print('Num missing values per column')\n",
    "print(uber.apply(num_missing,axis=0))"
   ]
  },
  {
   "cell_type": "code",
   "execution_count": 14,
   "metadata": {},
   "outputs": [
    {
     "data": {
      "text/html": [
       "<div>\n",
       "<style scoped>\n",
       "    .dataframe tbody tr th:only-of-type {\n",
       "        vertical-align: middle;\n",
       "    }\n",
       "\n",
       "    .dataframe tbody tr th {\n",
       "        vertical-align: top;\n",
       "    }\n",
       "\n",
       "    .dataframe thead th {\n",
       "        text-align: right;\n",
       "    }\n",
       "</style>\n",
       "<table border=\"1\" class=\"dataframe\">\n",
       "  <thead>\n",
       "    <tr style=\"text-align: right;\">\n",
       "      <th></th>\n",
       "      <th>Date/Time</th>\n",
       "      <th>Lat</th>\n",
       "      <th>Lon</th>\n",
       "      <th>Base</th>\n",
       "    </tr>\n",
       "  </thead>\n",
       "  <tbody>\n",
       "    <tr>\n",
       "      <th>104002</th>\n",
       "      <td>4/14/2014 11:19:00</td>\n",
       "      <td>40.7219</td>\n",
       "      <td>-74.0042</td>\n",
       "      <td>B02598</td>\n",
       "    </tr>\n",
       "    <tr>\n",
       "      <th>104003</th>\n",
       "      <td>4/14/2014 11:19:00</td>\n",
       "      <td>40.7881</td>\n",
       "      <td>-73.9541</td>\n",
       "      <td>B02598</td>\n",
       "    </tr>\n",
       "    <tr>\n",
       "      <th>104004</th>\n",
       "      <td>4/14/2014 11:20:00</td>\n",
       "      <td>40.7706</td>\n",
       "      <td>-73.8656</td>\n",
       "      <td>B02598</td>\n",
       "    </tr>\n",
       "    <tr>\n",
       "      <th>104005</th>\n",
       "      <td>4/14/2014 11:20:00</td>\n",
       "      <td>40.7513</td>\n",
       "      <td>-73.9741</td>\n",
       "      <td>B02598</td>\n",
       "    </tr>\n",
       "    <tr>\n",
       "      <th>104006</th>\n",
       "      <td>4/14/2014 11:21:00</td>\n",
       "      <td>40.0000</td>\n",
       "      <td>0.0000</td>\n",
       "      <td>0</td>\n",
       "    </tr>\n",
       "  </tbody>\n",
       "</table>\n",
       "</div>"
      ],
      "text/plain": [
       "                 Date/Time      Lat      Lon    Base\n",
       "104002  4/14/2014 11:19:00  40.7219 -74.0042  B02598\n",
       "104003  4/14/2014 11:19:00  40.7881 -73.9541  B02598\n",
       "104004  4/14/2014 11:20:00  40.7706 -73.8656  B02598\n",
       "104005  4/14/2014 11:20:00  40.7513 -73.9741  B02598\n",
       "104006  4/14/2014 11:21:00  40.0000   0.0000       0"
      ]
     },
     "execution_count": 14,
     "metadata": {},
     "output_type": "execute_result"
    }
   ],
   "source": [
    "uber = uber.fillna(0)\n",
    "uber.isna().sum()\n",
    "uber.tail()"
   ]
  },
  {
   "cell_type": "code",
   "execution_count": 49,
   "metadata": {},
   "outputs": [
    {
     "data": {
      "text/html": [
       "<div>\n",
       "<style scoped>\n",
       "    .dataframe tbody tr th:only-of-type {\n",
       "        vertical-align: middle;\n",
       "    }\n",
       "\n",
       "    .dataframe tbody tr th {\n",
       "        vertical-align: top;\n",
       "    }\n",
       "\n",
       "    .dataframe thead th {\n",
       "        text-align: right;\n",
       "    }\n",
       "</style>\n",
       "<table border=\"1\" class=\"dataframe\">\n",
       "  <thead>\n",
       "    <tr style=\"text-align: right;\">\n",
       "      <th></th>\n",
       "      <th>Date/Time</th>\n",
       "      <th>Lat</th>\n",
       "      <th>Lon</th>\n",
       "      <th>Base</th>\n",
       "      <th>DayofWeekNum</th>\n",
       "      <th>DayNum</th>\n",
       "      <th>DayHour</th>\n",
       "      <th>DayofWeekName</th>\n",
       "    </tr>\n",
       "  </thead>\n",
       "  <tbody>\n",
       "    <tr>\n",
       "      <th>0</th>\n",
       "      <td>2014-04-01 00:11:00</td>\n",
       "      <td>40.7690</td>\n",
       "      <td>-73.9549</td>\n",
       "      <td>B02512</td>\n",
       "      <td>1</td>\n",
       "      <td>91</td>\n",
       "      <td>0</td>\n",
       "      <td>Tuesday</td>\n",
       "    </tr>\n",
       "    <tr>\n",
       "      <th>1</th>\n",
       "      <td>2014-04-01 00:17:00</td>\n",
       "      <td>40.7267</td>\n",
       "      <td>-74.0345</td>\n",
       "      <td>B02512</td>\n",
       "      <td>1</td>\n",
       "      <td>91</td>\n",
       "      <td>0</td>\n",
       "      <td>Tuesday</td>\n",
       "    </tr>\n",
       "    <tr>\n",
       "      <th>2</th>\n",
       "      <td>2014-04-01 00:21:00</td>\n",
       "      <td>40.7316</td>\n",
       "      <td>-73.9873</td>\n",
       "      <td>B02512</td>\n",
       "      <td>1</td>\n",
       "      <td>91</td>\n",
       "      <td>0</td>\n",
       "      <td>Tuesday</td>\n",
       "    </tr>\n",
       "    <tr>\n",
       "      <th>3</th>\n",
       "      <td>2014-04-01 00:28:00</td>\n",
       "      <td>40.7588</td>\n",
       "      <td>-73.9776</td>\n",
       "      <td>B02512</td>\n",
       "      <td>1</td>\n",
       "      <td>91</td>\n",
       "      <td>0</td>\n",
       "      <td>Tuesday</td>\n",
       "    </tr>\n",
       "    <tr>\n",
       "      <th>4</th>\n",
       "      <td>2014-04-01 00:33:00</td>\n",
       "      <td>40.7594</td>\n",
       "      <td>-73.9722</td>\n",
       "      <td>B02512</td>\n",
       "      <td>1</td>\n",
       "      <td>91</td>\n",
       "      <td>0</td>\n",
       "      <td>Tuesday</td>\n",
       "    </tr>\n",
       "  </tbody>\n",
       "</table>\n",
       "</div>"
      ],
      "text/plain": [
       "            Date/Time      Lat      Lon    Base  DayofWeekNum  DayNum  \\\n",
       "0 2014-04-01 00:11:00  40.7690 -73.9549  B02512             1      91   \n",
       "1 2014-04-01 00:17:00  40.7267 -74.0345  B02512             1      91   \n",
       "2 2014-04-01 00:21:00  40.7316 -73.9873  B02512             1      91   \n",
       "3 2014-04-01 00:28:00  40.7588 -73.9776  B02512             1      91   \n",
       "4 2014-04-01 00:33:00  40.7594 -73.9722  B02512             1      91   \n",
       "\n",
       "   DayHour DayofWeekName  \n",
       "0        0       Tuesday  \n",
       "1        0       Tuesday  \n",
       "2        0       Tuesday  \n",
       "3        0       Tuesday  \n",
       "4        0       Tuesday  "
      ]
     },
     "execution_count": 49,
     "metadata": {},
     "output_type": "execute_result"
    }
   ],
   "source": [
    "uber['Date/Time'] = pd.to_datetime(uber['Date/Time'],format = \"%m/%d/%Y %H:%M:%S\")\n",
    "uber['DayofWeekNum'] = uber['Date/Time'].dt.dayofweek\n",
    "uber['DayofWeekName'] = uber['Date/Time'].dt.day_name()\n",
    "uber['DayHour'] = uber['Date/Time'].dt.hour\n",
    "uber['DayNum'] = uber['Date/Time'].dt.dayofyear\n",
    "uber.head()"
   ]
  },
  {
   "cell_type": "code",
   "execution_count": 26,
   "metadata": {},
   "outputs": [
    {
     "data": {
      "text/plain": [
       "<seaborn.axisgrid.FacetGrid at 0x7f990af47b80>"
      ]
     },
     "execution_count": 26,
     "metadata": {},
     "output_type": "execute_result"
    },
    {
     "data": {
      "image/png": "[encoded data removed]",
      "text/plain": [
       "<Figure size 360x360 with 1 Axes>"
      ]
     },
     "metadata": {
      "needs_background": "light"
     },
     "output_type": "display_data"
    }
   ],
   "source": [
    "sns.catplot(x = 'Base', data = uber, kind = 'count')"
   ]
  },
  {
   "cell_type": "code",
   "execution_count": 33,
   "metadata": {},
   "outputs": [
    {
     "data": {
      "text/html": [
       "<div>\n",
       "<style scoped>\n",
       "    .dataframe tbody tr th:only-of-type {\n",
       "        vertical-align: middle;\n",
       "    }\n",
       "\n",
       "    .dataframe tbody tr th {\n",
       "        vertical-align: top;\n",
       "    }\n",
       "\n",
       "    .dataframe thead th {\n",
       "        text-align: right;\n",
       "    }\n",
       "</style>\n",
       "<table border=\"1\" class=\"dataframe\">\n",
       "  <thead>\n",
       "    <tr style=\"text-align: right;\">\n",
       "      <th></th>\n",
       "      <th></th>\n",
       "      <th>Base</th>\n",
       "    </tr>\n",
       "    <tr>\n",
       "      <th>DayofWeekNum</th>\n",
       "      <th>DayNum</th>\n",
       "      <th></th>\n",
       "    </tr>\n",
       "  </thead>\n",
       "  <tbody>\n",
       "    <tr>\n",
       "      <th>0</th>\n",
       "      <th>Monday</th>\n",
       "      <td>10588</td>\n",
       "    </tr>\n",
       "    <tr>\n",
       "      <th>1</th>\n",
       "      <th>Tuesday</th>\n",
       "      <td>14390</td>\n",
       "    </tr>\n",
       "    <tr>\n",
       "      <th>2</th>\n",
       "      <th>Wednesday</th>\n",
       "      <td>16282</td>\n",
       "    </tr>\n",
       "    <tr>\n",
       "      <th>3</th>\n",
       "      <th>Thursday</th>\n",
       "      <td>17053</td>\n",
       "    </tr>\n",
       "    <tr>\n",
       "      <th>4</th>\n",
       "      <th>Friday</th>\n",
       "      <td>18916</td>\n",
       "    </tr>\n",
       "    <tr>\n",
       "      <th>5</th>\n",
       "      <th>Saturday</th>\n",
       "      <td>16081</td>\n",
       "    </tr>\n",
       "    <tr>\n",
       "      <th>6</th>\n",
       "      <th>Sunday</th>\n",
       "      <td>10697</td>\n",
       "    </tr>\n",
       "  </tbody>\n",
       "</table>\n",
       "</div>"
      ],
      "text/plain": [
       "                         Base\n",
       "DayofWeekNum DayNum          \n",
       "0            Monday     10588\n",
       "1            Tuesday    14390\n",
       "2            Wednesday  16282\n",
       "3            Thursday   17053\n",
       "4            Friday     18916\n",
       "5            Saturday   16081\n",
       "6            Sunday     10697"
      ]
     },
     "execution_count": 33,
     "metadata": {},
     "output_type": "execute_result"
    }
   ],
   "source": [
    "uber_week_data = uber.pivot_table(index = ['DayofWeekNum','DayofWeekName'], values = 'Base',aggfunc='count')\n",
    "uber_week_data"
   ]
  },
  {
   "cell_type": "code",
   "execution_count": 41,
   "metadata": {},
   "outputs": [
    {
     "data": {
      "text/plain": [
       "<AxesSubplot:xlabel='DayofWeekNum,DayNum'>"
      ]
     },
     "execution_count": 41,
     "metadata": {},
     "output_type": "execute_result"
    },
    {
     "data": {
      "image/png": "[encoded data removed]",
      "text/plain": [
       "<Figure size 432x288 with 1 Axes>"
      ]
     },
     "metadata": {
      "needs_background": "light"
     },
     "output_type": "display_data"
    }
   ],
   "source": [
    "uber_week_data.plot(kind = 'line')"
   ]
  },
  {
   "cell_type": "code",
   "execution_count": 47,
   "metadata": {},
   "outputs": [
    {
     "data": {
      "text/plain": [
       "<AxesSubplot:title={'center':'This title'}, xlabel='DayHour'>"
      ]
     },
     "execution_count": 47,
     "metadata": {},
     "output_type": "execute_result"
    },
    {
     "data": {
      "image/png": "[encoded data removed]",
      "text/plain": [
       "<Figure size 576x432 with 1 Axes>"
      ]
     },
     "metadata": {
      "needs_background": "light"
     },
     "output_type": "display_data"
    }
   ],
   "source": [
    "uber_week_data = uber.pivot_table(index = ['DayHour'], values = 'Base',aggfunc='count')\n",
    "uber_week_data.plot(kind = 'bar',title = 'This title', figsize = (8,6))"
   ]
  },
  {
   "cell_type": "code",
   "execution_count": 52,
   "metadata": {},
   "outputs": [
    {
     "data": {
      "text/plain": [
       "<AxesSubplot:xlabel='DayNum'>"
      ]
     },
     "execution_count": 52,
     "metadata": {},
     "output_type": "execute_result"
    },
    {
     "data": {
      "image/png": "[encoded data removed]",
      "text/plain": [
       "<Figure size 432x288 with 1 Axes>"
      ]
     },
     "metadata": {
      "needs_background": "light"
     },
     "output_type": "display_data"
    }
   ],
   "source": [
    "uber_week_data = uber.pivot_table(index = ['DayNum'], values = 'Base',aggfunc='count')\n",
    "uber_week_data.plot(kind = 'bar')"
   ]
  },
  {
   "cell_type": "code",
   "execution_count": 54,
   "metadata": {},
   "outputs": [
    {
     "data": {
      "text/plain": [
       "DayNum\n",
       "110     615\n",
       "111     744\n",
       "117     848\n",
       "109     851\n",
       "108     953\n",
       "112     959\n",
       "118     971\n",
       "106    1059\n",
       "113    1196\n",
       "107    1343\n",
       "105    1391\n",
       "114    1394\n",
       "115    1410\n",
       "116    1418\n",
       "119    1487\n",
       "104    2161\n",
       "120    2186\n",
       "103    4586\n",
       "96     4648\n",
       "91     4749\n",
       "98     5804\n",
       "92     5862\n",
       "99     5979\n",
       "97     6712\n",
       "95     6817\n",
       "93     6981\n",
       "102    6995\n",
       "100    7335\n",
       "101    7575\n",
       "94     8978\n",
       "dtype: int64"
      ]
     },
     "execution_count": 54,
     "metadata": {},
     "output_type": "execute_result"
    }
   ],
   "source": [
    "def countRows(rows):\n",
    "    return len(rows)\n",
    "\n",
    "by_date = uber.groupby('DayNum').apply(countRows)\n",
    "by_date_sorted = by_date.sort_values()\n",
    "by_date_sorted"
   ]
  },
  {
   "cell_type": "code",
   "execution_count": 55,
   "metadata": {},
   "outputs": [
    {
     "data": {
      "text/html": [
       "<div>\n",
       "<style scoped>\n",
       "    .dataframe tbody tr th:only-of-type {\n",
       "        vertical-align: middle;\n",
       "    }\n",
       "\n",
       "    .dataframe tbody tr th {\n",
       "        vertical-align: top;\n",
       "    }\n",
       "\n",
       "    .dataframe thead th {\n",
       "        text-align: right;\n",
       "    }\n",
       "</style>\n",
       "<table border=\"1\" class=\"dataframe\">\n",
       "  <thead>\n",
       "    <tr style=\"text-align: right;\">\n",
       "      <th>DayofWeekNum</th>\n",
       "      <th>0</th>\n",
       "      <th>1</th>\n",
       "      <th>2</th>\n",
       "      <th>3</th>\n",
       "      <th>4</th>\n",
       "      <th>5</th>\n",
       "      <th>6</th>\n",
       "    </tr>\n",
       "    <tr>\n",
       "      <th>DayHour</th>\n",
       "      <th></th>\n",
       "      <th></th>\n",
       "      <th></th>\n",
       "      <th></th>\n",
       "      <th></th>\n",
       "      <th></th>\n",
       "      <th></th>\n",
       "    </tr>\n",
       "  </thead>\n",
       "  <tbody>\n",
       "    <tr>\n",
       "      <th>0</th>\n",
       "      <td>92</td>\n",
       "      <td>116</td>\n",
       "      <td>127</td>\n",
       "      <td>144</td>\n",
       "      <td>220</td>\n",
       "      <td>564</td>\n",
       "      <td>1070</td>\n",
       "    </tr>\n",
       "    <tr>\n",
       "      <th>1</th>\n",
       "      <td>39</td>\n",
       "      <td>46</td>\n",
       "      <td>71</td>\n",
       "      <td>77</td>\n",
       "      <td>145</td>\n",
       "      <td>375</td>\n",
       "      <td>639</td>\n",
       "    </tr>\n",
       "    <tr>\n",
       "      <th>2</th>\n",
       "      <td>46</td>\n",
       "      <td>45</td>\n",
       "      <td>56</td>\n",
       "      <td>54</td>\n",
       "      <td>90</td>\n",
       "      <td>225</td>\n",
       "      <td>311</td>\n",
       "    </tr>\n",
       "    <tr>\n",
       "      <th>3</th>\n",
       "      <td>105</td>\n",
       "      <td>83</td>\n",
       "      <td>85</td>\n",
       "      <td>109</td>\n",
       "      <td>142</td>\n",
       "      <td>158</td>\n",
       "      <td>207</td>\n",
       "    </tr>\n",
       "    <tr>\n",
       "      <th>4</th>\n",
       "      <td>178</td>\n",
       "      <td>132</td>\n",
       "      <td>166</td>\n",
       "      <td>152</td>\n",
       "      <td>177</td>\n",
       "      <td>130</td>\n",
       "      <td>152</td>\n",
       "    </tr>\n",
       "    <tr>\n",
       "      <th>5</th>\n",
       "      <td>324</td>\n",
       "      <td>301</td>\n",
       "      <td>290</td>\n",
       "      <td>285</td>\n",
       "      <td>244</td>\n",
       "      <td>139</td>\n",
       "      <td>120</td>\n",
       "    </tr>\n",
       "    <tr>\n",
       "      <th>6</th>\n",
       "      <td>623</td>\n",
       "      <td>632</td>\n",
       "      <td>720</td>\n",
       "      <td>634</td>\n",
       "      <td>651</td>\n",
       "      <td>177</td>\n",
       "      <td>143</td>\n",
       "    </tr>\n",
       "    <tr>\n",
       "      <th>7</th>\n",
       "      <td>816</td>\n",
       "      <td>866</td>\n",
       "      <td>942</td>\n",
       "      <td>815</td>\n",
       "      <td>833</td>\n",
       "      <td>215</td>\n",
       "      <td>177</td>\n",
       "    </tr>\n",
       "    <tr>\n",
       "      <th>8</th>\n",
       "      <td>627</td>\n",
       "      <td>765</td>\n",
       "      <td>795</td>\n",
       "      <td>716</td>\n",
       "      <td>715</td>\n",
       "      <td>257</td>\n",
       "      <td>263</td>\n",
       "    </tr>\n",
       "    <tr>\n",
       "      <th>9</th>\n",
       "      <td>451</td>\n",
       "      <td>488</td>\n",
       "      <td>588</td>\n",
       "      <td>535</td>\n",
       "      <td>530</td>\n",
       "      <td>349</td>\n",
       "      <td>390</td>\n",
       "    </tr>\n",
       "    <tr>\n",
       "      <th>10</th>\n",
       "      <td>426</td>\n",
       "      <td>484</td>\n",
       "      <td>577</td>\n",
       "      <td>473</td>\n",
       "      <td>535</td>\n",
       "      <td>429</td>\n",
       "      <td>454</td>\n",
       "    </tr>\n",
       "    <tr>\n",
       "      <th>11</th>\n",
       "      <td>318</td>\n",
       "      <td>539</td>\n",
       "      <td>581</td>\n",
       "      <td>504</td>\n",
       "      <td>610</td>\n",
       "      <td>455</td>\n",
       "      <td>511</td>\n",
       "    </tr>\n",
       "    <tr>\n",
       "      <th>12</th>\n",
       "      <td>264</td>\n",
       "      <td>477</td>\n",
       "      <td>644</td>\n",
       "      <td>564</td>\n",
       "      <td>640</td>\n",
       "      <td>544</td>\n",
       "      <td>513</td>\n",
       "    </tr>\n",
       "    <tr>\n",
       "      <th>13</th>\n",
       "      <td>322</td>\n",
       "      <td>596</td>\n",
       "      <td>675</td>\n",
       "      <td>682</td>\n",
       "      <td>820</td>\n",
       "      <td>579</td>\n",
       "      <td>539</td>\n",
       "    </tr>\n",
       "    <tr>\n",
       "      <th>14</th>\n",
       "      <td>451</td>\n",
       "      <td>710</td>\n",
       "      <td>829</td>\n",
       "      <td>837</td>\n",
       "      <td>913</td>\n",
       "      <td>641</td>\n",
       "      <td>643</td>\n",
       "    </tr>\n",
       "    <tr>\n",
       "      <th>15</th>\n",
       "      <td>528</td>\n",
       "      <td>952</td>\n",
       "      <td>1103</td>\n",
       "      <td>1090</td>\n",
       "      <td>1118</td>\n",
       "      <td>955</td>\n",
       "      <td>715</td>\n",
       "    </tr>\n",
       "    <tr>\n",
       "      <th>16</th>\n",
       "      <td>778</td>\n",
       "      <td>1178</td>\n",
       "      <td>1288</td>\n",
       "      <td>1316</td>\n",
       "      <td>1317</td>\n",
       "      <td>1146</td>\n",
       "      <td>715</td>\n",
       "    </tr>\n",
       "    <tr>\n",
       "      <th>17</th>\n",
       "      <td>946</td>\n",
       "      <td>1310</td>\n",
       "      <td>1488</td>\n",
       "      <td>1433</td>\n",
       "      <td>1517</td>\n",
       "      <td>1144</td>\n",
       "      <td>668</td>\n",
       "    </tr>\n",
       "    <tr>\n",
       "      <th>18</th>\n",
       "      <td>918</td>\n",
       "      <td>1076</td>\n",
       "      <td>1215</td>\n",
       "      <td>1337</td>\n",
       "      <td>1577</td>\n",
       "      <td>1354</td>\n",
       "      <td>559</td>\n",
       "    </tr>\n",
       "    <tr>\n",
       "      <th>19</th>\n",
       "      <td>879</td>\n",
       "      <td>958</td>\n",
       "      <td>1100</td>\n",
       "      <td>1128</td>\n",
       "      <td>1389</td>\n",
       "      <td>1159</td>\n",
       "      <td>527</td>\n",
       "    </tr>\n",
       "    <tr>\n",
       "      <th>20</th>\n",
       "      <td>566</td>\n",
       "      <td>952</td>\n",
       "      <td>1023</td>\n",
       "      <td>1272</td>\n",
       "      <td>1091</td>\n",
       "      <td>1058</td>\n",
       "      <td>431</td>\n",
       "    </tr>\n",
       "    <tr>\n",
       "      <th>21</th>\n",
       "      <td>479</td>\n",
       "      <td>896</td>\n",
       "      <td>960</td>\n",
       "      <td>1310</td>\n",
       "      <td>1274</td>\n",
       "      <td>1248</td>\n",
       "      <td>448</td>\n",
       "    </tr>\n",
       "    <tr>\n",
       "      <th>22</th>\n",
       "      <td>292</td>\n",
       "      <td>526</td>\n",
       "      <td>637</td>\n",
       "      <td>1034</td>\n",
       "      <td>1337</td>\n",
       "      <td>1469</td>\n",
       "      <td>305</td>\n",
       "    </tr>\n",
       "    <tr>\n",
       "      <th>23</th>\n",
       "      <td>120</td>\n",
       "      <td>262</td>\n",
       "      <td>322</td>\n",
       "      <td>552</td>\n",
       "      <td>1031</td>\n",
       "      <td>1311</td>\n",
       "      <td>197</td>\n",
       "    </tr>\n",
       "  </tbody>\n",
       "</table>\n",
       "</div>"
      ],
      "text/plain": [
       "DayofWeekNum    0     1     2     3     4     5     6\n",
       "DayHour                                              \n",
       "0              92   116   127   144   220   564  1070\n",
       "1              39    46    71    77   145   375   639\n",
       "2              46    45    56    54    90   225   311\n",
       "3             105    83    85   109   142   158   207\n",
       "4             178   132   166   152   177   130   152\n",
       "5             324   301   290   285   244   139   120\n",
       "6             623   632   720   634   651   177   143\n",
       "7             816   866   942   815   833   215   177\n",
       "8             627   765   795   716   715   257   263\n",
       "9             451   488   588   535   530   349   390\n",
       "10            426   484   577   473   535   429   454\n",
       "11            318   539   581   504   610   455   511\n",
       "12            264   477   644   564   640   544   513\n",
       "13            322   596   675   682   820   579   539\n",
       "14            451   710   829   837   913   641   643\n",
       "15            528   952  1103  1090  1118   955   715\n",
       "16            778  1178  1288  1316  1317  1146   715\n",
       "17            946  1310  1488  1433  1517  1144   668\n",
       "18            918  1076  1215  1337  1577  1354   559\n",
       "19            879   958  1100  1128  1389  1159   527\n",
       "20            566   952  1023  1272  1091  1058   431\n",
       "21            479   896   960  1310  1274  1248   448\n",
       "22            292   526   637  1034  1337  1469   305\n",
       "23            120   262   322   552  1031  1311   197"
      ]
     },
     "execution_count": 55,
     "metadata": {},
     "output_type": "execute_result"
    }
   ],
   "source": [
    "by_hour_weekday = uber.groupby('DayHour DayofWeekNum'.split()).apply(countRows).unstack()\n",
    "by_hour_weekday"
   ]
  },
  {
   "cell_type": "code",
   "execution_count": 56,
   "metadata": {},
   "outputs": [
    {
     "data": {
      "text/plain": [
       "<AxesSubplot:xlabel='DayofWeekNum', ylabel='DayHour'>"
      ]
     },
     "execution_count": 56,
     "metadata": {},
     "output_type": "execute_result"
    },
    {
     "data": {
      "image/png": "[encoded data removed]",
      "text/plain": [
       "<Figure size 576x432 with 2 Axes>"
      ]
     },
     "metadata": {
      "needs_background": "light"
     },
     "output_type": "display_data"
    }
   ],
   "source": [
    "plt.figure(figsize = (8,6))\n",
    "sns.heatmap(by_hour_weekday)"
   ]
  },
  {
   "cell_type": "code",
   "execution_count": null,
   "metadata": {},
   "outputs": [],
   "source": []
  }
 ],
 "metadata": {
  "interpreter": {
   "hash": "7b392b509dceda8243e99488644381371e4301d645f4c08aa3507e606e2d620f"
  },
  "kernelspec": {
   "display_name": "Python 3.8.11 64-bit ('snowflakes': conda)",
   "name": "python3"
  },
  "language_info": {
   "codemirror_mode": {
    "name": "ipython",
    "version": 3
   },
   "file_extension": ".py",
   "mimetype": "text/x-python",
   "name": "python",
   "nbconvert_exporter": "python",
   "pygments_lexer": "ipython3",
   "version": "3.8.2"
  },
  "orig_nbformat": 4
 },
 "nbformat": 4,
 "nbformat_minor": 2
}
