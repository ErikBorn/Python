{
 "cells": [
  {
   "cell_type": "code",
   "execution_count": 38,
   "metadata": {},
   "outputs": [
    {
     "name": "stdout",
     "output_type": "stream",
     "text": [
      "[[0 1 2]\n",
      " [3 4 5]\n",
      " [6 7 8]]\n"
     ]
    },
    {
     "data": {
      "text/plain": [
       "array([0, 1, 2, 3, 4, 5, 6, 7, 8])"
      ]
     },
     "execution_count": 38,
     "metadata": {},
     "output_type": "execute_result"
    }
   ],
   "source": [
    "import numpy as np\n",
    "a = np.arange(0,9)\n",
    "b = a.reshape(3,3)\n",
    "print(b)\n",
    "c = b.flatten(order = 'C')\n",
    "c"
   ]
  },
  {
   "cell_type": "code",
   "execution_count": 39,
   "metadata": {},
   "outputs": [
    {
     "name": "stdout",
     "output_type": "stream",
     "text": [
      "[[ 0  1  2]\n",
      " [ 3  4  5]\n",
      " [ 6  7  8]\n",
      " [ 9 10 11]]\n",
      "[[ 0  3  6  9]\n",
      " [ 1  4  7 10]\n",
      " [ 2  5  8 11]]\n"
     ]
    }
   ],
   "source": [
    "a = np.arange(12).reshape(4,3)\n",
    "print(a)\n",
    "b = np.transpose(a)\n",
    "print(b)"
   ]
  },
  {
   "cell_type": "code",
   "execution_count": 40,
   "metadata": {},
   "outputs": [
    {
     "data": {
      "text/plain": [
       "array([[10, 11, 12],\n",
       "       [13, 14, 15],\n",
       "       [16, 17, 18]])"
      ]
     },
     "execution_count": 40,
     "metadata": {},
     "output_type": "execute_result"
    }
   ],
   "source": [
    "a = np.arange(9).reshape(3,3)\n",
    "b = np.array([10,10,10])\n",
    "np.add(a,b)"
   ]
  },
  {
   "cell_type": "code",
   "execution_count": 41,
   "metadata": {},
   "outputs": [
    {
     "name": "stdout",
     "output_type": "stream",
     "text": [
      "[2 4 6 8]\n"
     ]
    }
   ],
   "source": [
    "a = np.arange(20)\n",
    "s = slice(2,9,2)\n",
    "print(a[s])"
   ]
  },
  {
   "cell_type": "code",
   "execution_count": 42,
   "metadata": {},
   "outputs": [
    {
     "name": "stdout",
     "output_type": "stream",
     "text": [
      "[[ 0  5 10]\n",
      " [15 20 25]\n",
      " [30 35 40]]\n",
      "0\n",
      "5\n",
      "10\n",
      "15\n",
      "20\n",
      "25\n",
      "30\n",
      "35\n",
      "40\n"
     ]
    }
   ],
   "source": [
    "a = np.arange(0,45,5).reshape(3,3)\n",
    "print(a)\n",
    "for x in np.nditer(a,order='C'):\n",
    "    print(x)"
   ]
  },
  {
   "cell_type": "code",
   "execution_count": 43,
   "metadata": {},
   "outputs": [
    {
     "name": "stdout",
     "output_type": "stream",
     "text": [
      "[[0 1]\n",
      " [2 3]]\n",
      "[[5 6]\n",
      " [7 8]]\n",
      "\n",
      "\n",
      "[[0 1 5 6]\n",
      " [2 3 7 8]]\n"
     ]
    }
   ],
   "source": [
    "a = np.arange(4).reshape(2,2)\n",
    "b = np.arange(5,9).reshape(2,2)\n",
    "print(a)\n",
    "print(b)\n",
    "print('\\n')\n",
    "print(np.concatenate((a,b),axis = 1))"
   ]
  },
  {
   "cell_type": "code",
   "execution_count": 44,
   "metadata": {},
   "outputs": [
    {
     "name": "stdout",
     "output_type": "stream",
     "text": [
      "[[0 1 2]\n",
      " [3 4 5]]\n",
      "[[0 1 2]\n",
      " [3 4 5]\n",
      " [0 1 2]\n",
      " [3 4 5]]\n"
     ]
    }
   ],
   "source": [
    "a = np.arange(6).reshape(2,3)\n",
    "print(a)\n",
    "b = np.resize(a,(4,3))\n",
    "print(b)"
   ]
  },
  {
   "cell_type": "code",
   "execution_count": 45,
   "metadata": {},
   "outputs": [
    {
     "data": {
      "image/png": "[encoded data removed]",
      "text/plain": [
       "<Figure size 432x288 with 1 Axes>"
      ]
     },
     "metadata": {
      "needs_background": "light"
     },
     "output_type": "display_data"
    }
   ],
   "source": [
    "from matplotlib import pyplot as plt\n",
    "a = np.arange(500)\n",
    "b = np.random.rand(500)*10\n",
    "c = a*b\n",
    "#print(c)\n",
    "bin = 10\n",
    "plt.hist(c,bins=np.arange(bin)*500/bin)\n",
    "plt.show()"
   ]
  },
  {
   "cell_type": "code",
   "execution_count": 46,
   "metadata": {},
   "outputs": [
    {
     "name": "stdout",
     "output_type": "stream",
     "text": [
      "[[1 2 3]\n",
      " [4 5 6]]\n"
     ]
    }
   ],
   "source": [
    "a = np.linspace(1,20,300)\n",
    "b = np.arange(1,7).reshape(2,3)\n",
    "print(b)"
   ]
  },
  {
   "cell_type": "code",
   "execution_count": 47,
   "metadata": {},
   "outputs": [
    {
     "name": "stdout",
     "output_type": "stream",
     "text": [
      "[ 6 15]\n"
     ]
    }
   ],
   "source": [
    "#print(b.sum(axis = 1))"
   ]
  },
  {
   "cell_type": "code",
   "execution_count": 48,
   "metadata": {},
   "outputs": [
    {
     "name": "stdout",
     "output_type": "stream",
     "text": [
      "1.2909944487358056\n"
     ]
    }
   ],
   "source": [
    "a = np.array([[1,2,3],(3,4,5,)])\n",
    "print(np.std(a))"
   ]
  },
  {
   "cell_type": "code",
   "execution_count": 49,
   "metadata": {},
   "outputs": [
    {
     "name": "stdout",
     "output_type": "stream",
     "text": [
      "[1 2 3 3 4 5]\n"
     ]
    }
   ],
   "source": [
    "print(a.ravel())"
   ]
  },
  {
   "cell_type": "code",
   "execution_count": 53,
   "metadata": {},
   "outputs": [
    {
     "data": {
      "text/plain": [
       "<matplotlib.collections.PathCollection at 0x7ff680ce0c40>"
      ]
     },
     "execution_count": 53,
     "metadata": {},
     "output_type": "execute_result"
    },
    {
     "data": {
      "image/png": "[encoded data removed]",
      "text/plain": [
       "<Figure size 432x288 with 1 Axes>"
      ]
     },
     "metadata": {
      "needs_background": "light"
     },
     "output_type": "display_data"
    }
   ],
   "source": [
    "a = np.linspace(0,2*np.pi,100)\n",
    "b = np.sin(a)\n",
    "plt.scatter(a,b,color='b')\n",
    "#plt.show()"
   ]
  },
  {
   "cell_type": "code",
   "execution_count": 56,
   "metadata": {},
   "outputs": [
    {
     "name": "stdout",
     "output_type": "stream",
     "text": [
      "[[0 1 0 1 0 1]\n",
      " [1 0 1 0 1 0]\n",
      " [0 1 0 1 0 1]\n",
      " [1 0 1 0 1 0]\n",
      " [0 1 0 1 0 1]\n",
      " [1 0 1 0 1 0]]\n"
     ]
    }
   ],
   "source": [
    "Z = np.zeros((6,6),dtype = int)\n",
    "Z[1::2,::2] = 1\n",
    "Z[0::2,1::2]  =1\n",
    "print(Z)"
   ]
  },
  {
   "cell_type": "code",
   "execution_count": 58,
   "metadata": {},
   "outputs": [
    {
     "data": {
      "text/plain": [
       "array([[0.1733163 , 0.67075189, 0.9223375 , 0.78896175, 0.89999225,\n",
       "        0.91242338, 0.90932934, 0.53344986, 0.88494367, 0.95448404],\n",
       "       [0.33222022, 0.6308904 , 0.74800506, 0.35932959, 0.12259283,\n",
       "        0.68227929, 0.50054455, 0.41576412, 0.49357745, 0.6274862 ],\n",
       "       [0.72296146, 0.52171302, 0.86049794, 0.93949336, 0.81391165,\n",
       "        0.24949856, 0.87119097, 0.42245954, 0.65825214, 0.55433389],\n",
       "       [0.06546828, 0.92133352, 0.3035273 , 0.5327111 , 0.27862159,\n",
       "        0.59438746, 0.89439214, 0.81317707, 0.33421588, 0.81179539],\n",
       "       [0.5771251 , 0.73360822, 0.18818797, 0.47028534, 0.60341892,\n",
       "        0.83743194, 0.51849713, 0.47837112, 0.10876643, 0.91171997],\n",
       "       [       nan, 0.03616319, 0.43005576, 0.47410477, 0.41327594,\n",
       "        0.3413741 , 0.33857465, 0.63620165, 0.53621421, 0.70666924],\n",
       "       [0.81388568, 0.28186951, 0.20726458, 0.30774443, 0.56017084,\n",
       "        0.98357439, 0.32499862, 0.79643249, 0.21238768, 0.49860849],\n",
       "       [0.85953953, 0.58434771,        nan, 0.31170599, 0.13220675,\n",
       "        0.82401207, 0.89622475, 0.6480093 ,        nan, 0.70544044],\n",
       "       [0.87135688, 0.76389733, 0.36156198, 0.62943826, 0.20065945,\n",
       "        0.9484145 ,        nan, 0.64966442,        nan, 0.9234722 ],\n",
       "       [0.82714446, 0.51194579, 0.96304397, 0.40622626, 0.8442154 ,\n",
       "        0.13430149, 0.81560736, 0.42240994, 0.13815172, 0.98033968]])"
      ]
     },
     "execution_count": 58,
     "metadata": {},
     "output_type": "execute_result"
    }
   ],
   "source": [
    "Z = np.random.rand(10,10)\n",
    "Z[np.random.randint(10, size = 5),np.random.randint(10, size = 5)] = np.nan\n",
    "Z"
   ]
  },
  {
   "cell_type": "code",
   "execution_count": 69,
   "metadata": {},
   "outputs": [
    {
     "name": "stdout",
     "output_type": "stream",
     "text": [
      "(array([5, 7, 7, 8, 8]), array([0, 2, 8, 6, 8]))\n"
     ]
    }
   ],
   "source": [
    "#print(np.isnan(Z).sum())\n",
    "#print(np.argwhere(np.isnan(Z)))\n",
    "inds = np.where(np.isnan(Z))\n",
    "print(inds)"
   ]
  },
  {
   "cell_type": "code",
   "execution_count": 71,
   "metadata": {},
   "outputs": [],
   "source": [
    "Z[inds] = np.average(Z)"
   ]
  },
  {
   "cell_type": "code",
   "execution_count": 72,
   "metadata": {},
   "outputs": [
    {
     "name": "stdout",
     "output_type": "stream",
     "text": [
      "[[0.1733163  0.67075189 0.9223375  0.78896175 0.89999225 0.91242338\n",
      "  0.90932934 0.53344986 0.88494367 0.95448404]\n",
      " [0.33222022 0.6308904  0.74800506 0.35932959 0.12259283 0.68227929\n",
      "  0.50054455 0.41576412 0.49357745 0.6274862 ]\n",
      " [0.72296146 0.52171302 0.86049794 0.93949336 0.81391165 0.24949856\n",
      "  0.87119097 0.42245954 0.65825214 0.55433389]\n",
      " [0.06546828 0.92133352 0.3035273  0.5327111  0.27862159 0.59438746\n",
      "  0.89439214 0.81317707 0.33421588 0.81179539]\n",
      " [0.5771251  0.73360822 0.18818797 0.47028534 0.60341892 0.83743194\n",
      "  0.51849713 0.47837112 0.10876643 0.91171997]\n",
      " [       nan 0.03616319 0.43005576 0.47410477 0.41327594 0.3413741\n",
      "  0.33857465 0.63620165 0.53621421 0.70666924]\n",
      " [0.81388568 0.28186951 0.20726458 0.30774443 0.56017084 0.98357439\n",
      "  0.32499862 0.79643249 0.21238768 0.49860849]\n",
      " [0.85953953 0.58434771        nan 0.31170599 0.13220675 0.82401207\n",
      "  0.89622475 0.6480093         nan 0.70544044]\n",
      " [0.87135688 0.76389733 0.36156198 0.62943826 0.20065945 0.9484145\n",
      "         nan 0.64966442        nan 0.9234722 ]\n",
      " [0.82714446 0.51194579 0.96304397 0.40622626 0.8442154  0.13430149\n",
      "  0.81560736 0.42240994 0.13815172 0.98033968]]\n"
     ]
    }
   ],
   "source": [
    "print(Z)"
   ]
  },
  {
   "cell_type": "code",
   "execution_count": null,
   "metadata": {},
   "outputs": [],
   "source": []
  }
 ],
 "metadata": {
  "interpreter": {
   "hash": "40d3a090f54c6569ab1632332b64b2c03c39dcf918b08424e98f38b5ae0af88f"
  },
  "kernelspec": {
   "display_name": "Python 3.8.11 64-bit ('base': conda)",
   "name": "python3"
  },
  "language_info": {
   "codemirror_mode": {
    "name": "ipython",
    "version": 3
   },
   "file_extension": ".py",
   "mimetype": "text/x-python",
   "name": "python",
   "nbconvert_exporter": "python",
   "pygments_lexer": "ipython3",
   "version": "3.8.11"
  }
 },
 "nbformat": 4,
 "nbformat_minor": 5
}
