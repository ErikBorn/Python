{
 "cells": [
  {
   "cell_type": "code",
   "execution_count": 4,
   "metadata": {},
   "outputs": [
    {
     "name": "stdout",
     "output_type": "stream",
     "text": [
      "Connection to SQLite DB successful\n"
     ]
    }
   ],
   "source": [
    "import sqlite3\n",
    "from sqlite3 import Error\n",
    "\n",
    "def create_connection(path):\n",
    "    connection = None\n",
    "    try:\n",
    "        connection = sqlite3.connect(path)\n",
    "        print(\"Connection to SQLite DB successful\")\n",
    "    except Error as e:\n",
    "        print(f\"The error '{e}' occurred\")\n",
    "\n",
    "    return connection\n",
    "\n",
    "connection = create_connection(\"sm_app.sqlite\")\n",
    "\n"
   ]
  },
  {
   "cell_type": "code",
   "execution_count": 5,
   "metadata": {},
   "outputs": [],
   "source": [
    "def execute_query(connection, query):\n",
    "    cursor = connection.cursor()\n",
    "    try:\n",
    "        cursor.execute(query)\n",
    "        connection.commit()\n",
    "        print(\"Query executed successfully\")\n",
    "    except Error as e:\n",
    "        print(f\"The error '{e}' occurred\")"
   ]
  },
  {
   "cell_type": "code",
   "execution_count": 6,
   "metadata": {},
   "outputs": [
    {
     "name": "stdout",
     "output_type": "stream",
     "text": [
      "Query executed successfully\n"
     ]
    }
   ],
   "source": [
    "###\n",
    "# Timestamp\t\n",
    "# Email Address\t\n",
    "# Student or Faculty?\t\n",
    "# Students: Please enter your debit account number here:\t\n",
    "# Your Name (Last, First)\t\n",
    "# Entrée (Please complete a second order form if you would like more than one item.)\t\n",
    "# Name Group\t\n",
    "# Duplicates?\n",
    "\n",
    "\n",
    "#OMG FIX THESE I WROTE IN THE WRONG ONE\n",
    "create_users_table = \"\"\"\n",
    "CREATE TABLE IF NOT EXISTS users (\n",
    "  id INTEGER,\n",
    "  isStudent BIT,\n",
    "  name TEXT NOT NULL,\n",
    "  grade INTEGER,\n",
    "  email VARCHAR(320),\n",
    "  balance DECIMAL(8,2)\n",
    ");\n",
    "\"\"\"\n",
    "execute_query(connection, create_users_table)  "
   ]
  },
  {
   "cell_type": "code",
   "execution_count": null,
   "metadata": {},
   "outputs": [],
   "source": [
    "create_orders_table = \"\"\"\n",
    "CREATE TABLE IF NOT EXISTS orders (\n",
    "  id INTEGER PRIMARY KEY AUTOINCREMENT,\n",
    "  FOREIGN KEY (student_id) REFERENCES users (id),\n",
    "  timeStamp DATETIME,\n",
    "  vendor TEXT NOT NULL,\n",
    "  entree TEXT NOT NULL,\n",
    "  nameGroup BIT,\n",
    "  cost DECIMAL(8,2)\n",
    ");\n",
    "\"\"\"\n",
    "execute_query(connection, create_users_table)  "
   ]
  }
 ],
 "metadata": {
  "interpreter": {
   "hash": "7b392b509dceda8243e99488644381371e4301d645f4c08aa3507e606e2d620f"
  },
  "kernelspec": {
   "display_name": "Python 3.8.2 64-bit ('snowflakes': conda)",
   "language": "python",
   "name": "python3"
  },
  "language_info": {
   "codemirror_mode": {
    "name": "ipython",
    "version": 3
   },
   "file_extension": ".py",
   "mimetype": "text/x-python",
   "name": "python",
   "nbconvert_exporter": "python",
   "pygments_lexer": "ipython3",
   "version": "3.8.2"
  },
  "orig_nbformat": 4
 },
 "nbformat": 4,
 "nbformat_minor": 2
}
