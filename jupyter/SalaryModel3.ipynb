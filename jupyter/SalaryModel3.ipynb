{
 "cells": [
  {
   "cell_type": "code",
   "execution_count": 229,
   "metadata": {},
   "outputs": [],
   "source": [
    "import pandas as pd\n",
    "import numpy as np\n",
    "import matplotlib.pyplot as plt\n",
    "import seaborn as sns\n",
    "\n",
    "from sklearn.linear_model import Ridge, LogisticRegression\n",
    "from sklearn.model_selection import cross_val_score, train_test_split, RepeatedKFold, GridSearchCV, cross_validate\n",
    "from sklearn.metrics import mean_squared_error, r2_score, classification_report\n",
    "\n",
    "import plotly.express as px\n",
    "import plotly.graph_objects as go\n",
    "import shap\n",
    "import IPython.display as disp"
   ]
  },
  {
   "cell_type": "markdown",
   "metadata": {},
   "source": [
    "Notes:\n",
    "- Make the \"skills\" be a true/false\n",
    "- Try another version of the model which has bands, perhaps instead of seniority or exp"
   ]
  },
  {
   "cell_type": "code",
   "execution_count": 230,
   "metadata": {},
   "outputs": [],
   "source": [
    "# -------------------\n",
    "# Load and clean data\n",
    "# -------------------\n",
    "df = pd.read_csv(\"/Users/erikborn/Documents/Python/jupyter/Salary_ML/modelData3.csv\")\n",
    "\n",
    "# Clean numeric fields\n",
    "df[\"25-26 Salary\"] = pd.to_numeric(df[\"25-26 Salary\"].str.replace(\",\", \"\"), errors=\"coerce\")\n",
    "df[\"Prep Rating\"] = pd.to_numeric(df[\"Prep Rating\"], errors=\"coerce\")\n",
    "df = df.dropna()\n",
    "\n",
    "# 🕓 Recalculate Seniority based on Hire Date\n",
    "df[\"Hire Date\"] = pd.to_datetime(df[\"Hire Date\"], errors=\"coerce\")\n",
    "df[\"Seniority\"] = pd.Timestamp(\"2024-01-01\").year - df[\"Hire Date\"].dt.year\n",
    "\n",
    "# 🔧 Recode Skill Rating to binary: 0 if == 3, 1 if > 3\n",
    "df[\"Skill Rating\"] = df[\"Skill Rating\"].apply(lambda x: 1 if x > 3 else 0)\n",
    "\n",
    "# 🎯 Create 5-year experience bands (0–5, 6–10, ..., 30+)\n",
    "df[\"Experience Band\"] = pd.cut(\n",
    "    df[\"Years of Exp\"],\n",
    "    bins=[-1, 5, 10, 15, 20, 25, 30, 100],\n",
    "    labels=[\"00-05\", \"06-10\", \"11-15\", \"16-20\", \"21-25\", \"26-30\", \"30+\"]\n",
    ")\n",
    "\n",
    "# -------------------\n",
    "# Features selection\n",
    "# -------------------\n",
    "features_to_keep = [\n",
    "    \"Years of Exp\",\n",
    "    \"Seniority\",\n",
    "    \"Skill Rating\",\n",
    "    \"Prep Rating\",\n",
    "    \"Knowledge Rating\"\n",
    "]\n",
    "\n",
    "# One-hot encode categorical features, including new Experience Band\n",
    "cats = [\n",
    "    \"Level\",\n",
    "    \"Gender\", \n",
    "    \"Education Level\",\n",
    "    \"Experience Band\"\n",
    "    # \"Category\"\n",
    "]\n",
    "df_encoded = pd.get_dummies(df, columns=cats, drop_first=True)\n",
    "\n",
    "# Identify the dummy feature columns\n",
    "categorical_dummies = [col for col in df_encoded.columns if any(prefix in col for prefix in cats)]\n",
    "features_to_use = features_to_keep + categorical_dummies\n",
    "\n",
    "# Final X and y\n",
    "X = df_encoded[features_to_use]\n",
    "y = df_encoded[\"25-26 Salary\"]"
   ]
  },
  {
   "cell_type": "code",
   "execution_count": 231,
   "metadata": {},
   "outputs": [
    {
     "name": "stdout",
     "output_type": "stream",
     "text": [
      "Ridge Regression CV with Alpha Tuning\n",
      "Best Alpha\tAvg R2\t\tStd R2\t\tAvg RMSE\tStd RMSE\n",
      "7.8476    \t0.5589\t\t0.2568\t\t6,040.62\t1,095.26\n"
     ]
    }
   ],
   "source": [
    "# ---------------------------\n",
    "# Alpha tuning with CV\n",
    "# ---------------------------\n",
    "\n",
    "rkf = RepeatedKFold(n_splits=5, n_repeats=10, random_state=40)\n",
    "\n",
    "grid = GridSearchCV(\n",
    "    estimator=Ridge(),\n",
    "    param_grid={'alpha': np.logspace(-2, 3, 20)},\n",
    "    scoring={'r2': 'r2', 'rmse': 'neg_root_mean_squared_error'},\n",
    "    refit='r2',\n",
    "    cv=rkf,\n",
    "    n_jobs=-1,\n",
    "    return_train_score=True,\n",
    " )\n",
    "grid.fit(X, y)\n",
    "\n",
    "cv_results = grid.cv_results_\n",
    "best_alpha = grid.best_params_['alpha']\n",
    "mean_r2 = grid.best_score_\n",
    "std_r2 = cv_results['std_test_r2'][grid.best_index_]\n",
    "mean_rmse = -cv_results['mean_test_rmse'][grid.best_index_]   # flip sign\n",
    "std_rmse  =  cv_results['std_test_rmse'][grid.best_index_]\n",
    "\n",
    "print(\"Ridge Regression CV with Alpha Tuning\")\n",
    "print(\"Best Alpha\\tAvg R2\\t\\tStd R2\\t\\tAvg RMSE\\tStd RMSE\")\n",
    "print(f\"{best_alpha:<10.4f}\\t{mean_r2:.4f}\\t\\t{std_r2:.4f}\\t\\t{mean_rmse:,.2f}\\t{std_rmse:,.2f}\")"
   ]
  },
  {
   "cell_type": "code",
   "execution_count": 232,
   "metadata": {},
   "outputs": [
    {
     "name": "stdout",
     "output_type": "stream",
     "text": [
      "\n",
      "📊 Outlier Classifier Performance (custom threshold):\n",
      "              precision    recall  f1-score   support\n",
      "\n",
      "       False       0.67      0.22      0.33         9\n",
      "        True       0.46      0.86      0.60         7\n",
      "\n",
      "    accuracy                           0.50        16\n",
      "   macro avg       0.56      0.54      0.47        16\n",
      "weighted avg       0.58      0.50      0.45        16\n",
      "\n"
     ]
    }
   ],
   "source": [
    "# -------------------\n",
    "# Outlier detection\n",
    "# -------------------\n",
    "model_noOuts = Ridge(alpha=best_alpha)\n",
    "model_noOuts.fit(X, y)\n",
    "df[\"Prediction\"] = model_noOuts.predict(X)\n",
    "df[\"Residual\"] = df[\"25-26 Salary\"] - df[\"Prediction\"]\n",
    "\n",
    "# Control outlier threshold as a percent of actual salary\n",
    "threshold_percent = 0.05\n",
    "df[\"Outlier_Flag\"] = df[\"Residual\"].abs() > (threshold_percent * df[\"25-26 Salary\"])\n",
    "\n",
    "# -------------------\n",
    "# Train classifier to identify outliers\n",
    "# -------------------\n",
    "X_class = X.copy()\n",
    "y_class = df[\"Outlier_Flag\"]\n",
    "\n",
    "X_train, X_test, y_train, y_test = train_test_split(X_class, y_class, test_size=0.2, random_state=42)\n",
    "clf = LogisticRegression(max_iter=1000)\n",
    "clf.fit(X_train, y_train)\n",
    "\n",
    "probs = clf.predict_proba(X_test)[:, 1]\n",
    "y_custom = probs > 0.3\n",
    "\n",
    "print(\"\\n📊 Outlier Classifier Performance (custom threshold):\")\n",
    "print(classification_report(y_test, y_custom))"
   ]
  },
  {
   "cell_type": "code",
   "execution_count": 233,
   "metadata": {},
   "outputs": [
    {
     "data": {
      "image/png": "[encoded data removed]",
      "text/plain": [
       "<Figure size 800x600 with 1 Axes>"
      ]
     },
     "metadata": {},
     "output_type": "display_data"
    }
   ],
   "source": [
    "# -------------------\n",
    "# Visualization\n",
    "# -------------------\n",
    "df[\"Outlier_Prob\"] = clf.predict_proba(X_class)[:, 1]\n",
    "df[\"Outlier_Pred\"] = df[\"Outlier_Prob\"] > 0.4\n",
    "\n",
    "plt.figure(figsize=(8, 6))\n",
    "sns.scatterplot(\n",
    "    data=df,\n",
    "    x=\"25-26 Salary\",\n",
    "    y=\"Prediction\",\n",
    "    hue=\"Outlier_Pred\",\n",
    "    palette={True: \"red\", False: \"green\"},\n",
    "    style=\"Outlier_Flag\",\n",
    "    markers={True: \"X\", False: \"o\"},\n",
    "    s=100\n",
    ")\n",
    "plt.axline((0, 0), slope=1, linestyle=\"--\", color=\"gray\")\n",
    "plt.title(\"Salary Predictions vs Actuals\\n(Colored by Classifier Prediction)\")\n",
    "plt.xlabel(\"Predicted Salary\")\n",
    "plt.ylabel(\"Actual Salary\")\n",
    "plt.legend(title=\"Predicted Outlier\")\n",
    "plt.tight_layout()\n",
    "plt.show()"
   ]
  },
  {
   "cell_type": "code",
   "execution_count": 234,
   "metadata": {},
   "outputs": [
    {
     "name": "stdout",
     "output_type": "stream",
     "text": [
      "\n",
      "🧪 Ridge Regression Cross-Validation (Excluding Outliers):\n",
      "Used 47 data points for training after outlier exclusion.\n",
      "\n",
      "Alpha\tAvg R²\t\tStd R²\t\tAvg RMSE\t\tStd RMSE\n",
      "1     \t0.9143\t\t0.1174\t\t1,880.20\t\t344.52\n"
     ]
    }
   ],
   "source": [
    "# Filter to only rows *not* flagged as outliers\n",
    "df_clean = df[~df[\"Outlier_Flag\"]].copy()\n",
    "\n",
    "# Match index of rows not flagged as outliers\n",
    "clean_indices = df_clean.index\n",
    "\n",
    "# Ensure we use the same features as original X\n",
    "features_to_use = X.columns.tolist()\n",
    "\n",
    "# Rebuild X and y using just those rows and the exact same features\n",
    "X_clean = df_encoded.loc[clean_indices, features_to_use]\n",
    "y_clean = df.loc[clean_indices, \"25-26 Salary\"]\n",
    "\n",
    "# Set up repeated cross-validation\n",
    "rkf = RepeatedKFold(n_splits=5, n_repeats=25, random_state=41)\n",
    "\n",
    "# Ridge model (alpha = 1)\n",
    "a = 1\n",
    "model_noOuts = Ridge(alpha=a)\n",
    "\n",
    "# Run CV\n",
    "scores = cross_validate(\n",
    "    model_noOuts,\n",
    "    X_clean,\n",
    "    y_clean,\n",
    "    cv=rkf,\n",
    "    scoring=('r2', 'neg_mean_squared_error'),\n",
    "    return_train_score=False\n",
    ")\n",
    "\n",
    "# Analyze results\n",
    "r2_scores = scores[\"test_r2\"]\n",
    "rmse_scores = (-scores[\"test_neg_mean_squared_error\"]) ** 0.5\n",
    "\n",
    "# Display\n",
    "print(\"\\n🧪 Ridge Regression Cross-Validation (Excluding Outliers):\")\n",
    "print(f\"Used {len(X_clean):,} data points for training after outlier exclusion.\\n\")\n",
    "print(\"Alpha\\tAvg R²\\t\\tStd R²\\t\\tAvg RMSE\\t\\tStd RMSE\")\n",
    "print(f\"{a:<6}\\t{np.mean(r2_scores):.4f}\\t\\t{np.std(r2_scores):.4f}\\t\\t{np.mean(rmse_scores):,.2f}\\t\\t{np.std(rmse_scores):,.2f}\")"
   ]
  },
  {
   "cell_type": "code",
   "execution_count": 235,
   "metadata": {},
   "outputs": [
    {
     "data": {
      "image/png": "[encoded data removed]",
      "text/plain": [
       "<Figure size 1000x600 with 1 Axes>"
      ]
     },
     "metadata": {},
     "output_type": "display_data"
    }
   ],
   "source": [
    "# Fit the model on cleaned data (if not already done)\n",
    "model_noOuts = Ridge(alpha=1.0)\n",
    "model_noOuts.fit(X_clean, y_clean)\n",
    "\n",
    "# Get coefficients into a DataFrame\n",
    "coef_df = pd.DataFrame({\n",
    "    \"Feature\": X_clean.columns,\n",
    "    \"Coefficient\": model_noOuts.coef_\n",
    "})\n",
    "\n",
    "# Separate experience band features\n",
    "band_features = [col for col in coef_df[\"Feature\"] if \"Experience Band_\" in col]\n",
    "non_band_df = coef_df[~coef_df[\"Feature\"].isin(band_features)].copy()\n",
    "band_df = coef_df[coef_df[\"Feature\"].isin(band_features)].copy()\n",
    "\n",
    "# Combine with non-band features on top (no sorting)\n",
    "coef_df_ordered = pd.concat([non_band_df, band_df], axis=0)\n",
    "\n",
    "# Color coding: orange for bands, blue for others\n",
    "colors = [\"orange\" if \"Experience Band_\" in feat else \"skyblue\" for feat in coef_df_ordered[\"Feature\"]]\n",
    "\n",
    "# Plot\n",
    "plt.figure(figsize=(10, 6))\n",
    "bars = plt.barh(coef_df_ordered[\"Feature\"], coef_df_ordered[\"Coefficient\"], color=colors)\n",
    "\n",
    "# Add coefficient values to bars\n",
    "for bar, coef in zip(bars, coef_df_ordered[\"Coefficient\"]):\n",
    "    width = bar.get_width()\n",
    "    text = f\"{coef:.3f}\"\n",
    "    xpos = width - 0.01 * max(abs(coef_df_ordered[\"Coefficient\"])) if width > 0 else width + 0.01 * max(abs(coef_df_ordered[\"Coefficient\"]))\n",
    "    align = \"right\" if width > 0 else \"left\"\n",
    "    plt.text(\n",
    "        xpos,\n",
    "        bar.get_y() + bar.get_height() / 2,\n",
    "        text,\n",
    "        va=\"center\",\n",
    "        ha=align,\n",
    "        color=\"black\",\n",
    "        fontweight=\"bold\"\n",
    "    )\n",
    "\n",
    "# Add vertical zero line\n",
    "plt.axvline(0, color=\"gray\", linewidth=1)\n",
    "\n",
    "# Draw separator between non-band and band features\n",
    "sep_index = len(non_band_df)\n",
    "plt.axhline(y=sep_index - 0.5, color=\"gray\", linestyle=\"--\", linewidth=1)\n",
    "\n",
    "# Title and axis labels\n",
    "plt.title(\"Ridge Model Coefficients\\n(Experience Bands Separated Below Line)\")\n",
    "plt.xlabel(\"Coefficient Value\")\n",
    "plt.tight_layout()\n",
    "plt.gca().invert_yaxis()\n",
    "plt.show()"
   ]
  },
  {
   "cell_type": "code",
   "execution_count": 236,
   "metadata": {},
   "outputs": [
    {
     "data": {
      "image/png": "[encoded data removed]",
      "text/plain": [
       "<Figure size 800x600 with 1 Axes>"
      ]
     },
     "metadata": {},
     "output_type": "display_data"
    }
   ],
   "source": [
    "# Predict using the clean model\n",
    "X_predict = df_encoded[model_noOuts.feature_names_in_]\n",
    "df[\"Prediction_from_clean_model\"] = model_noOuts.predict(X_predict)\n",
    "\n",
    "# Plot setup\n",
    "plt.figure(figsize=(8, 6))\n",
    "\n",
    "# Scatterplot: color = predicted outlier, shape = true outlier\n",
    "sns.scatterplot(\n",
    "    data=df,\n",
    "    x=\"Prediction_from_clean_model\",\n",
    "    y=\"25-26 Salary\",\n",
    "    hue=\"Outlier_Pred\",\n",
    "    style=\"Outlier_Flag\",\n",
    "    palette={True: \"red\", False: \"green\"},\n",
    "    markers={True: \"X\", False: \"o\"},\n",
    "    s=100\n",
    ")\n",
    "\n",
    "# Reference lines\n",
    "lims = [\n",
    "    min(df[\"25-26 Salary\"].min(), df[\"Prediction_from_clean_model\"].min()) * 0.95,\n",
    "    max(df[\"25-26 Salary\"].max(), df[\"Prediction_from_clean_model\"].max()) * 1.05,\n",
    "]\n",
    "\n",
    "x_vals = np.linspace(lims[0], lims[1], 100)\n",
    "plt.plot(x_vals, x_vals, \"--\", color=\"gray\", label=\"Perfect prediction\")\n",
    "plt.plot(x_vals, x_vals * 1.05, \"--\", color=\"blue\", alpha=0.4, label=\"+5% error\")\n",
    "plt.plot(x_vals, x_vals * 0.95, \"--\", color=\"blue\", alpha=0.4, label=\"-5% error\")\n",
    "\n",
    "# Labels and layout\n",
    "plt.title(\"Actual vs Predicted Salary (Clean Model)\\nWith ±5% Error Bands\")\n",
    "plt.xlabel(\"Predicted Salary\")\n",
    "plt.ylabel(\"Actual Salary\")\n",
    "plt.xlim(lims)\n",
    "plt.ylim(lims)\n",
    "plt.legend(title=\"Predicted Outlier\")\n",
    "plt.tight_layout()\n",
    "plt.show()"
   ]
  },
  {
   "cell_type": "code",
   "execution_count": 237,
   "metadata": {},
   "outputs": [
    {
     "data": {
      "application/vnd.plotly.v1+json": {
       "config": {
        "plotlyServerURL": "https://plot.ly"
       },
       "data": [
        {
         "customdata": [
          [
           "Joella, Katie ",
           3536,
           -2544.8187962305674,
           4.882146371665357
          ],
          [
           "Baumgartner, Rachel C",
           3440,
           -3884.7898672118245,
           7.154045646959273
          ],
          [
           "Rosiere, Diana M",
           3439,
           -2134.4435826535773,
           3.77971628385114
          ],
          [
           "Wang, Zhuoqun ",
           3430,
           -2227.7507891157584,
           3.8159485938947557
          ],
          [
           "McGrath, Alexandra F",
           3532,
           2937.9506255314627,
           4.206205797634095
          ],
          [
           "Chen, Xingyun ",
           2814,
           7239.997741328989,
           9.335307512512395
          ],
          [
           "Turnbull, Jennie ",
           3033,
           -9529.457691701551,
           16.583641111152485
          ],
          [
           "Herman, Bonnie J",
           3453,
           -6472.040250374121,
           9.628146757474147
          ],
          [
           "Summers, Amber ",
           2183,
           -1511.0338549135777,
           2.1219703336847555
          ],
          [
           "Kirchner, Rachel Y",
           3534,
           5955.675796031777,
           7.720106028947796
          ],
          [
           "Jewett, Jeffrey T",
           3252,
           6898.323193627235,
           8.879407887380756
          ],
          [
           "Hill, Bettye",
           3151,
           12056.603265066835,
           14.667222132415464
          ],
          [
           "Johnson, Marie F",
           3108,
           15100.443233180034,
           16.76988531643071
          ],
          [
           "Hon, Rebecca M",
           3245,
           -13583.514175372766,
           20.81477524230032
          ],
          [
           "Irwin, Michelle D",
           2944,
           -5005.479544700647,
           6.629423003682781
          ],
          [
           "Barton, Sarah F",
           3303,
           12111.23042303804,
           13.748700673218345
          ],
          [
           "Evans, Anne E",
           2599,
           10686.156104148191,
           11.850069977320622
          ],
          [
           "Otto, Theresa J",
           3195,
           -10373.933533478441,
           13.069028614324424
          ]
         ],
         "hovertemplate": "Outlier_Pred_Label=Flagged<br>Outlier_True_Label=Actual Outlier<br>Predicted Salary=%{x:,.0f}<br>Actual Salary=%{y:,.0f}<br>Employee=%{customdata[0]}<br>ID=%{customdata[1]}<br>Residual=%{customdata[2]:,.0f}<br>Residual % (abs)=%{customdata[3]:.1f}<extra></extra>",
         "legendgroup": "Flagged, Actual Outlier",
         "marker": {
          "color": "#636efa",
          "symbol": "circle"
         },
         "mode": "markers",
         "name": "Flagged, Actual Outlier",
         "orientation": "v",
         "showlegend": true,
         "type": "scatter",
         "x": [
          54669.81879623057,
          58186.789867211824,
          58605.44358265358,
          60607.75078911576,
          66910.04937446854,
          70315.00225867101,
          66992.45769170155,
          73692.04025037412,
          72720.03385491358,
          71189.32420396822,
          70790.67680637276,
          70144.39673493317,
          74944.55676681997,
          78842.51417537277,
          80509.47954470065,
          75978.76957696196,
          79491.84389585181,
          89751.93353347844
         ],
         "xaxis": "x",
         "y": [
          52125,
          54302,
          56471,
          58380,
          69848,
          77555,
          57463,
          67220,
          71209,
          77145,
          77689,
          82201,
          90045,
          65259,
          75504,
          88090,
          90178,
          79378
         ],
         "yaxis": "y"
        },
        {
         "customdata": [
          [
           "Dimond, Olivia D",
           3526,
           -504.1528475786545,
           0.9299997188316814
          ],
          [
           "Herndon, Natalie R",
           3516,
           -1809.5704119974398,
           3.27506273324062
          ],
          [
           "Sasine, Corinne P",
           3197,
           1248.3072032462878,
           1.9470118901430074
          ],
          [
           "McFall, Shannon M",
           3517,
           2027.1594077408517,
           2.9915431839512
          ],
          [
           "Garcia, Christina ",
           2565,
           -2047.0929429155076,
           3.037455216136965
          ],
          [
           "Valdez, Savannah G",
           3515,
           -146.90857108974888,
           0.2103260953638599
          ],
          [
           "Gordon, Heather A",
           3192,
           -679.3966268933145,
           0.9601286399193264
          ],
          [
           "Boss, Christine M",
           2945,
           -1769.2244482876267,
           2.493024149657766
          ],
          [
           "Rehmer, Rosemary ",
           2956,
           -153.61932935070945,
           0.21562423411193848
          ],
          [
           "Zinge, Kelley C",
           3380,
           619.0723257985228,
           0.8631794838239303
          ],
          [
           "Ferrill Roman, Bonnie M",
           3372,
           639.687071966051,
           0.8644770355096165
          ],
          [
           "May, Julie ",
           1426,
           -1040.2569971323537,
           1.3477974101893624
          ],
          [
           "Ferguson, Kristen A",
           1674,
           919.598161693415,
           1.1514984306400058
          ]
         ],
         "hovertemplate": "Outlier_Pred_Label=Flagged<br>Outlier_True_Label=Not Outlier<br>Predicted Salary=%{x:,.0f}<br>Actual Salary=%{y:,.0f}<br>Employee=%{customdata[0]}<br>ID=%{customdata[1]}<br>Residual=%{customdata[2]:,.0f}<br>Residual % (abs)=%{customdata[3]:.1f}<extra></extra>",
         "legendgroup": "Flagged, Not Outlier",
         "marker": {
          "color": "#636efa",
          "symbol": "diamond"
         },
         "mode": "markers",
         "name": "Flagged, Not Outlier",
         "orientation": "v",
         "showlegend": true,
         "type": "scatter",
         "x": [
          54714.152847578654,
          57062.57041199744,
          62865.69279675371,
          65735.84059225915,
          69442.09294291551,
          69994.90857108975,
          71440.39662689331,
          72736.22444828763,
          71397.61932935071,
          71100.92767420148,
          73357.31292803395,
          78222.25699713235,
          78941.40183830658
         ],
         "xaxis": "x",
         "y": [
          54210,
          55253,
          64114,
          67763,
          67395,
          69848,
          70761,
          70967,
          71244,
          71720,
          73997,
          77182,
          79861
         ],
         "yaxis": "y"
        },
        {
         "customdata": [
          [
           "Pugh, Hannah E",
           3529,
           -3867.739002625094,
           7.134733448856473
          ],
          [
           "Von Tscharner, Emma M",
           3161,
           -10381.26666964087,
           18.76313380140412
          ],
          [
           "Burton, Tiffany D",
           3336,
           -6532.221870350084,
           10.387732762467532
          ],
          [
           "Brown, Michelle C",
           3301,
           2769.9390637034667,
           3.825724160191521
          ],
          [
           "McHugh, John N",
           3285,
           10280.789675938155,
           13.458821102986313
          ],
          [
           "Fonseca, Ana J",
           2600,
           -8549.647900861295,
           12.809612700559295
          ],
          [
           "LaRocque, Carol A",
           3191,
           12362.195674290633,
           15.251613934107253
          ],
          [
           "Lantagne, Michael K",
           3196,
           -5898.738479326028,
           9.171209427105985
          ],
          [
           "Aragon, Shannon ",
           3131,
           -2557.6121209901903,
           3.786810957936319
          ],
          [
           "Gentry, Phillip M",
           1092,
           14571.141176228964,
           15.276615269368396
          ],
          [
           "Rodgers, Andy ",
           1224,
           -4357.716753785397,
           5.504043997051263
          ]
         ],
         "hovertemplate": "Outlier_Pred_Label=Normal<br>Outlier_True_Label=Actual Outlier<br>Predicted Salary=%{x:,.0f}<br>Actual Salary=%{y:,.0f}<br>Employee=%{customdata[0]}<br>ID=%{customdata[1]}<br>Residual=%{customdata[2]:,.0f}<br>Residual % (abs)=%{customdata[3]:.1f}<extra></extra>",
         "legendgroup": "Normal, Actual Outlier",
         "marker": {
          "color": "#EF553B",
          "symbol": "circle"
         },
         "mode": "markers",
         "name": "Normal, Actual Outlier",
         "orientation": "v",
         "showlegend": true,
         "type": "scatter",
         "x": [
          58077.739002625094,
          65709.26666964087,
          69416.22187035008,
          69633.06093629653,
          66106.21032406185,
          75293.6479008613,
          68692.80432570937,
          70216.73847932603,
          70097.61212099019,
          80810.85882377104,
          83530.7167537854
         ],
         "xaxis": "x",
         "y": [
          54210,
          55328,
          62884,
          72403,
          76387,
          66744,
          81055,
          64318,
          67540,
          95382,
          79173
         ],
         "yaxis": "y"
        },
        {
         "customdata": [
          [
           "Porter, Laine M",
           3514,
           -1355.0249333442116,
           2.3632232260354593
          ],
          [
           "Berg, Kyle R",
           3369,
           -2225.0299469435267,
           3.6877319460082316
          ],
          [
           "Peters, Emily M",
           3384,
           -3073.354568343144,
           4.999438084951596
          ],
          [
           "Swisher, Mark R",
           3456,
           -1826.8149780270833,
           2.9050553050491112
          ],
          [
           "Gulick, Kate T",
           3479,
           -2209.6979693009635,
           3.396817883079634
          ],
          [
           "McVie, Geoffry ",
           2602,
           511.6367453813946,
           0.7845865657349137
          ],
          [
           "Greenwald, Tess E",
           3371,
           -162.90453329430602,
           0.24672038119329076
          ],
          [
           "Jung, Jason R",
           2708,
           1653.6968581295077,
           2.486238773986691
          ],
          [
           "Garcia, Maria G",
           3545,
           706.2879799861985,
           1.0422914864840673
          ],
          [
           "Harnar, Casey E",
           2755,
           -630.791252081297,
           0.9260136703141517
          ],
          [
           "Bray, Amie M",
           3520,
           926.5497893279244,
           1.346631479293546
          ],
          [
           "Ochoa, Melissa B",
           3057,
           948.6832326051372,
           1.3708304784410623
          ],
          [
           "Passin, Laura E",
           3248,
           1569.9769740252377,
           2.255616818276853
          ],
          [
           "Romano, Bridget M",
           2881,
           1521.6404736764962,
           2.17336847967734
          ],
          [
           "Barocas, Anne ",
           3135,
           1878.8950312454253,
           2.6748502074874727
          ],
          [
           "Callis, Carolyn P",
           3432,
           1097.6528918933327,
           1.557550965466679
          ],
          [
           "Wang, Xiaomeng ",
           3535,
           1232.3682987720822,
           1.7384233301905516
          ],
          [
           "Courtney, Heather M",
           3437,
           -310.89222441165475,
           0.4624995900203135
          ],
          [
           "Valin, Josh N",
           3438,
           -146.11949950351845,
           0.21426403235309763
          ],
          [
           "McGown, Amber",
           2632,
           668.9019552680256,
           0.9663001535154871
          ],
          [
           "Ponce, Tomas M",
           3525,
           -1399.4595973546966,
           2.0035786240904487
          ],
          [
           "Tuck, Dane P",
           3434,
           1824.4597658015555,
           2.588877677694373
          ],
          [
           "Hollway, Margaret F",
           3302,
           -302.7168441476824,
           0.42246436975463325
          ],
          [
           "Goforth, Elizabeth A",
           3083,
           19.16293035610579,
           0.026743326154637904
          ],
          [
           "Farrell, Julie",
           3287,
           2685.9406995811296,
           3.648929749869078
          ],
          [
           "Shipley, Kelly L",
           3247,
           683.5501859180804,
           0.8870248062159592
          ],
          [
           "Tullar, Timothy R",
           3379,
           -1107.4091849446995,
           1.6487645310792653
          ],
          [
           "Riehl, Joe ",
           3014,
           -550.2573546774802,
           0.7212895274190962
          ],
          [
           "Sniegowski, Peter ",
           1574,
           -846.141748338152,
           1.0462469376290922
          ],
          [
           "Beckham, Wallace A",
           1675,
           1519.6229578097118,
           1.7128881249475432
          ],
          [
           "McCall, Ines A",
           1237,
           -195.12374519112927,
           0.21646263139394434
          ],
          [
           "Easton, Terrance ",
           1438,
           1183.1758658149047,
           1.3092573484728391
          ],
          [
           "Hamilton, Darla J",
           1101,
           -1891.281200919795,
           2.0047288039344453
          ],
          [
           "Pattison, Michael G",
           1590,
           297.2149500317173,
           0.29169033508520353
          ]
         ],
         "hovertemplate": "Outlier_Pred_Label=Normal<br>Outlier_True_Label=Not Outlier<br>Predicted Salary=%{x:,.0f}<br>Actual Salary=%{y:,.0f}<br>Employee=%{customdata[0]}<br>ID=%{customdata[1]}<br>Residual=%{customdata[2]:,.0f}<br>Residual % (abs)=%{customdata[3]:.1f}<extra></extra>",
         "legendgroup": "Normal, Not Outlier",
         "marker": {
          "color": "#EF553B",
          "symbol": "diamond"
         },
         "mode": "markers",
         "name": "Normal, Not Outlier",
         "orientation": "v",
         "showlegend": true,
         "type": "scatter",
         "x": [
          58693.02493334421,
          62561.02994694353,
          64547.354568343144,
          64710.81497802708,
          67261.69796930096,
          64699.363254618605,
          66190.9045332943,
          64860.30314187049,
          67056.7120200138,
          68749.7912520813,
          67878.45021067208,
          68256.31676739486,
          68033.02302597476,
          68491.3595263235,
          68364.10496875457,
          69375.34710810667,
          69657.63170122792,
          67530.89222441165,
          68342.11949950352,
          68554.09804473197,
          71247.4595973547,
          68648.54023419844,
          71957.71684414768,
          71635.8370696439,
          70923.05930041887,
          76377.44981408192,
          68273.4091849447,
          76838.25735467748,
          81720.14174833815,
          87197.37704219029,
          90337.12374519113,
          89186.8241341851,
          96232.2812009198,
          101596.78504996828
         ],
         "xaxis": "x",
         "y": [
          57338,
          60336,
          61474,
          62884,
          65052,
          65211,
          66028,
          66514,
          67763,
          68119,
          68805,
          69205,
          69603,
          70013,
          70243,
          70473,
          70890,
          67220,
          68196,
          69223,
          69848,
          70473,
          71655,
          71655,
          73609,
          77061,
          67166,
          76288,
          80874,
          88717,
          90142,
          90370,
          94341,
          101894
         ],
         "yaxis": "y"
        },
        {
         "line": {
          "color": "gray",
          "dash": "dash"
         },
         "mode": "lines",
         "name": "Perfect Prediction",
         "type": "scatter",
         "x": [
          49518.75,
          50099.25454545455,
          50679.759090909094,
          51260.263636363634,
          51840.76818181818,
          52421.27272727273,
          53001.777272727275,
          53582.28181818182,
          54162.78636363636,
          54743.29090909091,
          55323.795454545456,
          55904.3,
          56484.80454545455,
          57065.30909090909,
          57645.81363636364,
          58226.318181818184,
          58806.82272727273,
          59387.32727272727,
          59967.83181818182,
          60548.336363636365,
          61128.84090909091,
          61709.34545454546,
          62289.850000000006,
          62870.354545454546,
          63450.85909090909,
          64031.36363636364,
          64611.86818181819,
          65192.37272727273,
          65772.87727272727,
          66353.38181818182,
          66933.88636363637,
          67514.39090909091,
          68094.89545454546,
          68675.40000000001,
          69255.90454545454,
          69836.40909090909,
          70416.91363636364,
          70997.41818181818,
          71577.92272727273,
          72158.42727272728,
          72738.93181818182,
          73319.43636363637,
          73899.94090909092,
          74480.44545454546,
          75060.95000000001,
          75641.45454545456,
          76221.95909090909,
          76802.46363636364,
          77382.96818181819,
          77963.47272727273,
          78543.97727272728,
          79124.48181818183,
          79704.98636363637,
          80285.4909090909,
          80865.99545454545,
          81446.5,
          82027.00454545455,
          82607.5090909091,
          83188.01363636364,
          83768.51818181819,
          84349.02272727274,
          84929.52727272728,
          85510.03181818183,
          86090.53636363638,
          86671.04090909092,
          87251.54545454547,
          87832.05000000002,
          88412.55454545455,
          88993.0590909091,
          89573.56363636364,
          90154.06818181819,
          90734.57272727274,
          91315.07727272727,
          91895.58181818182,
          92476.08636363636,
          93056.59090909091,
          93637.09545454546,
          94217.6,
          94798.10454545455,
          95378.6090909091,
          95959.11363636365,
          96539.6181818182,
          97120.12272727274,
          97700.62727272729,
          98281.13181818184,
          98861.63636363638,
          99442.14090909093,
          100022.64545454546,
          100603.15000000001,
          101183.65454545456,
          101764.1590909091,
          102344.66363636365,
          102925.16818181818,
          103505.67272727273,
          104086.17727272728,
          104666.68181818182,
          105247.18636363637,
          105827.69090909092,
          106408.19545454546,
          106988.70000000001
         ],
         "y": [
          49518.75,
          50099.25454545455,
          50679.759090909094,
          51260.263636363634,
          51840.76818181818,
          52421.27272727273,
          53001.777272727275,
          53582.28181818182,
          54162.78636363636,
          54743.29090909091,
          55323.795454545456,
          55904.3,
          56484.80454545455,
          57065.30909090909,
          57645.81363636364,
          58226.318181818184,
          58806.82272727273,
          59387.32727272727,
          59967.83181818182,
          60548.336363636365,
          61128.84090909091,
          61709.34545454546,
          62289.850000000006,
          62870.354545454546,
          63450.85909090909,
          64031.36363636364,
          64611.86818181819,
          65192.37272727273,
          65772.87727272727,
          66353.38181818182,
          66933.88636363637,
          67514.39090909091,
          68094.89545454546,
          68675.40000000001,
          69255.90454545454,
          69836.40909090909,
          70416.91363636364,
          70997.41818181818,
          71577.92272727273,
          72158.42727272728,
          72738.93181818182,
          73319.43636363637,
          73899.94090909092,
          74480.44545454546,
          75060.95000000001,
          75641.45454545456,
          76221.95909090909,
          76802.46363636364,
          77382.96818181819,
          77963.47272727273,
          78543.97727272728,
          79124.48181818183,
          79704.98636363637,
          80285.4909090909,
          80865.99545454545,
          81446.5,
          82027.00454545455,
          82607.5090909091,
          83188.01363636364,
          83768.51818181819,
          84349.02272727274,
          84929.52727272728,
          85510.03181818183,
          86090.53636363638,
          86671.04090909092,
          87251.54545454547,
          87832.05000000002,
          88412.55454545455,
          88993.0590909091,
          89573.56363636364,
          90154.06818181819,
          90734.57272727274,
          91315.07727272727,
          91895.58181818182,
          92476.08636363636,
          93056.59090909091,
          93637.09545454546,
          94217.6,
          94798.10454545455,
          95378.6090909091,
          95959.11363636365,
          96539.6181818182,
          97120.12272727274,
          97700.62727272729,
          98281.13181818184,
          98861.63636363638,
          99442.14090909093,
          100022.64545454546,
          100603.15000000001,
          101183.65454545456,
          101764.1590909091,
          102344.66363636365,
          102925.16818181818,
          103505.67272727273,
          104086.17727272728,
          104666.68181818182,
          105247.18636363637,
          105827.69090909092,
          106408.19545454546,
          106988.70000000001
         ]
        },
        {
         "line": {
          "color": "blue",
          "dash": "dot"
         },
         "mode": "lines",
         "name": "+5% Error",
         "type": "scatter",
         "x": [
          49518.75,
          50099.25454545455,
          50679.759090909094,
          51260.263636363634,
          51840.76818181818,
          52421.27272727273,
          53001.777272727275,
          53582.28181818182,
          54162.78636363636,
          54743.29090909091,
          55323.795454545456,
          55904.3,
          56484.80454545455,
          57065.30909090909,
          57645.81363636364,
          58226.318181818184,
          58806.82272727273,
          59387.32727272727,
          59967.83181818182,
          60548.336363636365,
          61128.84090909091,
          61709.34545454546,
          62289.850000000006,
          62870.354545454546,
          63450.85909090909,
          64031.36363636364,
          64611.86818181819,
          65192.37272727273,
          65772.87727272727,
          66353.38181818182,
          66933.88636363637,
          67514.39090909091,
          68094.89545454546,
          68675.40000000001,
          69255.90454545454,
          69836.40909090909,
          70416.91363636364,
          70997.41818181818,
          71577.92272727273,
          72158.42727272728,
          72738.93181818182,
          73319.43636363637,
          73899.94090909092,
          74480.44545454546,
          75060.95000000001,
          75641.45454545456,
          76221.95909090909,
          76802.46363636364,
          77382.96818181819,
          77963.47272727273,
          78543.97727272728,
          79124.48181818183,
          79704.98636363637,
          80285.4909090909,
          80865.99545454545,
          81446.5,
          82027.00454545455,
          82607.5090909091,
          83188.01363636364,
          83768.51818181819,
          84349.02272727274,
          84929.52727272728,
          85510.03181818183,
          86090.53636363638,
          86671.04090909092,
          87251.54545454547,
          87832.05000000002,
          88412.55454545455,
          88993.0590909091,
          89573.56363636364,
          90154.06818181819,
          90734.57272727274,
          91315.07727272727,
          91895.58181818182,
          92476.08636363636,
          93056.59090909091,
          93637.09545454546,
          94217.6,
          94798.10454545455,
          95378.6090909091,
          95959.11363636365,
          96539.6181818182,
          97120.12272727274,
          97700.62727272729,
          98281.13181818184,
          98861.63636363638,
          99442.14090909093,
          100022.64545454546,
          100603.15000000001,
          101183.65454545456,
          101764.1590909091,
          102344.66363636365,
          102925.16818181818,
          103505.67272727273,
          104086.17727272728,
          104666.68181818182,
          105247.18636363637,
          105827.69090909092,
          106408.19545454546,
          106988.70000000001
         ],
         "y": [
          51994.6875,
          52604.21727272728,
          53213.747045454555,
          53823.27681818182,
          54432.806590909095,
          55042.336363636365,
          55651.86613636364,
          56261.39590909091,
          56870.92568181818,
          57480.45545454546,
          58089.98522727273,
          58699.51500000001,
          59309.04477272728,
          59918.57454545455,
          60528.104318181824,
          61137.634090909094,
          61747.16386363637,
          62356.693636363634,
          62966.22340909091,
          63575.75318181819,
          64185.28295454546,
          64794.812727272736,
          65404.342500000006,
          66013.87227272727,
          66623.40204545455,
          67232.93181818182,
          67842.4615909091,
          68451.99136363636,
          69061.52113636363,
          69671.05090909092,
          70280.58068181819,
          70890.11045454546,
          71499.64022727274,
          72109.17000000001,
          72718.69977272727,
          73328.22954545455,
          73937.75931818182,
          74547.2890909091,
          75156.81886363636,
          75766.34863636365,
          76375.87840909092,
          76985.40818181819,
          77594.93795454547,
          78204.46772727274,
          78813.99750000001,
          79423.5272727273,
          80033.05704545455,
          80642.58681818182,
          81252.11659090909,
          81861.64636363638,
          82471.17613636365,
          83080.70590909092,
          83690.2356818182,
          84299.76545454546,
          84909.29522727273,
          85518.825,
          86128.35477272728,
          86737.88454545455,
          87347.41431818182,
          87956.9440909091,
          88566.47386363638,
          89176.00363636365,
          89785.53340909093,
          90395.0631818182,
          91004.59295454547,
          91614.12272727274,
          92223.65250000003,
          92833.18227272728,
          93442.71204545455,
          94052.24181818184,
          94661.7715909091,
          95271.30136363638,
          95880.83113636363,
          96490.36090909092,
          97099.89068181819,
          97709.42045454546,
          98318.95022727274,
          98928.48000000001,
          99538.00977272728,
          100147.53954545457,
          100757.06931818184,
          101366.5990909091,
          101976.12886363638,
          102585.65863636366,
          103195.18840909093,
          103804.7181818182,
          104414.24795454548,
          105023.77772727274,
          105633.30750000001,
          106242.8372727273,
          106852.36704545456,
          107461.89681818183,
          108071.42659090909,
          108680.95636363637,
          109290.48613636364,
          109900.01590909091,
          110509.5456818182,
          111119.07545454547,
          111728.60522727274,
          112338.13500000002
         ]
        },
        {
         "line": {
          "color": "blue",
          "dash": "dot"
         },
         "mode": "lines",
         "name": "-5% Error",
         "type": "scatter",
         "x": [
          49518.75,
          50099.25454545455,
          50679.759090909094,
          51260.263636363634,
          51840.76818181818,
          52421.27272727273,
          53001.777272727275,
          53582.28181818182,
          54162.78636363636,
          54743.29090909091,
          55323.795454545456,
          55904.3,
          56484.80454545455,
          57065.30909090909,
          57645.81363636364,
          58226.318181818184,
          58806.82272727273,
          59387.32727272727,
          59967.83181818182,
          60548.336363636365,
          61128.84090909091,
          61709.34545454546,
          62289.850000000006,
          62870.354545454546,
          63450.85909090909,
          64031.36363636364,
          64611.86818181819,
          65192.37272727273,
          65772.87727272727,
          66353.38181818182,
          66933.88636363637,
          67514.39090909091,
          68094.89545454546,
          68675.40000000001,
          69255.90454545454,
          69836.40909090909,
          70416.91363636364,
          70997.41818181818,
          71577.92272727273,
          72158.42727272728,
          72738.93181818182,
          73319.43636363637,
          73899.94090909092,
          74480.44545454546,
          75060.95000000001,
          75641.45454545456,
          76221.95909090909,
          76802.46363636364,
          77382.96818181819,
          77963.47272727273,
          78543.97727272728,
          79124.48181818183,
          79704.98636363637,
          80285.4909090909,
          80865.99545454545,
          81446.5,
          82027.00454545455,
          82607.5090909091,
          83188.01363636364,
          83768.51818181819,
          84349.02272727274,
          84929.52727272728,
          85510.03181818183,
          86090.53636363638,
          86671.04090909092,
          87251.54545454547,
          87832.05000000002,
          88412.55454545455,
          88993.0590909091,
          89573.56363636364,
          90154.06818181819,
          90734.57272727274,
          91315.07727272727,
          91895.58181818182,
          92476.08636363636,
          93056.59090909091,
          93637.09545454546,
          94217.6,
          94798.10454545455,
          95378.6090909091,
          95959.11363636365,
          96539.6181818182,
          97120.12272727274,
          97700.62727272729,
          98281.13181818184,
          98861.63636363638,
          99442.14090909093,
          100022.64545454546,
          100603.15000000001,
          101183.65454545456,
          101764.1590909091,
          102344.66363636365,
          102925.16818181818,
          103505.67272727273,
          104086.17727272728,
          104666.68181818182,
          105247.18636363637,
          105827.69090909092,
          106408.19545454546,
          106988.70000000001
         ],
         "y": [
          47042.8125,
          47594.29181818182,
          48145.77113636363,
          48697.25045454545,
          49248.72977272727,
          49800.20909090909,
          50351.68840909091,
          50903.16772727273,
          51454.64704545454,
          52006.12636363636,
          52557.60568181818,
          53109.085,
          53660.56431818182,
          54212.04363636363,
          54763.52295454545,
          55315.00227272727,
          55866.48159090909,
          56417.96090909091,
          56969.440227272724,
          57520.91954545454,
          58072.398863636365,
          58623.87818181818,
          59175.357500000006,
          59726.836818181815,
          60278.31613636363,
          60829.795454545456,
          61381.27477272727,
          61932.75409090909,
          62484.233409090906,
          63035.71272727272,
          63587.19204545455,
          64138.671363636364,
          64690.15068181819,
          65241.630000000005,
          65793.10931818181,
          66344.58863636362,
          66896.06795454545,
          67447.54727272727,
          67999.0265909091,
          68550.5059090909,
          69101.98522727273,
          69653.46454545455,
          70204.94386363636,
          70756.42318181819,
          71307.90250000001,
          71859.38181818182,
          72410.86113636363,
          72962.34045454545,
          73513.81977272728,
          74065.29909090909,
          74616.77840909091,
          75168.25772727274,
          75719.73704545455,
          76271.21636363635,
          76822.69568181818,
          77374.175,
          77925.65431818181,
          78477.13363636364,
          79028.61295454546,
          79580.09227272727,
          80131.5715909091,
          80683.05090909092,
          81234.53022727273,
          81786.00954545455,
          82337.48886363638,
          82888.9681818182,
          83440.44750000001,
          83991.92681818182,
          84543.40613636364,
          85094.88545454545,
          85646.36477272728,
          86197.8440909091,
          86749.32340909091,
          87300.80272727272,
          87852.28204545454,
          88403.76136363637,
          88955.24068181818,
          89506.72,
          90058.19931818183,
          90609.67863636363,
          91161.15795454546,
          91712.63727272728,
          92264.1165909091,
          92815.59590909092,
          93367.07522727274,
          93918.55454545456,
          94470.03386363637,
          95021.51318181818,
          95572.99250000001,
          96124.47181818182,
          96675.95113636364,
          97227.43045454547,
          97778.90977272727,
          98330.38909090908,
          98881.86840909091,
          99433.34772727273,
          99984.82704545454,
          100536.30636363637,
          101087.78568181819,
          101639.265
         ]
        }
       ],
       "layout": {
        "height": 600,
        "legend": {
         "title": {
          "text": "Predicted Outlier"
         },
         "tracegroupgap": 0
        },
        "template": {
         "data": {
          "bar": [
           {
            "error_x": {
             "color": "#2a3f5f"
            },
            "error_y": {
             "color": "#2a3f5f"
            },
            "marker": {
             "line": {
              "color": "#E5ECF6",
              "width": 0.5
             },
             "pattern": {
              "fillmode": "overlay",
              "size": 10,
              "solidity": 0.2
             }
            },
            "type": "bar"
           }
          ],
          "barpolar": [
           {
            "marker": {
             "line": {
              "color": "#E5ECF6",
              "width": 0.5
             },
             "pattern": {
              "fillmode": "overlay",
              "size": 10,
              "solidity": 0.2
             }
            },
            "type": "barpolar"
           }
          ],
          "carpet": [
           {
            "aaxis": {
             "endlinecolor": "#2a3f5f",
             "gridcolor": "white",
             "linecolor": "white",
             "minorgridcolor": "white",
             "startlinecolor": "#2a3f5f"
            },
            "baxis": {
             "endlinecolor": "#2a3f5f",
             "gridcolor": "white",
             "linecolor": "white",
             "minorgridcolor": "white",
             "startlinecolor": "#2a3f5f"
            },
            "type": "carpet"
           }
          ],
          "choropleth": [
           {
            "colorbar": {
             "outlinewidth": 0,
             "ticks": ""
            },
            "type": "choropleth"
           }
          ],
          "contour": [
           {
            "colorbar": {
             "outlinewidth": 0,
             "ticks": ""
            },
            "colorscale": [
             [
              0,
              "#0d0887"
             ],
             [
              0.1111111111111111,
              "#46039f"
             ],
             [
              0.2222222222222222,
              "#7201a8"
             ],
             [
              0.3333333333333333,
              "#9c179e"
             ],
             [
              0.4444444444444444,
              "#bd3786"
             ],
             [
              0.5555555555555556,
              "#d8576b"
             ],
             [
              0.6666666666666666,
              "#ed7953"
             ],
             [
              0.7777777777777778,
              "#fb9f3a"
             ],
             [
              0.8888888888888888,
              "#fdca26"
             ],
             [
              1,
              "#f0f921"
             ]
            ],
            "type": "contour"
           }
          ],
          "contourcarpet": [
           {
            "colorbar": {
             "outlinewidth": 0,
             "ticks": ""
            },
            "type": "contourcarpet"
           }
          ],
          "heatmap": [
           {
            "colorbar": {
             "outlinewidth": 0,
             "ticks": ""
            },
            "colorscale": [
             [
              0,
              "#0d0887"
             ],
             [
              0.1111111111111111,
              "#46039f"
             ],
             [
              0.2222222222222222,
              "#7201a8"
             ],
             [
              0.3333333333333333,
              "#9c179e"
             ],
             [
              0.4444444444444444,
              "#bd3786"
             ],
             [
              0.5555555555555556,
              "#d8576b"
             ],
             [
              0.6666666666666666,
              "#ed7953"
             ],
             [
              0.7777777777777778,
              "#fb9f3a"
             ],
             [
              0.8888888888888888,
              "#fdca26"
             ],
             [
              1,
              "#f0f921"
             ]
            ],
            "type": "heatmap"
           }
          ],
          "heatmapgl": [
           {
            "colorbar": {
             "outlinewidth": 0,
             "ticks": ""
            },
            "colorscale": [
             [
              0,
              "#0d0887"
             ],
             [
              0.1111111111111111,
              "#46039f"
             ],
             [
              0.2222222222222222,
              "#7201a8"
             ],
             [
              0.3333333333333333,
              "#9c179e"
             ],
             [
              0.4444444444444444,
              "#bd3786"
             ],
             [
              0.5555555555555556,
              "#d8576b"
             ],
             [
              0.6666666666666666,
              "#ed7953"
             ],
             [
              0.7777777777777778,
              "#fb9f3a"
             ],
             [
              0.8888888888888888,
              "#fdca26"
             ],
             [
              1,
              "#f0f921"
             ]
            ],
            "type": "heatmapgl"
           }
          ],
          "histogram": [
           {
            "marker": {
             "pattern": {
              "fillmode": "overlay",
              "size": 10,
              "solidity": 0.2
             }
            },
            "type": "histogram"
           }
          ],
          "histogram2d": [
           {
            "colorbar": {
             "outlinewidth": 0,
             "ticks": ""
            },
            "colorscale": [
             [
              0,
              "#0d0887"
             ],
             [
              0.1111111111111111,
              "#46039f"
             ],
             [
              0.2222222222222222,
              "#7201a8"
             ],
             [
              0.3333333333333333,
              "#9c179e"
             ],
             [
              0.4444444444444444,
              "#bd3786"
             ],
             [
              0.5555555555555556,
              "#d8576b"
             ],
             [
              0.6666666666666666,
              "#ed7953"
             ],
             [
              0.7777777777777778,
              "#fb9f3a"
             ],
             [
              0.8888888888888888,
              "#fdca26"
             ],
             [
              1,
              "#f0f921"
             ]
            ],
            "type": "histogram2d"
           }
          ],
          "histogram2dcontour": [
           {
            "colorbar": {
             "outlinewidth": 0,
             "ticks": ""
            },
            "colorscale": [
             [
              0,
              "#0d0887"
             ],
             [
              0.1111111111111111,
              "#46039f"
             ],
             [
              0.2222222222222222,
              "#7201a8"
             ],
             [
              0.3333333333333333,
              "#9c179e"
             ],
             [
              0.4444444444444444,
              "#bd3786"
             ],
             [
              0.5555555555555556,
              "#d8576b"
             ],
             [
              0.6666666666666666,
              "#ed7953"
             ],
             [
              0.7777777777777778,
              "#fb9f3a"
             ],
             [
              0.8888888888888888,
              "#fdca26"
             ],
             [
              1,
              "#f0f921"
             ]
            ],
            "type": "histogram2dcontour"
           }
          ],
          "mesh3d": [
           {
            "colorbar": {
             "outlinewidth": 0,
             "ticks": ""
            },
            "type": "mesh3d"
           }
          ],
          "parcoords": [
           {
            "line": {
             "colorbar": {
              "outlinewidth": 0,
              "ticks": ""
             }
            },
            "type": "parcoords"
           }
          ],
          "pie": [
           {
            "automargin": true,
            "type": "pie"
           }
          ],
          "scatter": [
           {
            "fillpattern": {
             "fillmode": "overlay",
             "size": 10,
             "solidity": 0.2
            },
            "type": "scatter"
           }
          ],
          "scatter3d": [
           {
            "line": {
             "colorbar": {
              "outlinewidth": 0,
              "ticks": ""
             }
            },
            "marker": {
             "colorbar": {
              "outlinewidth": 0,
              "ticks": ""
             }
            },
            "type": "scatter3d"
           }
          ],
          "scattercarpet": [
           {
            "marker": {
             "colorbar": {
              "outlinewidth": 0,
              "ticks": ""
             }
            },
            "type": "scattercarpet"
           }
          ],
          "scattergeo": [
           {
            "marker": {
             "colorbar": {
              "outlinewidth": 0,
              "ticks": ""
             }
            },
            "type": "scattergeo"
           }
          ],
          "scattergl": [
           {
            "marker": {
             "colorbar": {
              "outlinewidth": 0,
              "ticks": ""
             }
            },
            "type": "scattergl"
           }
          ],
          "scattermapbox": [
           {
            "marker": {
             "colorbar": {
              "outlinewidth": 0,
              "ticks": ""
             }
            },
            "type": "scattermapbox"
           }
          ],
          "scatterpolar": [
           {
            "marker": {
             "colorbar": {
              "outlinewidth": 0,
              "ticks": ""
             }
            },
            "type": "scatterpolar"
           }
          ],
          "scatterpolargl": [
           {
            "marker": {
             "colorbar": {
              "outlinewidth": 0,
              "ticks": ""
             }
            },
            "type": "scatterpolargl"
           }
          ],
          "scatterternary": [
           {
            "marker": {
             "colorbar": {
              "outlinewidth": 0,
              "ticks": ""
             }
            },
            "type": "scatterternary"
           }
          ],
          "surface": [
           {
            "colorbar": {
             "outlinewidth": 0,
             "ticks": ""
            },
            "colorscale": [
             [
              0,
              "#0d0887"
             ],
             [
              0.1111111111111111,
              "#46039f"
             ],
             [
              0.2222222222222222,
              "#7201a8"
             ],
             [
              0.3333333333333333,
              "#9c179e"
             ],
             [
              0.4444444444444444,
              "#bd3786"
             ],
             [
              0.5555555555555556,
              "#d8576b"
             ],
             [
              0.6666666666666666,
              "#ed7953"
             ],
             [
              0.7777777777777778,
              "#fb9f3a"
             ],
             [
              0.8888888888888888,
              "#fdca26"
             ],
             [
              1,
              "#f0f921"
             ]
            ],
            "type": "surface"
           }
          ],
          "table": [
           {
            "cells": {
             "fill": {
              "color": "#EBF0F8"
             },
             "line": {
              "color": "white"
             }
            },
            "header": {
             "fill": {
              "color": "#C8D4E3"
             },
             "line": {
              "color": "white"
             }
            },
            "type": "table"
           }
          ]
         },
         "layout": {
          "annotationdefaults": {
           "arrowcolor": "#2a3f5f",
           "arrowhead": 0,
           "arrowwidth": 1
          },
          "autotypenumbers": "strict",
          "coloraxis": {
           "colorbar": {
            "outlinewidth": 0,
            "ticks": ""
           }
          },
          "colorscale": {
           "diverging": [
            [
             0,
             "#8e0152"
            ],
            [
             0.1,
             "#c51b7d"
            ],
            [
             0.2,
             "#de77ae"
            ],
            [
             0.3,
             "#f1b6da"
            ],
            [
             0.4,
             "#fde0ef"
            ],
            [
             0.5,
             "#f7f7f7"
            ],
            [
             0.6,
             "#e6f5d0"
            ],
            [
             0.7,
             "#b8e186"
            ],
            [
             0.8,
             "#7fbc41"
            ],
            [
             0.9,
             "#4d9221"
            ],
            [
             1,
             "#276419"
            ]
           ],
           "sequential": [
            [
             0,
             "#0d0887"
            ],
            [
             0.1111111111111111,
             "#46039f"
            ],
            [
             0.2222222222222222,
             "#7201a8"
            ],
            [
             0.3333333333333333,
             "#9c179e"
            ],
            [
             0.4444444444444444,
             "#bd3786"
            ],
            [
             0.5555555555555556,
             "#d8576b"
            ],
            [
             0.6666666666666666,
             "#ed7953"
            ],
            [
             0.7777777777777778,
             "#fb9f3a"
            ],
            [
             0.8888888888888888,
             "#fdca26"
            ],
            [
             1,
             "#f0f921"
            ]
           ],
           "sequentialminus": [
            [
             0,
             "#0d0887"
            ],
            [
             0.1111111111111111,
             "#46039f"
            ],
            [
             0.2222222222222222,
             "#7201a8"
            ],
            [
             0.3333333333333333,
             "#9c179e"
            ],
            [
             0.4444444444444444,
             "#bd3786"
            ],
            [
             0.5555555555555556,
             "#d8576b"
            ],
            [
             0.6666666666666666,
             "#ed7953"
            ],
            [
             0.7777777777777778,
             "#fb9f3a"
            ],
            [
             0.8888888888888888,
             "#fdca26"
            ],
            [
             1,
             "#f0f921"
            ]
           ]
          },
          "colorway": [
           "#636efa",
           "#EF553B",
           "#00cc96",
           "#ab63fa",
           "#FFA15A",
           "#19d3f3",
           "#FF6692",
           "#B6E880",
           "#FF97FF",
           "#FECB52"
          ],
          "font": {
           "color": "#2a3f5f"
          },
          "geo": {
           "bgcolor": "white",
           "lakecolor": "white",
           "landcolor": "#E5ECF6",
           "showlakes": true,
           "showland": true,
           "subunitcolor": "white"
          },
          "hoverlabel": {
           "align": "left"
          },
          "hovermode": "closest",
          "mapbox": {
           "style": "light"
          },
          "paper_bgcolor": "white",
          "plot_bgcolor": "#E5ECF6",
          "polar": {
           "angularaxis": {
            "gridcolor": "white",
            "linecolor": "white",
            "ticks": ""
           },
           "bgcolor": "#E5ECF6",
           "radialaxis": {
            "gridcolor": "white",
            "linecolor": "white",
            "ticks": ""
           }
          },
          "scene": {
           "xaxis": {
            "backgroundcolor": "#E5ECF6",
            "gridcolor": "white",
            "gridwidth": 2,
            "linecolor": "white",
            "showbackground": true,
            "ticks": "",
            "zerolinecolor": "white"
           },
           "yaxis": {
            "backgroundcolor": "#E5ECF6",
            "gridcolor": "white",
            "gridwidth": 2,
            "linecolor": "white",
            "showbackground": true,
            "ticks": "",
            "zerolinecolor": "white"
           },
           "zaxis": {
            "backgroundcolor": "#E5ECF6",
            "gridcolor": "white",
            "gridwidth": 2,
            "linecolor": "white",
            "showbackground": true,
            "ticks": "",
            "zerolinecolor": "white"
           }
          },
          "shapedefaults": {
           "line": {
            "color": "#2a3f5f"
           }
          },
          "ternary": {
           "aaxis": {
            "gridcolor": "white",
            "linecolor": "white",
            "ticks": ""
           },
           "baxis": {
            "gridcolor": "white",
            "linecolor": "white",
            "ticks": ""
           },
           "bgcolor": "#E5ECF6",
           "caxis": {
            "gridcolor": "white",
            "linecolor": "white",
            "ticks": ""
           }
          },
          "title": {
           "x": 0.05
          },
          "xaxis": {
           "automargin": true,
           "gridcolor": "white",
           "linecolor": "white",
           "ticks": "",
           "title": {
            "standoff": 15
           },
           "zerolinecolor": "white",
           "zerolinewidth": 2
          },
          "yaxis": {
           "automargin": true,
           "gridcolor": "white",
           "linecolor": "white",
           "ticks": "",
           "title": {
            "standoff": 15
           },
           "zerolinecolor": "white",
           "zerolinewidth": 2
          }
         }
        },
        "title": {
         "text": "Interactive Prediction vs Actual Salary"
        },
        "width": 900,
        "xaxis": {
         "anchor": "y",
         "domain": [
          0,
          1
         ],
         "title": {
          "text": "Predicted Salary"
         }
        },
        "yaxis": {
         "anchor": "x",
         "domain": [
          0,
          1
         ],
         "title": {
          "text": "Actual Salary"
         }
        }
       }
      }
     },
     "metadata": {},
     "output_type": "display_data"
    }
   ],
   "source": [
    "# Calculate residual info (if not already done)\n",
    "df[\"Residual\"] = df[\"25-26 Salary\"] - df[\"Prediction_from_clean_model\"]\n",
    "df[\"Residual %\"] = df[\"Residual\"] / df[\"25-26 Salary\"]\n",
    "df[\"Residual % (abs)\"] = df[\"Residual %\"].abs() * 100  # for display\n",
    "df[\"Outlier_Pred_Label\"] = df[\"Outlier_Pred\"].map({True: \"Flagged\", False: \"Normal\"})\n",
    "df[\"Outlier_True_Label\"] = df[\"Outlier_Flag\"].map({True: \"Actual Outlier\", False: \"Not Outlier\"})\n",
    "\n",
    "# Optional: dummy label for anonymity\n",
    "df[\"Label\"] = df.index.astype(str)\n",
    "\n",
    "# Remove any NaNs or infs for plotting\n",
    "df_plot = df.dropna(subset=[\"Prediction_from_clean_model\", \"25-26 Salary\"]).copy()\n",
    "df_plot = df_plot.replace([np.inf, -np.inf], np.nan).dropna()\n",
    "\n",
    "# Base plot\n",
    "fig = px.scatter(\n",
    "    df_plot,\n",
    "    x=\"Prediction_from_clean_model\",\n",
    "    y=\"25-26 Salary\",\n",
    "    color=\"Outlier_Pred_Label\",\n",
    "    symbol=\"Outlier_True_Label\",\n",
    "    hover_data={\n",
    "        \"Employee\": True,\n",
    "        \"ID\": True,\n",
    "        \"25-26 Salary\": \":,.0f\",\n",
    "        \"Prediction_from_clean_model\": \":,.0f\",\n",
    "        \"Residual\": \":,.0f\",\n",
    "        \"Residual % (abs)\": \":.1f\"\n",
    "    },\n",
    "    labels={\n",
    "        \"Prediction_from_clean_model\": \"Predicted Salary\",\n",
    "        \"25-26 Salary\": \"Actual Salary\"\n",
    "    },\n",
    "    title=\"Interactive Prediction vs Actual Salary\"\n",
    ")\n",
    "\n",
    "# Add ±5% error lines\n",
    "lims = [\n",
    "    min(df_plot[\"25-26 Salary\"].min(), df_plot[\"Prediction_from_clean_model\"].min()) * 0.95,\n",
    "    max(df_plot[\"25-26 Salary\"].max(), df_plot[\"Prediction_from_clean_model\"].max()) * 1.05,\n",
    "]\n",
    "x_vals = np.linspace(lims[0], lims[1], 100)\n",
    "\n",
    "fig.add_traces([\n",
    "    go.Scatter(x=x_vals, y=x_vals, mode='lines', line=dict(dash='dash', color='gray'), name='Perfect Prediction'),\n",
    "    go.Scatter(x=x_vals, y=x_vals * 1.05, mode='lines', line=dict(dash='dot', color='blue'), name='+5% Error'),\n",
    "    go.Scatter(x=x_vals, y=x_vals * 0.95, mode='lines', line=dict(dash='dot', color='blue'), name='-5% Error')\n",
    "])\n",
    "\n",
    "# Final layout\n",
    "fig.update_layout(\n",
    "    xaxis_title=\"Predicted Salary\",\n",
    "    yaxis_title=\"Actual Salary\",\n",
    "    legend_title=\"Predicted Outlier\",\n",
    "    width=900,\n",
    "    height=600\n",
    ")\n",
    "\n",
    "fig.show()"
   ]
  },
  {
   "cell_type": "code",
   "execution_count": 238,
   "metadata": {},
   "outputs": [
    {
     "data": {
      "text/html": [
       "<div>\n",
       "<style scoped>\n",
       "    .dataframe tbody tr th:only-of-type {\n",
       "        vertical-align: middle;\n",
       "    }\n",
       "\n",
       "    .dataframe tbody tr th {\n",
       "        vertical-align: top;\n",
       "    }\n",
       "\n",
       "    .dataframe thead th {\n",
       "        text-align: right;\n",
       "    }\n",
       "</style>\n",
       "<table border=\"1\" class=\"dataframe\">\n",
       "  <thead>\n",
       "    <tr style=\"text-align: right;\">\n",
       "      <th></th>\n",
       "      <th>Employee</th>\n",
       "      <th>ID</th>\n",
       "      <th>25-26 Salary (formatted)</th>\n",
       "      <th>Predicted Salary (formatted)</th>\n",
       "      <th>Residual (formatted)</th>\n",
       "      <th>Residual % (formatted)</th>\n",
       "      <th>Outlier_Flag</th>\n",
       "      <th>Outlier_Pred</th>\n",
       "      <th>Outlier_Prob</th>\n",
       "    </tr>\n",
       "  </thead>\n",
       "  <tbody>\n",
       "    <tr>\n",
       "      <th>62</th>\n",
       "      <td>Hon, Rebecca M</td>\n",
       "      <td>3245.0</td>\n",
       "      <td>65,259</td>\n",
       "      <td>78,843</td>\n",
       "      <td>-13,584</td>\n",
       "      <td>20.8%</td>\n",
       "      <td>True</td>\n",
       "      <td>True</td>\n",
       "      <td>0.448171</td>\n",
       "    </tr>\n",
       "    <tr>\n",
       "      <th>11</th>\n",
       "      <td>Von Tscharner, Emma M</td>\n",
       "      <td>3161.0</td>\n",
       "      <td>55,328</td>\n",
       "      <td>65,709</td>\n",
       "      <td>-10,381</td>\n",
       "      <td>18.8%</td>\n",
       "      <td>True</td>\n",
       "      <td>False</td>\n",
       "      <td>0.238631</td>\n",
       "    </tr>\n",
       "    <tr>\n",
       "      <th>61</th>\n",
       "      <td>Johnson, Marie F</td>\n",
       "      <td>3108.0</td>\n",
       "      <td>90,045</td>\n",
       "      <td>74,945</td>\n",
       "      <td>15,100</td>\n",
       "      <td>16.8%</td>\n",
       "      <td>True</td>\n",
       "      <td>True</td>\n",
       "      <td>0.566590</td>\n",
       "    </tr>\n",
       "    <tr>\n",
       "      <th>46</th>\n",
       "      <td>Turnbull, Jennie</td>\n",
       "      <td>3033.0</td>\n",
       "      <td>57,463</td>\n",
       "      <td>66,992</td>\n",
       "      <td>-9,529</td>\n",
       "      <td>16.6%</td>\n",
       "      <td>True</td>\n",
       "      <td>True</td>\n",
       "      <td>0.525965</td>\n",
       "    </tr>\n",
       "    <tr>\n",
       "      <th>71</th>\n",
       "      <td>Gentry, Phillip M</td>\n",
       "      <td>1092.0</td>\n",
       "      <td>95,382</td>\n",
       "      <td>80,811</td>\n",
       "      <td>14,571</td>\n",
       "      <td>15.3%</td>\n",
       "      <td>True</td>\n",
       "      <td>False</td>\n",
       "      <td>0.357798</td>\n",
       "    </tr>\n",
       "    <tr>\n",
       "      <th>45</th>\n",
       "      <td>LaRocque, Carol A</td>\n",
       "      <td>3191.0</td>\n",
       "      <td>81,055</td>\n",
       "      <td>68,693</td>\n",
       "      <td>12,362</td>\n",
       "      <td>15.3%</td>\n",
       "      <td>True</td>\n",
       "      <td>False</td>\n",
       "      <td>0.300544</td>\n",
       "    </tr>\n",
       "    <tr>\n",
       "      <th>60</th>\n",
       "      <td>Hill, Bettye</td>\n",
       "      <td>3151.0</td>\n",
       "      <td>82,201</td>\n",
       "      <td>70,144</td>\n",
       "      <td>12,057</td>\n",
       "      <td>14.7%</td>\n",
       "      <td>True</td>\n",
       "      <td>True</td>\n",
       "      <td>0.462131</td>\n",
       "    </tr>\n",
       "    <tr>\n",
       "      <th>67</th>\n",
       "      <td>Barton, Sarah F</td>\n",
       "      <td>3303.0</td>\n",
       "      <td>88,090</td>\n",
       "      <td>75,979</td>\n",
       "      <td>12,111</td>\n",
       "      <td>13.7%</td>\n",
       "      <td>True</td>\n",
       "      <td>True</td>\n",
       "      <td>0.598871</td>\n",
       "    </tr>\n",
       "    <tr>\n",
       "      <th>32</th>\n",
       "      <td>McHugh, John N</td>\n",
       "      <td>3285.0</td>\n",
       "      <td>76,387</td>\n",
       "      <td>66,106</td>\n",
       "      <td>10,281</td>\n",
       "      <td>13.5%</td>\n",
       "      <td>True</td>\n",
       "      <td>False</td>\n",
       "      <td>0.247287</td>\n",
       "    </tr>\n",
       "    <tr>\n",
       "      <th>73</th>\n",
       "      <td>Otto, Theresa J</td>\n",
       "      <td>3195.0</td>\n",
       "      <td>79,378</td>\n",
       "      <td>89,752</td>\n",
       "      <td>-10,374</td>\n",
       "      <td>13.1%</td>\n",
       "      <td>True</td>\n",
       "      <td>True</td>\n",
       "      <td>0.456241</td>\n",
       "    </tr>\n",
       "  </tbody>\n",
       "</table>\n",
       "</div>"
      ],
      "text/plain": [
       "                 Employee      ID 25-26 Salary (formatted)  \\\n",
       "62         Hon, Rebecca M  3245.0                   65,259   \n",
       "11  Von Tscharner, Emma M  3161.0                   55,328   \n",
       "61       Johnson, Marie F  3108.0                   90,045   \n",
       "46      Turnbull, Jennie   3033.0                   57,463   \n",
       "71      Gentry, Phillip M  1092.0                   95,382   \n",
       "45      LaRocque, Carol A  3191.0                   81,055   \n",
       "60           Hill, Bettye  3151.0                   82,201   \n",
       "67        Barton, Sarah F  3303.0                   88,090   \n",
       "32         McHugh, John N  3285.0                   76,387   \n",
       "73        Otto, Theresa J  3195.0                   79,378   \n",
       "\n",
       "   Predicted Salary (formatted) Residual (formatted) Residual % (formatted)  \\\n",
       "62                       78,843              -13,584                  20.8%   \n",
       "11                       65,709              -10,381                  18.8%   \n",
       "61                       74,945               15,100                  16.8%   \n",
       "46                       66,992               -9,529                  16.6%   \n",
       "71                       80,811               14,571                  15.3%   \n",
       "45                       68,693               12,362                  15.3%   \n",
       "60                       70,144               12,057                  14.7%   \n",
       "67                       75,979               12,111                  13.7%   \n",
       "32                       66,106               10,281                  13.5%   \n",
       "73                       89,752              -10,374                  13.1%   \n",
       "\n",
       "    Outlier_Flag  Outlier_Pred  Outlier_Prob  \n",
       "62          True          True      0.448171  \n",
       "11          True         False      0.238631  \n",
       "61          True          True      0.566590  \n",
       "46          True          True      0.525965  \n",
       "71          True         False      0.357798  \n",
       "45          True         False      0.300544  \n",
       "60          True          True      0.462131  \n",
       "67          True          True      0.598871  \n",
       "32          True         False      0.247287  \n",
       "73          True          True      0.456241  "
      ]
     },
     "execution_count": 238,
     "metadata": {},
     "output_type": "execute_result"
    }
   ],
   "source": [
    "# --------------------------------------------\n",
    "# Top largest residuals (actual vs predicted)\n",
    "# --------------------------------------------\n",
    "\n",
    "# Ensure residuals are computed\n",
    "df[\"Residual\"] = df[\"25-26 Salary\"] - df[\"Prediction_from_clean_model\"]\n",
    "df[\"Residual %\"] = (df[\"Residual\"] / df[\"25-26 Salary\"]).abs()\n",
    "\n",
    "# Sort by absolute residual percentage\n",
    "top_residuals = df.sort_values(\"Residual %\", ascending=False).copy()\n",
    "\n",
    "# Choose how many you want to display\n",
    "n = 10\n",
    "\n",
    "# Format numeric columns with commas (no decimals)\n",
    "top_residuals[\"25-26 Salary (formatted)\"] = top_residuals[\"25-26 Salary\"].apply(lambda x: f\"{int(round(x)):,}\")\n",
    "top_residuals[\"Predicted Salary (formatted)\"] = top_residuals[\"Prediction_from_clean_model\"].apply(lambda x: f\"{int(round(x)):,}\")\n",
    "top_residuals[\"Residual (formatted)\"] = top_residuals[\"Residual\"].apply(lambda x: f\"{int(round(x)):,}\")\n",
    "top_residuals[\"Residual % (formatted)\"] = top_residuals[\"Residual %\"].apply(lambda x: f\"{x*100:.1f}%\")\n",
    "\n",
    "# Columns to show\n",
    "display_cols = [\n",
    "    \"Employee\",\n",
    "    \"ID\",\n",
    "    \"25-26 Salary (formatted)\",\n",
    "    \"Predicted Salary (formatted)\",\n",
    "    \"Residual (formatted)\",\n",
    "    \"Residual % (formatted)\",\n",
    "    \"Outlier_Flag\",\n",
    "    \"Outlier_Pred\",\n",
    "    \"Outlier_Prob\"\n",
    "]\n",
    "\n",
    "# Show top n\n",
    "top_residuals[display_cols].head(n)"
   ]
  },
  {
   "cell_type": "code",
   "execution_count": 239,
   "metadata": {},
   "outputs": [
    {
     "data": {
      "application/vnd.jupyter.widget-view+json": {
       "model_id": "863fb1530c714b6dbf6a39380e74ae68",
       "version_major": 2,
       "version_minor": 0
      },
      "text/plain": [
       "  0%|          | 0/1 [00:00<?, ?it/s]"
      ]
     },
     "metadata": {},
     "output_type": "display_data"
    },
    {
     "name": "stdout",
     "output_type": "stream",
     "text": [
      "📌 SHAP Breakdown for Index 25\n",
      "👤 Employee: Passin, Laura E (ID: 3248)\n",
      "Predicted Salary: $68,033\n",
      "Actual Salary:    $69,603\n",
      "Baseline (0-Exp) Prediction: $55,924\n",
      "\n",
      "              Feature Value SHAP Impact Direction\n",
      "         Years of Exp     7       7,241  ↑ raises\n",
      "Experience Band_06-10  True       2,789  ↑ raises\n",
      "  Education Level_PhD  True       2,358  ↑ raises\n",
      "   Education Level_MA False        -958  ↓ lowers\n",
      "Experience Band_16-20 False         542  ↑ raises\n",
      "          Prep Rating     0        -413  ↓ lowers\n",
      "Experience Band_11-15 False        -289  ↓ lowers\n",
      "            Seniority     4         288  ↑ raises\n",
      "             Level_MS False         287  ↑ raises\n",
      "             Gender_M False         264  ↑ raises\n",
      "             Level_LS False           0  ↓ lowers\n",
      "             Level_HS  True           0  ↓ lowers\n"
     ]
    }
   ],
   "source": [
    "# Choose row index from original dataset\n",
    "target_index = 25  # Must be a valid index in df\n",
    "\n",
    "# Lookup employee info\n",
    "employee_name = df.loc[target_index, \"Employee\"]\n",
    "employee_id = df.loc[target_index, \"ID\"]\n",
    "employee_salary = df.loc[target_index, \"25-26 Salary\"]\n",
    "\n",
    "# Extract the row for explanation\n",
    "x_target = X.loc[[target_index]]  # As a DataFrame\n",
    "\n",
    "# ---------------------------\n",
    "# Set up custom baseline\n",
    "# ---------------------------\n",
    "# Use average row as base, then zero out experience fields\n",
    "reference_row = X.mean().to_frame().T  # one-row DataFrame\n",
    "if \"Years of Exp\" in reference_row.columns:\n",
    "    reference_row[\"Years of Exp\"] = 0\n",
    "if \"Years Since Hire\" in reference_row.columns:\n",
    "    reference_row[\"Years Since Hire\"] = 0\n",
    "\n",
    "# Use this reference row for the SHAP explainer\n",
    "explainer = shap.KernelExplainer(model_noOuts.predict, reference_row)\n",
    "\n",
    "# Compute SHAP values for this person\n",
    "shap_values = explainer.shap_values(x_target)\n",
    "\n",
    "# ---------------------------\n",
    "# Build the explanation\n",
    "# ---------------------------\n",
    "shap_df = pd.DataFrame({\n",
    "    \"Feature\": x_target.columns,\n",
    "    \"Value\": x_target.iloc[0].values,\n",
    "    \"SHAP Impact\": shap_values[0]\n",
    "}).sort_values(\"SHAP Impact\", key=abs, ascending=False)\n",
    "\n",
    "shap_df[\"Direction\"] = shap_df[\"SHAP Impact\"].apply(lambda x: \"↑ raises\" if x > 0 else \"↓ lowers\")\n",
    "shap_df[\"SHAP Impact\"] = shap_df[\"SHAP Impact\"].map(lambda x: f\"{x:,.0f}\")\n",
    "\n",
    "# ---------------------------\n",
    "# Display it\n",
    "# ---------------------------\n",
    "print(f\"📌 SHAP Breakdown for Index {target_index}\")\n",
    "print(f\"👤 Employee: {employee_name} (ID: {int(employee_id)})\")\n",
    "print(f\"Predicted Salary: ${model_noOuts.predict(x_target)[0]:,.0f}\")\n",
    "print(f\"Actual Salary:    ${employee_salary:,.0f}\")\n",
    "print(f\"Baseline (0-Exp) Prediction: ${explainer.expected_value:,.0f}\\n\")\n",
    "print(shap_df[[\"Feature\", \"Value\", \"SHAP Impact\", \"Direction\"]].head(12).to_string(index=False))"
   ]
  },
  {
   "cell_type": "code",
   "execution_count": 240,
   "metadata": {},
   "outputs": [
    {
     "data": {
      "application/vnd.jupyter.widget-view+json": {
       "model_id": "f6664e3bce534a568713fc3d80572829",
       "version_major": 2,
       "version_minor": 0
      },
      "text/plain": [
       "  0%|          | 0/1 [00:00<?, ?it/s]"
      ]
     },
     "metadata": {},
     "output_type": "display_data"
    },
    {
     "data": {
      "application/vnd.plotly.v1+json": {
       "config": {
        "plotlyServerURL": "https://plot.ly"
       },
       "data": [
        {
         "alignmentgroup": "True",
         "customdata": [
          [
           false,
           "Lowers Prediction"
          ],
          [
           false,
           "Lowers Prediction"
          ],
          [
           0,
           "Lowers Prediction"
          ],
          [
           false,
           "Lowers Prediction"
          ],
          [
           0.3,
           "Lowers Prediction"
          ],
          [
           true,
           "Lowers Prediction"
          ],
          [
           false,
           "Lowers Prediction"
          ],
          [
           false,
           "Lowers Prediction"
          ],
          [
           0,
           "Lowers Prediction"
          ],
          [
           false,
           "Lowers Prediction"
          ],
          [
           7,
           "Lowers Prediction"
          ]
         ],
         "hovertemplate": "SHAP Impact=%{x}<br>Value=%{customdata[0]}<extra></extra>",
         "legendgroup": "Lowers Prediction",
         "marker": {
          "color": "red",
          "pattern": {
           "shape": ""
          }
         },
         "name": "Lowers Prediction",
         "offsetgroup": "Lowers Prediction",
         "orientation": "h",
         "showlegend": true,
         "textposition": "auto",
         "type": "bar",
         "x": [
          0,
          0,
          0,
          0,
          0,
          0,
          0,
          -366.2693946876775,
          -407.0279695214211,
          -918.1914040003504,
          -7824.513780769456
         ],
         "xaxis": "x",
         "y": [
          "Experience Band_30+",
          "Experience Band_21-25",
          "Skill Rating",
          "Experience Band_26-30",
          "Knowledge Rating",
          "Level_HS",
          "Level_LS",
          "Experience Band_11-15",
          "Prep Rating",
          "Education Level_MA",
          "Years of Exp"
         ],
         "yaxis": "y"
        },
        {
         "alignmentgroup": "True",
         "customdata": [
          [
           false,
           "Raises Prediction"
          ],
          [
           false,
           "Raises Prediction"
          ],
          [
           4,
           "Raises Prediction"
          ],
          [
           false,
           "Raises Prediction"
          ],
          [
           true,
           "Raises Prediction"
          ],
          [
           true,
           "Raises Prediction"
          ]
         ],
         "hovertemplate": "SHAP Impact=%{x}<br>Value=%{customdata[0]}<extra></extra>",
         "legendgroup": "Raises Prediction",
         "marker": {
          "color": "green",
          "pattern": {
           "shape": ""
          }
         },
         "name": "Raises Prediction",
         "offsetgroup": "Raises Prediction",
         "orientation": "h",
         "showlegend": true,
         "textposition": "auto",
         "type": "bar",
         "x": [
          291.50407948372083,
          299.97348975655325,
          312.3808499776821,
          392.59275159309794,
          2389.9953664380296,
          2522.1960589811997
         ],
         "xaxis": "x",
         "y": [
          "Level_MS",
          "Gender_M",
          "Seniority",
          "Experience Band_16-20",
          "Education Level_PhD",
          "Experience Band_06-10"
         ],
         "yaxis": "y"
        }
       ],
       "layout": {
        "barmode": "relative",
        "height": 500,
        "legend": {
         "title": {
          "text": "Impact Direction"
         },
         "tracegroupgap": 0
        },
        "template": {
         "data": {
          "bar": [
           {
            "error_x": {
             "color": "#2a3f5f"
            },
            "error_y": {
             "color": "#2a3f5f"
            },
            "marker": {
             "line": {
              "color": "#E5ECF6",
              "width": 0.5
             },
             "pattern": {
              "fillmode": "overlay",
              "size": 10,
              "solidity": 0.2
             }
            },
            "type": "bar"
           }
          ],
          "barpolar": [
           {
            "marker": {
             "line": {
              "color": "#E5ECF6",
              "width": 0.5
             },
             "pattern": {
              "fillmode": "overlay",
              "size": 10,
              "solidity": 0.2
             }
            },
            "type": "barpolar"
           }
          ],
          "carpet": [
           {
            "aaxis": {
             "endlinecolor": "#2a3f5f",
             "gridcolor": "white",
             "linecolor": "white",
             "minorgridcolor": "white",
             "startlinecolor": "#2a3f5f"
            },
            "baxis": {
             "endlinecolor": "#2a3f5f",
             "gridcolor": "white",
             "linecolor": "white",
             "minorgridcolor": "white",
             "startlinecolor": "#2a3f5f"
            },
            "type": "carpet"
           }
          ],
          "choropleth": [
           {
            "colorbar": {
             "outlinewidth": 0,
             "ticks": ""
            },
            "type": "choropleth"
           }
          ],
          "contour": [
           {
            "colorbar": {
             "outlinewidth": 0,
             "ticks": ""
            },
            "colorscale": [
             [
              0,
              "#0d0887"
             ],
             [
              0.1111111111111111,
              "#46039f"
             ],
             [
              0.2222222222222222,
              "#7201a8"
             ],
             [
              0.3333333333333333,
              "#9c179e"
             ],
             [
              0.4444444444444444,
              "#bd3786"
             ],
             [
              0.5555555555555556,
              "#d8576b"
             ],
             [
              0.6666666666666666,
              "#ed7953"
             ],
             [
              0.7777777777777778,
              "#fb9f3a"
             ],
             [
              0.8888888888888888,
              "#fdca26"
             ],
             [
              1,
              "#f0f921"
             ]
            ],
            "type": "contour"
           }
          ],
          "contourcarpet": [
           {
            "colorbar": {
             "outlinewidth": 0,
             "ticks": ""
            },
            "type": "contourcarpet"
           }
          ],
          "heatmap": [
           {
            "colorbar": {
             "outlinewidth": 0,
             "ticks": ""
            },
            "colorscale": [
             [
              0,
              "#0d0887"
             ],
             [
              0.1111111111111111,
              "#46039f"
             ],
             [
              0.2222222222222222,
              "#7201a8"
             ],
             [
              0.3333333333333333,
              "#9c179e"
             ],
             [
              0.4444444444444444,
              "#bd3786"
             ],
             [
              0.5555555555555556,
              "#d8576b"
             ],
             [
              0.6666666666666666,
              "#ed7953"
             ],
             [
              0.7777777777777778,
              "#fb9f3a"
             ],
             [
              0.8888888888888888,
              "#fdca26"
             ],
             [
              1,
              "#f0f921"
             ]
            ],
            "type": "heatmap"
           }
          ],
          "heatmapgl": [
           {
            "colorbar": {
             "outlinewidth": 0,
             "ticks": ""
            },
            "colorscale": [
             [
              0,
              "#0d0887"
             ],
             [
              0.1111111111111111,
              "#46039f"
             ],
             [
              0.2222222222222222,
              "#7201a8"
             ],
             [
              0.3333333333333333,
              "#9c179e"
             ],
             [
              0.4444444444444444,
              "#bd3786"
             ],
             [
              0.5555555555555556,
              "#d8576b"
             ],
             [
              0.6666666666666666,
              "#ed7953"
             ],
             [
              0.7777777777777778,
              "#fb9f3a"
             ],
             [
              0.8888888888888888,
              "#fdca26"
             ],
             [
              1,
              "#f0f921"
             ]
            ],
            "type": "heatmapgl"
           }
          ],
          "histogram": [
           {
            "marker": {
             "pattern": {
              "fillmode": "overlay",
              "size": 10,
              "solidity": 0.2
             }
            },
            "type": "histogram"
           }
          ],
          "histogram2d": [
           {
            "colorbar": {
             "outlinewidth": 0,
             "ticks": ""
            },
            "colorscale": [
             [
              0,
              "#0d0887"
             ],
             [
              0.1111111111111111,
              "#46039f"
             ],
             [
              0.2222222222222222,
              "#7201a8"
             ],
             [
              0.3333333333333333,
              "#9c179e"
             ],
             [
              0.4444444444444444,
              "#bd3786"
             ],
             [
              0.5555555555555556,
              "#d8576b"
             ],
             [
              0.6666666666666666,
              "#ed7953"
             ],
             [
              0.7777777777777778,
              "#fb9f3a"
             ],
             [
              0.8888888888888888,
              "#fdca26"
             ],
             [
              1,
              "#f0f921"
             ]
            ],
            "type": "histogram2d"
           }
          ],
          "histogram2dcontour": [
           {
            "colorbar": {
             "outlinewidth": 0,
             "ticks": ""
            },
            "colorscale": [
             [
              0,
              "#0d0887"
             ],
             [
              0.1111111111111111,
              "#46039f"
             ],
             [
              0.2222222222222222,
              "#7201a8"
             ],
             [
              0.3333333333333333,
              "#9c179e"
             ],
             [
              0.4444444444444444,
              "#bd3786"
             ],
             [
              0.5555555555555556,
              "#d8576b"
             ],
             [
              0.6666666666666666,
              "#ed7953"
             ],
             [
              0.7777777777777778,
              "#fb9f3a"
             ],
             [
              0.8888888888888888,
              "#fdca26"
             ],
             [
              1,
              "#f0f921"
             ]
            ],
            "type": "histogram2dcontour"
           }
          ],
          "mesh3d": [
           {
            "colorbar": {
             "outlinewidth": 0,
             "ticks": ""
            },
            "type": "mesh3d"
           }
          ],
          "parcoords": [
           {
            "line": {
             "colorbar": {
              "outlinewidth": 0,
              "ticks": ""
             }
            },
            "type": "parcoords"
           }
          ],
          "pie": [
           {
            "automargin": true,
            "type": "pie"
           }
          ],
          "scatter": [
           {
            "fillpattern": {
             "fillmode": "overlay",
             "size": 10,
             "solidity": 0.2
            },
            "type": "scatter"
           }
          ],
          "scatter3d": [
           {
            "line": {
             "colorbar": {
              "outlinewidth": 0,
              "ticks": ""
             }
            },
            "marker": {
             "colorbar": {
              "outlinewidth": 0,
              "ticks": ""
             }
            },
            "type": "scatter3d"
           }
          ],
          "scattercarpet": [
           {
            "marker": {
             "colorbar": {
              "outlinewidth": 0,
              "ticks": ""
             }
            },
            "type": "scattercarpet"
           }
          ],
          "scattergeo": [
           {
            "marker": {
             "colorbar": {
              "outlinewidth": 0,
              "ticks": ""
             }
            },
            "type": "scattergeo"
           }
          ],
          "scattergl": [
           {
            "marker": {
             "colorbar": {
              "outlinewidth": 0,
              "ticks": ""
             }
            },
            "type": "scattergl"
           }
          ],
          "scattermapbox": [
           {
            "marker": {
             "colorbar": {
              "outlinewidth": 0,
              "ticks": ""
             }
            },
            "type": "scattermapbox"
           }
          ],
          "scatterpolar": [
           {
            "marker": {
             "colorbar": {
              "outlinewidth": 0,
              "ticks": ""
             }
            },
            "type": "scatterpolar"
           }
          ],
          "scatterpolargl": [
           {
            "marker": {
             "colorbar": {
              "outlinewidth": 0,
              "ticks": ""
             }
            },
            "type": "scatterpolargl"
           }
          ],
          "scatterternary": [
           {
            "marker": {
             "colorbar": {
              "outlinewidth": 0,
              "ticks": ""
             }
            },
            "type": "scatterternary"
           }
          ],
          "surface": [
           {
            "colorbar": {
             "outlinewidth": 0,
             "ticks": ""
            },
            "colorscale": [
             [
              0,
              "#0d0887"
             ],
             [
              0.1111111111111111,
              "#46039f"
             ],
             [
              0.2222222222222222,
              "#7201a8"
             ],
             [
              0.3333333333333333,
              "#9c179e"
             ],
             [
              0.4444444444444444,
              "#bd3786"
             ],
             [
              0.5555555555555556,
              "#d8576b"
             ],
             [
              0.6666666666666666,
              "#ed7953"
             ],
             [
              0.7777777777777778,
              "#fb9f3a"
             ],
             [
              0.8888888888888888,
              "#fdca26"
             ],
             [
              1,
              "#f0f921"
             ]
            ],
            "type": "surface"
           }
          ],
          "table": [
           {
            "cells": {
             "fill": {
              "color": "#EBF0F8"
             },
             "line": {
              "color": "white"
             }
            },
            "header": {
             "fill": {
              "color": "#C8D4E3"
             },
             "line": {
              "color": "white"
             }
            },
            "type": "table"
           }
          ]
         },
         "layout": {
          "annotationdefaults": {
           "arrowcolor": "#2a3f5f",
           "arrowhead": 0,
           "arrowwidth": 1
          },
          "autotypenumbers": "strict",
          "coloraxis": {
           "colorbar": {
            "outlinewidth": 0,
            "ticks": ""
           }
          },
          "colorscale": {
           "diverging": [
            [
             0,
             "#8e0152"
            ],
            [
             0.1,
             "#c51b7d"
            ],
            [
             0.2,
             "#de77ae"
            ],
            [
             0.3,
             "#f1b6da"
            ],
            [
             0.4,
             "#fde0ef"
            ],
            [
             0.5,
             "#f7f7f7"
            ],
            [
             0.6,
             "#e6f5d0"
            ],
            [
             0.7,
             "#b8e186"
            ],
            [
             0.8,
             "#7fbc41"
            ],
            [
             0.9,
             "#4d9221"
            ],
            [
             1,
             "#276419"
            ]
           ],
           "sequential": [
            [
             0,
             "#0d0887"
            ],
            [
             0.1111111111111111,
             "#46039f"
            ],
            [
             0.2222222222222222,
             "#7201a8"
            ],
            [
             0.3333333333333333,
             "#9c179e"
            ],
            [
             0.4444444444444444,
             "#bd3786"
            ],
            [
             0.5555555555555556,
             "#d8576b"
            ],
            [
             0.6666666666666666,
             "#ed7953"
            ],
            [
             0.7777777777777778,
             "#fb9f3a"
            ],
            [
             0.8888888888888888,
             "#fdca26"
            ],
            [
             1,
             "#f0f921"
            ]
           ],
           "sequentialminus": [
            [
             0,
             "#0d0887"
            ],
            [
             0.1111111111111111,
             "#46039f"
            ],
            [
             0.2222222222222222,
             "#7201a8"
            ],
            [
             0.3333333333333333,
             "#9c179e"
            ],
            [
             0.4444444444444444,
             "#bd3786"
            ],
            [
             0.5555555555555556,
             "#d8576b"
            ],
            [
             0.6666666666666666,
             "#ed7953"
            ],
            [
             0.7777777777777778,
             "#fb9f3a"
            ],
            [
             0.8888888888888888,
             "#fdca26"
            ],
            [
             1,
             "#f0f921"
            ]
           ]
          },
          "colorway": [
           "#636efa",
           "#EF553B",
           "#00cc96",
           "#ab63fa",
           "#FFA15A",
           "#19d3f3",
           "#FF6692",
           "#B6E880",
           "#FF97FF",
           "#FECB52"
          ],
          "font": {
           "color": "#2a3f5f"
          },
          "geo": {
           "bgcolor": "white",
           "lakecolor": "white",
           "landcolor": "#E5ECF6",
           "showlakes": true,
           "showland": true,
           "subunitcolor": "white"
          },
          "hoverlabel": {
           "align": "left"
          },
          "hovermode": "closest",
          "mapbox": {
           "style": "light"
          },
          "paper_bgcolor": "white",
          "plot_bgcolor": "#E5ECF6",
          "polar": {
           "angularaxis": {
            "gridcolor": "white",
            "linecolor": "white",
            "ticks": ""
           },
           "bgcolor": "#E5ECF6",
           "radialaxis": {
            "gridcolor": "white",
            "linecolor": "white",
            "ticks": ""
           }
          },
          "scene": {
           "xaxis": {
            "backgroundcolor": "#E5ECF6",
            "gridcolor": "white",
            "gridwidth": 2,
            "linecolor": "white",
            "showbackground": true,
            "ticks": "",
            "zerolinecolor": "white"
           },
           "yaxis": {
            "backgroundcolor": "#E5ECF6",
            "gridcolor": "white",
            "gridwidth": 2,
            "linecolor": "white",
            "showbackground": true,
            "ticks": "",
            "zerolinecolor": "white"
           },
           "zaxis": {
            "backgroundcolor": "#E5ECF6",
            "gridcolor": "white",
            "gridwidth": 2,
            "linecolor": "white",
            "showbackground": true,
            "ticks": "",
            "zerolinecolor": "white"
           }
          },
          "shapedefaults": {
           "line": {
            "color": "#2a3f5f"
           }
          },
          "ternary": {
           "aaxis": {
            "gridcolor": "white",
            "linecolor": "white",
            "ticks": ""
           },
           "baxis": {
            "gridcolor": "white",
            "linecolor": "white",
            "ticks": ""
           },
           "bgcolor": "#E5ECF6",
           "caxis": {
            "gridcolor": "white",
            "linecolor": "white",
            "ticks": ""
           }
          },
          "title": {
           "x": 0.05
          },
          "xaxis": {
           "automargin": true,
           "gridcolor": "white",
           "linecolor": "white",
           "ticks": "",
           "title": {
            "standoff": 15
           },
           "zerolinecolor": "white",
           "zerolinewidth": 2
          },
          "yaxis": {
           "automargin": true,
           "gridcolor": "white",
           "linecolor": "white",
           "ticks": "",
           "title": {
            "standoff": 15
           },
           "zerolinecolor": "white",
           "zerolinewidth": 2
          }
         }
        },
        "title": {
         "text": "🔍 SHAP Explanation for Index 25<br>Predicted: $68,033 | Baseline: $71,340"
        },
        "xaxis": {
         "anchor": "y",
         "domain": [
          0,
          1
         ],
         "title": {
          "text": "SHAP Impact on Prediction"
         }
        },
        "yaxis": {
         "anchor": "x",
         "domain": [
          0,
          1
         ],
         "title": {
          "text": "Feature"
         }
        }
       }
      }
     },
     "metadata": {},
     "output_type": "display_data"
    }
   ],
   "source": [
    "# Set the original index from df (can be anything in df)\n",
    "original_index = target_index  # 👈 change this to whichever row you want to explain\n",
    "\n",
    "# Make sure that row exists\n",
    "if original_index not in df_encoded.index:\n",
    "    raise ValueError(f\"Index {original_index} not found in original data!\")\n",
    "\n",
    "# Match exact features used for training\n",
    "x_target = df_encoded.loc[[original_index], X_clean.columns]\n",
    "\n",
    "# SHAP: Use KernelExplainer (you already fit model_noOuts earlier)\n",
    "explainer = shap.KernelExplainer(model_noOuts.predict, X_clean)\n",
    "shap_values = explainer.shap_values(x_target)\n",
    "\n",
    "# Create SHAP DataFrame for display\n",
    "shap_df = pd.DataFrame({\n",
    "    \"Feature\": x_target.columns,\n",
    "    \"Value\": x_target.iloc[0].values,\n",
    "    \"SHAP Impact\": shap_values[0]\n",
    "})\n",
    "shap_df[\"Abs Impact\"] = shap_df[\"SHAP Impact\"].abs()\n",
    "shap_df[\"Impact Direction\"] = shap_df[\"SHAP Impact\"].apply(lambda x: \"Raises Prediction\" if x > 0 else \"Lowers Prediction\")\n",
    "shap_df = shap_df.sort_values(\"Abs Impact\", ascending=True)\n",
    "\n",
    "baseline = float(explainer.expected_value)  # ensure it's a plain number\n",
    "title = (\n",
    "    f\"🔍 SHAP Explanation for Index {original_index}<br>\"\n",
    "    f\"Predicted: ${model_noOuts.predict(x_target)[0]:,.0f} | \"\n",
    "    f\"Baseline: ${baseline:,.0f}\"\n",
    ")\n",
    "\n",
    "# Interactive plot\n",
    "fig = px.bar(\n",
    "    shap_df,\n",
    "    x=\"SHAP Impact\",\n",
    "    y=\"Feature\",\n",
    "    orientation=\"h\",\n",
    "    color=\"Impact Direction\",\n",
    "    hover_data={\n",
    "        \"Value\": True,\n",
    "        \"SHAP Impact\": True,\n",
    "        \"Feature\": False,\n",
    "        \"Impact Direction\": False\n",
    "    },\n",
    "    title=title,\n",
    "    color_discrete_map={\n",
    "        \"Raises Prediction\": \"green\",\n",
    "        \"Lowers Prediction\": \"red\"\n",
    "    }\n",
    ")\n",
    "\n",
    "fig.update_layout(\n",
    "    xaxis_title=\"SHAP Impact on Prediction\",\n",
    "    yaxis_title=\"Feature\",\n",
    "    height=500\n",
    ")\n",
    "\n",
    "fig.show()"
   ]
  },
  {
   "cell_type": "code",
   "execution_count": 241,
   "metadata": {},
   "outputs": [
    {
     "name": "stdout",
     "output_type": "stream",
     "text": [
      "✅ Exported: 'salary_model_output_for_HR_sorted.csv' with specified column headers and Band calculation.\n"
     ]
    }
   ],
   "source": [
    "# Prepare HR export DataFrame\n",
    "hr_export = df.copy()\n",
    "\n",
    "# Calculate Band column based on Years of Exp thresholds\n",
    "band_bins = [0, 6, 11, 16, 21, 26, 31, 36, 41, 46, 51, float('inf')]\n",
    "band_labels = [\"00-05\", \"06-10\", \"11-15\", \"16-20\", \"21-25\", \"26-30\", \"31-35\", \"36-40\", \"41-45\", \"46-50\", \"51+\"]\n",
    "hr_export[\"Band\"] = pd.cut(hr_export[\"Years of Exp\"], bins=band_bins, labels=band_labels, right=False)\n",
    "\n",
    "# Format numeric columns\n",
    "hr_export[\"Predicted Salary\"] = df[\"Prediction_from_clean_model\"].round(0)\n",
    "hr_export[\"Residual\"] = (df[\"25-26 Salary\"] - df[\"Prediction_from_clean_model\"]).round(0)\n",
    "hr_export[\"Residual %\"] = ((hr_export[\"Residual\"] / df[\"25-26 Salary\"]) * 100).round(1)\n",
    "\n",
    "# Flag columns\n",
    "hr_export[\"Recommended for Review\"] = df[\"Outlier_Pred\"]\n",
    "hr_export[\"Actual Outlier\"] = df[\"Outlier_Flag\"]\n",
    "hr_export[\"Model Confidence (Outlier %)\"] = (df[\"Outlier_Prob\"] * 100).round(1)\n",
    "\n",
    "# Optional: reformat currency-style columns for HR readability\n",
    "for col in [\"25-26 Salary\", \"Predicted Salary\", \"Residual\"]:\n",
    "    hr_export[col] = hr_export[col].apply(lambda x: f\"${int(x):,}\" if pd.notnull(x) else \"\")\n",
    "\n",
    "# Specify the exact column order for export\n",
    "export_columns = [\n",
    "    \"Employee\",\n",
    "    \"ID\",\n",
    "    \"25-26 Salary\",\n",
    "    \"Predicted Salary\",\n",
    "    \"Residual\",\n",
    "    \"Residual %\",\n",
    "    \"Band\",\n",
    "    \"Years of Exp\",\n",
    "    \"Seniority\",\n",
    "    \"Education Level\",\n",
    "    \"Hire Date\",\n",
    "    \"Gender\",\n",
    "    \"Level\",\n",
    "    \"Skill Rating\",\n",
    "    \"Knowledge Rating\",\n",
    "    \"Prep Rating\",\n",
    "    \"Prediction\",\n",
    "    \"Outlier_Flag\",\n",
    "    \"Outlier_Prob\",\n",
    "    \"Outlier_Pred\",\n",
    "    \"Prediction_from_clean_model\",\n",
    "    \"Residual % (abs)\",\n",
    "    \"Outlier_Pred_Label\",\n",
    "    \"Outlier_True_Label\",\n",
    "    \"Label\",\n",
    "    \"Recommended for Review\",\n",
    "    \"Actual Outlier\"\n",
    " ]\n",
    "\n",
    "# Filter and reorder columns for export (ignore missing columns gracefully)\n",
    "final_export = hr_export.reindex(columns=export_columns)\n",
    "\n",
    "# Sort by % error: lowest residuals (underpaid) at top\n",
    "final_export_sorted = final_export.sort_values(\"Residual %\")\n",
    "\n",
    "# Export\n",
    "final_export_sorted.to_csv(\"salary_model_output_for_HR_sorted.csv\", index=False)\n",
    "\n",
    "print(\"✅ Exported: 'salary_model_output_for_HR_sorted.csv' with specified column headers and Band calculation.\")"
   ]
  },
  {
   "cell_type": "code",
   "execution_count": 242,
   "metadata": {},
   "outputs": [
    {
     "data": {
      "image/png": "[encoded data removed]",
      "text/plain": [
       "<Figure size 1000x600 with 1 Axes>"
      ]
     },
     "metadata": {},
     "output_type": "display_data"
    }
   ],
   "source": [
    "# Create a working copy\n",
    "df_viz = df.copy()\n",
    "\n",
    "# Calculate numeric residual % (if not already done)\n",
    "df_viz[\"Residual %\"] = (\n",
    "    (df_viz[\"25-26 Salary\"] - df_viz[\"Prediction_from_clean_model\"]) / df_viz[\"25-26 Salary\"]\n",
    ") * 100\n",
    "\n",
    "# Get top 5 underpaid and overpaid employees by percent\n",
    "top_5 = df_viz.nsmallest(5, \"Residual %\")  # most underpaid\n",
    "bottom_5 = df_viz.nlargest(5, \"Residual %\")  # most overpaid\n",
    "viz_df = pd.concat([top_5, bottom_5]).copy()\n",
    "\n",
    "# Sort so the plot flows from most underpaid to most overpaid\n",
    "viz_df = viz_df.sort_values(\"Residual %\", ascending=True)\n",
    "\n",
    "# Add labels\n",
    "viz_df[\"Residual Direction\"] = viz_df[\"Residual %\"].apply(lambda x: \"Overpaid\" if x > 0 else \"Underpaid\")\n",
    "viz_df[\"Employee Label\"] = viz_df[\"Employee\"] + \" (\" + viz_df[\"ID\"].astype(int).astype(str) + \")\"\n",
    "\n",
    "# Plot\n",
    "plt.figure(figsize=(10, 6))\n",
    "sns.barplot(\n",
    "    data=viz_df,\n",
    "    x=\"Residual %\",\n",
    "    y=\"Employee Label\",\n",
    "    hue=\"Residual Direction\",\n",
    "    palette={\"Overpaid\": \"red\", \"Underpaid\": \"green\"}\n",
    ")\n",
    "\n",
    "plt.axvline(0, color=\"gray\", linestyle=\"--\")\n",
    "plt.title(\"Top 5 Most Underpaid and Overpaid Employees (by % Difference)\")\n",
    "plt.xlabel(\"Residual (%) — Difference from Predicted Salary\")\n",
    "plt.ylabel(\"Employee\")\n",
    "plt.tight_layout()\n",
    "plt.legend(title=\"Direction\")\n",
    "plt.show()"
   ]
  },
  {
   "cell_type": "code",
   "execution_count": 243,
   "metadata": {},
   "outputs": [
    {
     "data": {
      "text/html": [
       "<style type=\"text/css\">\n",
       "</style>\n",
       "<table id=\"T_9f99a\">\n",
       "  <caption>📋 Feature Comparison: HS vs LS</caption>\n",
       "  <thead>\n",
       "    <tr>\n",
       "      <th class=\"blank level0\" >&nbsp;</th>\n",
       "      <th id=\"T_9f99a_level0_col0\" class=\"col_heading level0 col0\" >HS Mean</th>\n",
       "      <th id=\"T_9f99a_level0_col1\" class=\"col_heading level0 col1\" >HS Std</th>\n",
       "      <th id=\"T_9f99a_level0_col2\" class=\"col_heading level0 col2\" >LS Mean</th>\n",
       "      <th id=\"T_9f99a_level0_col3\" class=\"col_heading level0 col3\" >LS Std</th>\n",
       "      <th id=\"T_9f99a_level0_col4\" class=\"col_heading level0 col4\" >Difference (B - A)</th>\n",
       "    </tr>\n",
       "  </thead>\n",
       "  <tbody>\n",
       "    <tr>\n",
       "      <th id=\"T_9f99a_level0_row0\" class=\"row_heading level0 row0\" >25-26 Salary</th>\n",
       "      <td id=\"T_9f99a_row0_col0\" class=\"data row0 col0\" >72553.214</td>\n",
       "      <td id=\"T_9f99a_row0_col1\" class=\"data row0 col1\" >10354.393</td>\n",
       "      <td id=\"T_9f99a_row0_col2\" class=\"data row0 col2\" >71322.952</td>\n",
       "      <td id=\"T_9f99a_row0_col3\" class=\"data row0 col3\" >9434.516</td>\n",
       "      <td id=\"T_9f99a_row0_col4\" class=\"data row0 col4\" >-1230.262</td>\n",
       "    </tr>\n",
       "    <tr>\n",
       "      <th id=\"T_9f99a_level0_row1\" class=\"row_heading level0 row1\" >Years of Exp</th>\n",
       "      <td id=\"T_9f99a_row1_col0\" class=\"data row1 col0\" >14.464</td>\n",
       "      <td id=\"T_9f99a_row1_col1\" class=\"data row1 col1\" >8.280</td>\n",
       "      <td id=\"T_9f99a_row1_col2\" class=\"data row1 col2\" >15.333</td>\n",
       "      <td id=\"T_9f99a_row1_col3\" class=\"data row1 col3\" >9.687</td>\n",
       "      <td id=\"T_9f99a_row1_col4\" class=\"data row1 col4\" >0.869</td>\n",
       "    </tr>\n",
       "    <tr>\n",
       "      <th id=\"T_9f99a_level0_row2\" class=\"row_heading level0 row2\" >Seniority</th>\n",
       "      <td id=\"T_9f99a_row2_col0\" class=\"data row2 col0\" >9.036</td>\n",
       "      <td id=\"T_9f99a_row2_col1\" class=\"data row2 col1\" >9.228</td>\n",
       "      <td id=\"T_9f99a_row2_col2\" class=\"data row2 col2\" >7.429</td>\n",
       "      <td id=\"T_9f99a_row2_col3\" class=\"data row2 col3\" >8.459</td>\n",
       "      <td id=\"T_9f99a_row2_col4\" class=\"data row2 col4\" >-1.607</td>\n",
       "    </tr>\n",
       "    <tr>\n",
       "      <th id=\"T_9f99a_level0_row3\" class=\"row_heading level0 row3\" >Skill Rating</th>\n",
       "      <td id=\"T_9f99a_row3_col0\" class=\"data row3 col0\" >0.000</td>\n",
       "      <td id=\"T_9f99a_row3_col1\" class=\"data row3 col1\" >0.000</td>\n",
       "      <td id=\"T_9f99a_row3_col2\" class=\"data row3 col2\" >0.000</td>\n",
       "      <td id=\"T_9f99a_row3_col3\" class=\"data row3 col3\" >0.000</td>\n",
       "      <td id=\"T_9f99a_row3_col4\" class=\"data row3 col4\" >0.000</td>\n",
       "    </tr>\n",
       "    <tr>\n",
       "      <th id=\"T_9f99a_level0_row4\" class=\"row_heading level0 row4\" >Prep Rating</th>\n",
       "      <td id=\"T_9f99a_row4_col0\" class=\"data row4 col0\" >0.393</td>\n",
       "      <td id=\"T_9f99a_row4_col1\" class=\"data row4 col1\" >0.497</td>\n",
       "      <td id=\"T_9f99a_row4_col2\" class=\"data row4 col2\" >0.000</td>\n",
       "      <td id=\"T_9f99a_row4_col3\" class=\"data row4 col3\" >0.000</td>\n",
       "      <td id=\"T_9f99a_row4_col4\" class=\"data row4 col4\" >-0.393</td>\n",
       "    </tr>\n",
       "    <tr>\n",
       "      <th id=\"T_9f99a_level0_row5\" class=\"row_heading level0 row5\" >Knowledge Rating</th>\n",
       "      <td id=\"T_9f99a_row5_col0\" class=\"data row5 col0\" >0.607</td>\n",
       "      <td id=\"T_9f99a_row5_col1\" class=\"data row5 col1\" >0.304</td>\n",
       "      <td id=\"T_9f99a_row5_col2\" class=\"data row5 col2\" >0.338</td>\n",
       "      <td id=\"T_9f99a_row5_col3\" class=\"data row5 col3\" >0.102</td>\n",
       "      <td id=\"T_9f99a_row5_col4\" class=\"data row5 col4\" >-0.269</td>\n",
       "    </tr>\n",
       "    <tr>\n",
       "      <th id=\"T_9f99a_level0_row6\" class=\"row_heading level0 row6\" >Gender_M</th>\n",
       "      <td id=\"T_9f99a_row6_col0\" class=\"data row6 col0\" >0.179</td>\n",
       "      <td id=\"T_9f99a_row6_col1\" class=\"data row6 col1\" >0.390</td>\n",
       "      <td id=\"T_9f99a_row6_col2\" class=\"data row6 col2\" >0.048</td>\n",
       "      <td id=\"T_9f99a_row6_col3\" class=\"data row6 col3\" >0.218</td>\n",
       "      <td id=\"T_9f99a_row6_col4\" class=\"data row6 col4\" >-0.131</td>\n",
       "    </tr>\n",
       "    <tr>\n",
       "      <th id=\"T_9f99a_level0_row7\" class=\"row_heading level0 row7\" >Education Level_MA</th>\n",
       "      <td id=\"T_9f99a_row7_col0\" class=\"data row7 col0\" >0.714</td>\n",
       "      <td id=\"T_9f99a_row7_col1\" class=\"data row7 col1\" >0.460</td>\n",
       "      <td id=\"T_9f99a_row7_col2\" class=\"data row7 col2\" >0.571</td>\n",
       "      <td id=\"T_9f99a_row7_col3\" class=\"data row7 col3\" >0.507</td>\n",
       "      <td id=\"T_9f99a_row7_col4\" class=\"data row7 col4\" >-0.143</td>\n",
       "    </tr>\n",
       "    <tr>\n",
       "      <th id=\"T_9f99a_level0_row8\" class=\"row_heading level0 row8\" >Education Level_PhD</th>\n",
       "      <td id=\"T_9f99a_row8_col0\" class=\"data row8 col0\" >0.143</td>\n",
       "      <td id=\"T_9f99a_row8_col1\" class=\"data row8 col1\" >0.356</td>\n",
       "      <td id=\"T_9f99a_row8_col2\" class=\"data row8 col2\" >0.000</td>\n",
       "      <td id=\"T_9f99a_row8_col3\" class=\"data row8 col3\" >0.000</td>\n",
       "      <td id=\"T_9f99a_row8_col4\" class=\"data row8 col4\" >-0.143</td>\n",
       "    </tr>\n",
       "  </tbody>\n",
       "</table>\n"
      ],
      "text/plain": [
       "<pandas.io.formats.style.Styler at 0x32e9da8d0>"
      ]
     },
     "metadata": {},
     "output_type": "display_data"
    },
    {
     "name": "stdout",
     "output_type": "stream",
     "text": [
      "\n",
      "💰 Predicted Average Salaries (based on model inputs):\n",
      "🔹 Average HS Employee: $71,801\n",
      "🔹 Average LS Employee: $71,659\n",
      "➡️ Difference (LS - HS): $-142\n",
      "\n",
      "📊 *Actual* Average Salaries (from raw data):\n",
      "🔹 Average HS Employee: $72,553\n",
      "🔹 Average LS Employee: $71,323\n",
      "➡️ Difference (LS - HS): $-1,230\n"
     ]
    }
   ],
   "source": [
    "# -----------------------------\n",
    "# Setup: Choose levels to compare\n",
    "# -----------------------------\n",
    "level_A = \"HS\"  # Options: \"LS\", \"MS\", or \"HS\"\n",
    "level_B = \"LS\"\n",
    "\n",
    "# -----------------------------\n",
    "# Step 1: Build masks for A and B\n",
    "# -----------------------------\n",
    "def build_level_mask(level):\n",
    "    if level == \"HS\":\n",
    "        return df_encoded[[\"Level_LS\", \"Level_MS\"]].apply(lambda row: not row.any(), axis=1)\n",
    "    else:\n",
    "        return df_encoded[f\"Level_{level}\"] == 1\n",
    "\n",
    "mask_A = build_level_mask(level_A)\n",
    "mask_B = build_level_mask(level_B)\n",
    "\n",
    "# -----------------------------\n",
    "# Step 2: Feature grouping\n",
    "# -----------------------------\n",
    "features_to_compare = [\n",
    "    \"25-26 Salary\", \"Years of Exp\", \"Seniority\",\n",
    "    \"Skill Rating\", \"Prep Rating\", \"Knowledge Rating\"\n",
    "]\n",
    "\n",
    "# Include one-hot feature columns\n",
    "one_hot_cols = [col for col in df_encoded.columns if any(prefix in col for prefix in [\"Education Level_\", \"Gender_\", \"Ethnicity_\"])]\n",
    "all_comparison_cols = features_to_compare + one_hot_cols\n",
    "\n",
    "# -----------------------------\n",
    "# Step 3: Summary comparison\n",
    "# -----------------------------\n",
    "A_stats = df_encoded.loc[mask_A, all_comparison_cols].agg([\"mean\", \"std\"]).T\n",
    "B_stats = df_encoded.loc[mask_B, all_comparison_cols].agg([\"mean\", \"std\"]).T\n",
    "\n",
    "comparison_df = pd.concat([A_stats, B_stats], axis=1)\n",
    "comparison_df.columns = [f\"{level_A} Mean\", f\"{level_A} Std\", f\"{level_B} Mean\", f\"{level_B} Std\"]\n",
    "comparison_df[\"Difference (B - A)\"] = comparison_df[f\"{level_B} Mean\"] - comparison_df[f\"{level_A} Mean\"]\n",
    "comparison_df = comparison_df.round(3)\n",
    "\n",
    "# Display nicely\n",
    "import IPython.display as disp\n",
    "disp.display(comparison_df.style.format(\"{:.3f}\").set_caption(f\"📋 Feature Comparison: {level_A} vs {level_B}\"))\n",
    "\n",
    "# -----------------------------\n",
    "# Step 4: Predict model salary using average rows\n",
    "# -----------------------------\n",
    "X_feature_cols = model_noOuts.feature_names_in_\n",
    "\n",
    "avg_input_A = df_encoded.loc[mask_A, X_feature_cols].mean().to_frame().T\n",
    "avg_input_B = df_encoded.loc[mask_B, X_feature_cols].mean().to_frame().T\n",
    "\n",
    "salary_A = model_noOuts.predict(avg_input_A)[0]\n",
    "salary_B = model_noOuts.predict(avg_input_B)[0]\n",
    "\n",
    "# -----------------------------\n",
    "# Step 5: Print both real and predicted salaries\n",
    "# -----------------------------\n",
    "real_avg_A = df_encoded.loc[mask_A, \"25-26 Salary\"].mean()\n",
    "real_avg_B = df_encoded.loc[mask_B, \"25-26 Salary\"].mean()\n",
    "\n",
    "print(f\"\\n💰 Predicted Average Salaries (based on model inputs):\")\n",
    "print(f\"🔹 Average {level_A} Employee: ${salary_A:,.0f}\")\n",
    "print(f\"🔹 Average {level_B} Employee: ${salary_B:,.0f}\")\n",
    "print(f\"➡️ Difference ({level_B} - {level_A}): ${salary_B - salary_A:,.0f}\")\n",
    "\n",
    "print(f\"\\n📊 *Actual* Average Salaries (from raw data):\")\n",
    "print(f\"🔹 Average {level_A} Employee: ${real_avg_A:,.0f}\")\n",
    "print(f\"🔹 Average {level_B} Employee: ${real_avg_B:,.0f}\")\n",
    "print(f\"➡️ Difference ({level_B} - {level_A}): ${real_avg_B - real_avg_A:,.0f}\")"
   ]
  },
  {
   "cell_type": "code",
   "execution_count": 244,
   "metadata": {},
   "outputs": [
    {
     "name": "stdout",
     "output_type": "stream",
     "text": [
      "📊 Gender Distribution Across Experience Bands (mean values):\n"
     ]
    },
    {
     "data": {
      "text/html": [
       "<style type=\"text/css\">\n",
       "</style>\n",
       "<table id=\"T_968c2\">\n",
       "  <caption>Gender Distribution by Experience Band with Model Coefficients and Predicted Salary</caption>\n",
       "  <thead>\n",
       "    <tr>\n",
       "      <th class=\"blank level0\" >&nbsp;</th>\n",
       "      <th id=\"T_968c2_level0_col0\" class=\"col_heading level0 col0\" >Female</th>\n",
       "      <th id=\"T_968c2_level0_col1\" class=\"col_heading level0 col1\" >Male</th>\n",
       "      <th id=\"T_968c2_level0_col2\" class=\"col_heading level0 col2\" >Difference (M - F) * 100</th>\n",
       "      <th id=\"T_968c2_level0_col3\" class=\"col_heading level0 col3\" >Model Coefficient</th>\n",
       "      <th id=\"T_968c2_level0_col4\" class=\"col_heading level0 col4\" >Predicted Salary</th>\n",
       "    </tr>\n",
       "  </thead>\n",
       "  <tbody>\n",
       "    <tr>\n",
       "      <th id=\"T_968c2_level0_row0\" class=\"row_heading level0 row0\" >Experience Band_00-05</th>\n",
       "      <td id=\"T_968c2_row0_col0\" class=\"data row0 col0\" >0.16</td>\n",
       "      <td id=\"T_968c2_row0_col1\" class=\"data row0 col1\" >0.00</td>\n",
       "      <td id=\"T_968c2_row0_col2\" class=\"data row0 col2\" >-15.52</td>\n",
       "      <td id=\"T_968c2_row0_col3\" class=\"data row0 col3\" >0.00</td>\n",
       "      <td id=\"T_968c2_row0_col4\" class=\"data row0 col4\" >$70,319</td>\n",
       "    </tr>\n",
       "    <tr>\n",
       "      <th id=\"T_968c2_level0_row1\" class=\"row_heading level0 row1\" >Experience Band_06-10</th>\n",
       "      <td id=\"T_968c2_row1_col0\" class=\"data row1 col0\" >0.29</td>\n",
       "      <td id=\"T_968c2_row1_col1\" class=\"data row1 col1\" >0.28</td>\n",
       "      <td id=\"T_968c2_row1_col2\" class=\"data row1 col2\" >-1.53</td>\n",
       "      <td id=\"T_968c2_row1_col3\" class=\"data row1 col3\" >3945.95</td>\n",
       "      <td id=\"T_968c2_row1_col4\" class=\"data row1 col4\" >$74,264</td>\n",
       "    </tr>\n",
       "    <tr>\n",
       "      <th id=\"T_968c2_level0_row2\" class=\"row_heading level0 row2\" >Experience Band_11-15</th>\n",
       "      <td id=\"T_968c2_row2_col0\" class=\"data row2 col0\" >0.17</td>\n",
       "      <td id=\"T_968c2_row2_col1\" class=\"data row2 col1\" >0.17</td>\n",
       "      <td id=\"T_968c2_row2_col2\" class=\"data row2 col2\" >-0.57</td>\n",
       "      <td id=\"T_968c2_row2_col3\" class=\"data row2 col3\" >1675.73</td>\n",
       "      <td id=\"T_968c2_row2_col4\" class=\"data row2 col4\" >$71,994</td>\n",
       "    </tr>\n",
       "    <tr>\n",
       "      <th id=\"T_968c2_level0_row3\" class=\"row_heading level0 row3\" >Experience Band_16-20</th>\n",
       "      <td id=\"T_968c2_row3_col0\" class=\"data row3 col0\" >0.22</td>\n",
       "      <td id=\"T_968c2_row3_col1\" class=\"data row3 col1\" >0.17</td>\n",
       "      <td id=\"T_968c2_row3_col2\" class=\"data row3 col2\" >-5.75</td>\n",
       "      <td id=\"T_968c2_row3_col3\" class=\"data row3 col3\" >-2597.80</td>\n",
       "      <td id=\"T_968c2_row3_col4\" class=\"data row3 col4\" >$67,721</td>\n",
       "    </tr>\n",
       "    <tr>\n",
       "      <th id=\"T_968c2_level0_row4\" class=\"row_heading level0 row4\" >Experience Band_21-25</th>\n",
       "      <td id=\"T_968c2_row4_col0\" class=\"data row4 col0\" >0.10</td>\n",
       "      <td id=\"T_968c2_row4_col1\" class=\"data row4 col1\" >0.06</td>\n",
       "      <td id=\"T_968c2_row4_col2\" class=\"data row4 col2\" >-4.79</td>\n",
       "      <td id=\"T_968c2_row4_col3\" class=\"data row4 col3\" >-670.92</td>\n",
       "      <td id=\"T_968c2_row4_col4\" class=\"data row4 col4\" >$69,648</td>\n",
       "    </tr>\n",
       "    <tr>\n",
       "      <th id=\"T_968c2_level0_row5\" class=\"row_heading level0 row5\" >Experience Band_26-30</th>\n",
       "      <td id=\"T_968c2_row5_col0\" class=\"data row5 col0\" >0.00</td>\n",
       "      <td id=\"T_968c2_row5_col1\" class=\"data row5 col1\" >0.17</td>\n",
       "      <td id=\"T_968c2_row5_col2\" class=\"data row5 col2\" >16.67</td>\n",
       "      <td id=\"T_968c2_row5_col3\" class=\"data row5 col3\" >673.48</td>\n",
       "      <td id=\"T_968c2_row5_col4\" class=\"data row5 col4\" >$70,992</td>\n",
       "    </tr>\n",
       "    <tr>\n",
       "      <th id=\"T_968c2_level0_row6\" class=\"row_heading level0 row6\" >Experience Band_30+</th>\n",
       "      <td id=\"T_968c2_row6_col0\" class=\"data row6 col0\" >0.05</td>\n",
       "      <td id=\"T_968c2_row6_col1\" class=\"data row6 col1\" >0.17</td>\n",
       "      <td id=\"T_968c2_row6_col2\" class=\"data row6 col2\" >11.49</td>\n",
       "      <td id=\"T_968c2_row6_col3\" class=\"data row6 col3\" >-606.01</td>\n",
       "      <td id=\"T_968c2_row6_col4\" class=\"data row6 col4\" >$69,712</td>\n",
       "    </tr>\n",
       "  </tbody>\n",
       "</table>\n"
      ],
      "text/plain": [
       "<pandas.io.formats.style.Styler at 0x32e9da8d0>"
      ]
     },
     "metadata": {},
     "output_type": "display_data"
    },
    {
     "name": "stdout",
     "output_type": "stream",
     "text": [
      "\n",
      "📊 Gender Differences in Salary & Key Features:\n"
     ]
    },
    {
     "data": {
      "text/html": [
       "<style type=\"text/css\">\n",
       "</style>\n",
       "<table id=\"T_146c4\">\n",
       "  <caption>Mean Feature Differences (Male - Female)</caption>\n",
       "  <thead>\n",
       "    <tr>\n",
       "      <th class=\"blank level0\" >&nbsp;</th>\n",
       "      <th id=\"T_146c4_level0_col0\" class=\"col_heading level0 col0\" >Female</th>\n",
       "      <th id=\"T_146c4_level0_col1\" class=\"col_heading level0 col1\" >Male</th>\n",
       "      <th id=\"T_146c4_level0_col2\" class=\"col_heading level0 col2\" >Difference (M - F)</th>\n",
       "    </tr>\n",
       "  </thead>\n",
       "  <tbody>\n",
       "    <tr>\n",
       "      <th id=\"T_146c4_level0_row0\" class=\"row_heading level0 row0\" >25-26 Salary</th>\n",
       "      <td id=\"T_146c4_row0_col0\" class=\"data row0 col0\" >69,944.2</td>\n",
       "      <td id=\"T_146c4_row0_col1\" class=\"data row0 col1\" >75,651.1</td>\n",
       "      <td id=\"T_146c4_row0_col2\" class=\"data row0 col2\" >5,706.9</td>\n",
       "    </tr>\n",
       "    <tr>\n",
       "      <th id=\"T_146c4_level0_row1\" class=\"row_heading level0 row1\" >Years of Exp</th>\n",
       "      <td id=\"T_146c4_row1_col0\" class=\"data row1 col0\" >13.1</td>\n",
       "      <td id=\"T_146c4_row1_col1\" class=\"data row1 col1\" >19.9</td>\n",
       "      <td id=\"T_146c4_row1_col2\" class=\"data row1 col2\" >6.9</td>\n",
       "    </tr>\n",
       "    <tr>\n",
       "      <th id=\"T_146c4_level0_row2\" class=\"row_heading level0 row2\" >Seniority</th>\n",
       "      <td id=\"T_146c4_row2_col0\" class=\"data row2 col0\" >6.3</td>\n",
       "      <td id=\"T_146c4_row2_col1\" class=\"data row2 col1\" >11.8</td>\n",
       "      <td id=\"T_146c4_row2_col2\" class=\"data row2 col2\" >5.5</td>\n",
       "    </tr>\n",
       "    <tr>\n",
       "      <th id=\"T_146c4_level0_row3\" class=\"row_heading level0 row3\" >Knowledge Rating</th>\n",
       "      <td id=\"T_146c4_row3_col0\" class=\"data row3 col0\" >0.5</td>\n",
       "      <td id=\"T_146c4_row3_col1\" class=\"data row3 col1\" >0.4</td>\n",
       "      <td id=\"T_146c4_row3_col2\" class=\"data row3 col2\" >-0.1</td>\n",
       "    </tr>\n",
       "    <tr>\n",
       "      <th id=\"T_146c4_level0_row4\" class=\"row_heading level0 row4\" >Prep Rating</th>\n",
       "      <td id=\"T_146c4_row4_col0\" class=\"data row4 col0\" >0.2</td>\n",
       "      <td id=\"T_146c4_row4_col1\" class=\"data row4 col1\" >0.1</td>\n",
       "      <td id=\"T_146c4_row4_col2\" class=\"data row4 col2\" >-0.1</td>\n",
       "    </tr>\n",
       "    <tr>\n",
       "      <th id=\"T_146c4_level0_row5\" class=\"row_heading level0 row5\" >Skill Rating</th>\n",
       "      <td id=\"T_146c4_row5_col0\" class=\"data row5 col0\" >0.0</td>\n",
       "      <td id=\"T_146c4_row5_col1\" class=\"data row5 col1\" >0.0</td>\n",
       "      <td id=\"T_146c4_row5_col2\" class=\"data row5 col2\" >0.0</td>\n",
       "    </tr>\n",
       "  </tbody>\n",
       "</table>\n"
      ],
      "text/plain": [
       "<pandas.io.formats.style.Styler at 0x32e9da8d0>"
      ]
     },
     "metadata": {},
     "output_type": "display_data"
    },
    {
     "name": "stdout",
     "output_type": "stream",
     "text": [
      "\n",
      "📊 Correlation of Gender with Experience Bands:\n"
     ]
    },
    {
     "data": {
      "text/html": [
       "<style type=\"text/css\">\n",
       "</style>\n",
       "<table id=\"T_189dc\">\n",
       "  <caption>Correlation: Gender_M vs Experience Bands</caption>\n",
       "  <thead>\n",
       "    <tr>\n",
       "      <th class=\"blank level0\" >&nbsp;</th>\n",
       "      <th id=\"T_189dc_level0_col0\" class=\"col_heading level0 col0\" >Correlation with Gender_M (*100)</th>\n",
       "    </tr>\n",
       "  </thead>\n",
       "  <tbody>\n",
       "    <tr>\n",
       "      <th id=\"T_189dc_level0_row0\" class=\"row_heading level0 row0\" >Experience Band_00-05</th>\n",
       "      <td id=\"T_189dc_row0_col0\" class=\"data row0 col0\" >-20.418</td>\n",
       "    </tr>\n",
       "    <tr>\n",
       "      <th id=\"T_189dc_level0_row1\" class=\"row_heading level0 row1\" >Experience Band_06-10</th>\n",
       "      <td id=\"T_189dc_row1_col0\" class=\"data row1 col0\" >-1.437</td>\n",
       "    </tr>\n",
       "    <tr>\n",
       "      <th id=\"T_189dc_level0_row2\" class=\"row_heading level0 row2\" >Experience Band_11-15</th>\n",
       "      <td id=\"T_189dc_row2_col0\" class=\"data row2 col0\" >-0.649</td>\n",
       "    </tr>\n",
       "    <tr>\n",
       "      <th id=\"T_189dc_level0_row3\" class=\"row_heading level0 row3\" >Experience Band_16-20</th>\n",
       "      <td id=\"T_189dc_row3_col0\" class=\"data row3 col0\" >-5.993</td>\n",
       "    </tr>\n",
       "    <tr>\n",
       "      <th id=\"T_189dc_level0_row4\" class=\"row_heading level0 row4\" >Experience Band_21-25</th>\n",
       "      <td id=\"T_189dc_row4_col0\" class=\"data row4 col0\" >-7.041</td>\n",
       "    </tr>\n",
       "    <tr>\n",
       "      <th id=\"T_189dc_level0_row5\" class=\"row_heading level0 row5\" >Experience Band_26-30</th>\n",
       "      <td id=\"T_189dc_row5_col0\" class=\"data row5 col0\" >36.390</td>\n",
       "    </tr>\n",
       "    <tr>\n",
       "      <th id=\"T_189dc_level0_row6\" class=\"row_heading level0 row6\" >Experience Band_30+</th>\n",
       "      <td id=\"T_189dc_row6_col0\" class=\"data row6 col0\" >18.122</td>\n",
       "    </tr>\n",
       "  </tbody>\n",
       "</table>\n"
      ],
      "text/plain": [
       "<pandas.io.formats.style.Styler at 0x17371a9d0>"
      ]
     },
     "metadata": {},
     "output_type": "display_data"
    }
   ],
   "source": [
    "# -----------------------------\n",
    "# 0. Temporarily re-encode experience band with all levels (no drop)\n",
    "# -----------------------------\n",
    "exp_band_full = pd.get_dummies(df[\"Experience Band\"], prefix=\"Experience Band\")\n",
    "df_expband_full = pd.concat([df_encoded, exp_band_full], axis=1)\n",
    "\n",
    "# Order of bands for display\n",
    "band_order = [\"Experience Band_00-05\", \"Experience Band_06-10\", \"Experience Band_11-15\",\n",
    "              \"Experience Band_16-20\", \"Experience Band_21-25\", \"Experience Band_26-30\", \"Experience Band_30+\"]\n",
    "\n",
    "# -----------------------------\n",
    "# 1. Gender distribution across experience bands\n",
    "# -----------------------------\n",
    "gender_col = \"Gender_M\"\n",
    "gender_dist = df_expband_full.groupby(gender_col)[band_order].mean().T\n",
    "gender_dist.columns = [\"Female\", \"Male\"]\n",
    "gender_dist = gender_dist.loc[~gender_dist.index.duplicated(keep=\"first\")]\n",
    "gender_dist[\"Difference (M - F) * 100\"] = (gender_dist[\"Male\"] - gender_dist[\"Female\"]) * 100\n",
    "\n",
    "# -----------------------------\n",
    "# 1b. Add model coefficients\n",
    "# -----------------------------\n",
    "band_coeffs = pd.Series(model_noOuts.coef_, index=model_noOuts.feature_names_in_)\n",
    "gender_dist[\"Model Coefficient\"] = gender_dist.index.map(lambda col: band_coeffs.get(col, 0.0))  # default to 0\n",
    "\n",
    "# -----------------------------\n",
    "# 1c. Predicted salary for each band (including baseline)\n",
    "# -----------------------------\n",
    "X_base = X.mean().to_frame().T\n",
    "avg_preds = []\n",
    "for band in band_order:\n",
    "    row = X_base.copy()\n",
    "    # Zero all bands\n",
    "    for b in band_order:\n",
    "        if b in row.columns:\n",
    "            row[b] = 0\n",
    "    if band in row.columns:\n",
    "        row[band] = 1  # set active band\n",
    "    # else: it's the baseline (all bands zero)\n",
    "    avg_salary = model_noOuts.predict(row)[0]\n",
    "    avg_preds.append(avg_salary)\n",
    "\n",
    "gender_dist[\"Predicted Salary\"] = avg_preds\n",
    "\n",
    "# -----------------------------\n",
    "# 2. Average salaries and ratings by gender\n",
    "# -----------------------------\n",
    "compare_cols = [\"25-26 Salary\", \"Years of Exp\", \"Seniority\", \"Knowledge Rating\", \"Prep Rating\", \"Skill Rating\"]\n",
    "gender_summary = df_encoded.groupby(gender_col)[compare_cols].mean().T\n",
    "gender_summary.columns = [\"Female\", \"Male\"]\n",
    "gender_summary[\"Difference (M - F)\"] = gender_summary[\"Male\"] - gender_summary[\"Female\"]\n",
    "\n",
    "# -----------------------------\n",
    "# 3. Correlation of gender with experience bands\n",
    "# -----------------------------\n",
    "correlations = df_expband_full[band_order + [gender_col]].corr()[gender_col].drop(gender_col)\n",
    "correlations = correlations.loc[~correlations.index.duplicated(keep=\"first\")]\n",
    "correlations = correlations.loc[band_order] * 100\n",
    "correlations.name = \"Correlation with Gender_M (*100)\"\n",
    "\n",
    "# -----------------------------\n",
    "# Display\n",
    "# -----------------------------\n",
    "print(\"📊 Gender Distribution Across Experience Bands (mean values):\")\n",
    "disp.display(\n",
    "    gender_dist.style.format({\n",
    "        \"Female\": \"{:.2f}\",\n",
    "        \"Male\": \"{:.2f}\",\n",
    "        \"Difference (M - F) * 100\": \"{:.2f}\",\n",
    "        \"Model Coefficient\": \"{:.2f}\",\n",
    "        \"Predicted Salary\": \"${:,.0f}\"\n",
    "    }).set_caption(\"Gender Distribution by Experience Band with Model Coefficients and Predicted Salary\")\n",
    ")\n",
    "\n",
    "print(\"\\n📊 Gender Differences in Salary & Key Features:\")\n",
    "disp.display(gender_summary.style.format(\"{:,.1f}\").set_caption(\"Mean Feature Differences (Male - Female)\"))\n",
    "\n",
    "print(\"\\n📊 Correlation of Gender with Experience Bands:\")\n",
    "disp.display(correlations.to_frame().style.format(\"{:.3f}\").set_caption(\"Correlation: Gender_M vs Experience Bands\"))"
   ]
  },
  {
   "cell_type": "code",
   "execution_count": 245,
   "metadata": {},
   "outputs": [
    {
     "name": "stdout",
     "output_type": "stream",
     "text": [
      "📥 Manual Feature Input:\n",
      "Years of Exp             18\n",
      "Seniority                 0\n",
      "Skill Rating              1\n",
      "Prep Rating               3\n",
      "Knowledge Rating         10\n",
      "Gender_M                  0\n",
      "Education Level_MA        0\n",
      "Education Level_MS        0\n",
      "Education Level_PhD       0\n",
      "Ethnicity_X               0\n",
      "Level_LS                  0\n",
      "Level_MS                  1\n",
      "Level_HS                  0\n",
      "Experience Band_00-05     0\n",
      "Experience Band_06-10     0\n",
      "Experience Band_11-15     0\n",
      "Experience Band_16-20     1\n",
      "Experience Band_21-25     0\n",
      "Experience Band_26-30     0\n",
      "Experience Band_30+       0\n",
      "dtype: int64\n",
      "\n",
      "💰 Predicted Salary: $90,362\n"
     ]
    }
   ],
   "source": [
    "# -----------------------------\n",
    "# Manual Inputs\n",
    "# -----------------------------\n",
    "# You can change these manually to test different hypothetical employees\n",
    "manual_input = {\n",
    "    \"Years of Exp\": 18,\n",
    "    \"Seniority\": 0,\n",
    "    \"Skill Rating\": 1,         # 1 if higher than 3, else 0\n",
    "    \"Prep Rating\": 3,\n",
    "    \"Knowledge Rating\": 10,\n",
    "    \"Gender_M\": 0,             # 1 for Male, 0 for Female\n",
    "    \"Education Level_MA\": 0,\n",
    "    \"Education Level_MS\": 0,\n",
    "    \"Education Level_PhD\": 0,\n",
    "    \"Ethnicity_X\": 0,          # add actual dummy fields you used\n",
    "    \"Level_LS\": 0,\n",
    "    \"Level_MS\": 1,\n",
    "    \"Level_HS\": 0,\n",
    "    # Experience Band (only one should be 1)\n",
    "    \"Experience Band_00-05\": 0,\n",
    "    \"Experience Band_06-10\": 0,\n",
    "    \"Experience Band_11-15\": 0,\n",
    "    \"Experience Band_16-20\": 1,\n",
    "    \"Experience Band_21-25\": 0,\n",
    "    \"Experience Band_26-30\": 0,\n",
    "    \"Experience Band_30+\": 0\n",
    "}\n",
    "\n",
    "# -----------------------------\n",
    "# Build feature vector from model's expected columns\n",
    "# -----------------------------\n",
    "input_vector = pd.DataFrame(columns=model_noOuts.feature_names_in_)\n",
    "input_vector.loc[0] = 0  # default all to 0\n",
    "for key, value in manual_input.items():\n",
    "    if key in input_vector.columns:\n",
    "        input_vector.at[0, key] = value\n",
    "\n",
    "# -----------------------------\n",
    "# Predict salary\n",
    "# -----------------------------\n",
    "predicted_salary = model_noOuts.predict(input_vector)[0]\n",
    "print(\"📥 Manual Feature Input:\")\n",
    "print(pd.Series(manual_input))\n",
    "print(f\"\\n💰 Predicted Salary: ${predicted_salary:,.0f}\")"
   ]
  },
  {
   "cell_type": "code",
   "execution_count": 273,
   "metadata": {},
   "outputs": [
    {
     "name": "stdout",
     "output_type": "stream",
     "text": [
      "✅ Created column 'Perfect World Salary' based on manually defined coefficients.\n"
     ]
    }
   ],
   "source": [
    "# -----------------------------\n",
    "# Step 1: Define your \"Perfect World\" coefficients\n",
    "# -----------------------------\n",
    "# Only include features you want to assign value to — everything else defaults to 0.\n",
    "step = 1000\n",
    "perfect_world_coeffs = {\n",
    "    \"Years of Exp\": 1000,\n",
    "    \"Seniority\": 0,\n",
    "    \"Skill Rating\": 2000,\n",
    "    \"Prep Rating\": 2000,\n",
    "    \"Knowledge Rating\": 2000,\n",
    "    \"Education Level_MA\": 4000,\n",
    "    \"Education Level_PhD\": 6000,\n",
    "    \"Level_LS\": 0,\n",
    "    \"Level_MS\": 0,\n",
    "    \"Level_HS\": 0,\n",
    "    \"Gender_M\": 0,\n",
    "    # Experience bands (only include if you want them)\n",
    "    \"Experience Band_00-05\": 0,\n",
    "    \"Experience Band_06-10\": step,\n",
    "    \"Experience Band_11-15\": step*2,\n",
    "    \"Experience Band_16-20\": step*3,\n",
    "    \"Experience Band_21-25\": step*4,\n",
    "    \"Experience Band_26-30\": step*5,\n",
    "    \"Experience Band_30+\": step*5\n",
    "}\n",
    "\n",
    "# -----------------------------\n",
    "# Step 2: Create the \"perfect world\" predictor\n",
    "# -----------------------------\n",
    "def predict_perfect_world_salary(df, coeffs, base=52000, feature_cols=None):\n",
    "    \"\"\"\n",
    "    df: DataFrame of model inputs (e.g. X)\n",
    "    coeffs: dict of feature -> value\n",
    "    base: baseline salary (default = 60,000)\n",
    "    feature_cols: columns to use (defaults to df.columns)\n",
    "    \"\"\"\n",
    "    if feature_cols is None:\n",
    "        feature_cols = df.columns\n",
    "\n",
    "    coeff_series = pd.Series(0, index=feature_cols)\n",
    "    for feature, weight in coeffs.items():\n",
    "        if feature in coeff_series.index:\n",
    "            coeff_series[feature] = weight\n",
    "\n",
    "    return base + df[feature_cols].dot(coeff_series)\n",
    "\n",
    "# -----------------------------\n",
    "# Step 3: Apply it to your dataset\n",
    "# -----------------------------\n",
    "df[\"Perfect World Salary\"] = predict_perfect_world_salary(X, perfect_world_coeffs)\n",
    "\n",
    "print(\"✅ Created column 'Perfect World Salary' based on manually defined coefficients.\")"
   ]
  },
  {
   "cell_type": "code",
   "execution_count": 274,
   "metadata": {},
   "outputs": [
    {
     "data": {
      "image/png": "[encoded data removed]",
      "text/plain": [
       "<Figure size 1200x600 with 1 Axes>"
      ]
     },
     "metadata": {},
     "output_type": "display_data"
    }
   ],
   "source": [
    "# -----------------------------\n",
    "# Reshape for plotting\n",
    "# -----------------------------\n",
    "df_plot = df[[\n",
    "    \"Years of Exp\",\n",
    "    \"25-26 Salary\",\n",
    "    \"Prediction_from_clean_model\",\n",
    "    \"Perfect World Salary\"\n",
    "]].copy()\n",
    "\n",
    "df_plot = df_plot.rename(columns={\n",
    "    \"25-26 Salary\": \"Actual Salary\",\n",
    "    \"Prediction_from_clean_model\": \"Model Prediction\",\n",
    "    \"Perfect World Salary\": \"Perfect World\"\n",
    "})\n",
    "\n",
    "# Melt to long-form for seaborn\n",
    "df_long = df_plot.melt(\n",
    "    id_vars=\"Years of Exp\",\n",
    "    var_name=\"Salary Type\",\n",
    "    value_name=\"Salary\"\n",
    ")\n",
    "\n",
    "# Clean up infinities or NaNs\n",
    "df_long = df_long.replace([np.inf, -np.inf], np.nan).dropna(subset=[\"Salary\"])\n",
    "\n",
    "# -----------------------------\n",
    "# Plot\n",
    "# -----------------------------\n",
    "# plt.figure(figsize=(12, 6))\n",
    "# sns.scatterplot(data=df_long, x=\"Years of Exp\", y=\"Salary\", hue=\"Salary Type\")\n",
    "\n",
    "# plt.title(\"Salary vs Years of Experience: Actual, Model, and Perfect World\")\n",
    "# plt.xlabel(\"Years of Experience\")\n",
    "# plt.ylabel(\"Salary ($)\")\n",
    "# plt.grid(True)\n",
    "# plt.legend(title=\"Salary Type\")\n",
    "# plt.tight_layout()\n",
    "# plt.show()\n",
    "\n",
    "fig, ax = plt.subplots(figsize=(12, 6))\n",
    "sns.scatterplot(data=df_long, x=\"Years of Exp\", y=\"Salary\", hue=\"Salary Type\", ax=ax)\n",
    "\n",
    "ax.set_title(\"Salary vs Years of Experience: Actual, Model, and Perfect World\")\n",
    "ax.set_xlabel(\"Years of Experience\")\n",
    "ax.set_ylabel(\"Salary ($)\")\n",
    "ax.grid(True)\n",
    "ax.legend(title=\"Salary Type\")\n",
    "\n",
    "# Add vertical lines\n",
    "max_years = int(df_long[\"Years of Exp\"].max())\n",
    "for year in range(0, max_years + 5, 5):\n",
    "    ax.axvline(x=year, color=\"gray\", linestyle=\"--\", linewidth=0.7)\n",
    "\n",
    "# Secondary axis for band labels\n",
    "band_edges = list(range(0, max_years + 5, 5))\n",
    "band_labels = [f\"{start}-{start+5}\" for start in band_edges[:-1]]\n",
    "\n",
    "ax2 = ax.secondary_xaxis(\"top\")\n",
    "ax2.set_xticks([start + 2.5 for start in band_edges[:-1]])\n",
    "ax2.set_xticklabels(band_labels, rotation=0, fontsize=9)\n",
    "ax2.set_xlabel(\"Experience Bands\")\n",
    "\n",
    "plt.tight_layout()\n",
    "plt.show()"
   ]
  },
  {
   "cell_type": "code",
   "execution_count": 275,
   "metadata": {},
   "outputs": [
    {
     "data": {
      "application/vnd.plotly.v1+json": {
       "config": {
        "plotlyServerURL": "https://plot.ly"
       },
       "data": [
        {
         "customdata": [
          [
           "Joella, Katie "
          ],
          [
           "Dimond, Olivia D"
          ],
          [
           "Pugh, Hannah E"
          ],
          [
           "Baumgartner, Rachel C"
          ],
          [
           "Herndon, Natalie R"
          ],
          [
           "Rosiere, Diana M"
          ],
          [
           "Porter, Laine M"
          ],
          [
           "Wang, Zhuoqun "
          ],
          [
           "Sasine, Corinne P"
          ],
          [
           "Von Tscharner, Emma M"
          ],
          [
           "Berg, Kyle R"
          ],
          [
           "Peters, Emily M"
          ],
          [
           "Burton, Tiffany D"
          ],
          [
           "Swisher, Mark R"
          ],
          [
           "Gulick, Kate T"
          ],
          [
           "McVie, Geoffry "
          ],
          [
           "Greenwald, Tess E"
          ],
          [
           "Jung, Jason R"
          ],
          [
           "McFall, Shannon M"
          ],
          [
           "Garcia, Maria G"
          ],
          [
           "Harnar, Casey E"
          ],
          [
           "Bray, Amie M"
          ],
          [
           "Ochoa, Melissa B"
          ],
          [
           "Passin, Laura E"
          ],
          [
           "McGrath, Alexandra F"
          ],
          [
           "Romano, Bridget M"
          ],
          [
           "Barocas, Anne "
          ],
          [
           "Callis, Carolyn P"
          ],
          [
           "Wang, Xiaomeng "
          ],
          [
           "Brown, Michelle C"
          ],
          [
           "McHugh, John N"
          ],
          [
           "Fonseca, Ana J"
          ],
          [
           "Courtney, Heather M"
          ],
          [
           "Garcia, Christina "
          ],
          [
           "Valin, Josh N"
          ],
          [
           "McGown, Amber"
          ],
          [
           "Ponce, Tomas M"
          ],
          [
           "Tuck, Dane P"
          ],
          [
           "Hollway, Margaret F"
          ],
          [
           "Goforth, Elizabeth A"
          ],
          [
           "Farrell, Julie"
          ],
          [
           "Shipley, Kelly L"
          ],
          [
           "Chen, Xingyun "
          ],
          [
           "LaRocque, Carol A"
          ],
          [
           "Turnbull, Jennie "
          ],
          [
           "Lantagne, Michael K"
          ],
          [
           "Tullar, Timothy R"
          ],
          [
           "Herman, Bonnie J"
          ],
          [
           "Aragon, Shannon "
          ],
          [
           "Valdez, Savannah G"
          ],
          [
           "Gordon, Heather A"
          ],
          [
           "Boss, Christine M"
          ],
          [
           "Summers, Amber "
          ],
          [
           "Rehmer, Rosemary "
          ],
          [
           "Zinge, Kelley C"
          ],
          [
           "Ferrill Roman, Bonnie M"
          ],
          [
           "Kirchner, Rachel Y"
          ],
          [
           "Jewett, Jeffrey T"
          ],
          [
           "Hill, Bettye"
          ],
          [
           "Johnson, Marie F"
          ],
          [
           "Hon, Rebecca M"
          ],
          [
           "Irwin, Michelle D"
          ],
          [
           "Riehl, Joe "
          ],
          [
           "May, Julie "
          ],
          [
           "Ferguson, Kristen A"
          ],
          [
           "Barton, Sarah F"
          ],
          [
           "Evans, Anne E"
          ],
          [
           "Sniegowski, Peter "
          ],
          [
           "Beckham, Wallace A"
          ],
          [
           "Gentry, Phillip M"
          ],
          [
           "Rodgers, Andy "
          ],
          [
           "Otto, Theresa J"
          ],
          [
           "McCall, Ines A"
          ],
          [
           "Easton, Terrance "
          ],
          [
           "Hamilton, Darla J"
          ],
          [
           "Pattison, Michael G"
          ]
         ],
         "hovertemplate": "Salary Type=Actual Salary<br>Years of Exp=%{x}<br>Salary=%{y}<br>Employee=%{customdata[0]}<extra></extra>",
         "legendgroup": "Actual Salary",
         "marker": {
          "color": "#636efa",
          "symbol": "circle"
         },
         "mode": "markers",
         "name": "Actual Salary",
         "orientation": "v",
         "showlegend": true,
         "type": "scatter",
         "x": [
          0,
          1,
          1,
          3,
          3,
          3,
          4,
          4,
          5,
          6,
          6,
          6,
          6,
          8,
          7,
          9,
          7,
          9,
          6,
          8,
          7,
          6,
          8,
          7,
          7,
          9,
          10,
          10,
          6,
          10,
          7,
          15,
          11,
          13,
          12,
          13,
          15,
          14,
          14,
          14,
          13,
          15,
          11,
          11,
          16,
          19,
          17,
          19,
          18,
          16,
          17,
          16,
          20,
          17,
          17,
          17,
          18,
          19,
          17,
          17,
          23,
          25,
          21,
          24,
          24,
          21,
          22,
          27,
          30,
          27,
          33,
          34,
          37,
          38,
          42,
          48
         ],
         "xaxis": "x",
         "y": [
          52125,
          54210,
          54210,
          54302,
          55253,
          56471,
          57338,
          58380,
          64114,
          55328,
          60336,
          61474,
          62884,
          62884,
          65052,
          65211,
          66028,
          66514,
          67763,
          67763,
          68119,
          68805,
          69205,
          69603,
          69848,
          70013,
          70243,
          70473,
          70890,
          72403,
          76387,
          66744,
          67220,
          67395,
          68196,
          69223,
          69848,
          70473,
          71655,
          71655,
          73609,
          77061,
          77555,
          81055,
          57463,
          64318,
          67166,
          67220,
          67540,
          69848,
          70761,
          70967,
          71209,
          71244,
          71720,
          73997,
          77145,
          77689,
          82201,
          90045,
          65259,
          75504,
          76288,
          77182,
          79861,
          88090,
          90178,
          80874,
          88717,
          95382,
          79173,
          79378,
          90142,
          90370,
          94341,
          101894
         ],
         "yaxis": "y"
        },
        {
         "customdata": [
          [
           "Joella, Katie "
          ],
          [
           "Dimond, Olivia D"
          ],
          [
           "Pugh, Hannah E"
          ],
          [
           "Baumgartner, Rachel C"
          ],
          [
           "Herndon, Natalie R"
          ],
          [
           "Rosiere, Diana M"
          ],
          [
           "Porter, Laine M"
          ],
          [
           "Wang, Zhuoqun "
          ],
          [
           "Sasine, Corinne P"
          ],
          [
           "Von Tscharner, Emma M"
          ],
          [
           "Berg, Kyle R"
          ],
          [
           "Peters, Emily M"
          ],
          [
           "Burton, Tiffany D"
          ],
          [
           "Swisher, Mark R"
          ],
          [
           "Gulick, Kate T"
          ],
          [
           "McVie, Geoffry "
          ],
          [
           "Greenwald, Tess E"
          ],
          [
           "Jung, Jason R"
          ],
          [
           "McFall, Shannon M"
          ],
          [
           "Garcia, Maria G"
          ],
          [
           "Harnar, Casey E"
          ],
          [
           "Bray, Amie M"
          ],
          [
           "Ochoa, Melissa B"
          ],
          [
           "Passin, Laura E"
          ],
          [
           "McGrath, Alexandra F"
          ],
          [
           "Romano, Bridget M"
          ],
          [
           "Barocas, Anne "
          ],
          [
           "Callis, Carolyn P"
          ],
          [
           "Wang, Xiaomeng "
          ],
          [
           "Brown, Michelle C"
          ],
          [
           "McHugh, John N"
          ],
          [
           "Fonseca, Ana J"
          ],
          [
           "Courtney, Heather M"
          ],
          [
           "Garcia, Christina "
          ],
          [
           "Valin, Josh N"
          ],
          [
           "McGown, Amber"
          ],
          [
           "Ponce, Tomas M"
          ],
          [
           "Tuck, Dane P"
          ],
          [
           "Hollway, Margaret F"
          ],
          [
           "Goforth, Elizabeth A"
          ],
          [
           "Farrell, Julie"
          ],
          [
           "Shipley, Kelly L"
          ],
          [
           "Chen, Xingyun "
          ],
          [
           "LaRocque, Carol A"
          ],
          [
           "Turnbull, Jennie "
          ],
          [
           "Lantagne, Michael K"
          ],
          [
           "Tullar, Timothy R"
          ],
          [
           "Herman, Bonnie J"
          ],
          [
           "Aragon, Shannon "
          ],
          [
           "Valdez, Savannah G"
          ],
          [
           "Gordon, Heather A"
          ],
          [
           "Boss, Christine M"
          ],
          [
           "Summers, Amber "
          ],
          [
           "Rehmer, Rosemary "
          ],
          [
           "Zinge, Kelley C"
          ],
          [
           "Ferrill Roman, Bonnie M"
          ],
          [
           "Kirchner, Rachel Y"
          ],
          [
           "Jewett, Jeffrey T"
          ],
          [
           "Hill, Bettye"
          ],
          [
           "Johnson, Marie F"
          ],
          [
           "Hon, Rebecca M"
          ],
          [
           "Irwin, Michelle D"
          ],
          [
           "Riehl, Joe "
          ],
          [
           "May, Julie "
          ],
          [
           "Ferguson, Kristen A"
          ],
          [
           "Barton, Sarah F"
          ],
          [
           "Evans, Anne E"
          ],
          [
           "Sniegowski, Peter "
          ],
          [
           "Beckham, Wallace A"
          ],
          [
           "Gentry, Phillip M"
          ],
          [
           "Rodgers, Andy "
          ],
          [
           "Otto, Theresa J"
          ],
          [
           "McCall, Ines A"
          ],
          [
           "Easton, Terrance "
          ],
          [
           "Hamilton, Darla J"
          ],
          [
           "Pattison, Michael G"
          ]
         ],
         "hovertemplate": "Salary Type=Model Prediction<br>Years of Exp=%{x}<br>Salary=%{y}<br>Employee=%{customdata[0]}<extra></extra>",
         "legendgroup": "Model Prediction",
         "marker": {
          "color": "#EF553B",
          "symbol": "circle"
         },
         "mode": "markers",
         "name": "Model Prediction",
         "orientation": "v",
         "showlegend": true,
         "type": "scatter",
         "x": [
          0,
          1,
          1,
          3,
          3,
          3,
          4,
          4,
          5,
          6,
          6,
          6,
          6,
          8,
          7,
          9,
          7,
          9,
          6,
          8,
          7,
          6,
          8,
          7,
          7,
          9,
          10,
          10,
          6,
          10,
          7,
          15,
          11,
          13,
          12,
          13,
          15,
          14,
          14,
          14,
          13,
          15,
          11,
          11,
          16,
          19,
          17,
          19,
          18,
          16,
          17,
          16,
          20,
          17,
          17,
          17,
          18,
          19,
          17,
          17,
          23,
          25,
          21,
          24,
          24,
          21,
          22,
          27,
          30,
          27,
          33,
          34,
          37,
          38,
          42,
          48
         ],
         "xaxis": "x",
         "y": [
          54669.81879623057,
          54714.152847578654,
          58077.739002625094,
          58186.789867211824,
          57062.57041199744,
          58605.44358265358,
          58693.02493334421,
          60607.75078911576,
          62865.69279675371,
          65709.26666964087,
          62561.02994694353,
          64547.354568343144,
          69416.22187035008,
          64710.81497802708,
          67261.69796930096,
          64699.363254618605,
          66190.9045332943,
          64860.30314187049,
          65735.84059225915,
          67056.7120200138,
          68749.7912520813,
          67878.45021067208,
          68256.31676739486,
          68033.02302597476,
          66910.04937446854,
          68491.3595263235,
          68364.10496875457,
          69375.34710810667,
          69657.63170122792,
          69633.06093629653,
          66106.21032406185,
          75293.6479008613,
          67530.89222441165,
          69442.09294291551,
          68342.11949950352,
          68554.09804473197,
          71247.4595973547,
          68648.54023419844,
          71957.71684414768,
          71635.8370696439,
          70923.05930041887,
          76377.44981408192,
          70315.00225867101,
          68692.80432570937,
          66992.45769170155,
          70216.73847932603,
          68273.4091849447,
          73692.04025037412,
          70097.61212099019,
          69994.90857108975,
          71440.39662689331,
          72736.22444828763,
          72720.03385491358,
          71397.61932935071,
          71100.92767420148,
          73357.31292803395,
          71189.32420396822,
          70790.67680637276,
          70144.39673493317,
          74944.55676681997,
          78842.51417537277,
          80509.47954470065,
          76838.25735467748,
          78222.25699713235,
          78941.40183830658,
          75978.76957696196,
          79491.84389585181,
          81720.14174833815,
          87197.37704219029,
          80810.85882377104,
          83530.7167537854,
          89751.93353347844,
          90337.12374519113,
          89186.8241341851,
          96232.2812009198,
          101596.78504996828
         ],
         "yaxis": "y"
        },
        {
         "customdata": [
          [
           "Joella, Katie "
          ],
          [
           "Dimond, Olivia D"
          ],
          [
           "Pugh, Hannah E"
          ],
          [
           "Baumgartner, Rachel C"
          ],
          [
           "Herndon, Natalie R"
          ],
          [
           "Rosiere, Diana M"
          ],
          [
           "Porter, Laine M"
          ],
          [
           "Wang, Zhuoqun "
          ],
          [
           "Sasine, Corinne P"
          ],
          [
           "Von Tscharner, Emma M"
          ],
          [
           "Berg, Kyle R"
          ],
          [
           "Peters, Emily M"
          ],
          [
           "Burton, Tiffany D"
          ],
          [
           "Swisher, Mark R"
          ],
          [
           "Gulick, Kate T"
          ],
          [
           "McVie, Geoffry "
          ],
          [
           "Greenwald, Tess E"
          ],
          [
           "Jung, Jason R"
          ],
          [
           "McFall, Shannon M"
          ],
          [
           "Garcia, Maria G"
          ],
          [
           "Harnar, Casey E"
          ],
          [
           "Bray, Amie M"
          ],
          [
           "Ochoa, Melissa B"
          ],
          [
           "Passin, Laura E"
          ],
          [
           "McGrath, Alexandra F"
          ],
          [
           "Romano, Bridget M"
          ],
          [
           "Barocas, Anne "
          ],
          [
           "Callis, Carolyn P"
          ],
          [
           "Wang, Xiaomeng "
          ],
          [
           "Brown, Michelle C"
          ],
          [
           "McHugh, John N"
          ],
          [
           "Fonseca, Ana J"
          ],
          [
           "Courtney, Heather M"
          ],
          [
           "Garcia, Christina "
          ],
          [
           "Valin, Josh N"
          ],
          [
           "McGown, Amber"
          ],
          [
           "Ponce, Tomas M"
          ],
          [
           "Tuck, Dane P"
          ],
          [
           "Hollway, Margaret F"
          ],
          [
           "Goforth, Elizabeth A"
          ],
          [
           "Farrell, Julie"
          ],
          [
           "Shipley, Kelly L"
          ],
          [
           "Chen, Xingyun "
          ],
          [
           "LaRocque, Carol A"
          ],
          [
           "Turnbull, Jennie "
          ],
          [
           "Lantagne, Michael K"
          ],
          [
           "Tullar, Timothy R"
          ],
          [
           "Herman, Bonnie J"
          ],
          [
           "Aragon, Shannon "
          ],
          [
           "Valdez, Savannah G"
          ],
          [
           "Gordon, Heather A"
          ],
          [
           "Boss, Christine M"
          ],
          [
           "Summers, Amber "
          ],
          [
           "Rehmer, Rosemary "
          ],
          [
           "Zinge, Kelley C"
          ],
          [
           "Ferrill Roman, Bonnie M"
          ],
          [
           "Kirchner, Rachel Y"
          ],
          [
           "Jewett, Jeffrey T"
          ],
          [
           "Hill, Bettye"
          ],
          [
           "Johnson, Marie F"
          ],
          [
           "Hon, Rebecca M"
          ],
          [
           "Irwin, Michelle D"
          ],
          [
           "Riehl, Joe "
          ],
          [
           "May, Julie "
          ],
          [
           "Ferguson, Kristen A"
          ],
          [
           "Barton, Sarah F"
          ],
          [
           "Evans, Anne E"
          ],
          [
           "Sniegowski, Peter "
          ],
          [
           "Beckham, Wallace A"
          ],
          [
           "Gentry, Phillip M"
          ],
          [
           "Rodgers, Andy "
          ],
          [
           "Otto, Theresa J"
          ],
          [
           "McCall, Ines A"
          ],
          [
           "Easton, Terrance "
          ],
          [
           "Hamilton, Darla J"
          ],
          [
           "Pattison, Michael G"
          ]
         ],
         "hovertemplate": "Salary Type=Perfect World<br>Years of Exp=%{x}<br>Salary=%{y}<br>Employee=%{customdata[0]}<extra></extra>",
         "legendgroup": "Perfect World",
         "marker": {
          "color": "#00cc96",
          "symbol": "circle"
         },
         "mode": "markers",
         "name": "Perfect World",
         "orientation": "v",
         "showlegend": true,
         "type": "scatter",
         "x": [
          0,
          1,
          1,
          3,
          3,
          3,
          4,
          4,
          5,
          6,
          6,
          6,
          6,
          8,
          7,
          9,
          7,
          9,
          6,
          8,
          7,
          6,
          8,
          7,
          7,
          9,
          10,
          10,
          6,
          10,
          7,
          15,
          11,
          13,
          12,
          13,
          15,
          14,
          14,
          14,
          13,
          15,
          11,
          11,
          16,
          19,
          17,
          19,
          18,
          16,
          17,
          16,
          20,
          17,
          17,
          17,
          18,
          19,
          17,
          17,
          23,
          25,
          21,
          24,
          24,
          21,
          22,
          27,
          30,
          27,
          33,
          34,
          37,
          38,
          42,
          48
         ],
         "xaxis": "x",
         "y": [
          52600,
          53600,
          55600,
          59600,
          56000,
          60200,
          56600,
          61400,
          64400,
          63600,
          59600,
          59600,
          67000,
          61600,
          64600,
          62600,
          64600,
          62600,
          64200,
          62000,
          66600,
          66400,
          66400,
          66600,
          65400,
          66600,
          63600,
          67600,
          67000,
          68200,
          65000,
          76600,
          65600,
          72000,
          71000,
          67600,
          73600,
          68600,
          72600,
          72600,
          71600,
          77000,
          73000,
          69600,
          71600,
          74600,
          72600,
          79400,
          73600,
          75600,
          77600,
          79000,
          79600,
          78000,
          77000,
          78600,
          77600,
          78600,
          76600,
          82000,
          83600,
          85600,
          83600,
          84600,
          85400,
          81600,
          84600,
          88600,
          93600,
          86000,
          90600,
          96200,
          95000,
          95600,
          103600,
          110200
         ],
         "yaxis": "y"
        }
       ],
       "layout": {
        "height": 600,
        "hovermode": "closest",
        "legend": {
         "title": {
          "text": "Salary Type"
         },
         "tracegroupgap": 0
        },
        "template": {
         "data": {
          "bar": [
           {
            "error_x": {
             "color": "#2a3f5f"
            },
            "error_y": {
             "color": "#2a3f5f"
            },
            "marker": {
             "line": {
              "color": "#E5ECF6",
              "width": 0.5
             },
             "pattern": {
              "fillmode": "overlay",
              "size": 10,
              "solidity": 0.2
             }
            },
            "type": "bar"
           }
          ],
          "barpolar": [
           {
            "marker": {
             "line": {
              "color": "#E5ECF6",
              "width": 0.5
             },
             "pattern": {
              "fillmode": "overlay",
              "size": 10,
              "solidity": 0.2
             }
            },
            "type": "barpolar"
           }
          ],
          "carpet": [
           {
            "aaxis": {
             "endlinecolor": "#2a3f5f",
             "gridcolor": "white",
             "linecolor": "white",
             "minorgridcolor": "white",
             "startlinecolor": "#2a3f5f"
            },
            "baxis": {
             "endlinecolor": "#2a3f5f",
             "gridcolor": "white",
             "linecolor": "white",
             "minorgridcolor": "white",
             "startlinecolor": "#2a3f5f"
            },
            "type": "carpet"
           }
          ],
          "choropleth": [
           {
            "colorbar": {
             "outlinewidth": 0,
             "ticks": ""
            },
            "type": "choropleth"
           }
          ],
          "contour": [
           {
            "colorbar": {
             "outlinewidth": 0,
             "ticks": ""
            },
            "colorscale": [
             [
              0,
              "#0d0887"
             ],
             [
              0.1111111111111111,
              "#46039f"
             ],
             [
              0.2222222222222222,
              "#7201a8"
             ],
             [
              0.3333333333333333,
              "#9c179e"
             ],
             [
              0.4444444444444444,
              "#bd3786"
             ],
             [
              0.5555555555555556,
              "#d8576b"
             ],
             [
              0.6666666666666666,
              "#ed7953"
             ],
             [
              0.7777777777777778,
              "#fb9f3a"
             ],
             [
              0.8888888888888888,
              "#fdca26"
             ],
             [
              1,
              "#f0f921"
             ]
            ],
            "type": "contour"
           }
          ],
          "contourcarpet": [
           {
            "colorbar": {
             "outlinewidth": 0,
             "ticks": ""
            },
            "type": "contourcarpet"
           }
          ],
          "heatmap": [
           {
            "colorbar": {
             "outlinewidth": 0,
             "ticks": ""
            },
            "colorscale": [
             [
              0,
              "#0d0887"
             ],
             [
              0.1111111111111111,
              "#46039f"
             ],
             [
              0.2222222222222222,
              "#7201a8"
             ],
             [
              0.3333333333333333,
              "#9c179e"
             ],
             [
              0.4444444444444444,
              "#bd3786"
             ],
             [
              0.5555555555555556,
              "#d8576b"
             ],
             [
              0.6666666666666666,
              "#ed7953"
             ],
             [
              0.7777777777777778,
              "#fb9f3a"
             ],
             [
              0.8888888888888888,
              "#fdca26"
             ],
             [
              1,
              "#f0f921"
             ]
            ],
            "type": "heatmap"
           }
          ],
          "heatmapgl": [
           {
            "colorbar": {
             "outlinewidth": 0,
             "ticks": ""
            },
            "colorscale": [
             [
              0,
              "#0d0887"
             ],
             [
              0.1111111111111111,
              "#46039f"
             ],
             [
              0.2222222222222222,
              "#7201a8"
             ],
             [
              0.3333333333333333,
              "#9c179e"
             ],
             [
              0.4444444444444444,
              "#bd3786"
             ],
             [
              0.5555555555555556,
              "#d8576b"
             ],
             [
              0.6666666666666666,
              "#ed7953"
             ],
             [
              0.7777777777777778,
              "#fb9f3a"
             ],
             [
              0.8888888888888888,
              "#fdca26"
             ],
             [
              1,
              "#f0f921"
             ]
            ],
            "type": "heatmapgl"
           }
          ],
          "histogram": [
           {
            "marker": {
             "pattern": {
              "fillmode": "overlay",
              "size": 10,
              "solidity": 0.2
             }
            },
            "type": "histogram"
           }
          ],
          "histogram2d": [
           {
            "colorbar": {
             "outlinewidth": 0,
             "ticks": ""
            },
            "colorscale": [
             [
              0,
              "#0d0887"
             ],
             [
              0.1111111111111111,
              "#46039f"
             ],
             [
              0.2222222222222222,
              "#7201a8"
             ],
             [
              0.3333333333333333,
              "#9c179e"
             ],
             [
              0.4444444444444444,
              "#bd3786"
             ],
             [
              0.5555555555555556,
              "#d8576b"
             ],
             [
              0.6666666666666666,
              "#ed7953"
             ],
             [
              0.7777777777777778,
              "#fb9f3a"
             ],
             [
              0.8888888888888888,
              "#fdca26"
             ],
             [
              1,
              "#f0f921"
             ]
            ],
            "type": "histogram2d"
           }
          ],
          "histogram2dcontour": [
           {
            "colorbar": {
             "outlinewidth": 0,
             "ticks": ""
            },
            "colorscale": [
             [
              0,
              "#0d0887"
             ],
             [
              0.1111111111111111,
              "#46039f"
             ],
             [
              0.2222222222222222,
              "#7201a8"
             ],
             [
              0.3333333333333333,
              "#9c179e"
             ],
             [
              0.4444444444444444,
              "#bd3786"
             ],
             [
              0.5555555555555556,
              "#d8576b"
             ],
             [
              0.6666666666666666,
              "#ed7953"
             ],
             [
              0.7777777777777778,
              "#fb9f3a"
             ],
             [
              0.8888888888888888,
              "#fdca26"
             ],
             [
              1,
              "#f0f921"
             ]
            ],
            "type": "histogram2dcontour"
           }
          ],
          "mesh3d": [
           {
            "colorbar": {
             "outlinewidth": 0,
             "ticks": ""
            },
            "type": "mesh3d"
           }
          ],
          "parcoords": [
           {
            "line": {
             "colorbar": {
              "outlinewidth": 0,
              "ticks": ""
             }
            },
            "type": "parcoords"
           }
          ],
          "pie": [
           {
            "automargin": true,
            "type": "pie"
           }
          ],
          "scatter": [
           {
            "fillpattern": {
             "fillmode": "overlay",
             "size": 10,
             "solidity": 0.2
            },
            "type": "scatter"
           }
          ],
          "scatter3d": [
           {
            "line": {
             "colorbar": {
              "outlinewidth": 0,
              "ticks": ""
             }
            },
            "marker": {
             "colorbar": {
              "outlinewidth": 0,
              "ticks": ""
             }
            },
            "type": "scatter3d"
           }
          ],
          "scattercarpet": [
           {
            "marker": {
             "colorbar": {
              "outlinewidth": 0,
              "ticks": ""
             }
            },
            "type": "scattercarpet"
           }
          ],
          "scattergeo": [
           {
            "marker": {
             "colorbar": {
              "outlinewidth": 0,
              "ticks": ""
             }
            },
            "type": "scattergeo"
           }
          ],
          "scattergl": [
           {
            "marker": {
             "colorbar": {
              "outlinewidth": 0,
              "ticks": ""
             }
            },
            "type": "scattergl"
           }
          ],
          "scattermapbox": [
           {
            "marker": {
             "colorbar": {
              "outlinewidth": 0,
              "ticks": ""
             }
            },
            "type": "scattermapbox"
           }
          ],
          "scatterpolar": [
           {
            "marker": {
             "colorbar": {
              "outlinewidth": 0,
              "ticks": ""
             }
            },
            "type": "scatterpolar"
           }
          ],
          "scatterpolargl": [
           {
            "marker": {
             "colorbar": {
              "outlinewidth": 0,
              "ticks": ""
             }
            },
            "type": "scatterpolargl"
           }
          ],
          "scatterternary": [
           {
            "marker": {
             "colorbar": {
              "outlinewidth": 0,
              "ticks": ""
             }
            },
            "type": "scatterternary"
           }
          ],
          "surface": [
           {
            "colorbar": {
             "outlinewidth": 0,
             "ticks": ""
            },
            "colorscale": [
             [
              0,
              "#0d0887"
             ],
             [
              0.1111111111111111,
              "#46039f"
             ],
             [
              0.2222222222222222,
              "#7201a8"
             ],
             [
              0.3333333333333333,
              "#9c179e"
             ],
             [
              0.4444444444444444,
              "#bd3786"
             ],
             [
              0.5555555555555556,
              "#d8576b"
             ],
             [
              0.6666666666666666,
              "#ed7953"
             ],
             [
              0.7777777777777778,
              "#fb9f3a"
             ],
             [
              0.8888888888888888,
              "#fdca26"
             ],
             [
              1,
              "#f0f921"
             ]
            ],
            "type": "surface"
           }
          ],
          "table": [
           {
            "cells": {
             "fill": {
              "color": "#EBF0F8"
             },
             "line": {
              "color": "white"
             }
            },
            "header": {
             "fill": {
              "color": "#C8D4E3"
             },
             "line": {
              "color": "white"
             }
            },
            "type": "table"
           }
          ]
         },
         "layout": {
          "annotationdefaults": {
           "arrowcolor": "#2a3f5f",
           "arrowhead": 0,
           "arrowwidth": 1
          },
          "autotypenumbers": "strict",
          "coloraxis": {
           "colorbar": {
            "outlinewidth": 0,
            "ticks": ""
           }
          },
          "colorscale": {
           "diverging": [
            [
             0,
             "#8e0152"
            ],
            [
             0.1,
             "#c51b7d"
            ],
            [
             0.2,
             "#de77ae"
            ],
            [
             0.3,
             "#f1b6da"
            ],
            [
             0.4,
             "#fde0ef"
            ],
            [
             0.5,
             "#f7f7f7"
            ],
            [
             0.6,
             "#e6f5d0"
            ],
            [
             0.7,
             "#b8e186"
            ],
            [
             0.8,
             "#7fbc41"
            ],
            [
             0.9,
             "#4d9221"
            ],
            [
             1,
             "#276419"
            ]
           ],
           "sequential": [
            [
             0,
             "#0d0887"
            ],
            [
             0.1111111111111111,
             "#46039f"
            ],
            [
             0.2222222222222222,
             "#7201a8"
            ],
            [
             0.3333333333333333,
             "#9c179e"
            ],
            [
             0.4444444444444444,
             "#bd3786"
            ],
            [
             0.5555555555555556,
             "#d8576b"
            ],
            [
             0.6666666666666666,
             "#ed7953"
            ],
            [
             0.7777777777777778,
             "#fb9f3a"
            ],
            [
             0.8888888888888888,
             "#fdca26"
            ],
            [
             1,
             "#f0f921"
            ]
           ],
           "sequentialminus": [
            [
             0,
             "#0d0887"
            ],
            [
             0.1111111111111111,
             "#46039f"
            ],
            [
             0.2222222222222222,
             "#7201a8"
            ],
            [
             0.3333333333333333,
             "#9c179e"
            ],
            [
             0.4444444444444444,
             "#bd3786"
            ],
            [
             0.5555555555555556,
             "#d8576b"
            ],
            [
             0.6666666666666666,
             "#ed7953"
            ],
            [
             0.7777777777777778,
             "#fb9f3a"
            ],
            [
             0.8888888888888888,
             "#fdca26"
            ],
            [
             1,
             "#f0f921"
            ]
           ]
          },
          "colorway": [
           "#636efa",
           "#EF553B",
           "#00cc96",
           "#ab63fa",
           "#FFA15A",
           "#19d3f3",
           "#FF6692",
           "#B6E880",
           "#FF97FF",
           "#FECB52"
          ],
          "font": {
           "color": "#2a3f5f"
          },
          "geo": {
           "bgcolor": "white",
           "lakecolor": "white",
           "landcolor": "#E5ECF6",
           "showlakes": true,
           "showland": true,
           "subunitcolor": "white"
          },
          "hoverlabel": {
           "align": "left"
          },
          "hovermode": "closest",
          "mapbox": {
           "style": "light"
          },
          "paper_bgcolor": "white",
          "plot_bgcolor": "#E5ECF6",
          "polar": {
           "angularaxis": {
            "gridcolor": "white",
            "linecolor": "white",
            "ticks": ""
           },
           "bgcolor": "#E5ECF6",
           "radialaxis": {
            "gridcolor": "white",
            "linecolor": "white",
            "ticks": ""
           }
          },
          "scene": {
           "xaxis": {
            "backgroundcolor": "#E5ECF6",
            "gridcolor": "white",
            "gridwidth": 2,
            "linecolor": "white",
            "showbackground": true,
            "ticks": "",
            "zerolinecolor": "white"
           },
           "yaxis": {
            "backgroundcolor": "#E5ECF6",
            "gridcolor": "white",
            "gridwidth": 2,
            "linecolor": "white",
            "showbackground": true,
            "ticks": "",
            "zerolinecolor": "white"
           },
           "zaxis": {
            "backgroundcolor": "#E5ECF6",
            "gridcolor": "white",
            "gridwidth": 2,
            "linecolor": "white",
            "showbackground": true,
            "ticks": "",
            "zerolinecolor": "white"
           }
          },
          "shapedefaults": {
           "line": {
            "color": "#2a3f5f"
           }
          },
          "ternary": {
           "aaxis": {
            "gridcolor": "white",
            "linecolor": "white",
            "ticks": ""
           },
           "baxis": {
            "gridcolor": "white",
            "linecolor": "white",
            "ticks": ""
           },
           "bgcolor": "#E5ECF6",
           "caxis": {
            "gridcolor": "white",
            "linecolor": "white",
            "ticks": ""
           }
          },
          "title": {
           "x": 0.05
          },
          "xaxis": {
           "automargin": true,
           "gridcolor": "white",
           "linecolor": "white",
           "ticks": "",
           "title": {
            "standoff": 15
           },
           "zerolinecolor": "white",
           "zerolinewidth": 2
          },
          "yaxis": {
           "automargin": true,
           "gridcolor": "white",
           "linecolor": "white",
           "ticks": "",
           "title": {
            "standoff": 15
           },
           "zerolinecolor": "white",
           "zerolinewidth": 2
          }
         }
        },
        "title": {
         "text": "Salary vs Years of Experience: Actual, Model, and Perfect World"
        },
        "xaxis": {
         "anchor": "y",
         "domain": [
          0,
          1
         ],
         "title": {
          "text": "Years of Experience"
         }
        },
        "yaxis": {
         "anchor": "x",
         "domain": [
          0,
          1
         ],
         "title": {
          "text": "Salary ($)"
         }
        }
       }
      }
     },
     "metadata": {},
     "output_type": "display_data"
    }
   ],
   "source": [
    "import plotly.express as px\n",
    "import pandas as pd\n",
    "import numpy as np\n",
    "\n",
    "# Prepare the data (assumes df already exists and has the right columns)\n",
    "df_plot = df[[\n",
    "    \"Employee\",\n",
    "    \"Years of Exp\",\n",
    "    \"25-26 Salary\",\n",
    "    \"Prediction_from_clean_model\",\n",
    "    \"Perfect World Salary\"\n",
    "]].copy()\n",
    "\n",
    "df_plot = df_plot.rename(columns={\n",
    "    \"25-26 Salary\": \"Actual Salary\",\n",
    "    \"Prediction_from_clean_model\": \"Model Prediction\",\n",
    "    \"Perfect World Salary\": \"Perfect World\"\n",
    "})\n",
    "\n",
    "# Melt to long format\n",
    "df_long = df_plot.melt(\n",
    "    id_vars=[\"Years of Exp\", \"Employee\"],\n",
    "    var_name=\"Salary Type\",\n",
    "    value_name=\"Salary\"\n",
    ")\n",
    "\n",
    "# Clean up infinities or NaNs\n",
    "df_long = df_long.replace([np.inf, -np.inf], np.nan).dropna(subset=[\"Salary\"])\n",
    "\n",
    "# Interactive plot with trendlines\n",
    "fig = px.scatter(\n",
    "    df_long,\n",
    "    x=\"Years of Exp\",\n",
    "    y=\"Salary\",\n",
    "    color=\"Salary Type\",\n",
    "    # trendline=\"ols\",\n",
    "    hover_data=[\"Employee\", \"Salary\", \"Years of Exp\"],\n",
    "    title=\"Salary vs Years of Experience: Actual, Model, and Perfect World\"\n",
    ")\n",
    "\n",
    "fig.update_layout(\n",
    "    height=600,\n",
    "    legend_title=\"Salary Type\",\n",
    "    xaxis_title=\"Years of Experience\",\n",
    "    yaxis_title=\"Salary ($)\",\n",
    "    hovermode=\"closest\"\n",
    ")\n",
    "\n",
    "fig.show()"
   ]
  },
  {
   "cell_type": "code",
   "execution_count": null,
   "metadata": {},
   "outputs": [],
   "source": []
  }
 ],
 "metadata": {
  "kernelspec": {
   "display_name": "base",
   "language": "python",
   "name": "python3"
  },
  "language_info": {
   "codemirror_mode": {
    "name": "ipython",
    "version": 3
   },
   "file_extension": ".py",
   "mimetype": "text/x-python",
   "name": "python",
   "nbconvert_exporter": "python",
   "pygments_lexer": "ipython3",
   "version": "3.11.7"
  }
 },
 "nbformat": 4,
 "nbformat_minor": 2
}
