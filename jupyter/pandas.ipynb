{
 "cells": [
  {
   "cell_type": "code",
   "execution_count": 7,
   "metadata": {},
   "outputs": [
    {
     "data": {
      "text/html": [
       "<pre style=\"white-space:pre;overflow-x:auto;line-height:normal;font-family:Menlo,'DejaVu Sans Mono',consolas,'Courier New',monospace\"><span style=\"color: #008080; text-decoration-color: #008080; font-weight: bold\">1.3</span>.<span style=\"color: #008080; text-decoration-color: #008080; font-weight: bold\">3</span>\n",
       "</pre>\n"
      ],
      "text/plain": [
       "\u001b[1;36m1.3\u001b[0m.\u001b[1;36m3\u001b[0m\n"
      ]
     },
     "metadata": {},
     "output_type": "display_data"
    }
   ],
   "source": [
    "import pandas as pd\n",
    "from rich import print\n",
    "import numpy as np\n",
    "print(pd.__version__)"
   ]
  },
  {
   "cell_type": "code",
   "execution_count": 8,
   "metadata": {},
   "outputs": [
    {
     "data": {
      "text/plain": [
       "1    0\n",
       "2    1\n",
       "3    2\n",
       "4    3\n",
       "5    4\n",
       "6    5\n",
       "dtype: int64"
      ]
     },
     "execution_count": 8,
     "metadata": {},
     "output_type": "execute_result"
    }
   ],
   "source": [
    "arr = [0,1,2,3,4,5]\n",
    "s1 = pd.Series(arr)\n",
    "order = [1,2,3,4,5,6]\n",
    "s2 = pd.Series(arr,index=order)\n",
    "s2"
   ]
  },
  {
   "cell_type": "code",
   "execution_count": 9,
   "metadata": {},
   "outputs": [
    {
     "data": {
      "text/plain": [
       "a   -0.314365\n",
       "b    0.646364\n",
       "c   -0.911537\n",
       "d   -1.029657\n",
       "e   -0.671053\n",
       "dtype: float64"
      ]
     },
     "execution_count": 9,
     "metadata": {},
     "output_type": "execute_result"
    }
   ],
   "source": [
    "n = np.random.randn(5)\n",
    "index = ['a','b','c','d','e']\n",
    "s2 = pd.Series(n,index=index)\n",
    "s2\n"
   ]
  },
  {
   "cell_type": "code",
   "execution_count": 10,
   "metadata": {},
   "outputs": [
    {
     "data": {
      "text/plain": [
       "a    1\n",
       "b    2\n",
       "c    3\n",
       "d    4\n",
       "dtype: int64"
      ]
     },
     "execution_count": 10,
     "metadata": {},
     "output_type": "execute_result"
    }
   ],
   "source": [
    "d = {'a':1,'b':2,'c':3,'d':4}\n",
    "s2 = pd.Series(d)\n",
    "s2"
   ]
  },
  {
   "cell_type": "code",
   "execution_count": 11,
   "metadata": {},
   "outputs": [
    {
     "data": {
      "text/plain": [
       "0    0\n",
       "1    1\n",
       "2    2\n",
       "3    3\n",
       "4    4\n",
       "5    5\n",
       "dtype: int64"
      ]
     },
     "execution_count": 11,
     "metadata": {},
     "output_type": "execute_result"
    }
   ],
   "source": [
    "s1"
   ]
  },
  {
   "cell_type": "code",
   "execution_count": 12,
   "metadata": {},
   "outputs": [
    {
     "data": {
      "text/plain": [
       "a    0\n",
       "b    1\n",
       "c    2\n",
       "d    3\n",
       "e    4\n",
       "f    5\n",
       "dtype: int64"
      ]
     },
     "execution_count": 12,
     "metadata": {},
     "output_type": "execute_result"
    }
   ],
   "source": [
    "s1.index =['a','b','c','d','e','f']\n",
    "s1"
   ]
  },
  {
   "cell_type": "code",
   "execution_count": 17,
   "metadata": {},
   "outputs": [
    {
     "data": {
      "text/plain": [
       "a    0\n",
       "b    1\n",
       "c    2\n",
       "dtype: int64"
      ]
     },
     "execution_count": 17,
     "metadata": {},
     "output_type": "execute_result"
    }
   ],
   "source": [
    "s1[:3]"
   ]
  },
  {
   "cell_type": "code",
   "execution_count": 14,
   "metadata": {},
   "outputs": [
    {
     "data": {
      "text/html": [
       "<pre style=\"white-space:pre;overflow-x:auto;line-height:normal;font-family:Menlo,'DejaVu Sans Mono',consolas,'Courier New',monospace\">a    <span style=\"color: #008080; text-decoration-color: #008080; font-weight: bold\">0</span>\n",
       "b    <span style=\"color: #008080; text-decoration-color: #008080; font-weight: bold\">1</span>\n",
       "c    <span style=\"color: #008080; text-decoration-color: #008080; font-weight: bold\">2</span>\n",
       "d    <span style=\"color: #008080; text-decoration-color: #008080; font-weight: bold\">3</span>\n",
       "e    <span style=\"color: #008080; text-decoration-color: #008080; font-weight: bold\">4</span>\n",
       "f    <span style=\"color: #008080; text-decoration-color: #008080; font-weight: bold\">5</span>\n",
       "a    <span style=\"color: #008080; text-decoration-color: #008080; font-weight: bold\">1</span>\n",
       "b    <span style=\"color: #008080; text-decoration-color: #008080; font-weight: bold\">2</span>\n",
       "c    <span style=\"color: #008080; text-decoration-color: #008080; font-weight: bold\">3</span>\n",
       "d    <span style=\"color: #008080; text-decoration-color: #008080; font-weight: bold\">4</span>\n",
       "dtype: int64\n",
       "</pre>\n"
      ],
      "text/plain": [
       "a    \u001b[1;36m0\u001b[0m\n",
       "b    \u001b[1;36m1\u001b[0m\n",
       "c    \u001b[1;36m2\u001b[0m\n",
       "d    \u001b[1;36m3\u001b[0m\n",
       "e    \u001b[1;36m4\u001b[0m\n",
       "f    \u001b[1;36m5\u001b[0m\n",
       "a    \u001b[1;36m1\u001b[0m\n",
       "b    \u001b[1;36m2\u001b[0m\n",
       "c    \u001b[1;36m3\u001b[0m\n",
       "d    \u001b[1;36m4\u001b[0m\n",
       "dtype: int64\n"
      ]
     },
     "metadata": {},
     "output_type": "display_data"
    }
   ],
   "source": [
    "s3 = s1.append(s2)\n",
    "print(s3)"
   ]
  },
  {
   "cell_type": "code",
   "execution_count": 15,
   "metadata": {},
   "outputs": [
    {
     "data": {
      "text/html": [
       "<pre style=\"white-space:pre;overflow-x:auto;line-height:normal;font-family:Menlo,'DejaVu Sans Mono',consolas,'Courier New',monospace\"><span style=\"font-weight: bold\">[</span><span style=\"color: #008080; text-decoration-color: #008080; font-weight: bold\">1</span>, <span style=\"color: #008080; text-decoration-color: #008080; font-weight: bold\">2</span>, <span style=\"color: #008080; text-decoration-color: #008080; font-weight: bold\">3</span>, <span style=\"color: #008080; text-decoration-color: #008080; font-weight: bold\">4</span>, <span style=\"color: #008080; text-decoration-color: #008080; font-weight: bold\">5</span>, <span style=\"color: #008080; text-decoration-color: #008080; font-weight: bold\">6</span>, <span style=\"color: #008080; text-decoration-color: #008080; font-weight: bold\">7</span><span style=\"font-weight: bold\">]</span>\n",
       "<span style=\"font-weight: bold\">[</span><span style=\"color: #008080; text-decoration-color: #008080; font-weight: bold\">6</span>, <span style=\"color: #008080; text-decoration-color: #008080; font-weight: bold\">7</span>, <span style=\"color: #008080; text-decoration-color: #008080; font-weight: bold\">8</span>, <span style=\"color: #008080; text-decoration-color: #008080; font-weight: bold\">9</span>, <span style=\"color: #008080; text-decoration-color: #008080; font-weight: bold\">5</span><span style=\"font-weight: bold\">]</span>\n",
       "</pre>\n"
      ],
      "text/plain": [
       "\u001b[1m[\u001b[0m\u001b[1;36m1\u001b[0m, \u001b[1;36m2\u001b[0m, \u001b[1;36m3\u001b[0m, \u001b[1;36m4\u001b[0m, \u001b[1;36m5\u001b[0m, \u001b[1;36m6\u001b[0m, \u001b[1;36m7\u001b[0m\u001b[1m]\u001b[0m\n",
       "\u001b[1m[\u001b[0m\u001b[1;36m6\u001b[0m, \u001b[1;36m7\u001b[0m, \u001b[1;36m8\u001b[0m, \u001b[1;36m9\u001b[0m, \u001b[1;36m5\u001b[0m\u001b[1m]\u001b[0m\n"
      ]
     },
     "metadata": {},
     "output_type": "display_data"
    }
   ],
   "source": [
    "arr1 = [1,2,3,4,5,6,7]\n",
    "arr2 = [6,7,8,9,5]\n",
    "print(arr1,arr2)"
   ]
  },
  {
   "cell_type": "code",
   "execution_count": 18,
   "metadata": {},
   "outputs": [
    {
     "data": {
      "text/html": [
       "<pre style=\"white-space:pre;overflow-x:auto;line-height:normal;font-family:Menlo,'DejaVu Sans Mono',consolas,'Courier New',monospace\"><span style=\"color: #008080; text-decoration-color: #008080; font-weight: bold\">0</span>    <span style=\"color: #008080; text-decoration-color: #008080; font-weight: bold\">6</span>\n",
       "<span style=\"color: #008080; text-decoration-color: #008080; font-weight: bold\">1</span>    <span style=\"color: #008080; text-decoration-color: #008080; font-weight: bold\">7</span>\n",
       "<span style=\"color: #008080; text-decoration-color: #008080; font-weight: bold\">2</span>    <span style=\"color: #008080; text-decoration-color: #008080; font-weight: bold\">8</span>\n",
       "<span style=\"color: #008080; text-decoration-color: #008080; font-weight: bold\">3</span>    <span style=\"color: #008080; text-decoration-color: #008080; font-weight: bold\">9</span>\n",
       "<span style=\"color: #008080; text-decoration-color: #008080; font-weight: bold\">4</span>    <span style=\"color: #008080; text-decoration-color: #008080; font-weight: bold\">5</span>\n",
       "dtype: int64 <span style=\"color: #008080; text-decoration-color: #008080; font-weight: bold\">0</span>    <span style=\"color: #008080; text-decoration-color: #008080; font-weight: bold\">1</span>\n",
       "<span style=\"color: #008080; text-decoration-color: #008080; font-weight: bold\">1</span>    <span style=\"color: #008080; text-decoration-color: #008080; font-weight: bold\">2</span>\n",
       "<span style=\"color: #008080; text-decoration-color: #008080; font-weight: bold\">2</span>    <span style=\"color: #008080; text-decoration-color: #008080; font-weight: bold\">3</span>\n",
       "<span style=\"color: #008080; text-decoration-color: #008080; font-weight: bold\">3</span>    <span style=\"color: #008080; text-decoration-color: #008080; font-weight: bold\">4</span>\n",
       "<span style=\"color: #008080; text-decoration-color: #008080; font-weight: bold\">4</span>    <span style=\"color: #008080; text-decoration-color: #008080; font-weight: bold\">5</span>\n",
       "<span style=\"color: #008080; text-decoration-color: #008080; font-weight: bold\">5</span>    <span style=\"color: #008080; text-decoration-color: #008080; font-weight: bold\">6</span>\n",
       "<span style=\"color: #008080; text-decoration-color: #008080; font-weight: bold\">6</span>    <span style=\"color: #008080; text-decoration-color: #008080; font-weight: bold\">7</span>\n",
       "dtype: int64\n",
       "</pre>\n"
      ],
      "text/plain": [
       "\u001b[1;36m0\u001b[0m    \u001b[1;36m6\u001b[0m\n",
       "\u001b[1;36m1\u001b[0m    \u001b[1;36m7\u001b[0m\n",
       "\u001b[1;36m2\u001b[0m    \u001b[1;36m8\u001b[0m\n",
       "\u001b[1;36m3\u001b[0m    \u001b[1;36m9\u001b[0m\n",
       "\u001b[1;36m4\u001b[0m    \u001b[1;36m5\u001b[0m\n",
       "dtype: int64 \u001b[1;36m0\u001b[0m    \u001b[1;36m1\u001b[0m\n",
       "\u001b[1;36m1\u001b[0m    \u001b[1;36m2\u001b[0m\n",
       "\u001b[1;36m2\u001b[0m    \u001b[1;36m3\u001b[0m\n",
       "\u001b[1;36m3\u001b[0m    \u001b[1;36m4\u001b[0m\n",
       "\u001b[1;36m4\u001b[0m    \u001b[1;36m5\u001b[0m\n",
       "\u001b[1;36m5\u001b[0m    \u001b[1;36m6\u001b[0m\n",
       "\u001b[1;36m6\u001b[0m    \u001b[1;36m7\u001b[0m\n",
       "dtype: int64\n"
      ]
     },
     "metadata": {},
     "output_type": "display_data"
    }
   ],
   "source": [
    "s5 = pd.Series(arr2)\n",
    "s6 = pd.Series(arr1)\n",
    "print(s5,s6)"
   ]
  },
  {
   "cell_type": "code",
   "execution_count": 19,
   "metadata": {},
   "outputs": [
    {
     "data": {
      "text/plain": [
       "0     7.0\n",
       "1     9.0\n",
       "2    11.0\n",
       "3    13.0\n",
       "4    10.0\n",
       "5     NaN\n",
       "6     NaN\n",
       "dtype: float64"
      ]
     },
     "execution_count": 19,
     "metadata": {},
     "output_type": "execute_result"
    }
   ],
   "source": [
    "s5.add(s6)"
   ]
  },
  {
   "cell_type": "code",
   "execution_count": 20,
   "metadata": {},
   "outputs": [
    {
     "data": {
      "text/plain": [
       "0     7.0\n",
       "1     9.0\n",
       "2    11.0\n",
       "3    13.0\n",
       "4    10.0\n",
       "5     NaN\n",
       "6     NaN\n",
       "dtype: float64"
      ]
     },
     "execution_count": 20,
     "metadata": {},
     "output_type": "execute_result"
    }
   ],
   "source": [
    "s6.add(s5)"
   ]
  },
  {
   "cell_type": "code",
   "execution_count": 22,
   "metadata": {},
   "outputs": [
    {
     "data": {
      "text/html": [
       "<pre style=\"white-space:pre;overflow-x:auto;line-height:normal;font-family:Menlo,'DejaVu Sans Mono',consolas,'Courier New',monospace\"><span style=\"color: #008080; text-decoration-color: #008080; font-weight: bold\">7</span>\n",
       "</pre>\n"
      ],
      "text/plain": [
       "\u001b[1;36m7\u001b[0m\n"
      ]
     },
     "metadata": {},
     "output_type": "display_data"
    }
   ],
   "source": [
    "print(s6.max())"
   ]
  },
  {
   "cell_type": "code",
   "execution_count": 26,
   "metadata": {},
   "outputs": [
    {
     "data": {
      "text/html": [
       "<pre style=\"white-space:pre;overflow-x:auto;line-height:normal;font-family:Menlo,'DejaVu Sans Mono',consolas,'Courier New',monospace\"><span style=\"color: #800080; text-decoration-color: #800080; font-weight: bold\">DatetimeIndex</span><span style=\"font-weight: bold\">([</span><span style=\"color: #008000; text-decoration-color: #008000\">'2021-10-08 11:26:30.113672'</span>, <span style=\"color: #008000; text-decoration-color: #008000\">'2021-10-08 13:26:30.113672'</span>,\n",
       "               <span style=\"color: #008000; text-decoration-color: #008000\">'2021-10-08 15:26:30.113672'</span>, <span style=\"color: #008000; text-decoration-color: #008000\">'2021-10-08 17:26:30.113672'</span>,\n",
       "               <span style=\"color: #008000; text-decoration-color: #008000\">'2021-10-08 19:26:30.113672'</span>, <span style=\"color: #008000; text-decoration-color: #008000\">'2021-10-08 21:26:30.113672'</span><span style=\"font-weight: bold\">]</span>,\n",
       "              <span style=\"color: #808000; text-decoration-color: #808000\">dtype</span>=<span style=\"color: #008000; text-decoration-color: #008000\">'datetime64[ns]'</span>, <span style=\"color: #808000; text-decoration-color: #808000\">freq</span>=<span style=\"color: #008000; text-decoration-color: #008000\">'2H'</span><span style=\"font-weight: bold\">)</span>\n",
       "</pre>\n"
      ],
      "text/plain": [
       "\u001b[1;35mDatetimeIndex\u001b[0m\u001b[1m(\u001b[0m\u001b[1m[\u001b[0m\u001b[32m'2021-10-08 11:26:30.113672'\u001b[0m, \u001b[32m'2021-10-08 13:26:30.113672'\u001b[0m,\n",
       "               \u001b[32m'2021-10-08 15:26:30.113672'\u001b[0m, \u001b[32m'2021-10-08 17:26:30.113672'\u001b[0m,\n",
       "               \u001b[32m'2021-10-08 19:26:30.113672'\u001b[0m, \u001b[32m'2021-10-08 21:26:30.113672'\u001b[0m\u001b[1m]\u001b[0m,\n",
       "              \u001b[33mdtype\u001b[0m=\u001b[32m'datetime64\u001b[0m\u001b[32m[\u001b[0m\u001b[32mns\u001b[0m\u001b[32m]\u001b[0m\u001b[32m'\u001b[0m, \u001b[33mfreq\u001b[0m=\u001b[32m'2H'\u001b[0m\u001b[1m)\u001b[0m\n"
      ]
     },
     "metadata": {},
     "output_type": "display_data"
    }
   ],
   "source": [
    "dates = pd.date_range('today',periods = 6,freq=\"2H\")\n",
    "print(dates)"
   ]
  },
  {
   "cell_type": "code",
   "execution_count": 29,
   "metadata": {},
   "outputs": [
    {
     "data": {
      "text/html": [
       "<div>\n",
       "<style scoped>\n",
       "    .dataframe tbody tr th:only-of-type {\n",
       "        vertical-align: middle;\n",
       "    }\n",
       "\n",
       "    .dataframe tbody tr th {\n",
       "        vertical-align: top;\n",
       "    }\n",
       "\n",
       "    .dataframe thead th {\n",
       "        text-align: right;\n",
       "    }\n",
       "</style>\n",
       "<table border=\"1\" class=\"dataframe\">\n",
       "  <thead>\n",
       "    <tr style=\"text-align: right;\">\n",
       "      <th></th>\n",
       "      <th>A</th>\n",
       "      <th>B</th>\n",
       "      <th>C</th>\n",
       "      <th>D</th>\n",
       "    </tr>\n",
       "  </thead>\n",
       "  <tbody>\n",
       "    <tr>\n",
       "      <th>2021-10-08 11:26:30.113672</th>\n",
       "      <td>0.718123</td>\n",
       "      <td>0.031016</td>\n",
       "      <td>0.445239</td>\n",
       "      <td>1.451980</td>\n",
       "    </tr>\n",
       "    <tr>\n",
       "      <th>2021-10-08 13:26:30.113672</th>\n",
       "      <td>-0.067801</td>\n",
       "      <td>0.024068</td>\n",
       "      <td>0.742541</td>\n",
       "      <td>-0.324226</td>\n",
       "    </tr>\n",
       "    <tr>\n",
       "      <th>2021-10-08 15:26:30.113672</th>\n",
       "      <td>-1.085768</td>\n",
       "      <td>-0.255987</td>\n",
       "      <td>0.566439</td>\n",
       "      <td>-0.344287</td>\n",
       "    </tr>\n",
       "    <tr>\n",
       "      <th>2021-10-08 17:26:30.113672</th>\n",
       "      <td>1.101878</td>\n",
       "      <td>0.750462</td>\n",
       "      <td>1.455279</td>\n",
       "      <td>0.175121</td>\n",
       "    </tr>\n",
       "    <tr>\n",
       "      <th>2021-10-08 19:26:30.113672</th>\n",
       "      <td>-0.892963</td>\n",
       "      <td>0.481669</td>\n",
       "      <td>-1.055553</td>\n",
       "      <td>0.157910</td>\n",
       "    </tr>\n",
       "    <tr>\n",
       "      <th>2021-10-08 21:26:30.113672</th>\n",
       "      <td>-1.017106</td>\n",
       "      <td>-1.241086</td>\n",
       "      <td>0.117974</td>\n",
       "      <td>-0.351995</td>\n",
       "    </tr>\n",
       "  </tbody>\n",
       "</table>\n",
       "</div>"
      ],
      "text/plain": [
       "                                   A         B         C         D\n",
       "2021-10-08 11:26:30.113672  0.718123  0.031016  0.445239  1.451980\n",
       "2021-10-08 13:26:30.113672 -0.067801  0.024068  0.742541 -0.324226\n",
       "2021-10-08 15:26:30.113672 -1.085768 -0.255987  0.566439 -0.344287\n",
       "2021-10-08 17:26:30.113672  1.101878  0.750462  1.455279  0.175121\n",
       "2021-10-08 19:26:30.113672 -0.892963  0.481669 -1.055553  0.157910\n",
       "2021-10-08 21:26:30.113672 -1.017106 -1.241086  0.117974 -0.351995"
      ]
     },
     "execution_count": 29,
     "metadata": {},
     "output_type": "execute_result"
    }
   ],
   "source": [
    "num_arr = np.random.randn(6,4)\n",
    "#print(num_arr)\n",
    "columns = ['A','B','C','D']\n",
    "\n",
    "df1 = pd.DataFrame(num_arr,index=dates,columns=columns)\n",
    "df1"
   ]
  },
  {
   "cell_type": "code",
   "execution_count": 30,
   "metadata": {},
   "outputs": [
    {
     "data": {
      "text/html": [
       "<div>\n",
       "<style scoped>\n",
       "    .dataframe tbody tr th:only-of-type {\n",
       "        vertical-align: middle;\n",
       "    }\n",
       "\n",
       "    .dataframe tbody tr th {\n",
       "        vertical-align: top;\n",
       "    }\n",
       "\n",
       "    .dataframe thead th {\n",
       "        text-align: right;\n",
       "    }\n",
       "</style>\n",
       "<table border=\"1\" class=\"dataframe\">\n",
       "  <thead>\n",
       "    <tr style=\"text-align: right;\">\n",
       "      <th></th>\n",
       "      <th>A</th>\n",
       "      <th>B</th>\n",
       "      <th>C</th>\n",
       "      <th>D</th>\n",
       "    </tr>\n",
       "  </thead>\n",
       "  <tbody>\n",
       "    <tr>\n",
       "      <th>count</th>\n",
       "      <td>6.000000</td>\n",
       "      <td>6.000000</td>\n",
       "      <td>6.000000</td>\n",
       "      <td>6.000000</td>\n",
       "    </tr>\n",
       "    <tr>\n",
       "      <th>mean</th>\n",
       "      <td>-0.207273</td>\n",
       "      <td>-0.034976</td>\n",
       "      <td>0.378653</td>\n",
       "      <td>0.127417</td>\n",
       "    </tr>\n",
       "    <tr>\n",
       "      <th>std</th>\n",
       "      <td>0.947358</td>\n",
       "      <td>0.692130</td>\n",
       "      <td>0.831401</td>\n",
       "      <td>0.694837</td>\n",
       "    </tr>\n",
       "    <tr>\n",
       "      <th>min</th>\n",
       "      <td>-1.085768</td>\n",
       "      <td>-1.241086</td>\n",
       "      <td>-1.055553</td>\n",
       "      <td>-0.351995</td>\n",
       "    </tr>\n",
       "    <tr>\n",
       "      <th>25%</th>\n",
       "      <td>-0.986070</td>\n",
       "      <td>-0.185973</td>\n",
       "      <td>0.199790</td>\n",
       "      <td>-0.339271</td>\n",
       "    </tr>\n",
       "    <tr>\n",
       "      <th>50%</th>\n",
       "      <td>-0.480382</td>\n",
       "      <td>0.027542</td>\n",
       "      <td>0.505839</td>\n",
       "      <td>-0.083158</td>\n",
       "    </tr>\n",
       "    <tr>\n",
       "      <th>75%</th>\n",
       "      <td>0.521642</td>\n",
       "      <td>0.369006</td>\n",
       "      <td>0.698516</td>\n",
       "      <td>0.170818</td>\n",
       "    </tr>\n",
       "    <tr>\n",
       "      <th>max</th>\n",
       "      <td>1.101878</td>\n",
       "      <td>0.750462</td>\n",
       "      <td>1.455279</td>\n",
       "      <td>1.451980</td>\n",
       "    </tr>\n",
       "  </tbody>\n",
       "</table>\n",
       "</div>"
      ],
      "text/plain": [
       "              A         B         C         D\n",
       "count  6.000000  6.000000  6.000000  6.000000\n",
       "mean  -0.207273 -0.034976  0.378653  0.127417\n",
       "std    0.947358  0.692130  0.831401  0.694837\n",
       "min   -1.085768 -1.241086 -1.055553 -0.351995\n",
       "25%   -0.986070 -0.185973  0.199790 -0.339271\n",
       "50%   -0.480382  0.027542  0.505839 -0.083158\n",
       "75%    0.521642  0.369006  0.698516  0.170818\n",
       "max    1.101878  0.750462  1.455279  1.451980"
      ]
     },
     "execution_count": 30,
     "metadata": {},
     "output_type": "execute_result"
    }
   ],
   "source": [
    "df1.describe()"
   ]
  },
  {
   "cell_type": "code",
   "execution_count": 31,
   "metadata": {},
   "outputs": [
    {
     "data": {
      "text/html": [
       "<div>\n",
       "<style scoped>\n",
       "    .dataframe tbody tr th:only-of-type {\n",
       "        vertical-align: middle;\n",
       "    }\n",
       "\n",
       "    .dataframe tbody tr th {\n",
       "        vertical-align: top;\n",
       "    }\n",
       "\n",
       "    .dataframe thead th {\n",
       "        text-align: right;\n",
       "    }\n",
       "</style>\n",
       "<table border=\"1\" class=\"dataframe\">\n",
       "  <thead>\n",
       "    <tr style=\"text-align: right;\">\n",
       "      <th></th>\n",
       "      <th>2021-10-08 11:26:30.113672</th>\n",
       "      <th>2021-10-08 13:26:30.113672</th>\n",
       "      <th>2021-10-08 15:26:30.113672</th>\n",
       "      <th>2021-10-08 17:26:30.113672</th>\n",
       "      <th>2021-10-08 19:26:30.113672</th>\n",
       "      <th>2021-10-08 21:26:30.113672</th>\n",
       "    </tr>\n",
       "  </thead>\n",
       "  <tbody>\n",
       "    <tr>\n",
       "      <th>A</th>\n",
       "      <td>0.718123</td>\n",
       "      <td>-0.067801</td>\n",
       "      <td>-1.085768</td>\n",
       "      <td>1.101878</td>\n",
       "      <td>-0.892963</td>\n",
       "      <td>-1.017106</td>\n",
       "    </tr>\n",
       "    <tr>\n",
       "      <th>B</th>\n",
       "      <td>0.031016</td>\n",
       "      <td>0.024068</td>\n",
       "      <td>-0.255987</td>\n",
       "      <td>0.750462</td>\n",
       "      <td>0.481669</td>\n",
       "      <td>-1.241086</td>\n",
       "    </tr>\n",
       "    <tr>\n",
       "      <th>C</th>\n",
       "      <td>0.445239</td>\n",
       "      <td>0.742541</td>\n",
       "      <td>0.566439</td>\n",
       "      <td>1.455279</td>\n",
       "      <td>-1.055553</td>\n",
       "      <td>0.117974</td>\n",
       "    </tr>\n",
       "    <tr>\n",
       "      <th>D</th>\n",
       "      <td>1.451980</td>\n",
       "      <td>-0.324226</td>\n",
       "      <td>-0.344287</td>\n",
       "      <td>0.175121</td>\n",
       "      <td>0.157910</td>\n",
       "      <td>-0.351995</td>\n",
       "    </tr>\n",
       "  </tbody>\n",
       "</table>\n",
       "</div>"
      ],
      "text/plain": [
       "   2021-10-08 11:26:30.113672  2021-10-08 13:26:30.113672  \\\n",
       "A                    0.718123                   -0.067801   \n",
       "B                    0.031016                    0.024068   \n",
       "C                    0.445239                    0.742541   \n",
       "D                    1.451980                   -0.324226   \n",
       "\n",
       "   2021-10-08 15:26:30.113672  2021-10-08 17:26:30.113672  \\\n",
       "A                   -1.085768                    1.101878   \n",
       "B                   -0.255987                    0.750462   \n",
       "C                    0.566439                    1.455279   \n",
       "D                   -0.344287                    0.175121   \n",
       "\n",
       "   2021-10-08 19:26:30.113672  2021-10-08 21:26:30.113672  \n",
       "A                   -0.892963                   -1.017106  \n",
       "B                    0.481669                   -1.241086  \n",
       "C                   -1.055553                    0.117974  \n",
       "D                    0.157910                   -0.351995  "
      ]
     },
     "execution_count": 31,
     "metadata": {},
     "output_type": "execute_result"
    }
   ],
   "source": [
    "df1.T"
   ]
  },
  {
   "cell_type": "code",
   "execution_count": 35,
   "metadata": {},
   "outputs": [
    {
     "data": {
      "text/html": [
       "<pre style=\"white-space:pre;overflow-x:auto;line-height:normal;font-family:Menlo,'DejaVu Sans Mono',consolas,'Courier New',monospace\">                                   A         B         C         D\n",
       "<span style=\"color: #008080; text-decoration-color: #008080; font-weight: bold\">2021</span>-<span style=\"color: #008080; text-decoration-color: #008080; font-weight: bold\">10</span>-<span style=\"color: #008080; text-decoration-color: #008080; font-weight: bold\">08</span> <span style=\"color: #00ff00; text-decoration-color: #00ff00; font-weight: bold\">17:26:30</span>.<span style=\"color: #008080; text-decoration-color: #008080; font-weight: bold\">113672</span>  <span style=\"color: #008080; text-decoration-color: #008080; font-weight: bold\">1.101878</span>  <span style=\"color: #008080; text-decoration-color: #008080; font-weight: bold\">0.750462</span>  <span style=\"color: #008080; text-decoration-color: #008080; font-weight: bold\">1.455279</span>  <span style=\"color: #008080; text-decoration-color: #008080; font-weight: bold\">0.175121</span>\n",
       "<span style=\"color: #008080; text-decoration-color: #008080; font-weight: bold\">2021</span>-<span style=\"color: #008080; text-decoration-color: #008080; font-weight: bold\">10</span>-<span style=\"color: #008080; text-decoration-color: #008080; font-weight: bold\">08</span> <span style=\"color: #00ff00; text-decoration-color: #00ff00; font-weight: bold\">11:26:30</span>.<span style=\"color: #008080; text-decoration-color: #008080; font-weight: bold\">113672</span>  <span style=\"color: #008080; text-decoration-color: #008080; font-weight: bold\">0.718123</span>  <span style=\"color: #008080; text-decoration-color: #008080; font-weight: bold\">0.031016</span>  <span style=\"color: #008080; text-decoration-color: #008080; font-weight: bold\">0.445239</span>  <span style=\"color: #008080; text-decoration-color: #008080; font-weight: bold\">1.451980</span>\n",
       "<span style=\"color: #008080; text-decoration-color: #008080; font-weight: bold\">2021</span>-<span style=\"color: #008080; text-decoration-color: #008080; font-weight: bold\">10</span>-<span style=\"color: #008080; text-decoration-color: #008080; font-weight: bold\">08</span> <span style=\"color: #00ff00; text-decoration-color: #00ff00; font-weight: bold\">13:26:30</span>.<span style=\"color: #008080; text-decoration-color: #008080; font-weight: bold\">113672</span> <span style=\"color: #008080; text-decoration-color: #008080; font-weight: bold\">-0.067801</span>  <span style=\"color: #008080; text-decoration-color: #008080; font-weight: bold\">0.024068</span>  <span style=\"color: #008080; text-decoration-color: #008080; font-weight: bold\">0.742541</span> <span style=\"color: #008080; text-decoration-color: #008080; font-weight: bold\">-0.324226</span>\n",
       "<span style=\"color: #008080; text-decoration-color: #008080; font-weight: bold\">2021</span>-<span style=\"color: #008080; text-decoration-color: #008080; font-weight: bold\">10</span>-<span style=\"color: #008080; text-decoration-color: #008080; font-weight: bold\">08</span> <span style=\"color: #00ff00; text-decoration-color: #00ff00; font-weight: bold\">19:26:30</span>.<span style=\"color: #008080; text-decoration-color: #008080; font-weight: bold\">113672</span> <span style=\"color: #008080; text-decoration-color: #008080; font-weight: bold\">-0.892963</span>  <span style=\"color: #008080; text-decoration-color: #008080; font-weight: bold\">0.481669</span> <span style=\"color: #008080; text-decoration-color: #008080; font-weight: bold\">-1.055553</span>  <span style=\"color: #008080; text-decoration-color: #008080; font-weight: bold\">0.157910</span>\n",
       "<span style=\"color: #008080; text-decoration-color: #008080; font-weight: bold\">2021</span>-<span style=\"color: #008080; text-decoration-color: #008080; font-weight: bold\">10</span>-<span style=\"color: #008080; text-decoration-color: #008080; font-weight: bold\">08</span> <span style=\"color: #00ff00; text-decoration-color: #00ff00; font-weight: bold\">21:26:30</span>.<span style=\"color: #008080; text-decoration-color: #008080; font-weight: bold\">113672</span> <span style=\"color: #008080; text-decoration-color: #008080; font-weight: bold\">-1.017106</span> <span style=\"color: #008080; text-decoration-color: #008080; font-weight: bold\">-1.241086</span>  <span style=\"color: #008080; text-decoration-color: #008080; font-weight: bold\">0.117974</span> <span style=\"color: #008080; text-decoration-color: #008080; font-weight: bold\">-0.351995</span>\n",
       "<span style=\"color: #008080; text-decoration-color: #008080; font-weight: bold\">2021</span>-<span style=\"color: #008080; text-decoration-color: #008080; font-weight: bold\">10</span>-<span style=\"color: #008080; text-decoration-color: #008080; font-weight: bold\">08</span> <span style=\"color: #00ff00; text-decoration-color: #00ff00; font-weight: bold\">15:26:30</span>.<span style=\"color: #008080; text-decoration-color: #008080; font-weight: bold\">113672</span> <span style=\"color: #008080; text-decoration-color: #008080; font-weight: bold\">-1.085768</span> <span style=\"color: #008080; text-decoration-color: #008080; font-weight: bold\">-0.255987</span>  <span style=\"color: #008080; text-decoration-color: #008080; font-weight: bold\">0.566439</span> <span style=\"color: #008080; text-decoration-color: #008080; font-weight: bold\">-0.344287</span>\n",
       "</pre>\n"
      ],
      "text/plain": [
       "                                   A         B         C         D\n",
       "\u001b[1;36m2021\u001b[0m-\u001b[1;36m10\u001b[0m-\u001b[1;36m08\u001b[0m \u001b[1;92m17:26:30\u001b[0m.\u001b[1;36m113672\u001b[0m  \u001b[1;36m1.101878\u001b[0m  \u001b[1;36m0.750462\u001b[0m  \u001b[1;36m1.455279\u001b[0m  \u001b[1;36m0.175121\u001b[0m\n",
       "\u001b[1;36m2021\u001b[0m-\u001b[1;36m10\u001b[0m-\u001b[1;36m08\u001b[0m \u001b[1;92m11:26:30\u001b[0m.\u001b[1;36m113672\u001b[0m  \u001b[1;36m0.718123\u001b[0m  \u001b[1;36m0.031016\u001b[0m  \u001b[1;36m0.445239\u001b[0m  \u001b[1;36m1.451980\u001b[0m\n",
       "\u001b[1;36m2021\u001b[0m-\u001b[1;36m10\u001b[0m-\u001b[1;36m08\u001b[0m \u001b[1;92m13:26:30\u001b[0m.\u001b[1;36m113672\u001b[0m \u001b[1;36m-0.067801\u001b[0m  \u001b[1;36m0.024068\u001b[0m  \u001b[1;36m0.742541\u001b[0m \u001b[1;36m-0.324226\u001b[0m\n",
       "\u001b[1;36m2021\u001b[0m-\u001b[1;36m10\u001b[0m-\u001b[1;36m08\u001b[0m \u001b[1;92m19:26:30\u001b[0m.\u001b[1;36m113672\u001b[0m \u001b[1;36m-0.892963\u001b[0m  \u001b[1;36m0.481669\u001b[0m \u001b[1;36m-1.055553\u001b[0m  \u001b[1;36m0.157910\u001b[0m\n",
       "\u001b[1;36m2021\u001b[0m-\u001b[1;36m10\u001b[0m-\u001b[1;36m08\u001b[0m \u001b[1;92m21:26:30\u001b[0m.\u001b[1;36m113672\u001b[0m \u001b[1;36m-1.017106\u001b[0m \u001b[1;36m-1.241086\u001b[0m  \u001b[1;36m0.117974\u001b[0m \u001b[1;36m-0.351995\u001b[0m\n",
       "\u001b[1;36m2021\u001b[0m-\u001b[1;36m10\u001b[0m-\u001b[1;36m08\u001b[0m \u001b[1;92m15:26:30\u001b[0m.\u001b[1;36m113672\u001b[0m \u001b[1;36m-1.085768\u001b[0m \u001b[1;36m-0.255987\u001b[0m  \u001b[1;36m0.566439\u001b[0m \u001b[1;36m-0.344287\u001b[0m\n"
      ]
     },
     "metadata": {},
     "output_type": "display_data"
    }
   ],
   "source": [
    "df2 = df1.sort_values(by='A',ascending=False)\n",
    "print(df2)"
   ]
  },
  {
   "cell_type": "code",
   "execution_count": 40,
   "metadata": {},
   "outputs": [
    {
     "data": {
      "text/html": [
       "<pre style=\"white-space:pre;overflow-x:auto;line-height:normal;font-family:Menlo,'DejaVu Sans Mono',consolas,'Courier New',monospace\">                                   A         B         C         D\n",
       "<span style=\"color: #008080; text-decoration-color: #008080; font-weight: bold\">2021</span>-<span style=\"color: #008080; text-decoration-color: #008080; font-weight: bold\">10</span>-<span style=\"color: #008080; text-decoration-color: #008080; font-weight: bold\">08</span> <span style=\"color: #00ff00; text-decoration-color: #00ff00; font-weight: bold\">17:26:30</span>.<span style=\"color: #008080; text-decoration-color: #008080; font-weight: bold\">113672</span> <span style=\"color: #008080; text-decoration-color: #008080; font-weight: bold\">-1.101878</span> <span style=\"color: #008080; text-decoration-color: #008080; font-weight: bold\">-0.750462</span> <span style=\"color: #008080; text-decoration-color: #008080; font-weight: bold\">-1.455279</span> <span style=\"color: #008080; text-decoration-color: #008080; font-weight: bold\">-0.175121</span>\n",
       "<span style=\"color: #008080; text-decoration-color: #008080; font-weight: bold\">2021</span>-<span style=\"color: #008080; text-decoration-color: #008080; font-weight: bold\">10</span>-<span style=\"color: #008080; text-decoration-color: #008080; font-weight: bold\">08</span> <span style=\"color: #00ff00; text-decoration-color: #00ff00; font-weight: bold\">11:26:30</span>.<span style=\"color: #008080; text-decoration-color: #008080; font-weight: bold\">113672</span> <span style=\"color: #008080; text-decoration-color: #008080; font-weight: bold\">-0.718123</span> <span style=\"color: #008080; text-decoration-color: #008080; font-weight: bold\">-0.031016</span> <span style=\"color: #008080; text-decoration-color: #008080; font-weight: bold\">-0.445239</span> <span style=\"color: #008080; text-decoration-color: #008080; font-weight: bold\">-1.451980</span>\n",
       "<span style=\"color: #008080; text-decoration-color: #008080; font-weight: bold\">2021</span>-<span style=\"color: #008080; text-decoration-color: #008080; font-weight: bold\">10</span>-<span style=\"color: #008080; text-decoration-color: #008080; font-weight: bold\">08</span> <span style=\"color: #00ff00; text-decoration-color: #00ff00; font-weight: bold\">13:26:30</span>.<span style=\"color: #008080; text-decoration-color: #008080; font-weight: bold\">113672</span> <span style=\"color: #008080; text-decoration-color: #008080; font-weight: bold\">-0.067801</span> <span style=\"color: #008080; text-decoration-color: #008080; font-weight: bold\">-0.024068</span> <span style=\"color: #008080; text-decoration-color: #008080; font-weight: bold\">-0.742541</span> <span style=\"color: #008080; text-decoration-color: #008080; font-weight: bold\">-0.324226</span>\n",
       "<span style=\"color: #008080; text-decoration-color: #008080; font-weight: bold\">2021</span>-<span style=\"color: #008080; text-decoration-color: #008080; font-weight: bold\">10</span>-<span style=\"color: #008080; text-decoration-color: #008080; font-weight: bold\">08</span> <span style=\"color: #00ff00; text-decoration-color: #00ff00; font-weight: bold\">19:26:30</span>.<span style=\"color: #008080; text-decoration-color: #008080; font-weight: bold\">113672</span> <span style=\"color: #008080; text-decoration-color: #008080; font-weight: bold\">-0.892963</span> <span style=\"color: #008080; text-decoration-color: #008080; font-weight: bold\">-0.481669</span> <span style=\"color: #008080; text-decoration-color: #008080; font-weight: bold\">-1.055553</span> <span style=\"color: #008080; text-decoration-color: #008080; font-weight: bold\">-0.157910</span>\n",
       "<span style=\"color: #008080; text-decoration-color: #008080; font-weight: bold\">2021</span>-<span style=\"color: #008080; text-decoration-color: #008080; font-weight: bold\">10</span>-<span style=\"color: #008080; text-decoration-color: #008080; font-weight: bold\">08</span> <span style=\"color: #00ff00; text-decoration-color: #00ff00; font-weight: bold\">21:26:30</span>.<span style=\"color: #008080; text-decoration-color: #008080; font-weight: bold\">113672</span> <span style=\"color: #008080; text-decoration-color: #008080; font-weight: bold\">-1.017106</span> <span style=\"color: #008080; text-decoration-color: #008080; font-weight: bold\">-1.241086</span> <span style=\"color: #008080; text-decoration-color: #008080; font-weight: bold\">-0.117974</span> <span style=\"color: #008080; text-decoration-color: #008080; font-weight: bold\">-0.351995</span>\n",
       "<span style=\"color: #008080; text-decoration-color: #008080; font-weight: bold\">2021</span>-<span style=\"color: #008080; text-decoration-color: #008080; font-weight: bold\">10</span>-<span style=\"color: #008080; text-decoration-color: #008080; font-weight: bold\">08</span> <span style=\"color: #00ff00; text-decoration-color: #00ff00; font-weight: bold\">15:26:30</span>.<span style=\"color: #008080; text-decoration-color: #008080; font-weight: bold\">113672</span> <span style=\"color: #008080; text-decoration-color: #008080; font-weight: bold\">-1.085768</span> <span style=\"color: #008080; text-decoration-color: #008080; font-weight: bold\">-0.255987</span> <span style=\"color: #008080; text-decoration-color: #008080; font-weight: bold\">-0.566439</span> <span style=\"color: #008080; text-decoration-color: #008080; font-weight: bold\">-0.344287</span>\n",
       "</pre>\n"
      ],
      "text/plain": [
       "                                   A         B         C         D\n",
       "\u001b[1;36m2021\u001b[0m-\u001b[1;36m10\u001b[0m-\u001b[1;36m08\u001b[0m \u001b[1;92m17:26:30\u001b[0m.\u001b[1;36m113672\u001b[0m \u001b[1;36m-1.101878\u001b[0m \u001b[1;36m-0.750462\u001b[0m \u001b[1;36m-1.455279\u001b[0m \u001b[1;36m-0.175121\u001b[0m\n",
       "\u001b[1;36m2021\u001b[0m-\u001b[1;36m10\u001b[0m-\u001b[1;36m08\u001b[0m \u001b[1;92m11:26:30\u001b[0m.\u001b[1;36m113672\u001b[0m \u001b[1;36m-0.718123\u001b[0m \u001b[1;36m-0.031016\u001b[0m \u001b[1;36m-0.445239\u001b[0m \u001b[1;36m-1.451980\u001b[0m\n",
       "\u001b[1;36m2021\u001b[0m-\u001b[1;36m10\u001b[0m-\u001b[1;36m08\u001b[0m \u001b[1;92m13:26:30\u001b[0m.\u001b[1;36m113672\u001b[0m \u001b[1;36m-0.067801\u001b[0m \u001b[1;36m-0.024068\u001b[0m \u001b[1;36m-0.742541\u001b[0m \u001b[1;36m-0.324226\u001b[0m\n",
       "\u001b[1;36m2021\u001b[0m-\u001b[1;36m10\u001b[0m-\u001b[1;36m08\u001b[0m \u001b[1;92m19:26:30\u001b[0m.\u001b[1;36m113672\u001b[0m \u001b[1;36m-0.892963\u001b[0m \u001b[1;36m-0.481669\u001b[0m \u001b[1;36m-1.055553\u001b[0m \u001b[1;36m-0.157910\u001b[0m\n",
       "\u001b[1;36m2021\u001b[0m-\u001b[1;36m10\u001b[0m-\u001b[1;36m08\u001b[0m \u001b[1;92m21:26:30\u001b[0m.\u001b[1;36m113672\u001b[0m \u001b[1;36m-1.017106\u001b[0m \u001b[1;36m-1.241086\u001b[0m \u001b[1;36m-0.117974\u001b[0m \u001b[1;36m-0.351995\u001b[0m\n",
       "\u001b[1;36m2021\u001b[0m-\u001b[1;36m10\u001b[0m-\u001b[1;36m08\u001b[0m \u001b[1;92m15:26:30\u001b[0m.\u001b[1;36m113672\u001b[0m \u001b[1;36m-1.085768\u001b[0m \u001b[1;36m-0.255987\u001b[0m \u001b[1;36m-0.566439\u001b[0m \u001b[1;36m-0.344287\u001b[0m\n"
      ]
     },
     "metadata": {},
     "output_type": "display_data"
    },
    {
     "data": {
      "text/html": [
       "<pre style=\"white-space:pre;overflow-x:auto;line-height:normal;font-family:Menlo,'DejaVu Sans Mono',consolas,'Courier New',monospace\">                                   A         B         C         D\n",
       "<span style=\"color: #008080; text-decoration-color: #008080; font-weight: bold\">2021</span>-<span style=\"color: #008080; text-decoration-color: #008080; font-weight: bold\">10</span>-<span style=\"color: #008080; text-decoration-color: #008080; font-weight: bold\">08</span> <span style=\"color: #00ff00; text-decoration-color: #00ff00; font-weight: bold\">17:26:30</span>.<span style=\"color: #008080; text-decoration-color: #008080; font-weight: bold\">113672</span>  <span style=\"color: #008080; text-decoration-color: #008080; font-weight: bold\">1.101878</span>  <span style=\"color: #008080; text-decoration-color: #008080; font-weight: bold\">0.750462</span>  <span style=\"color: #008080; text-decoration-color: #008080; font-weight: bold\">1.455279</span>  <span style=\"color: #008080; text-decoration-color: #008080; font-weight: bold\">0.175121</span>\n",
       "<span style=\"color: #008080; text-decoration-color: #008080; font-weight: bold\">2021</span>-<span style=\"color: #008080; text-decoration-color: #008080; font-weight: bold\">10</span>-<span style=\"color: #008080; text-decoration-color: #008080; font-weight: bold\">08</span> <span style=\"color: #00ff00; text-decoration-color: #00ff00; font-weight: bold\">11:26:30</span>.<span style=\"color: #008080; text-decoration-color: #008080; font-weight: bold\">113672</span>  <span style=\"color: #008080; text-decoration-color: #008080; font-weight: bold\">0.718123</span>  <span style=\"color: #008080; text-decoration-color: #008080; font-weight: bold\">0.031016</span>  <span style=\"color: #008080; text-decoration-color: #008080; font-weight: bold\">0.445239</span>  <span style=\"color: #008080; text-decoration-color: #008080; font-weight: bold\">1.451980</span>\n",
       "<span style=\"color: #008080; text-decoration-color: #008080; font-weight: bold\">2021</span>-<span style=\"color: #008080; text-decoration-color: #008080; font-weight: bold\">10</span>-<span style=\"color: #008080; text-decoration-color: #008080; font-weight: bold\">08</span> <span style=\"color: #00ff00; text-decoration-color: #00ff00; font-weight: bold\">13:26:30</span>.<span style=\"color: #008080; text-decoration-color: #008080; font-weight: bold\">113672</span> <span style=\"color: #008080; text-decoration-color: #008080; font-weight: bold\">-0.067801</span>  <span style=\"color: #008080; text-decoration-color: #008080; font-weight: bold\">0.024068</span>  <span style=\"color: #008080; text-decoration-color: #008080; font-weight: bold\">0.742541</span> <span style=\"color: #008080; text-decoration-color: #008080; font-weight: bold\">-0.324226</span>\n",
       "<span style=\"color: #008080; text-decoration-color: #008080; font-weight: bold\">2021</span>-<span style=\"color: #008080; text-decoration-color: #008080; font-weight: bold\">10</span>-<span style=\"color: #008080; text-decoration-color: #008080; font-weight: bold\">08</span> <span style=\"color: #00ff00; text-decoration-color: #00ff00; font-weight: bold\">19:26:30</span>.<span style=\"color: #008080; text-decoration-color: #008080; font-weight: bold\">113672</span> <span style=\"color: #008080; text-decoration-color: #008080; font-weight: bold\">-0.892963</span>  <span style=\"color: #008080; text-decoration-color: #008080; font-weight: bold\">0.481669</span> <span style=\"color: #008080; text-decoration-color: #008080; font-weight: bold\">-1.055553</span>  <span style=\"color: #008080; text-decoration-color: #008080; font-weight: bold\">0.157910</span>\n",
       "<span style=\"color: #008080; text-decoration-color: #008080; font-weight: bold\">2021</span>-<span style=\"color: #008080; text-decoration-color: #008080; font-weight: bold\">10</span>-<span style=\"color: #008080; text-decoration-color: #008080; font-weight: bold\">08</span> <span style=\"color: #00ff00; text-decoration-color: #00ff00; font-weight: bold\">21:26:30</span>.<span style=\"color: #008080; text-decoration-color: #008080; font-weight: bold\">113672</span> <span style=\"color: #008080; text-decoration-color: #008080; font-weight: bold\">-1.017106</span> <span style=\"color: #008080; text-decoration-color: #008080; font-weight: bold\">-1.241086</span>  <span style=\"color: #008080; text-decoration-color: #008080; font-weight: bold\">0.117974</span> <span style=\"color: #008080; text-decoration-color: #008080; font-weight: bold\">-0.351995</span>\n",
       "<span style=\"color: #008080; text-decoration-color: #008080; font-weight: bold\">2021</span>-<span style=\"color: #008080; text-decoration-color: #008080; font-weight: bold\">10</span>-<span style=\"color: #008080; text-decoration-color: #008080; font-weight: bold\">08</span> <span style=\"color: #00ff00; text-decoration-color: #00ff00; font-weight: bold\">15:26:30</span>.<span style=\"color: #008080; text-decoration-color: #008080; font-weight: bold\">113672</span> <span style=\"color: #008080; text-decoration-color: #008080; font-weight: bold\">-1.085768</span> <span style=\"color: #008080; text-decoration-color: #008080; font-weight: bold\">-0.255987</span>  <span style=\"color: #008080; text-decoration-color: #008080; font-weight: bold\">0.566439</span> <span style=\"color: #008080; text-decoration-color: #008080; font-weight: bold\">-0.344287</span>\n",
       "</pre>\n"
      ],
      "text/plain": [
       "                                   A         B         C         D\n",
       "\u001b[1;36m2021\u001b[0m-\u001b[1;36m10\u001b[0m-\u001b[1;36m08\u001b[0m \u001b[1;92m17:26:30\u001b[0m.\u001b[1;36m113672\u001b[0m  \u001b[1;36m1.101878\u001b[0m  \u001b[1;36m0.750462\u001b[0m  \u001b[1;36m1.455279\u001b[0m  \u001b[1;36m0.175121\u001b[0m\n",
       "\u001b[1;36m2021\u001b[0m-\u001b[1;36m10\u001b[0m-\u001b[1;36m08\u001b[0m \u001b[1;92m11:26:30\u001b[0m.\u001b[1;36m113672\u001b[0m  \u001b[1;36m0.718123\u001b[0m  \u001b[1;36m0.031016\u001b[0m  \u001b[1;36m0.445239\u001b[0m  \u001b[1;36m1.451980\u001b[0m\n",
       "\u001b[1;36m2021\u001b[0m-\u001b[1;36m10\u001b[0m-\u001b[1;36m08\u001b[0m \u001b[1;92m13:26:30\u001b[0m.\u001b[1;36m113672\u001b[0m \u001b[1;36m-0.067801\u001b[0m  \u001b[1;36m0.024068\u001b[0m  \u001b[1;36m0.742541\u001b[0m \u001b[1;36m-0.324226\u001b[0m\n",
       "\u001b[1;36m2021\u001b[0m-\u001b[1;36m10\u001b[0m-\u001b[1;36m08\u001b[0m \u001b[1;92m19:26:30\u001b[0m.\u001b[1;36m113672\u001b[0m \u001b[1;36m-0.892963\u001b[0m  \u001b[1;36m0.481669\u001b[0m \u001b[1;36m-1.055553\u001b[0m  \u001b[1;36m0.157910\u001b[0m\n",
       "\u001b[1;36m2021\u001b[0m-\u001b[1;36m10\u001b[0m-\u001b[1;36m08\u001b[0m \u001b[1;92m21:26:30\u001b[0m.\u001b[1;36m113672\u001b[0m \u001b[1;36m-1.017106\u001b[0m \u001b[1;36m-1.241086\u001b[0m  \u001b[1;36m0.117974\u001b[0m \u001b[1;36m-0.351995\u001b[0m\n",
       "\u001b[1;36m2021\u001b[0m-\u001b[1;36m10\u001b[0m-\u001b[1;36m08\u001b[0m \u001b[1;92m15:26:30\u001b[0m.\u001b[1;36m113672\u001b[0m \u001b[1;36m-1.085768\u001b[0m \u001b[1;36m-0.255987\u001b[0m  \u001b[1;36m0.566439\u001b[0m \u001b[1;36m-0.344287\u001b[0m\n"
      ]
     },
     "metadata": {},
     "output_type": "display_data"
    }
   ],
   "source": [
    "print(df2.mask(df2>0,-df2))\n",
    "print(df2)"
   ]
  },
  {
   "cell_type": "code",
   "execution_count": 41,
   "metadata": {},
   "outputs": [],
   "source": [
    "string = pd.Series(['A','B','C','D','Aaa','BaCa',np.nan,'CBA','cow','owl'])"
   ]
  },
  {
   "cell_type": "code",
   "execution_count": 45,
   "metadata": {},
   "outputs": [
    {
     "data": {
      "text/plain": [
       "0       A\n",
       "1       B\n",
       "2       C\n",
       "3       D\n",
       "4     Aaa\n",
       "5    BaCa\n",
       "6     NaN\n",
       "7     CBA\n",
       "8     cow\n",
       "9     owl\n",
       "dtype: object"
      ]
     },
     "execution_count": 45,
     "metadata": {},
     "output_type": "execute_result"
    }
   ],
   "source": [
    "string"
   ]
  },
  {
   "cell_type": "code",
   "execution_count": 47,
   "metadata": {},
   "outputs": [
    {
     "data": {
      "text/html": [
       "<div>\n",
       "<style scoped>\n",
       "    .dataframe tbody tr th:only-of-type {\n",
       "        vertical-align: middle;\n",
       "    }\n",
       "\n",
       "    .dataframe tbody tr th {\n",
       "        vertical-align: top;\n",
       "    }\n",
       "\n",
       "    .dataframe thead th {\n",
       "        text-align: right;\n",
       "    }\n",
       "</style>\n",
       "<table border=\"1\" class=\"dataframe\">\n",
       "  <thead>\n",
       "    <tr style=\"text-align: right;\">\n",
       "      <th></th>\n",
       "      <th>Make</th>\n",
       "      <th>Model</th>\n",
       "      <th>Year</th>\n",
       "      <th>Engine Fuel Type</th>\n",
       "      <th>Engine HP</th>\n",
       "      <th>Engine Cylinders</th>\n",
       "      <th>Transmission Type</th>\n",
       "      <th>Driven_Wheels</th>\n",
       "      <th>Number of Doors</th>\n",
       "      <th>Market Category</th>\n",
       "      <th>Vehicle Size</th>\n",
       "      <th>Vehicle Style</th>\n",
       "      <th>highway MPG</th>\n",
       "      <th>city mpg</th>\n",
       "      <th>Popularity</th>\n",
       "      <th>MSRP</th>\n",
       "    </tr>\n",
       "  </thead>\n",
       "  <tbody>\n",
       "    <tr>\n",
       "      <th>0</th>\n",
       "      <td>BMW</td>\n",
       "      <td>1 Series M</td>\n",
       "      <td>2011</td>\n",
       "      <td>premium unleaded (required)</td>\n",
       "      <td>335.0</td>\n",
       "      <td>6.0</td>\n",
       "      <td>MANUAL</td>\n",
       "      <td>rear wheel drive</td>\n",
       "      <td>2.0</td>\n",
       "      <td>Factory Tuner,Luxury,High-Performance</td>\n",
       "      <td>Compact</td>\n",
       "      <td>Coupe</td>\n",
       "      <td>26</td>\n",
       "      <td>19</td>\n",
       "      <td>3916</td>\n",
       "      <td>46135</td>\n",
       "    </tr>\n",
       "    <tr>\n",
       "      <th>1</th>\n",
       "      <td>BMW</td>\n",
       "      <td>1 Series</td>\n",
       "      <td>2011</td>\n",
       "      <td>premium unleaded (required)</td>\n",
       "      <td>300.0</td>\n",
       "      <td>6.0</td>\n",
       "      <td>MANUAL</td>\n",
       "      <td>rear wheel drive</td>\n",
       "      <td>2.0</td>\n",
       "      <td>Luxury,Performance</td>\n",
       "      <td>Compact</td>\n",
       "      <td>Convertible</td>\n",
       "      <td>28</td>\n",
       "      <td>19</td>\n",
       "      <td>3916</td>\n",
       "      <td>40650</td>\n",
       "    </tr>\n",
       "    <tr>\n",
       "      <th>2</th>\n",
       "      <td>BMW</td>\n",
       "      <td>1 Series</td>\n",
       "      <td>2011</td>\n",
       "      <td>premium unleaded (required)</td>\n",
       "      <td>300.0</td>\n",
       "      <td>6.0</td>\n",
       "      <td>MANUAL</td>\n",
       "      <td>rear wheel drive</td>\n",
       "      <td>2.0</td>\n",
       "      <td>Luxury,High-Performance</td>\n",
       "      <td>Compact</td>\n",
       "      <td>Coupe</td>\n",
       "      <td>28</td>\n",
       "      <td>20</td>\n",
       "      <td>3916</td>\n",
       "      <td>36350</td>\n",
       "    </tr>\n",
       "    <tr>\n",
       "      <th>3</th>\n",
       "      <td>BMW</td>\n",
       "      <td>1 Series</td>\n",
       "      <td>2011</td>\n",
       "      <td>premium unleaded (required)</td>\n",
       "      <td>230.0</td>\n",
       "      <td>6.0</td>\n",
       "      <td>MANUAL</td>\n",
       "      <td>rear wheel drive</td>\n",
       "      <td>2.0</td>\n",
       "      <td>Luxury,Performance</td>\n",
       "      <td>Compact</td>\n",
       "      <td>Coupe</td>\n",
       "      <td>28</td>\n",
       "      <td>18</td>\n",
       "      <td>3916</td>\n",
       "      <td>29450</td>\n",
       "    </tr>\n",
       "    <tr>\n",
       "      <th>4</th>\n",
       "      <td>BMW</td>\n",
       "      <td>1 Series</td>\n",
       "      <td>2011</td>\n",
       "      <td>premium unleaded (required)</td>\n",
       "      <td>230.0</td>\n",
       "      <td>6.0</td>\n",
       "      <td>MANUAL</td>\n",
       "      <td>rear wheel drive</td>\n",
       "      <td>2.0</td>\n",
       "      <td>Luxury</td>\n",
       "      <td>Compact</td>\n",
       "      <td>Convertible</td>\n",
       "      <td>28</td>\n",
       "      <td>18</td>\n",
       "      <td>3916</td>\n",
       "      <td>34500</td>\n",
       "    </tr>\n",
       "  </tbody>\n",
       "</table>\n",
       "</div>"
      ],
      "text/plain": [
       "  Make       Model  Year             Engine Fuel Type  Engine HP  \\\n",
       "0  BMW  1 Series M  2011  premium unleaded (required)      335.0   \n",
       "1  BMW    1 Series  2011  premium unleaded (required)      300.0   \n",
       "2  BMW    1 Series  2011  premium unleaded (required)      300.0   \n",
       "3  BMW    1 Series  2011  premium unleaded (required)      230.0   \n",
       "4  BMW    1 Series  2011  premium unleaded (required)      230.0   \n",
       "\n",
       "   Engine Cylinders Transmission Type     Driven_Wheels  Number of Doors  \\\n",
       "0               6.0            MANUAL  rear wheel drive              2.0   \n",
       "1               6.0            MANUAL  rear wheel drive              2.0   \n",
       "2               6.0            MANUAL  rear wheel drive              2.0   \n",
       "3               6.0            MANUAL  rear wheel drive              2.0   \n",
       "4               6.0            MANUAL  rear wheel drive              2.0   \n",
       "\n",
       "                         Market Category Vehicle Size Vehicle Style  \\\n",
       "0  Factory Tuner,Luxury,High-Performance      Compact         Coupe   \n",
       "1                     Luxury,Performance      Compact   Convertible   \n",
       "2                Luxury,High-Performance      Compact         Coupe   \n",
       "3                     Luxury,Performance      Compact         Coupe   \n",
       "4                                 Luxury      Compact   Convertible   \n",
       "\n",
       "   highway MPG  city mpg  Popularity   MSRP  \n",
       "0           26        19        3916  46135  \n",
       "1           28        19        3916  40650  \n",
       "2           28        20        3916  36350  \n",
       "3           28        18        3916  29450  \n",
       "4           28        18        3916  34500  "
      ]
     },
     "execution_count": 47,
     "metadata": {},
     "output_type": "execute_result"
    }
   ],
   "source": [
    "df_cars = pd.read_csv('car.csv')\n",
    "df_cars.head()"
   ]
  },
  {
   "cell_type": "code",
   "execution_count": 48,
   "metadata": {},
   "outputs": [],
   "source": [
    "%matplotlib inline"
   ]
  },
  {
   "cell_type": "code",
   "execution_count": 49,
   "metadata": {},
   "outputs": [],
   "source": [
    "ts = pd.Series(np.random.randn(50),index=pd.date_range('today',periods = 50))"
   ]
  },
  {
   "cell_type": "code",
   "execution_count": 56,
   "metadata": {},
   "outputs": [
    {
     "data": {
      "text/plain": [
       "<AxesSubplot:>"
      ]
     },
     "execution_count": 56,
     "metadata": {},
     "output_type": "execute_result"
    },
    {
     "data": {
      "image/png": "[encoded data removed]",
      "text/plain": [
       "<Figure size 432x288 with 1 Axes>"
      ]
     },
     "metadata": {
      "needs_background": "light"
     },
     "output_type": "display_data"
    }
   ],
   "source": [
    "ts = ts.cumsum()\n",
    "ts.plot()"
   ]
  },
  {
   "cell_type": "code",
   "execution_count": 63,
   "metadata": {},
   "outputs": [],
   "source": [
    "df = pd.DataFrame(np.random.randn(50,4),index=ts.index,columns=['A','B','X','Y'])"
   ]
  },
  {
   "cell_type": "code",
   "execution_count": 64,
   "metadata": {},
   "outputs": [
    {
     "data": {
      "text/plain": [
       "<AxesSubplot:>"
      ]
     },
     "execution_count": 64,
     "metadata": {},
     "output_type": "execute_result"
    },
    {
     "data": {
      "image/png": "[encoded data removed]",
      "text/plain": [
       "<Figure size 432x288 with 1 Axes>"
      ]
     },
     "metadata": {
      "needs_background": "light"
     },
     "output_type": "display_data"
    }
   ],
   "source": [
    "df = df.cumsum()\n",
    "df.plot()"
   ]
  },
  {
   "cell_type": "code",
   "execution_count": null,
   "metadata": {},
   "outputs": [],
   "source": []
  }
 ],
 "metadata": {
  "interpreter": {
   "hash": "40d3a090f54c6569ab1632332b64b2c03c39dcf918b08424e98f38b5ae0af88f"
  },
  "kernelspec": {
   "display_name": "Python 3.8.11 64-bit ('base': conda)",
   "name": "python3"
  },
  "language_info": {
   "codemirror_mode": {
    "name": "ipython",
    "version": 3
   },
   "file_extension": ".py",
   "mimetype": "text/x-python",
   "name": "python",
   "nbconvert_exporter": "python",
   "pygments_lexer": "ipython3",
   "version": "3.8.11"
  },
  "orig_nbformat": 4
 },
 "nbformat": 4,
 "nbformat_minor": 2
}
