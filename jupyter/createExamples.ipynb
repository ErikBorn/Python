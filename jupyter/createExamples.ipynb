{
 "cells": [
  {
   "cell_type": "code",
   "execution_count": 3,
   "metadata": {},
   "outputs": [],
   "source": [
    "import turtle\n",
    "\n",
    "turtle.goto(-300,0)\n",
    "\n",
    "turtle.done()"
   ]
  },
  {
   "cell_type": "code",
   "execution_count": 5,
   "metadata": {},
   "outputs": [],
   "source": [
    "turtle.goto(-300,0)\n",
    "\n",
    "# Draw a rectangle\n",
    "turtle.forward(30)\n",
    "turtle.left(90)\n",
    "turtle.forward(150)\n",
    "turtle.left(90)\n",
    "turtle.forward(30)\n",
    "turtle.left(90)\n",
    "turtle.forward(150)\n",
    "turtle.left(90)\n",
    "turtle.forward(30)\n",
    "\n",
    "turtle.done()\n"
   ]
  },
  {
   "cell_type": "code",
   "execution_count": 7,
   "metadata": {},
   "outputs": [],
   "source": [
    "turtle.penup()\n",
    "turtle.goto(-300,0)\n",
    "turtle.pendown()\n",
    "\n",
    "# Draw a rectangle\n",
    "turtle.pendown()\n",
    "turtle.forward(30)\n",
    "turtle.left(90)\n",
    "turtle.forward(150)\n",
    "turtle.left(90)\n",
    "turtle.forward(30)\n",
    "turtle.left(90)\n",
    "turtle.forward(150)\n",
    "turtle.left(90)\n",
    "turtle.forward(30)\n",
    "turtle.penup()\n",
    "\n",
    "turtle.done()\n"
   ]
  },
  {
   "cell_type": "code",
   "execution_count": 9,
   "metadata": {},
   "outputs": [],
   "source": [
    "\n",
    "def drawRectangle():\n",
    "  # Draw a rectangle\n",
    "  turtle.pendown()\n",
    "  turtle.forward(30)\n",
    "  turtle.left(90)\n",
    "  turtle.forward(150)\n",
    "  turtle.left(90)\n",
    "  turtle.forward(30)\n",
    "  turtle.left(90)\n",
    "  turtle.forward(150)\n",
    "  turtle.left(90)\n",
    "  turtle.forward(30)\n",
    "  turtle.penup()\n",
    "\n",
    "#main program\n",
    "turtle.penup()\n",
    "turtle.goto(-300,0)\n",
    "drawRectangle()\n",
    "\n",
    "turtle.done()\n",
    "\n",
    "\n"
   ]
  },
  {
   "cell_type": "code",
   "execution_count": null,
   "metadata": {},
   "outputs": [],
   "source": [
    "#Alt program\n",
    "turtle.penup()\n",
    "turtle.goto(-300,0)\n",
    "drawRectangle()\n",
    "turtle.goto(150,150)    #New!\n",
    "drawRectangle()         #New!\n"
   ]
  },
  {
   "cell_type": "code",
   "execution_count": 5,
   "metadata": {},
   "outputs": [],
   "source": [
    "def drawfilledrectangle():\n",
    "\n",
    "  # Draw a rectangle\n",
    "  turtle.pendown()\n",
    "  turtle.fillcolor('pink')  #New!\n",
    "  turtle.begin_fill()       #New!\n",
    "  turtle.forward(30)\n",
    "  turtle.left(90)\n",
    "  turtle.forward(150)\n",
    "  turtle.left(90)\n",
    "  turtle.forward(30)\n",
    "  turtle.left(90)\n",
    "  turtle.forward(150)\n",
    "  turtle.left(90)\n",
    "  turtle.forward(30)\n",
    "  turtle.penup()\n",
    "  turtle.end_fill()\n",
    "\n",
    "turtle.penup()\n",
    "turtle.goto(-300,0)\n",
    "drawfilledrectangle()     #New!\n",
    "\n",
    "turtle.done()\n"
   ]
  },
  {
   "cell_type": "code",
   "execution_count": 11,
   "metadata": {},
   "outputs": [],
   "source": [
    "def drawRectangle(size = 20):\n",
    "  # Draw a rectangle\n",
    "  turtle.pendown()\n",
    "  color = 'blue'\n",
    "  if size < 20:\n",
    "    color = 'red'\n",
    "  turtle.fillcolor(color)\n",
    "  turtle.begin_fill()\n",
    "  turtle.forward(size)\n",
    "  turtle.left(90)\n",
    "  turtle.forward(4*size)\n",
    "  turtle.left(90)\n",
    "  turtle.forward(size)\n",
    "  turtle.left(90)\n",
    "  turtle.forward(4*size)\n",
    "  turtle.left(90)\n",
    "  turtle.forward(size)\n",
    "  turtle.penup()\n",
    "  turtle.end_fill()\n",
    "\n",
    "turtle.penup()\n",
    "turtle.goto(-300,0)\n",
    "drawRectangle(30)\n",
    "turtle.penup()\n",
    "turtle.goto(0,0)\n",
    "drawRectangle(10)\n",
    "\n",
    "turtle.done()\n"
   ]
  },
  {
   "cell_type": "code",
   "execution_count": 13,
   "metadata": {},
   "outputs": [],
   "source": [
    "def drawRectangle(size = 20):\n",
    "  # Draw a rectangle\n",
    "  turtle.pendown()\n",
    "  color = 'blue'\n",
    "  if size < 20:\n",
    "    color = 'red'\n",
    "  turtle.fillcolor(color)\n",
    "  turtle.begin_fill()\n",
    "\n",
    "  for i in range(2):\n",
    "    turtle.forward(size)\n",
    "    turtle.left(90)\n",
    "    turtle.forward(4*size)\n",
    "    turtle.left(90)\n",
    "  \n",
    "  turtle.forward(size)\n",
    "  turtle.penup()\n",
    "  turtle.end_fill()\n",
    "\n",
    "turtle.penup()\n",
    "turtle.goto(-300,0)\n",
    "drawRectangle(30)\n",
    "turtle.penup()\n",
    "turtle.goto(0,0)\n",
    "drawRectangle(10)\n",
    "\n",
    "turtle.done()\n"
   ]
  },
  {
   "cell_type": "code",
   "execution_count": 14,
   "metadata": {},
   "outputs": [
    {
     "name": "stdout",
     "output_type": "stream",
     "text": [
      "Beth\n",
      "Jane\n",
      "Lily\n"
     ]
    }
   ],
   "source": [
    "studentList=['Beth', 'Jane', 'Lily']\n",
    "for student in studentList:\n",
    "   print(student)"
   ]
  },
  {
   "cell_type": "code",
   "execution_count": 12,
   "metadata": {},
   "outputs": [
    {
     "name": "stdout",
     "output_type": "stream",
     "text": [
      "Beth\n",
      "Jane\n",
      "Lily\n",
      "Fresh\n",
      "Senior\n",
      "Junior\n",
      "dog\n",
      "lizard\n",
      "dog\n"
     ]
    }
   ],
   "source": [
    "studentList=['Beth', 'Jane', 'Lily']\n",
    "levelList = ['Fresh', 'Senior', 'Junior']\n",
    "petList = ['dog', 'lizard', 'dog']\n",
    "# more lists here\n",
    "\n",
    "for student in studentList:\n",
    "   print(student)\n",
    "for level in levelList:\n",
    "   print(level)\n",
    "for pet in petList:\n",
    "   print(pet)\n"
   ]
  },
  {
   "cell_type": "code",
   "execution_count": 15,
   "metadata": {},
   "outputs": [
    {
     "name": "stdout",
     "output_type": "stream",
     "text": [
      "Beth Fresh dog\n",
      "Jane Senior lizard\n",
      "Lily Junior dog\n"
     ]
    }
   ],
   "source": [
    "studentList= [['Beth', 'Fresh', 'dog'],[ 'Jane', 'Senior', 'lizard'], ['Lily', 'Junior', 'dog']]\n",
    "\n",
    "for student in studentList:\n",
    "   print(student[0] + \" \" + student[1] + \" \" + student[2])\n"
   ]
  },
  {
   "cell_type": "code",
   "execution_count": 16,
   "metadata": {},
   "outputs": [
    {
     "name": "stdout",
     "output_type": "stream",
     "text": [
      "Beth\n",
      "Lily\n"
     ]
    }
   ],
   "source": [
    "studentList= [['Beth', 'Fresh', 'dog'],[ 'Jane', 'Senior', 'lizard'], ['Lily', 'Junior', 'dog']]\n",
    "\n",
    "# Make a list of all of the students who have dogs\n",
    "dogList = []\n",
    "\n",
    "for student in studentList:\n",
    "    if student[2] == 'dog':\n",
    "        dogList.append(student)\n",
    "\n",
    "for student in dogList:\n",
    "  print(student[0])\n"
   ]
  },
  {
   "cell_type": "code",
   "execution_count": 20,
   "metadata": {},
   "outputs": [
    {
     "name": "stdout",
     "output_type": "stream",
     "text": [
      "Beth\n",
      "Lily\n"
     ]
    }
   ],
   "source": [
    "def animalFinder(animal):\n",
    "    #Returns a list of the students (Name, Grade, Animal) who have the given animal\n",
    "    withAnimal = []\n",
    "    for student in studentList:\n",
    "        if student[2] == animal:\n",
    "            withAnimal.append(student)\n",
    "    return withAnimal\n",
    "\n",
    "print(animalFinder('dog'))\n",
    "# for student in animalFinder('dog'):\n",
    "#     print(student[0])"
   ]
  }
 ],
 "metadata": {
  "interpreter": {
   "hash": "0e13a8951bd4e6db0a421d1d122b892d509311ba4024c074c53938a0df0aba7f"
  },
  "kernelspec": {
   "display_name": "Python 3.8.8",
   "language": "python",
   "name": "python3"
  },
  "language_info": {
   "codemirror_mode": {
    "name": "ipython",
    "version": 3
   },
   "file_extension": ".py",
   "mimetype": "text/x-python",
   "name": "python",
   "nbconvert_exporter": "python",
   "pygments_lexer": "ipython3",
   "version": "3.8.8"
  },
  "orig_nbformat": 4
 },
 "nbformat": 4,
 "nbformat_minor": 2
}
