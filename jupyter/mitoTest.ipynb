{
 "cells": [
  {
   "cell_type": "code",
   "execution_count": 1,
   "id": "fe50a2c6",
   "metadata": {},
   "outputs": [
    {
     "ename": "ModuleNotFoundError",
     "evalue": "No module named 'mitosheet'",
     "output_type": "error",
     "traceback": [
      "\u001b[0;31m---------------------------------------------------------------------------\u001b[0m",
      "\u001b[0;31mModuleNotFoundError\u001b[0m                       Traceback (most recent call last)",
      "\u001b[1;32m/Users/erikborn/Dropbox/Mac/Documents/Python/jupyter/mitoTest.ipynb Cell 1\u001b[0m in \u001b[0;36m<cell line: 1>\u001b[0;34m()\u001b[0m\n\u001b[0;32m----> <a href='vscode-notebook-cell:/Users/erikborn/Dropbox/Mac/Documents/Python/jupyter/mitoTest.ipynb#ch0000000?line=0'>1</a>\u001b[0m \u001b[39mimport\u001b[39;00m \u001b[39mmitosheet\u001b[39;00m\n\u001b[1;32m      <a href='vscode-notebook-cell:/Users/erikborn/Dropbox/Mac/Documents/Python/jupyter/mitoTest.ipynb#ch0000000?line=1'>2</a>\u001b[0m mitosheet\u001b[39m.\u001b[39msheet()\n",
      "\u001b[0;31mModuleNotFoundError\u001b[0m: No module named 'mitosheet'"
     ]
    }
   ],
   "source": [
    "import mitosheet\n",
    "mitosheet.sheet()"
   ]
  },
  {
   "cell_type": "code",
   "execution_count": 2,
   "id": "b884638c",
   "metadata": {},
   "outputs": [
    {
     "data": {
      "application/vnd.jupyter.widget-view+json": {
       "model_id": "c48d0235c5d74c7fac47e8db0140b6f7",
       "version_major": 2,
       "version_minor": 0
      },
      "text/plain": [
       "MitoWidget(analysis_data_json='{\"analysisName\": \"UUID-56727231-65d9-4f73-8135-28a7f8592ee4\", \"code\": {\"imports…"
      ]
     },
     "metadata": {},
     "output_type": "display_data"
    }
   ],
   "source": []
  },
  {
   "cell_type": "code",
   "execution_count": null,
   "id": "f9cceb24",
   "metadata": {},
   "outputs": [],
   "source": []
  }
 ],
 "metadata": {
  "kernelspec": {
   "display_name": "Python 3.10.4",
   "language": "python",
   "name": "python3"
  },
  "language_info": {
   "codemirror_mode": {
    "name": "ipython",
    "version": 3
   },
   "file_extension": ".py",
   "mimetype": "text/x-python",
   "name": "python",
   "nbconvert_exporter": "python",
   "pygments_lexer": "ipython3",
   "version": "3.10.4"
  },
  "vscode": {
   "interpreter": {
    "hash": "acd6e492423bf1bd38bef8a7f5e6bcf7d7cd71de97a5c8c3f757c04675b7926a"
   }
  }
 },
 "nbformat": 4,
 "nbformat_minor": 5
}
